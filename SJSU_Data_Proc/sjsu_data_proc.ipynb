{
 "cells": [
  {
   "cell_type": "markdown",
   "metadata": {},
   "source": [
    "# Import Modules"
   ]
  },
  {
   "cell_type": "code",
   "execution_count": null,
   "metadata": {},
   "outputs": [],
   "source": [
    "import os\n",
    "import sys\n",
    "import os.path as path\n",
    "import numpy as np\n",
    "import xarray as xr\n",
    "from matplotlib import pyplot as plt\n",
    "plt.style.use('seaborn-white')\n",
    "from datetime import date, datetime, timedelta, time"
   ]
  },
  {
   "cell_type": "markdown",
   "metadata": {},
   "source": [
    "# Paths, File Names"
   ]
  },
  {
   "cell_type": "markdown",
   "metadata": {},
   "source": [
    "### DFM Files"
   ]
  },
  {
   "cell_type": "code",
   "execution_count": null,
   "metadata": {},
   "outputs": [],
   "source": [
    "dfm_files_loc = '/p/lustre1/mirocha2/SJSU_DATA/akochanski/PGnE_climo/dfm'"
   ]
  },
  {
   "cell_type": "markdown",
   "metadata": {},
   "source": [
    "#### Global File Names"
   ]
  },
  {
   "cell_type": "code",
   "execution_count": null,
   "metadata": {},
   "outputs": [],
   "source": [
    "file_start_time = '1989-09-01_00:00:00'\n",
    "file_end_time   = '1990-12-30_00:00:00'"
   ]
  },
  {
   "cell_type": "code",
   "execution_count": null,
   "metadata": {},
   "outputs": [],
   "source": [
    "start_time = datetime.fromisoformat(file_start_time)\n",
    "end_time = datetime.fromisoformat(file_end_time)\n",
    "time_interval = timedelta (days=5)\n",
    "#start_time, end_time, time_interval"
   ]
  },
  {
   "cell_type": "code",
   "execution_count": null,
   "metadata": {},
   "outputs": [],
   "source": [
    "current_time = start_time\n",
    "file_time_list = [current_time.isoformat(sep = '_')]\n",
    "while (current_time < end_time):\n",
    "    current_time += time_interval\n",
    "    #print ('current_time -> {}'.format(current_time.isoformat(sep = '_')))\n",
    "    file_time_list.append(current_time.isoformat(sep = '_'))"
   ]
  },
  {
   "cell_type": "code",
   "execution_count": null,
   "metadata": {},
   "outputs": [],
   "source": [
    "dfm_file_names = []\n",
    "for file_time in file_time_list:\n",
    "    dfm_file_name = 'wrfout_d03_' + file_time + '_dfm.nc'\n",
    "    dfm_file_names.append(dfm_file_name)"
   ]
  },
  {
   "cell_type": "code",
   "execution_count": null,
   "metadata": {},
   "outputs": [],
   "source": [
    "#dfm_file_names\n",
    "len(dfm_file_names)"
   ]
  },
  {
   "cell_type": "markdown",
   "metadata": {},
   "source": [
    "#### Check if the filenames exit"
   ]
  },
  {
   "cell_type": "code",
   "execution_count": null,
   "metadata": {},
   "outputs": [],
   "source": [
    "'''\n",
    "for file_count, dfm_file_name in enumerate(dfm_file_names):\n",
    "    print('file_count', file_count)\n",
    "    if (path.exists(path.join(dfm_files_loc, dfm_file_name))):\n",
    "        print('File : {} exists at the location : {}'.format(\n",
    "            dfm_file_name, dfm_files_loc))\n",
    "    else:\n",
    "        print('File : {} not found at the location : {}'.format(\n",
    "            dfm_file_name, dfm_files_loc))\n",
    "'''"
   ]
  },
  {
   "cell_type": "code",
   "execution_count": null,
   "metadata": {},
   "outputs": [],
   "source": []
  }
 ],
 "metadata": {
  "kernelspec": {
   "display_name": "ML_Wind",
   "language": "python",
   "name": "py3_ml_wind"
  },
  "language_info": {
   "codemirror_mode": {
    "name": "ipython",
    "version": 3
   },
   "file_extension": ".py",
   "mimetype": "text/x-python",
   "name": "python",
   "nbconvert_exporter": "python",
   "pygments_lexer": "ipython3",
   "version": "3.7.2"
  }
 },
 "nbformat": 4,
 "nbformat_minor": 4
}
