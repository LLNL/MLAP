{
 "cells": [
  {
   "cell_type": "markdown",
   "metadata": {},
   "source": [
    "# Import Modules"
   ]
  },
  {
   "cell_type": "code",
   "execution_count": 2,
   "metadata": {},
   "outputs": [],
   "source": [
    "import os\n",
    "import sys\n",
    "import os.path as path\n",
    "import numpy as np\n",
    "import pandas as pd\n",
    "import xarray as xr\n",
    "from matplotlib import pyplot as plt\n",
    "plt.style.use('seaborn-white')\n",
    "from datetime import date, datetime, timedelta, time"
   ]
  },
  {
   "cell_type": "markdown",
   "metadata": {},
   "source": [
    "# Paths, File Names"
   ]
  },
  {
   "cell_type": "markdown",
   "metadata": {},
   "source": [
    "### DFM Files"
   ]
  },
  {
   "cell_type": "code",
   "execution_count": 3,
   "metadata": {},
   "outputs": [],
   "source": [
    "dfm_files_loc = '/p/lustre1/mirocha2/SJSU_DATA/akochanski/PGnE_climo/dfm'"
   ]
  },
  {
   "cell_type": "markdown",
   "metadata": {},
   "source": [
    "#### Global File Names"
   ]
  },
  {
   "cell_type": "code",
   "execution_count": 4,
   "metadata": {},
   "outputs": [],
   "source": [
    "file_start_time = '1989-09-01_00:00:00'\n",
    "file_end_time   = '1990-12-30_00:00:00'"
   ]
  },
  {
   "cell_type": "code",
   "execution_count": 5,
   "metadata": {},
   "outputs": [],
   "source": [
    "start_time = datetime.fromisoformat(file_start_time)\n",
    "end_time = datetime.fromisoformat(file_end_time)\n",
    "time_interval = timedelta (days=5)\n",
    "#start_time, end_time, time_interval"
   ]
  },
  {
   "cell_type": "code",
   "execution_count": 6,
   "metadata": {},
   "outputs": [],
   "source": [
    "current_time = start_time\n",
    "file_time_list = [current_time.isoformat(sep = '_')]\n",
    "while (current_time < end_time):\n",
    "    current_time += time_interval\n",
    "    #print ('current_time -> {}'.format(current_time.isoformat(sep = '_')))\n",
    "    file_time_list.append(current_time.isoformat(sep = '_'))"
   ]
  },
  {
   "cell_type": "code",
   "execution_count": 7,
   "metadata": {},
   "outputs": [],
   "source": [
    "dfm_file_names = []\n",
    "for file_time in file_time_list:\n",
    "    dfm_file_name = 'wrfout_d03_' + file_time + '_dfm.nc'\n",
    "    dfm_file_names.append(dfm_file_name)"
   ]
  },
  {
   "cell_type": "code",
   "execution_count": 8,
   "metadata": {},
   "outputs": [],
   "source": [
    "#dfm_file_names\n",
    "#len(dfm_file_names)"
   ]
  },
  {
   "cell_type": "markdown",
   "metadata": {},
   "source": [
    "#### Check if the filenames exist"
   ]
  },
  {
   "cell_type": "code",
   "execution_count": 9,
   "metadata": {},
   "outputs": [
    {
     "data": {
      "text/plain": [
       "\"\\nfor file_count, dfm_file_name in enumerate(dfm_file_names):\\n    print('file_count', file_count)\\n    if (path.exists(path.join(dfm_files_loc, dfm_file_name))):\\n        print('File : {} exists at the location : {}'.format(\\n            dfm_file_name, dfm_files_loc))\\n    else:\\n        print('File : {} not found at the location : {}'.format(\\n            dfm_file_name, dfm_files_loc))\\n\""
      ]
     },
     "execution_count": 9,
     "metadata": {},
     "output_type": "execute_result"
    }
   ],
   "source": [
    "'''\n",
    "for file_count, dfm_file_name in enumerate(dfm_file_names):\n",
    "    print('file_count', file_count)\n",
    "    if (path.exists(path.join(dfm_files_loc, dfm_file_name))):\n",
    "        print('File : {} exists at the location : {}'.format(\n",
    "            dfm_file_name, dfm_files_loc))\n",
    "    else:\n",
    "        print('File : {} not found at the location : {}'.format(\n",
    "            dfm_file_name, dfm_files_loc))\n",
    "'''"
   ]
  },
  {
   "cell_type": "markdown",
   "metadata": {},
   "source": [
    "# Read Data From A Single DFM File"
   ]
  },
  {
   "cell_type": "code",
   "execution_count": 10,
   "metadata": {},
   "outputs": [],
   "source": [
    "file_to_read = dfm_file_names[0]\n",
    "file_time = file_to_read[11:-7]\n",
    "ref_time_for_FM = '1989-09-05_23:00:00'\n",
    "time_unix   = '1970-01-01_00:00:00'"
   ]
  },
  {
   "cell_type": "markdown",
   "metadata": {},
   "source": [
    "#### Define time stamps as hours since unix time"
   ]
  },
  {
   "cell_type": "code",
   "execution_count": 11,
   "metadata": {},
   "outputs": [],
   "source": [
    "file_time_stamp = datetime.fromisoformat(file_time) - datetime.fromisoformat(time_unix)\n",
    "file_time_stamp = int(file_time_stamp.total_seconds()/3600)"
   ]
  },
  {
   "cell_type": "code",
   "execution_count": 12,
   "metadata": {},
   "outputs": [],
   "source": [
    "FM_time_stamp = datetime.fromisoformat(ref_time_for_FM) - datetime.fromisoformat(time_unix)\n",
    "FM_time_stamp = int(FM_time_stamp.total_seconds()/3600)"
   ]
  },
  {
   "cell_type": "code",
   "execution_count": 13,
   "metadata": {},
   "outputs": [
    {
     "name": "stdout",
     "output_type": "stream",
     "text": [
      "file_time_stamp : 172392, FM_time_stamp : 172511\n"
     ]
    }
   ],
   "source": [
    "print('file_time_stamp : %d, FM_time_stamp : %d'%(file_time_stamp, FM_time_stamp))"
   ]
  },
  {
   "cell_type": "markdown",
   "metadata": {},
   "source": [
    "#### Define indixes for extracting data"
   ]
  },
  {
   "cell_type": "code",
   "execution_count": 14,
   "metadata": {},
   "outputs": [
    {
     "data": {
      "text/plain": [
       "119"
      ]
     },
     "execution_count": 14,
     "metadata": {},
     "output_type": "execute_result"
    }
   ],
   "source": [
    "FM_time_index = FM_time_stamp - file_time_stamp\n",
    "FM_time_index"
   ]
  },
  {
   "cell_type": "code",
   "execution_count": 15,
   "metadata": {},
   "outputs": [],
   "source": [
    "n_history = 20\n",
    "interval_history = -3\n",
    "AtmData_indices = np.arange(FM_time_index, FM_time_index-n_history, interval_history)\n",
    "AtmData_indices = list(np.sort(AtmData_indices)[:-1])"
   ]
  },
  {
   "cell_type": "code",
   "execution_count": 16,
   "metadata": {},
   "outputs": [
    {
     "data": {
      "text/plain": [
       "[101, 104, 107, 110, 113, 116]"
      ]
     },
     "execution_count": 16,
     "metadata": {},
     "output_type": "execute_result"
    }
   ],
   "source": [
    "AtmData_indices"
   ]
  },
  {
   "cell_type": "markdown",
   "metadata": {},
   "source": [
    "#### Data fields of interest"
   ]
  },
  {
   "cell_type": "code",
   "execution_count": 17,
   "metadata": {},
   "outputs": [],
   "source": [
    "FM_field = 'mean_wtd_moisture_10hr'\n",
    "steady_fields = ['latitude', 'longitude']\n",
    "unsteady_fields = ['eastward_10m_wind', 'northward_10m_wind',\\\n",
    "                   'air_temperature_2m','accumulated_precipitation_amount'] "
   ]
  },
  {
   "cell_type": "markdown",
   "metadata": {},
   "source": [
    "#### Read The Data"
   ]
  },
  {
   "cell_type": "code",
   "execution_count": 18,
   "metadata": {},
   "outputs": [],
   "source": [
    "df = pd.DataFrame()"
   ]
  },
  {
   "cell_type": "code",
   "execution_count": 19,
   "metadata": {},
   "outputs": [],
   "source": [
    "dfm_file_data = xr.open_dataset(path.join(dfm_files_loc, file_to_read))"
   ]
  },
  {
   "cell_type": "code",
   "execution_count": 20,
   "metadata": {},
   "outputs": [],
   "source": [
    "df['lat'] = np.array(dfm_file_data['latitude']).flatten()\n",
    "df['lon'] = np.array(dfm_file_data['longitude']).flatten()"
   ]
  },
  {
   "cell_type": "code",
   "execution_count": 21,
   "metadata": {},
   "outputs": [],
   "source": [
    "FM_data = dfm_file_data['mean_wtd_moisture_10hr'].isel(time=FM_time_index)\n",
    "FM_Data = np.array(FM_data).flatten()\n",
    "df['FM_10hr_' + str(FM_time_index - FM_time_index)] = FM_Data"
   ]
  },
  {
   "cell_type": "code",
   "execution_count": 22,
   "metadata": {},
   "outputs": [],
   "source": [
    "for hist_data_ind in AtmData_indices:\n",
    "    #hist_data_ind = AtmData_indices[0]\n",
    "    hist_time_stamp = file_time_stamp + hist_data_ind\n",
    "\n",
    "    U10_data = np.array(dfm_file_data['eastward_10m_wind'].isel(\n",
    "                        time=hist_data_ind)).flatten()\n",
    "    V10_data = np.array(dfm_file_data['northward_10m_wind'].isel(\n",
    "                        time=hist_data_ind)).flatten()\n",
    "    T2_data  = np.array(dfm_file_data['air_temperature_2m'].isel(\n",
    "                        time=hist_data_ind)).flatten()\n",
    "    Precip_data = np.array(dfm_file_data['accumulated_precipitation_amount'].isel(\n",
    "                        time=hist_data_ind)).flatten()\n",
    "\n",
    "    df['U10[%s]'%str(hist_data_ind - FM_time_index)] = U10_data\n",
    "    df['V10[%s]'%str(hist_data_ind - FM_time_index)] = V10_data\n",
    "    df['T2[%s]'%str(hist_data_ind - FM_time_index)] = T2_data\n",
    "    df['Precip[%s]'%str(hist_data_ind - FM_time_index)] = Precip_data"
   ]
  },
  {
   "cell_type": "code",
   "execution_count": 23,
   "metadata": {},
   "outputs": [
    {
     "data": {
      "text/html": [
       "<div>\n",
       "<style scoped>\n",
       "    .dataframe tbody tr th:only-of-type {\n",
       "        vertical-align: middle;\n",
       "    }\n",
       "\n",
       "    .dataframe tbody tr th {\n",
       "        vertical-align: top;\n",
       "    }\n",
       "\n",
       "    .dataframe thead th {\n",
       "        text-align: right;\n",
       "    }\n",
       "</style>\n",
       "<table border=\"1\" class=\"dataframe\">\n",
       "  <thead>\n",
       "    <tr style=\"text-align: right;\">\n",
       "      <th></th>\n",
       "      <th>lat</th>\n",
       "      <th>lon</th>\n",
       "      <th>FM_10hr_0</th>\n",
       "      <th>U10[-18]</th>\n",
       "      <th>V10[-18]</th>\n",
       "      <th>T2[-18]</th>\n",
       "      <th>Precip[-18]</th>\n",
       "      <th>U10[-15]</th>\n",
       "      <th>V10[-15]</th>\n",
       "      <th>T2[-15]</th>\n",
       "      <th>...</th>\n",
       "      <th>T2[-9]</th>\n",
       "      <th>Precip[-9]</th>\n",
       "      <th>U10[-6]</th>\n",
       "      <th>V10[-6]</th>\n",
       "      <th>T2[-6]</th>\n",
       "      <th>Precip[-6]</th>\n",
       "      <th>U10[-3]</th>\n",
       "      <th>V10[-3]</th>\n",
       "      <th>T2[-3]</th>\n",
       "      <th>Precip[-3]</th>\n",
       "    </tr>\n",
       "  </thead>\n",
       "  <tbody>\n",
       "    <tr>\n",
       "      <th>40590</th>\n",
       "      <td>35.517555</td>\n",
       "      <td>-121.035492</td>\n",
       "      <td>0.104995</td>\n",
       "      <td>1.001995</td>\n",
       "      <td>-0.635718</td>\n",
       "      <td>13.674957</td>\n",
       "      <td>0.000151</td>\n",
       "      <td>0.721998</td>\n",
       "      <td>-0.724310</td>\n",
       "      <td>12.878754</td>\n",
       "      <td>...</td>\n",
       "      <td>11.705688</td>\n",
       "      <td>0.000151</td>\n",
       "      <td>1.801164</td>\n",
       "      <td>-0.808555</td>\n",
       "      <td>17.952911</td>\n",
       "      <td>0.000151</td>\n",
       "      <td>2.752246</td>\n",
       "      <td>-1.059031</td>\n",
       "      <td>21.081543</td>\n",
       "      <td>0.000151</td>\n",
       "    </tr>\n",
       "    <tr>\n",
       "      <th>40591</th>\n",
       "      <td>35.517536</td>\n",
       "      <td>-121.013245</td>\n",
       "      <td>0.103625</td>\n",
       "      <td>0.812303</td>\n",
       "      <td>-0.242862</td>\n",
       "      <td>13.846771</td>\n",
       "      <td>0.000050</td>\n",
       "      <td>0.869555</td>\n",
       "      <td>-0.550958</td>\n",
       "      <td>13.015991</td>\n",
       "      <td>...</td>\n",
       "      <td>11.839020</td>\n",
       "      <td>0.000050</td>\n",
       "      <td>1.525809</td>\n",
       "      <td>-0.720257</td>\n",
       "      <td>19.488708</td>\n",
       "      <td>0.000050</td>\n",
       "      <td>2.499162</td>\n",
       "      <td>-0.605951</td>\n",
       "      <td>22.598511</td>\n",
       "      <td>0.000050</td>\n",
       "    </tr>\n",
       "    <tr>\n",
       "      <th>40592</th>\n",
       "      <td>35.517529</td>\n",
       "      <td>-120.990997</td>\n",
       "      <td>0.098448</td>\n",
       "      <td>0.485963</td>\n",
       "      <td>-0.037503</td>\n",
       "      <td>14.273193</td>\n",
       "      <td>0.000028</td>\n",
       "      <td>0.746158</td>\n",
       "      <td>-0.611051</td>\n",
       "      <td>13.404388</td>\n",
       "      <td>...</td>\n",
       "      <td>11.470459</td>\n",
       "      <td>0.000028</td>\n",
       "      <td>1.509356</td>\n",
       "      <td>-0.779113</td>\n",
       "      <td>20.578064</td>\n",
       "      <td>0.000028</td>\n",
       "      <td>2.457479</td>\n",
       "      <td>-0.453497</td>\n",
       "      <td>24.702057</td>\n",
       "      <td>0.000028</td>\n",
       "    </tr>\n",
       "    <tr>\n",
       "      <th>40593</th>\n",
       "      <td>35.517506</td>\n",
       "      <td>-120.968735</td>\n",
       "      <td>0.094208</td>\n",
       "      <td>-0.381711</td>\n",
       "      <td>0.725962</td>\n",
       "      <td>14.707062</td>\n",
       "      <td>0.000048</td>\n",
       "      <td>0.344997</td>\n",
       "      <td>-0.327270</td>\n",
       "      <td>13.838104</td>\n",
       "      <td>...</td>\n",
       "      <td>12.350677</td>\n",
       "      <td>0.000048</td>\n",
       "      <td>1.407859</td>\n",
       "      <td>-0.238341</td>\n",
       "      <td>21.469452</td>\n",
       "      <td>0.000048</td>\n",
       "      <td>2.198458</td>\n",
       "      <td>0.018919</td>\n",
       "      <td>25.995483</td>\n",
       "      <td>0.000048</td>\n",
       "    </tr>\n",
       "    <tr>\n",
       "      <th>40594</th>\n",
       "      <td>35.517479</td>\n",
       "      <td>-120.946487</td>\n",
       "      <td>0.088373</td>\n",
       "      <td>-1.043693</td>\n",
       "      <td>1.097154</td>\n",
       "      <td>14.729462</td>\n",
       "      <td>0.000000</td>\n",
       "      <td>-0.141151</td>\n",
       "      <td>-0.221582</td>\n",
       "      <td>13.667816</td>\n",
       "      <td>...</td>\n",
       "      <td>13.017395</td>\n",
       "      <td>0.000000</td>\n",
       "      <td>1.242805</td>\n",
       "      <td>0.269898</td>\n",
       "      <td>22.008698</td>\n",
       "      <td>0.000000</td>\n",
       "      <td>1.826316</td>\n",
       "      <td>0.663107</td>\n",
       "      <td>26.562775</td>\n",
       "      <td>0.000000</td>\n",
       "    </tr>\n",
       "    <tr>\n",
       "      <th>40595</th>\n",
       "      <td>35.517452</td>\n",
       "      <td>-120.924225</td>\n",
       "      <td>0.085051</td>\n",
       "      <td>-1.207483</td>\n",
       "      <td>1.010152</td>\n",
       "      <td>14.369080</td>\n",
       "      <td>0.000000</td>\n",
       "      <td>-0.453239</td>\n",
       "      <td>-0.109485</td>\n",
       "      <td>13.289062</td>\n",
       "      <td>...</td>\n",
       "      <td>15.310852</td>\n",
       "      <td>0.000000</td>\n",
       "      <td>1.105457</td>\n",
       "      <td>0.581854</td>\n",
       "      <td>22.450470</td>\n",
       "      <td>0.000000</td>\n",
       "      <td>1.551614</td>\n",
       "      <td>1.191232</td>\n",
       "      <td>26.482758</td>\n",
       "      <td>0.000000</td>\n",
       "    </tr>\n",
       "    <tr>\n",
       "      <th>40596</th>\n",
       "      <td>35.517414</td>\n",
       "      <td>-120.901978</td>\n",
       "      <td>0.078415</td>\n",
       "      <td>-1.032169</td>\n",
       "      <td>0.514973</td>\n",
       "      <td>14.412354</td>\n",
       "      <td>0.000000</td>\n",
       "      <td>-0.401610</td>\n",
       "      <td>0.119516</td>\n",
       "      <td>13.953461</td>\n",
       "      <td>...</td>\n",
       "      <td>19.366669</td>\n",
       "      <td>0.000000</td>\n",
       "      <td>1.257412</td>\n",
       "      <td>0.648969</td>\n",
       "      <td>22.881500</td>\n",
       "      <td>0.000000</td>\n",
       "      <td>1.719669</td>\n",
       "      <td>1.404052</td>\n",
       "      <td>26.135071</td>\n",
       "      <td>0.000000</td>\n",
       "    </tr>\n",
       "    <tr>\n",
       "      <th>40597</th>\n",
       "      <td>35.517380</td>\n",
       "      <td>-120.879730</td>\n",
       "      <td>0.067936</td>\n",
       "      <td>-0.692086</td>\n",
       "      <td>-0.125240</td>\n",
       "      <td>16.130707</td>\n",
       "      <td>0.000000</td>\n",
       "      <td>-0.662902</td>\n",
       "      <td>-1.216859</td>\n",
       "      <td>19.108734</td>\n",
       "      <td>...</td>\n",
       "      <td>19.500946</td>\n",
       "      <td>0.000000</td>\n",
       "      <td>1.226674</td>\n",
       "      <td>0.704142</td>\n",
       "      <td>24.172882</td>\n",
       "      <td>0.000000</td>\n",
       "      <td>2.228383</td>\n",
       "      <td>1.421653</td>\n",
       "      <td>26.023560</td>\n",
       "      <td>0.000000</td>\n",
       "    </tr>\n",
       "    <tr>\n",
       "      <th>40598</th>\n",
       "      <td>35.517338</td>\n",
       "      <td>-120.857483</td>\n",
       "      <td>0.064074</td>\n",
       "      <td>0.312117</td>\n",
       "      <td>-0.672418</td>\n",
       "      <td>17.108307</td>\n",
       "      <td>0.000000</td>\n",
       "      <td>-1.602128</td>\n",
       "      <td>-2.752957</td>\n",
       "      <td>18.970154</td>\n",
       "      <td>...</td>\n",
       "      <td>17.330261</td>\n",
       "      <td>0.000000</td>\n",
       "      <td>-0.569629</td>\n",
       "      <td>-0.384460</td>\n",
       "      <td>27.469818</td>\n",
       "      <td>0.000000</td>\n",
       "      <td>2.691557</td>\n",
       "      <td>1.325173</td>\n",
       "      <td>26.346252</td>\n",
       "      <td>0.000000</td>\n",
       "    </tr>\n",
       "    <tr>\n",
       "      <th>40599</th>\n",
       "      <td>35.517288</td>\n",
       "      <td>-120.835236</td>\n",
       "      <td>0.061938</td>\n",
       "      <td>0.988312</td>\n",
       "      <td>-0.422380</td>\n",
       "      <td>17.263763</td>\n",
       "      <td>0.000000</td>\n",
       "      <td>-2.072484</td>\n",
       "      <td>-2.290591</td>\n",
       "      <td>17.267181</td>\n",
       "      <td>...</td>\n",
       "      <td>16.358856</td>\n",
       "      <td>0.000000</td>\n",
       "      <td>-1.565127</td>\n",
       "      <td>-1.320302</td>\n",
       "      <td>27.128632</td>\n",
       "      <td>0.000000</td>\n",
       "      <td>2.672156</td>\n",
       "      <td>1.620060</td>\n",
       "      <td>27.828430</td>\n",
       "      <td>0.000000</td>\n",
       "    </tr>\n",
       "  </tbody>\n",
       "</table>\n",
       "<p>10 rows × 27 columns</p>\n",
       "</div>"
      ],
      "text/plain": [
       "             lat         lon  FM_10hr_0  U10[-18]  V10[-18]    T2[-18]  \\\n",
       "40590  35.517555 -121.035492   0.104995  1.001995 -0.635718  13.674957   \n",
       "40591  35.517536 -121.013245   0.103625  0.812303 -0.242862  13.846771   \n",
       "40592  35.517529 -120.990997   0.098448  0.485963 -0.037503  14.273193   \n",
       "40593  35.517506 -120.968735   0.094208 -0.381711  0.725962  14.707062   \n",
       "40594  35.517479 -120.946487   0.088373 -1.043693  1.097154  14.729462   \n",
       "40595  35.517452 -120.924225   0.085051 -1.207483  1.010152  14.369080   \n",
       "40596  35.517414 -120.901978   0.078415 -1.032169  0.514973  14.412354   \n",
       "40597  35.517380 -120.879730   0.067936 -0.692086 -0.125240  16.130707   \n",
       "40598  35.517338 -120.857483   0.064074  0.312117 -0.672418  17.108307   \n",
       "40599  35.517288 -120.835236   0.061938  0.988312 -0.422380  17.263763   \n",
       "\n",
       "       Precip[-18]  U10[-15]  V10[-15]    T2[-15]  ...     T2[-9]  Precip[-9]  \\\n",
       "40590     0.000151  0.721998 -0.724310  12.878754  ...  11.705688    0.000151   \n",
       "40591     0.000050  0.869555 -0.550958  13.015991  ...  11.839020    0.000050   \n",
       "40592     0.000028  0.746158 -0.611051  13.404388  ...  11.470459    0.000028   \n",
       "40593     0.000048  0.344997 -0.327270  13.838104  ...  12.350677    0.000048   \n",
       "40594     0.000000 -0.141151 -0.221582  13.667816  ...  13.017395    0.000000   \n",
       "40595     0.000000 -0.453239 -0.109485  13.289062  ...  15.310852    0.000000   \n",
       "40596     0.000000 -0.401610  0.119516  13.953461  ...  19.366669    0.000000   \n",
       "40597     0.000000 -0.662902 -1.216859  19.108734  ...  19.500946    0.000000   \n",
       "40598     0.000000 -1.602128 -2.752957  18.970154  ...  17.330261    0.000000   \n",
       "40599     0.000000 -2.072484 -2.290591  17.267181  ...  16.358856    0.000000   \n",
       "\n",
       "        U10[-6]   V10[-6]     T2[-6]  Precip[-6]   U10[-3]   V10[-3]  \\\n",
       "40590  1.801164 -0.808555  17.952911    0.000151  2.752246 -1.059031   \n",
       "40591  1.525809 -0.720257  19.488708    0.000050  2.499162 -0.605951   \n",
       "40592  1.509356 -0.779113  20.578064    0.000028  2.457479 -0.453497   \n",
       "40593  1.407859 -0.238341  21.469452    0.000048  2.198458  0.018919   \n",
       "40594  1.242805  0.269898  22.008698    0.000000  1.826316  0.663107   \n",
       "40595  1.105457  0.581854  22.450470    0.000000  1.551614  1.191232   \n",
       "40596  1.257412  0.648969  22.881500    0.000000  1.719669  1.404052   \n",
       "40597  1.226674  0.704142  24.172882    0.000000  2.228383  1.421653   \n",
       "40598 -0.569629 -0.384460  27.469818    0.000000  2.691557  1.325173   \n",
       "40599 -1.565127 -1.320302  27.128632    0.000000  2.672156  1.620060   \n",
       "\n",
       "          T2[-3]  Precip[-3]  \n",
       "40590  21.081543    0.000151  \n",
       "40591  22.598511    0.000050  \n",
       "40592  24.702057    0.000028  \n",
       "40593  25.995483    0.000048  \n",
       "40594  26.562775    0.000000  \n",
       "40595  26.482758    0.000000  \n",
       "40596  26.135071    0.000000  \n",
       "40597  26.023560    0.000000  \n",
       "40598  26.346252    0.000000  \n",
       "40599  27.828430    0.000000  \n",
       "\n",
       "[10 rows x 27 columns]"
      ]
     },
     "execution_count": 23,
     "metadata": {},
     "output_type": "execute_result"
    }
   ],
   "source": [
    "df[40590:40600]"
   ]
  }
 ],
 "metadata": {
  "kernelspec": {
   "display_name": "ML_Wind",
   "language": "python",
   "name": "py3_ml_wind"
  },
  "language_info": {
   "codemirror_mode": {
    "name": "ipython",
    "version": 3
   },
   "file_extension": ".py",
   "mimetype": "text/x-python",
   "name": "python",
   "nbconvert_exporter": "python",
   "pygments_lexer": "ipython3",
   "version": "3.7.2"
  }
 },
 "nbformat": 4,
 "nbformat_minor": 4
}
