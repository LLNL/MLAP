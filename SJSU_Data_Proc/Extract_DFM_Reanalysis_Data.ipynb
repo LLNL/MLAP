{
 "cells": [
  {
   "cell_type": "markdown",
   "metadata": {},
   "source": [
    "# Import Modules"
   ]
  },
  {
   "cell_type": "markdown",
   "metadata": {},
   "source": [
    "## Standard Packages"
   ]
  },
  {
   "cell_type": "code",
   "execution_count": 1,
   "metadata": {},
   "outputs": [
    {
     "name": "stderr",
     "output_type": "stream",
     "text": [
      "/g/g92/jha3/VirtualEnv/py3_ml_wind/lib/python3.7/site-packages/pandas/compat/_optional.py:138: UserWarning: Pandas requires version '2.7.0' or newer of 'numexpr' (version '2.6.9' currently installed).\n",
      "  warnings.warn(msg, UserWarning)\n"
     ]
    }
   ],
   "source": [
    "import os\n",
    "import sys\n",
    "import os.path as path\n",
    "import glob\n",
    "import random\n",
    "import numpy as np\n",
    "import pandas as pd\n",
    "import xarray as xr\n",
    "import pickle\n",
    "from matplotlib import pyplot as plt\n",
    "plt.style.use('seaborn-white')\n",
    "from datetime import date, datetime, timedelta, time\n",
    "from timeit import default_timer as timer"
   ]
  },
  {
   "cell_type": "markdown",
   "metadata": {},
   "source": [
    "## User-Defined Functions"
   ]
  },
  {
   "cell_type": "code",
   "execution_count": 2,
   "metadata": {},
   "outputs": [],
   "source": [
    "from helper_extract_wrf import generate_seed, init_random_generator\n",
    "from helper_extract_wrf import get_data_file_names, downsample_data_files\n",
    "from helper_extract_wrf import get_history_file_indices, get_datetime_for_data_files\n",
    "from helper_extract_wrf import create_df_sampled_time, plot_sampled_datetime\n",
    "from helper_extract_wrf import get_grid_indices_all, read_single_data_file"
   ]
  },
  {
   "cell_type": "markdown",
   "metadata": {},
   "source": [
    "# Global Start Time"
   ]
  },
  {
   "cell_type": "code",
   "execution_count": 3,
   "metadata": {},
   "outputs": [],
   "source": [
    "global_start_time = timer()"
   ]
  },
  {
   "cell_type": "markdown",
   "metadata": {},
   "source": [
    "# Variables to be used for extracting WRF data"
   ]
  },
  {
   "cell_type": "code",
   "execution_count": 4,
   "metadata": {},
   "outputs": [],
   "source": [
    "# WRF data set location and the extracted data set location\n",
    "data_files_location = '/p/vast1/climres/DFM_reanalysis'\n",
    "extracted_data_loc = '/p/lustre2/jha3/Wildfire/Wildfire_LDRD_SI/SJSU/01_WRF_Nelson_Data_Extracted'\n",
    "\n",
    "# The current data set params\n",
    "data_set_count = 0\n",
    "percent_files_to_use = 0.010863484  # f1 = what percent of available files to use\n",
    "#percent_files_to_use = 100.00  # f1 = what percent of available files to use\n",
    "percent_grid_points_to_use = 0.005  # f2 = what percent of grid points to use\n",
    "max_history_to_consider = 20 # n_history in hours\n",
    "history_interval        = 4"
   ]
  },
  {
   "cell_type": "markdown",
   "metadata": {},
   "source": [
    "# Generate seed for the random number generator"
   ]
  },
  {
   "cell_type": "code",
   "execution_count": 5,
   "metadata": {},
   "outputs": [],
   "source": [
    "seed = generate_seed()\n",
    "random_state = init_random_generator(seed)"
   ]
  },
  {
   "cell_type": "markdown",
   "metadata": {},
   "source": [
    "# File Names"
   ]
  },
  {
   "cell_type": "code",
   "execution_count": 6,
   "metadata": {},
   "outputs": [
    {
     "name": "stdout",
     "output_type": "stream",
     "text": [
      "\n",
      "Getting the names of the data files at the dir : \n",
      " /p/vast1/climres/DFM_reanalysis \n",
      "\n",
      "years_list: ['2000', '2001', '2002', '2003', '2004', '2005', '2006', '2007', '2008', '2009', '2010', '2011', '2012', '2013', '2014', '2015', '2016', '2017', '2018', '2019', '2020'] \n",
      "\n",
      "Getting the names of the data files for the year : 2000\n",
      "... Found 8784 files for this year\n",
      "Getting the names of the data files for the year : 2001\n",
      "... Found 8760 files for this year\n",
      "Getting the names of the data files for the year : 2002\n",
      "... Found 8760 files for this year\n",
      "Getting the names of the data files for the year : 2003\n",
      "... Found 8760 files for this year\n",
      "Getting the names of the data files for the year : 2004\n",
      "... Found 8784 files for this year\n",
      "Getting the names of the data files for the year : 2005\n",
      "... Found 8760 files for this year\n",
      "Getting the names of the data files for the year : 2006\n",
      "... Found 8760 files for this year\n",
      "Getting the names of the data files for the year : 2007\n",
      "... Found 8760 files for this year\n",
      "Getting the names of the data files for the year : 2008\n",
      "... Found 8784 files for this year\n",
      "Getting the names of the data files for the year : 2009\n",
      "... Found 8760 files for this year\n",
      "Getting the names of the data files for the year : 2010\n",
      "... Found 8759 files for this year\n",
      "Getting the names of the data files for the year : 2011\n",
      "... Found 8760 files for this year\n",
      "Getting the names of the data files for the year : 2012\n",
      "... Found 8784 files for this year\n",
      "Getting the names of the data files for the year : 2013\n",
      "... Found 8760 files for this year\n",
      "Getting the names of the data files for the year : 2014\n",
      "... Found 8760 files for this year\n",
      "Getting the names of the data files for the year : 2015\n",
      "... Found 8760 files for this year\n",
      "Getting the names of the data files for the year : 2016\n",
      "... Found 8784 files for this year\n",
      "Getting the names of the data files for the year : 2017\n",
      "... Found 8760 files for this year\n",
      "Getting the names of the data files for the year : 2018\n",
      "... Found 8760 files for this year\n",
      "Getting the names of the data files for the year : 2019\n",
      "... Found 8760 files for this year\n",
      "Getting the names of the data files for the year : 2020\n",
      "... Found 8784 files for this year\n",
      "\n",
      "Found a total of 184103 files \n",
      "\n",
      "=========================================================================\n",
      "Module \"get_data_file_names\" computing time: 0.41320556501159444 s\n"
     ]
    }
   ],
   "source": [
    "module_start_time = timer()\n",
    "data_files_list = get_data_file_names(data_files_location)\n",
    "module_end_time = timer()\n",
    "print('Module \"get_data_file_names\" computing time: {} s'.format(module_end_time - module_start_time))"
   ]
  },
  {
   "cell_type": "markdown",
   "metadata": {},
   "source": [
    "# Downsample Files"
   ]
  },
  {
   "cell_type": "code",
   "execution_count": 7,
   "metadata": {},
   "outputs": [
    {
     "name": "stdout",
     "output_type": "stream",
     "text": [
      "\n",
      "Randomly selecting approx 0.010863484 % of the data files\n",
      "Selected 20 data files out of 184103 total and 184083 usable considering historical data\n",
      "=========================================================================\n",
      "Module \"downsample_data_files\" computing time: 0.07641382000292651 s\n"
     ]
    }
   ],
   "source": [
    "module_start_time = timer()\n",
    "sampled_file_indices, sampled_data_files = downsample_data_files (data_files_list, percent_files_to_use, max_history_to_consider, random_state)\n",
    "module_end_time = timer()\n",
    "print('Module \"downsample_data_files\" computing time: {} s'.format(module_end_time - module_start_time))"
   ]
  },
  {
   "cell_type": "markdown",
   "metadata": {},
   "source": [
    "# Get History File Indices"
   ]
  },
  {
   "cell_type": "code",
   "execution_count": 8,
   "metadata": {},
   "outputs": [
    {
     "name": "stdout",
     "output_type": "stream",
     "text": [
      "\n",
      "Determining history file indices corresponding to sampled file/time indices...\n",
      "=========================================================================\n",
      "Module \"get_history_file_indices\" computing time: 0.004895880992989987 s\n"
     ]
    }
   ],
   "source": [
    "module_start_time = timer()\n",
    "history_file_indices = get_history_file_indices (sampled_file_indices, max_history_to_consider, history_interval)\n",
    "module_end_time = timer()\n",
    "print('Module \"get_history_file_indices\" computing time: {} s'.format(module_end_time - module_start_time))"
   ]
  },
  {
   "cell_type": "markdown",
   "metadata": {},
   "source": [
    "# Create timestamps and datetime of downsampled data files"
   ]
  },
  {
   "cell_type": "code",
   "execution_count": 9,
   "metadata": {},
   "outputs": [
    {
     "name": "stdout",
     "output_type": "stream",
     "text": [
      "\n",
      "Getting time stamps and datetime of the downsampled data files...\n",
      "=========================================================================\n",
      "Module \"get_datetime_for_data_files\" computing time: 0.0006383229920174927 s\n"
     ]
    }
   ],
   "source": [
    "module_start_time = timer()\n",
    "sampled_time_stamps, sampled_datetime = get_datetime_for_data_files (sampled_data_files)\n",
    "module_end_time = timer()\n",
    "print('Module \"get_datetime_for_data_files\" computing time: {} s'.format(module_end_time - module_start_time))"
   ]
  },
  {
   "cell_type": "markdown",
   "metadata": {},
   "source": [
    "# Create DataFrame using sampled file indices, filenames, timestamps, and datetime"
   ]
  },
  {
   "cell_type": "code",
   "execution_count": 10,
   "metadata": {},
   "outputs": [
    {
     "name": "stdout",
     "output_type": "stream",
     "text": [
      "\n",
      "Creating DataFrame using sampled file indices, filenames, timestamps, and datetime...\n",
      "=========================================================================\n",
      "Module \"create_df_sampled_time\" computing time: 0.009318725991761312 s\n"
     ]
    }
   ],
   "source": [
    "module_start_time = timer()\n",
    "df_sampled_time = create_df_sampled_time (sampled_file_indices, sampled_data_files, sampled_time_stamps, sampled_datetime, history_file_indices)\n",
    "module_end_time = timer()\n",
    "print('Module \"create_df_sampled_time\" computing time: {} s'.format(module_end_time - module_start_time))"
   ]
  },
  {
   "cell_type": "code",
   "execution_count": 11,
   "metadata": {},
   "outputs": [],
   "source": [
    "#df_sampled_time[df_sampled_time['ref_time_indices'] < max_history_to_consider+10]"
   ]
  },
  {
   "cell_type": "code",
   "execution_count": 12,
   "metadata": {},
   "outputs": [
    {
     "data": {
      "text/html": [
       "<div>\n",
       "<style scoped>\n",
       "    .dataframe tbody tr th:only-of-type {\n",
       "        vertical-align: middle;\n",
       "    }\n",
       "\n",
       "    .dataframe tbody tr th {\n",
       "        vertical-align: top;\n",
       "    }\n",
       "\n",
       "    .dataframe thead th {\n",
       "        text-align: right;\n",
       "    }\n",
       "</style>\n",
       "<table border=\"1\" class=\"dataframe\">\n",
       "  <thead>\n",
       "    <tr style=\"text-align: right;\">\n",
       "      <th></th>\n",
       "      <th>ref_time_indices</th>\n",
       "      <th>sampled_data_files</th>\n",
       "      <th>sampled_time_stamps</th>\n",
       "      <th>sampled_datetime</th>\n",
       "      <th>history_time_indices</th>\n",
       "    </tr>\n",
       "  </thead>\n",
       "  <tbody>\n",
       "    <tr>\n",
       "      <th>0</th>\n",
       "      <td>143555</td>\n",
       "      <td>wrf_2016-05-17_12.nc</td>\n",
       "      <td>2016-05-17_12</td>\n",
       "      <td>2016-05-17 12:00:00</td>\n",
       "      <td>[143535, 143539, 143543, 143547, 143551]</td>\n",
       "    </tr>\n",
       "    <tr>\n",
       "      <th>1</th>\n",
       "      <td>152365</td>\n",
       "      <td>wrf_2017-05-19_14.nc</td>\n",
       "      <td>2017-05-19_14</td>\n",
       "      <td>2017-05-19 14:00:00</td>\n",
       "      <td>[152345, 152349, 152353, 152357, 152361]</td>\n",
       "    </tr>\n",
       "    <tr>\n",
       "      <th>2</th>\n",
       "      <td>87988</td>\n",
       "      <td>wrf_2010-01-14_04.nc</td>\n",
       "      <td>2010-01-14_04</td>\n",
       "      <td>2010-01-14 04:00:00</td>\n",
       "      <td>[87968, 87972, 87976, 87980, 87984]</td>\n",
       "    </tr>\n",
       "    <tr>\n",
       "      <th>3</th>\n",
       "      <td>17409</td>\n",
       "      <td>wrf_2001-12-26_09.nc</td>\n",
       "      <td>2001-12-26_09</td>\n",
       "      <td>2001-12-26 09:00:00</td>\n",
       "      <td>[17389, 17393, 17397, 17401, 17405]</td>\n",
       "    </tr>\n",
       "    <tr>\n",
       "      <th>4</th>\n",
       "      <td>32817</td>\n",
       "      <td>wrf_2003-09-29_09.nc</td>\n",
       "      <td>2003-09-29_09</td>\n",
       "      <td>2003-09-29 09:00:00</td>\n",
       "      <td>[32797, 32801, 32805, 32809, 32813]</td>\n",
       "    </tr>\n",
       "    <tr>\n",
       "      <th>5</th>\n",
       "      <td>148156</td>\n",
       "      <td>wrf_2016-11-25_05.nc</td>\n",
       "      <td>2016-11-25_05</td>\n",
       "      <td>2016-11-25 05:00:00</td>\n",
       "      <td>[148136, 148140, 148144, 148148, 148152]</td>\n",
       "    </tr>\n",
       "    <tr>\n",
       "      <th>6</th>\n",
       "      <td>174375</td>\n",
       "      <td>wrf_2019-11-22_16.nc</td>\n",
       "      <td>2019-11-22_16</td>\n",
       "      <td>2019-11-22 16:00:00</td>\n",
       "      <td>[174355, 174359, 174363, 174367, 174371]</td>\n",
       "    </tr>\n",
       "    <tr>\n",
       "      <th>7</th>\n",
       "      <td>22809</td>\n",
       "      <td>wrf_2002-08-08_09.nc</td>\n",
       "      <td>2002-08-08_09</td>\n",
       "      <td>2002-08-08 09:00:00</td>\n",
       "      <td>[22789, 22793, 22797, 22801, 22805]</td>\n",
       "    </tr>\n",
       "    <tr>\n",
       "      <th>8</th>\n",
       "      <td>179144</td>\n",
       "      <td>wrf_2020-06-08_09.nc</td>\n",
       "      <td>2020-06-08_09</td>\n",
       "      <td>2020-06-08 09:00:00</td>\n",
       "      <td>[179124, 179128, 179132, 179136, 179140]</td>\n",
       "    </tr>\n",
       "    <tr>\n",
       "      <th>9</th>\n",
       "      <td>183191</td>\n",
       "      <td>wrf_2020-11-24_00.nc</td>\n",
       "      <td>2020-11-24_00</td>\n",
       "      <td>2020-11-24 00:00:00</td>\n",
       "      <td>[183171, 183175, 183179, 183183, 183187]</td>\n",
       "    </tr>\n",
       "    <tr>\n",
       "      <th>10</th>\n",
       "      <td>22531</td>\n",
       "      <td>wrf_2002-07-27_19.nc</td>\n",
       "      <td>2002-07-27_19</td>\n",
       "      <td>2002-07-27 19:00:00</td>\n",
       "      <td>[22511, 22515, 22519, 22523, 22527]</td>\n",
       "    </tr>\n",
       "    <tr>\n",
       "      <th>11</th>\n",
       "      <td>177683</td>\n",
       "      <td>wrf_2020-04-08_12.nc</td>\n",
       "      <td>2020-04-08_12</td>\n",
       "      <td>2020-04-08 12:00:00</td>\n",
       "      <td>[177663, 177667, 177671, 177675, 177679]</td>\n",
       "    </tr>\n",
       "    <tr>\n",
       "      <th>12</th>\n",
       "      <td>144967</td>\n",
       "      <td>wrf_2016-07-15_08.nc</td>\n",
       "      <td>2016-07-15_08</td>\n",
       "      <td>2016-07-15 08:00:00</td>\n",
       "      <td>[144947, 144951, 144955, 144959, 144963]</td>\n",
       "    </tr>\n",
       "    <tr>\n",
       "      <th>13</th>\n",
       "      <td>1498</td>\n",
       "      <td>wrf_2000-03-03_10.nc</td>\n",
       "      <td>2000-03-03_10</td>\n",
       "      <td>2000-03-03 10:00:00</td>\n",
       "      <td>[1478, 1482, 1486, 1490, 1494]</td>\n",
       "    </tr>\n",
       "    <tr>\n",
       "      <th>14</th>\n",
       "      <td>105254</td>\n",
       "      <td>wrf_2012-01-03_15.nc</td>\n",
       "      <td>2012-01-03_15</td>\n",
       "      <td>2012-01-03 15:00:00</td>\n",
       "      <td>[105234, 105238, 105242, 105246, 105250]</td>\n",
       "    </tr>\n",
       "    <tr>\n",
       "      <th>15</th>\n",
       "      <td>110693</td>\n",
       "      <td>wrf_2012-08-17_06.nc</td>\n",
       "      <td>2012-08-17_06</td>\n",
       "      <td>2012-08-17 06:00:00</td>\n",
       "      <td>[110673, 110677, 110681, 110685, 110689]</td>\n",
       "    </tr>\n",
       "    <tr>\n",
       "      <th>16</th>\n",
       "      <td>20743</td>\n",
       "      <td>wrf_2002-05-14_07.nc</td>\n",
       "      <td>2002-05-14_07</td>\n",
       "      <td>2002-05-14 07:00:00</td>\n",
       "      <td>[20723, 20727, 20731, 20735, 20739]</td>\n",
       "    </tr>\n",
       "    <tr>\n",
       "      <th>17</th>\n",
       "      <td>83371</td>\n",
       "      <td>wrf_2009-07-05_19.nc</td>\n",
       "      <td>2009-07-05_19</td>\n",
       "      <td>2009-07-05 19:00:00</td>\n",
       "      <td>[83351, 83355, 83359, 83363, 83367]</td>\n",
       "    </tr>\n",
       "    <tr>\n",
       "      <th>18</th>\n",
       "      <td>57759</td>\n",
       "      <td>wrf_2006-08-03_15.nc</td>\n",
       "      <td>2006-08-03_15</td>\n",
       "      <td>2006-08-03 15:00:00</td>\n",
       "      <td>[57739, 57743, 57747, 57751, 57755]</td>\n",
       "    </tr>\n",
       "    <tr>\n",
       "      <th>19</th>\n",
       "      <td>134285</td>\n",
       "      <td>wrf_2015-04-27_06.nc</td>\n",
       "      <td>2015-04-27_06</td>\n",
       "      <td>2015-04-27 06:00:00</td>\n",
       "      <td>[134265, 134269, 134273, 134277, 134281]</td>\n",
       "    </tr>\n",
       "  </tbody>\n",
       "</table>\n",
       "</div>"
      ],
      "text/plain": [
       "    ref_time_indices    sampled_data_files sampled_time_stamps  \\\n",
       "0             143555  wrf_2016-05-17_12.nc       2016-05-17_12   \n",
       "1             152365  wrf_2017-05-19_14.nc       2017-05-19_14   \n",
       "2              87988  wrf_2010-01-14_04.nc       2010-01-14_04   \n",
       "3              17409  wrf_2001-12-26_09.nc       2001-12-26_09   \n",
       "4              32817  wrf_2003-09-29_09.nc       2003-09-29_09   \n",
       "5             148156  wrf_2016-11-25_05.nc       2016-11-25_05   \n",
       "6             174375  wrf_2019-11-22_16.nc       2019-11-22_16   \n",
       "7              22809  wrf_2002-08-08_09.nc       2002-08-08_09   \n",
       "8             179144  wrf_2020-06-08_09.nc       2020-06-08_09   \n",
       "9             183191  wrf_2020-11-24_00.nc       2020-11-24_00   \n",
       "10             22531  wrf_2002-07-27_19.nc       2002-07-27_19   \n",
       "11            177683  wrf_2020-04-08_12.nc       2020-04-08_12   \n",
       "12            144967  wrf_2016-07-15_08.nc       2016-07-15_08   \n",
       "13              1498  wrf_2000-03-03_10.nc       2000-03-03_10   \n",
       "14            105254  wrf_2012-01-03_15.nc       2012-01-03_15   \n",
       "15            110693  wrf_2012-08-17_06.nc       2012-08-17_06   \n",
       "16             20743  wrf_2002-05-14_07.nc       2002-05-14_07   \n",
       "17             83371  wrf_2009-07-05_19.nc       2009-07-05_19   \n",
       "18             57759  wrf_2006-08-03_15.nc       2006-08-03_15   \n",
       "19            134285  wrf_2015-04-27_06.nc       2015-04-27_06   \n",
       "\n",
       "      sampled_datetime                      history_time_indices  \n",
       "0  2016-05-17 12:00:00  [143535, 143539, 143543, 143547, 143551]  \n",
       "1  2017-05-19 14:00:00  [152345, 152349, 152353, 152357, 152361]  \n",
       "2  2010-01-14 04:00:00       [87968, 87972, 87976, 87980, 87984]  \n",
       "3  2001-12-26 09:00:00       [17389, 17393, 17397, 17401, 17405]  \n",
       "4  2003-09-29 09:00:00       [32797, 32801, 32805, 32809, 32813]  \n",
       "5  2016-11-25 05:00:00  [148136, 148140, 148144, 148148, 148152]  \n",
       "6  2019-11-22 16:00:00  [174355, 174359, 174363, 174367, 174371]  \n",
       "7  2002-08-08 09:00:00       [22789, 22793, 22797, 22801, 22805]  \n",
       "8  2020-06-08 09:00:00  [179124, 179128, 179132, 179136, 179140]  \n",
       "9  2020-11-24 00:00:00  [183171, 183175, 183179, 183183, 183187]  \n",
       "10 2002-07-27 19:00:00       [22511, 22515, 22519, 22523, 22527]  \n",
       "11 2020-04-08 12:00:00  [177663, 177667, 177671, 177675, 177679]  \n",
       "12 2016-07-15 08:00:00  [144947, 144951, 144955, 144959, 144963]  \n",
       "13 2000-03-03 10:00:00            [1478, 1482, 1486, 1490, 1494]  \n",
       "14 2012-01-03 15:00:00  [105234, 105238, 105242, 105246, 105250]  \n",
       "15 2012-08-17 06:00:00  [110673, 110677, 110681, 110685, 110689]  \n",
       "16 2002-05-14 07:00:00       [20723, 20727, 20731, 20735, 20739]  \n",
       "17 2009-07-05 19:00:00       [83351, 83355, 83359, 83363, 83367]  \n",
       "18 2006-08-03 15:00:00       [57739, 57743, 57747, 57751, 57755]  \n",
       "19 2015-04-27 06:00:00  [134265, 134269, 134273, 134277, 134281]  "
      ]
     },
     "execution_count": 12,
     "metadata": {},
     "output_type": "execute_result"
    }
   ],
   "source": [
    "df_sampled_time.head(20)"
   ]
  },
  {
   "cell_type": "markdown",
   "metadata": {},
   "source": [
    "# Plot Sampled Datetime"
   ]
  },
  {
   "cell_type": "code",
   "execution_count": 13,
   "metadata": {},
   "outputs": [
    {
     "name": "stdout",
     "output_type": "stream",
     "text": [
      "\n",
      "Plotting sampled datetime from the available data...\n"
     ]
    },
    {
     "data": {
      "image/png": "[encoded data removed]",
      "text/plain": [
       "<Figure size 432x288 with 1 Axes>"
      ]
     },
     "metadata": {},
     "output_type": "display_data"
    },
    {
     "name": "stdout",
     "output_type": "stream",
     "text": [
      "=========================================================================\n",
      "Module \"plot_sampled_datetime\" computing time: 0.3193858710001223 s\n"
     ]
    }
   ],
   "source": [
    "module_start_time = timer()\n",
    "plot_sampled_datetime (df_sampled_time, extracted_data_loc)\n",
    "module_end_time = timer()\n",
    "print('Module \"plot_sampled_datetime\" computing time: {} s'.format(module_end_time - module_start_time))"
   ]
  },
  {
   "cell_type": "markdown",
   "metadata": {},
   "source": [
    "# Get All the Grid Indices"
   ]
  },
  {
   "cell_type": "code",
   "execution_count": 14,
   "metadata": {},
   "outputs": [
    {
     "name": "stdout",
     "output_type": "stream",
     "text": [
      "\n",
      "Getting all the grid indices from a randomly selcted file...\n",
      "The selected file is: wrf_2006-08-03_15.nc\n",
      "=========================================================================\n",
      "Module \"get_grid_indices_all\" computing time: 0.22831095100264065 s\n"
     ]
    }
   ],
   "source": [
    "module_start_time = timer()\n",
    "data_file_to_read, grid_indices, grid_indices_flattened = get_grid_indices_all (data_files_location, sampled_file_indices, sampled_data_files)\n",
    "module_end_time = timer()\n",
    "print('Module \"get_grid_indices_all\" computing time: {} s'.format(module_end_time - module_start_time))"
   ]
  },
  {
   "cell_type": "markdown",
   "metadata": {},
   "source": [
    "# Read and Plot Quantities in a Randomly Selected Data File"
   ]
  },
  {
   "cell_type": "markdown",
   "metadata": {},
   "source": [
    "## Read the Data in a Randonly Selected File"
   ]
  },
  {
   "cell_type": "code",
   "execution_count": 15,
   "metadata": {},
   "outputs": [
    {
     "name": "stdout",
     "output_type": "stream",
     "text": [
      "\n",
      "Reading data contained in the randomly selcted file: wrf_2000-03-03_10.nc...\n",
      "=========================================================================\n",
      "Module \"read_single_data_file\" computing time: 0.11447901302017272 s\n"
     ]
    }
   ],
   "source": [
    "module_start_time = timer()\n",
    "random_ind_of_downsampled_files = random.choice(range(len(sampled_file_indices)))\n",
    "file_ind_to_read = sampled_file_indices[random_ind_of_downsampled_files]\n",
    "data_file_to_read = sampled_data_files[random_ind_of_downsampled_files]\n",
    "timestamp_to_read = sampled_time_stamps[random_ind_of_downsampled_files]\n",
    "data_at_timestamp = read_single_data_file (data_files_location, data_file_to_read, timestamp_to_read)\n",
    "module_end_time = timer()\n",
    "print('Module \"read_single_data_file\" computing time: {} s'.format(module_end_time - module_start_time))\n"
   ]
  },
  {
   "cell_type": "markdown",
   "metadata": {},
   "source": [
    "# Extract Considerable Indices"
   ]
  },
  {
   "cell_type": "code",
   "execution_count": 16,
   "metadata": {},
   "outputs": [],
   "source": [
    "#grid_indices_valid = np.zeros((ny, nx), bool)"
   ]
  },
  {
   "cell_type": "markdown",
   "metadata": {},
   "source": [
    "# Global End Time"
   ]
  },
  {
   "cell_type": "code",
   "execution_count": 17,
   "metadata": {},
   "outputs": [
    {
     "name": "stdout",
     "output_type": "stream",
     "text": [
      "Total computing time: 1.3517316359793767 s\n"
     ]
    }
   ],
   "source": [
    "global_end_time = timer()\n",
    "print('Total computing time: {} s'.format(global_end_time - global_start_time))"
   ]
  },
  {
   "cell_type": "markdown",
   "metadata": {},
   "source": [
    "# Cells below this are old/legacy stuff for reference"
   ]
  },
  {
   "cell_type": "markdown",
   "metadata": {},
   "source": [
    "# Grid Dimensions, Downsample Grid Points"
   ]
  },
  {
   "cell_type": "code",
   "execution_count": null,
   "metadata": {
    "scrolled": false
   },
   "outputs": [],
   "source": [
    "df_for_all_files = pd.DataFrame()\n",
    "for file_count, data_file_name in enumerate(sampled_data_files):\n",
    "    print ('\\nReading data from file # {}, with name :- {}'.format(file_count, data_file_name))\n",
    "    print('-----------------------------------------------------------------------')\n",
    "    dfm_file_data = xr.open_dataset(path.join(data_files_location, data_file_name))\n",
    "    \n",
    "    df_for_single_file = downsample_grid_indices (data_file_name,dfm_file_data, percent_grid_points_to_use, \n",
    "                                                  max_history_to_consider, history_interval, frames_in_file)\n",
    "    \n",
    "    df_for_all_files = df_for_all_files.append(df_for_single_file).reset_index(drop = True)"
   ]
  },
  {
   "cell_type": "code",
   "execution_count": null,
   "metadata": {},
   "outputs": [],
   "source": [
    "#df_for_all_files.head(10)"
   ]
  },
  {
   "cell_type": "markdown",
   "metadata": {},
   "source": [
    "# Save the extracted data"
   ]
  },
  {
   "cell_type": "code",
   "execution_count": null,
   "metadata": {},
   "outputs": [],
   "source": [
    "data_set_name = 'extracted_data_%02d'%(data_set_count)\n",
    "extracted_data_file_name = '{}.pkl'.format(data_set_name)\n",
    "'''\n",
    "extracted_data_file_name = '{}_files_{}pc_grid_points_{}pc_max_history_{}_hist_interval_{}.pkl'.format(\n",
    "                            data_set_name, # name of data set\n",
    "                            percent_files_to_use, # f1 = what percent of available files to use\n",
    "                            percent_grid_points_to_use, # f2 = what percent of grid points to use\n",
    "                            max_history_to_consider, # n_history in hours\n",
    "                            history_interval)\n",
    "'''\n",
    "extracted_data = {'percent_files_to_use': [percent_files_to_use],\n",
    "                 'percent_grid_points_to_use': [percent_grid_points_to_use],\n",
    "                 'max_history_to_consider': [max_history_to_consider],\n",
    "                 'history_interval': [history_interval],\n",
    "                 'number_of_files_used' : [len(sampled_data_files)],\n",
    "                 'number_of_data_points' : [len(df_for_all_files)],\n",
    "                 'df_for_all_files': df_for_all_files}\n",
    "extracted_data_file_handle = open(os.path.join(\n",
    "    extracted_data_loc, extracted_data_file_name), 'wb')\n",
    "pickle.dump(extracted_data, extracted_data_file_handle)\n",
    "extracted_data_file_handle.close()"
   ]
  },
  {
   "cell_type": "code",
   "execution_count": null,
   "metadata": {},
   "outputs": [],
   "source": [
    "del extracted_data['df_for_all_files']\n",
    "#extracted_data['index'] = 0"
   ]
  },
  {
   "cell_type": "code",
   "execution_count": null,
   "metadata": {},
   "outputs": [],
   "source": [
    "tab_data_file_name = '{}.csv'.format(os.path.join(extracted_data_loc, data_set_name))\n",
    "tabulated_data = pd.DataFrame.from_dict(extracted_data).reset_index(drop = True)\n",
    "tabulated_data.to_csv(tab_data_file_name, index = False)"
   ]
  },
  {
   "cell_type": "code",
   "execution_count": null,
   "metadata": {},
   "outputs": [],
   "source": [
    "#tabulated_data"
   ]
  },
  {
   "cell_type": "markdown",
   "metadata": {},
   "source": [
    "# Load extracted data from pickle file"
   ]
  },
  {
   "cell_type": "code",
   "execution_count": null,
   "metadata": {},
   "outputs": [],
   "source": [
    "loaded_data = pickle.load(open(os.path.join(\n",
    "    extracted_data_loc, extracted_data_file_name), 'rb'))"
   ]
  },
  {
   "cell_type": "code",
   "execution_count": null,
   "metadata": {},
   "outputs": [],
   "source": [
    "#loaded_data['df_for_all_files'][5:15]"
   ]
  }
 ],
 "metadata": {
  "kernelspec": {
   "display_name": "ML_Wind",
   "language": "python",
   "name": "py3_ml_wind"
  },
  "language_info": {
   "codemirror_mode": {
    "name": "ipython",
    "version": 3
   },
   "file_extension": ".py",
   "mimetype": "text/x-python",
   "name": "python",
   "nbconvert_exporter": "python",
   "pygments_lexer": "ipython3",
   "version": "3.7.2"
  }
 },
 "nbformat": 4,
 "nbformat_minor": 4
}
