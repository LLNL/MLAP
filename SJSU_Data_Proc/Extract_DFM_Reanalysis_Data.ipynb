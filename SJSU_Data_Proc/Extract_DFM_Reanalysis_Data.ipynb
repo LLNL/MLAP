{
 "cells": [
  {
   "cell_type": "markdown",
   "metadata": {},
   "source": [
    "# Import Modules"
   ]
  },
  {
   "cell_type": "markdown",
   "metadata": {},
   "source": [
    "## Standard Packages"
   ]
  },
  {
   "cell_type": "code",
   "execution_count": 1,
   "metadata": {},
   "outputs": [
    {
     "name": "stderr",
     "output_type": "stream",
     "text": [
      "/g/g92/jha3/VirtualEnv/py3_ml_wind/lib/python3.7/site-packages/pandas/compat/_optional.py:138: UserWarning: Pandas requires version '2.7.0' or newer of 'numexpr' (version '2.6.9' currently installed).\n",
      "  warnings.warn(msg, UserWarning)\n"
     ]
    }
   ],
   "source": [
    "import os\n",
    "import sys\n",
    "import os.path as path\n",
    "import glob\n",
    "import random\n",
    "import numpy as np\n",
    "import pandas as pd\n",
    "import xarray as xr\n",
    "import pickle\n",
    "from matplotlib import pyplot as plt\n",
    "plt.style.use('seaborn-white')\n",
    "from datetime import date, datetime, timedelta, time\n",
    "from timeit import default_timer as timer"
   ]
  },
  {
   "cell_type": "markdown",
   "metadata": {},
   "source": [
    "## User-Defined Functions"
   ]
  },
  {
   "cell_type": "code",
   "execution_count": 2,
   "metadata": {},
   "outputs": [],
   "source": [
    "from helper_extract_wrf import generate_seed, init_random_generator\n",
    "from helper_extract_wrf import get_data_file_names, downsample_data_files\n",
    "from helper_extract_wrf import get_history_file_indices, get_datetime_for_data_files\n",
    "from helper_extract_wrf import create_df_sampled_time, plot_sampled_datetime"
   ]
  },
  {
   "cell_type": "markdown",
   "metadata": {},
   "source": [
    "# Global Start Time"
   ]
  },
  {
   "cell_type": "code",
   "execution_count": 3,
   "metadata": {},
   "outputs": [],
   "source": [
    "global_start_time = timer()"
   ]
  },
  {
   "cell_type": "markdown",
   "metadata": {},
   "source": [
    "# Variables to be used for extracting WRF data"
   ]
  },
  {
   "cell_type": "code",
   "execution_count": 4,
   "metadata": {},
   "outputs": [],
   "source": [
    "# WRF data set location and the extracted data set location\n",
    "data_files_location = '/p/vast1/climres/DFM_reanalysis'\n",
    "extracted_data_loc = '/p/lustre2/jha3/Wildfire/Wildfire_LDRD_SI/SJSU/01_WRF_Nelson_Data_Extracted'\n",
    "\n",
    "# The current data set params\n",
    "data_set_count = 0\n",
    "#percent_files_to_use = 0.010863484  # f1 = what percent of available files to use\n",
    "percent_files_to_use = 100.00  # f1 = what percent of available files to use\n",
    "percent_grid_points_to_use = 0.005  # f2 = what percent of grid points to use\n",
    "max_history_to_consider = 20 # n_history in hours\n",
    "history_interval        = 4"
   ]
  },
  {
   "cell_type": "markdown",
   "metadata": {},
   "source": [
    "# Generate seed for the random number generator"
   ]
  },
  {
   "cell_type": "code",
   "execution_count": 5,
   "metadata": {},
   "outputs": [],
   "source": [
    "seed = generate_seed()\n",
    "random_state = init_random_generator(seed)"
   ]
  },
  {
   "cell_type": "markdown",
   "metadata": {},
   "source": [
    "# File Names"
   ]
  },
  {
   "cell_type": "code",
   "execution_count": 6,
   "metadata": {},
   "outputs": [
    {
     "name": "stdout",
     "output_type": "stream",
     "text": [
      "\n",
      "Getting the names of the data files at the dir : \n",
      " /p/vast1/climres/DFM_reanalysis \n",
      "\n",
      "years_list: ['2000', '2001', '2002', '2003', '2004', '2005', '2006', '2007', '2008', '2009', '2010', '2011', '2012', '2013', '2014', '2015', '2016', '2017', '2018', '2019', '2020'] \n",
      "\n",
      "Getting the names of the data files for the year : 2000\n",
      "... Found 8784 files for this year\n",
      "Getting the names of the data files for the year : 2001\n",
      "... Found 8760 files for this year\n",
      "Getting the names of the data files for the year : 2002\n",
      "... Found 8760 files for this year\n",
      "Getting the names of the data files for the year : 2003\n",
      "... Found 8760 files for this year\n",
      "Getting the names of the data files for the year : 2004\n",
      "... Found 8784 files for this year\n",
      "Getting the names of the data files for the year : 2005\n",
      "... Found 8760 files for this year\n",
      "Getting the names of the data files for the year : 2006\n",
      "... Found 8760 files for this year\n",
      "Getting the names of the data files for the year : 2007\n",
      "... Found 8760 files for this year\n",
      "Getting the names of the data files for the year : 2008\n",
      "... Found 8784 files for this year\n",
      "Getting the names of the data files for the year : 2009\n",
      "... Found 8760 files for this year\n",
      "Getting the names of the data files for the year : 2010\n",
      "... Found 8759 files for this year\n",
      "Getting the names of the data files for the year : 2011\n",
      "... Found 8760 files for this year\n",
      "Getting the names of the data files for the year : 2012\n",
      "... Found 8784 files for this year\n",
      "Getting the names of the data files for the year : 2013\n",
      "... Found 8760 files for this year\n",
      "Getting the names of the data files for the year : 2014\n",
      "... Found 8760 files for this year\n",
      "Getting the names of the data files for the year : 2015\n",
      "... Found 8760 files for this year\n",
      "Getting the names of the data files for the year : 2016\n",
      "... Found 8784 files for this year\n",
      "Getting the names of the data files for the year : 2017\n",
      "... Found 8760 files for this year\n",
      "Getting the names of the data files for the year : 2018\n",
      "... Found 8760 files for this year\n",
      "Getting the names of the data files for the year : 2019\n",
      "... Found 8760 files for this year\n",
      "Getting the names of the data files for the year : 2020\n",
      "... Found 8784 files for this year\n",
      "\n",
      "Found a total of 184103 files \n",
      "\n",
      "=========================================================================\n",
      "Module \"get_data_file_names\" computing time: 0.26349809901148546 s\n"
     ]
    }
   ],
   "source": [
    "module_start_time = timer()\n",
    "data_files_list = get_data_file_names(data_files_location)\n",
    "module_end_time = timer()\n",
    "print('Module \"get_data_file_names\" computing time: {} s'.format(module_end_time - module_start_time))"
   ]
  },
  {
   "cell_type": "markdown",
   "metadata": {},
   "source": [
    "# Downsample Files"
   ]
  },
  {
   "cell_type": "code",
   "execution_count": 7,
   "metadata": {},
   "outputs": [
    {
     "name": "stdout",
     "output_type": "stream",
     "text": [
      "\n",
      "Randomly selecting approx 100.0 % of the data files\n",
      "Selected 184083 data files out of 184103 total and 184083 usable considering historical data\n",
      "=========================================================================\n",
      "Module \"downsample_data_files\" computing time: 0.276526368004852 s\n"
     ]
    }
   ],
   "source": [
    "module_start_time = timer()\n",
    "sampled_file_indices, sampled_data_files = downsample_data_files (data_files_list, percent_files_to_use, max_history_to_consider, random_state)\n",
    "module_end_time = timer()\n",
    "print('Module \"downsample_data_files\" computing time: {} s'.format(module_end_time - module_start_time))"
   ]
  },
  {
   "cell_type": "markdown",
   "metadata": {},
   "source": [
    "# Get History File Indices"
   ]
  },
  {
   "cell_type": "code",
   "execution_count": 8,
   "metadata": {},
   "outputs": [
    {
     "name": "stdout",
     "output_type": "stream",
     "text": [
      "Module \"get_history_file_indices\" computing time: 0.9788112469977932 s\n"
     ]
    }
   ],
   "source": [
    "module_start_time = timer()\n",
    "history_file_indices = get_history_file_indices (sampled_file_indices, max_history_to_consider, history_interval)\n",
    "module_end_time = timer()\n",
    "print('Module \"get_history_file_indices\" computing time: {} s'.format(module_end_time - module_start_time))"
   ]
  },
  {
   "cell_type": "markdown",
   "metadata": {},
   "source": [
    "# Create timestamps and datetime of downsampled data files"
   ]
  },
  {
   "cell_type": "code",
   "execution_count": 9,
   "metadata": {},
   "outputs": [
    {
     "name": "stdout",
     "output_type": "stream",
     "text": [
      "\n",
      "Getting time stamps and datetime of the downsampled data files...\n",
      "=========================================================================\n",
      "Module \"get_datetime_for_data_files\" computing time: 0.18206246399495285 s\n"
     ]
    }
   ],
   "source": [
    "module_start_time = timer()\n",
    "sampled_time_stamps, sampled_datetime = get_datetime_for_data_files (sampled_data_files)\n",
    "module_end_time = timer()\n",
    "print('Module \"get_datetime_for_data_files\" computing time: {} s'.format(module_end_time - module_start_time))"
   ]
  },
  {
   "cell_type": "markdown",
   "metadata": {},
   "source": [
    "# Create DataFrame using sampled file indices, filenames, timestamps, and datetime"
   ]
  },
  {
   "cell_type": "code",
   "execution_count": 10,
   "metadata": {},
   "outputs": [
    {
     "name": "stdout",
     "output_type": "stream",
     "text": [
      "\n",
      "Creating DataFrame using sampled file indices, filenames, timestamps, and datetime...\n",
      "=========================================================================\n",
      "Module \"create_df_sampled_time\" computing time: 0.5105361339956289 s\n"
     ]
    }
   ],
   "source": [
    "module_start_time = timer()\n",
    "df_sampled_time = create_df_sampled_time (sampled_file_indices, sampled_data_files, sampled_time_stamps, sampled_datetime, history_file_indices)\n",
    "module_end_time = timer()\n",
    "print('Module \"create_df_sampled_time\" computing time: {} s'.format(module_end_time - module_start_time))"
   ]
  },
  {
   "cell_type": "code",
   "execution_count": 11,
   "metadata": {},
   "outputs": [
    {
     "data": {
      "text/html": [
       "<div>\n",
       "<style scoped>\n",
       "    .dataframe tbody tr th:only-of-type {\n",
       "        vertical-align: middle;\n",
       "    }\n",
       "\n",
       "    .dataframe tbody tr th {\n",
       "        vertical-align: top;\n",
       "    }\n",
       "\n",
       "    .dataframe thead th {\n",
       "        text-align: right;\n",
       "    }\n",
       "</style>\n",
       "<table border=\"1\" class=\"dataframe\">\n",
       "  <thead>\n",
       "    <tr style=\"text-align: right;\">\n",
       "      <th></th>\n",
       "      <th>ref_time_indices</th>\n",
       "      <th>sampled_data_files</th>\n",
       "      <th>sampled_time_stamps</th>\n",
       "      <th>sampled_datetime</th>\n",
       "      <th>history_time_indices</th>\n",
       "    </tr>\n",
       "  </thead>\n",
       "  <tbody>\n",
       "    <tr>\n",
       "      <th>24846</th>\n",
       "      <td>25</td>\n",
       "      <td>wrf_2000-01-02_01.nc</td>\n",
       "      <td>2000-01-02_01</td>\n",
       "      <td>2000-01-02 01:00:00</td>\n",
       "      <td>[5, 9, 13, 17, 21]</td>\n",
       "    </tr>\n",
       "    <tr>\n",
       "      <th>30716</th>\n",
       "      <td>28</td>\n",
       "      <td>wrf_2000-01-02_04.nc</td>\n",
       "      <td>2000-01-02_04</td>\n",
       "      <td>2000-01-02 04:00:00</td>\n",
       "      <td>[8, 12, 16, 20, 24]</td>\n",
       "    </tr>\n",
       "    <tr>\n",
       "      <th>41652</th>\n",
       "      <td>20</td>\n",
       "      <td>wrf_2000-01-01_20.nc</td>\n",
       "      <td>2000-01-01_20</td>\n",
       "      <td>2000-01-01 20:00:00</td>\n",
       "      <td>[0, 4, 8, 12, 16]</td>\n",
       "    </tr>\n",
       "    <tr>\n",
       "      <th>48842</th>\n",
       "      <td>24</td>\n",
       "      <td>wrf_2000-01-02_00.nc</td>\n",
       "      <td>2000-01-02_00</td>\n",
       "      <td>2000-01-02 00:00:00</td>\n",
       "      <td>[4, 8, 12, 16, 20]</td>\n",
       "    </tr>\n",
       "    <tr>\n",
       "      <th>68396</th>\n",
       "      <td>27</td>\n",
       "      <td>wrf_2000-01-02_03.nc</td>\n",
       "      <td>2000-01-02_03</td>\n",
       "      <td>2000-01-02 03:00:00</td>\n",
       "      <td>[7, 11, 15, 19, 23]</td>\n",
       "    </tr>\n",
       "    <tr>\n",
       "      <th>91210</th>\n",
       "      <td>29</td>\n",
       "      <td>wrf_2000-01-02_05.nc</td>\n",
       "      <td>2000-01-02_05</td>\n",
       "      <td>2000-01-02 05:00:00</td>\n",
       "      <td>[9, 13, 17, 21, 25]</td>\n",
       "    </tr>\n",
       "    <tr>\n",
       "      <th>102291</th>\n",
       "      <td>23</td>\n",
       "      <td>wrf_2000-01-01_23.nc</td>\n",
       "      <td>2000-01-01_23</td>\n",
       "      <td>2000-01-01 23:00:00</td>\n",
       "      <td>[3, 7, 11, 15, 19]</td>\n",
       "    </tr>\n",
       "    <tr>\n",
       "      <th>115561</th>\n",
       "      <td>21</td>\n",
       "      <td>wrf_2000-01-01_21.nc</td>\n",
       "      <td>2000-01-01_21</td>\n",
       "      <td>2000-01-01 21:00:00</td>\n",
       "      <td>[1, 5, 9, 13, 17]</td>\n",
       "    </tr>\n",
       "    <tr>\n",
       "      <th>129811</th>\n",
       "      <td>22</td>\n",
       "      <td>wrf_2000-01-01_22.nc</td>\n",
       "      <td>2000-01-01_22</td>\n",
       "      <td>2000-01-01 22:00:00</td>\n",
       "      <td>[2, 6, 10, 14, 18]</td>\n",
       "    </tr>\n",
       "    <tr>\n",
       "      <th>181470</th>\n",
       "      <td>26</td>\n",
       "      <td>wrf_2000-01-02_02.nc</td>\n",
       "      <td>2000-01-02_02</td>\n",
       "      <td>2000-01-02 02:00:00</td>\n",
       "      <td>[6, 10, 14, 18, 22]</td>\n",
       "    </tr>\n",
       "  </tbody>\n",
       "</table>\n",
       "</div>"
      ],
      "text/plain": [
       "        ref_time_indices    sampled_data_files sampled_time_stamps  \\\n",
       "24846                 25  wrf_2000-01-02_01.nc       2000-01-02_01   \n",
       "30716                 28  wrf_2000-01-02_04.nc       2000-01-02_04   \n",
       "41652                 20  wrf_2000-01-01_20.nc       2000-01-01_20   \n",
       "48842                 24  wrf_2000-01-02_00.nc       2000-01-02_00   \n",
       "68396                 27  wrf_2000-01-02_03.nc       2000-01-02_03   \n",
       "91210                 29  wrf_2000-01-02_05.nc       2000-01-02_05   \n",
       "102291                23  wrf_2000-01-01_23.nc       2000-01-01_23   \n",
       "115561                21  wrf_2000-01-01_21.nc       2000-01-01_21   \n",
       "129811                22  wrf_2000-01-01_22.nc       2000-01-01_22   \n",
       "181470                26  wrf_2000-01-02_02.nc       2000-01-02_02   \n",
       "\n",
       "          sampled_datetime history_time_indices  \n",
       "24846  2000-01-02 01:00:00   [5, 9, 13, 17, 21]  \n",
       "30716  2000-01-02 04:00:00  [8, 12, 16, 20, 24]  \n",
       "41652  2000-01-01 20:00:00    [0, 4, 8, 12, 16]  \n",
       "48842  2000-01-02 00:00:00   [4, 8, 12, 16, 20]  \n",
       "68396  2000-01-02 03:00:00  [7, 11, 15, 19, 23]  \n",
       "91210  2000-01-02 05:00:00  [9, 13, 17, 21, 25]  \n",
       "102291 2000-01-01 23:00:00   [3, 7, 11, 15, 19]  \n",
       "115561 2000-01-01 21:00:00    [1, 5, 9, 13, 17]  \n",
       "129811 2000-01-01 22:00:00   [2, 6, 10, 14, 18]  \n",
       "181470 2000-01-02 02:00:00  [6, 10, 14, 18, 22]  "
      ]
     },
     "execution_count": 11,
     "metadata": {},
     "output_type": "execute_result"
    }
   ],
   "source": [
    "df_sampled_time[df_sampled_time['ref_time_indices'] < max_history_to_consider+10]"
   ]
  },
  {
   "cell_type": "markdown",
   "metadata": {},
   "source": [
    "# Plot Sampled Datetime"
   ]
  },
  {
   "cell_type": "code",
   "execution_count": 12,
   "metadata": {},
   "outputs": [
    {
     "data": {
      "image/png": "[encoded data removed]",
      "text/plain": [
       "<Figure size 432x288 with 1 Axes>"
      ]
     },
     "metadata": {},
     "output_type": "display_data"
    },
    {
     "name": "stdout",
     "output_type": "stream",
     "text": [
      "Module \"plot_sampled_datetime\" computing time: 2.149062299009529 s\n"
     ]
    },
    {
     "data": {
      "text/plain": [
       "<Figure size 432x288 with 0 Axes>"
      ]
     },
     "metadata": {},
     "output_type": "display_data"
    }
   ],
   "source": [
    "module_start_time = timer()\n",
    "plot_sampled_datetime (df_sampled_time, extracted_data_loc)\n",
    "module_end_time = timer()\n",
    "print('Module \"plot_sampled_datetime\" computing time: {} s'.format(module_end_time - module_start_time))"
   ]
  },
  {
   "cell_type": "markdown",
   "metadata": {},
   "source": [
    "# Global End Time"
   ]
  },
  {
   "cell_type": "code",
   "execution_count": 13,
   "metadata": {},
   "outputs": [
    {
     "name": "stdout",
     "output_type": "stream",
     "text": [
      "Total computing time: 4.470357397003681 s\n"
     ]
    }
   ],
   "source": [
    "global_end_time = timer()\n",
    "print('Total computing time: {} s'.format(global_end_time - global_start_time))"
   ]
  },
  {
   "cell_type": "markdown",
   "metadata": {},
   "source": [
    "# Cells below this are old/legacy stuff for reference"
   ]
  },
  {
   "cell_type": "markdown",
   "metadata": {},
   "source": [
    "# Grid Dimensions, Downsample Grid Points"
   ]
  },
  {
   "cell_type": "code",
   "execution_count": null,
   "metadata": {
    "scrolled": false
   },
   "outputs": [],
   "source": [
    "df_for_all_files = pd.DataFrame()\n",
    "for file_count, data_file_name in enumerate(sampled_data_files):\n",
    "    print ('\\nReading data from file # {}, with name :- {}'.format(file_count, data_file_name))\n",
    "    print('-----------------------------------------------------------------------')\n",
    "    dfm_file_data = xr.open_dataset(path.join(data_files_location, data_file_name))\n",
    "    \n",
    "    df_for_single_file = downsample_grid_indices (data_file_name,dfm_file_data, percent_grid_points_to_use, \n",
    "                                                  max_history_to_consider, history_interval, frames_in_file)\n",
    "    \n",
    "    df_for_all_files = df_for_all_files.append(df_for_single_file).reset_index(drop = True)"
   ]
  },
  {
   "cell_type": "code",
   "execution_count": null,
   "metadata": {},
   "outputs": [],
   "source": [
    "#df_for_all_files.head(10)"
   ]
  },
  {
   "cell_type": "markdown",
   "metadata": {},
   "source": [
    "# Save the extracted data"
   ]
  },
  {
   "cell_type": "code",
   "execution_count": null,
   "metadata": {},
   "outputs": [],
   "source": [
    "data_set_name = 'extracted_data_%02d'%(data_set_count)\n",
    "extracted_data_file_name = '{}.pkl'.format(data_set_name)\n",
    "'''\n",
    "extracted_data_file_name = '{}_files_{}pc_grid_points_{}pc_max_history_{}_hist_interval_{}.pkl'.format(\n",
    "                            data_set_name, # name of data set\n",
    "                            percent_files_to_use, # f1 = what percent of available files to use\n",
    "                            percent_grid_points_to_use, # f2 = what percent of grid points to use\n",
    "                            max_history_to_consider, # n_history in hours\n",
    "                            history_interval)\n",
    "'''\n",
    "extracted_data = {'percent_files_to_use': [percent_files_to_use],\n",
    "                 'percent_grid_points_to_use': [percent_grid_points_to_use],\n",
    "                 'max_history_to_consider': [max_history_to_consider],\n",
    "                 'history_interval': [history_interval],\n",
    "                 'number_of_files_used' : [len(sampled_data_files)],\n",
    "                 'number_of_data_points' : [len(df_for_all_files)],\n",
    "                 'df_for_all_files': df_for_all_files}\n",
    "extracted_data_file_handle = open(os.path.join(\n",
    "    extracted_data_loc, extracted_data_file_name), 'wb')\n",
    "pickle.dump(extracted_data, extracted_data_file_handle)\n",
    "extracted_data_file_handle.close()"
   ]
  },
  {
   "cell_type": "code",
   "execution_count": null,
   "metadata": {},
   "outputs": [],
   "source": [
    "del extracted_data['df_for_all_files']\n",
    "#extracted_data['index'] = 0"
   ]
  },
  {
   "cell_type": "code",
   "execution_count": null,
   "metadata": {},
   "outputs": [],
   "source": [
    "tab_data_file_name = '{}.csv'.format(os.path.join(extracted_data_loc, data_set_name))\n",
    "tabulated_data = pd.DataFrame.from_dict(extracted_data).reset_index(drop = True)\n",
    "tabulated_data.to_csv(tab_data_file_name, index = False)"
   ]
  },
  {
   "cell_type": "code",
   "execution_count": null,
   "metadata": {},
   "outputs": [],
   "source": [
    "#tabulated_data"
   ]
  },
  {
   "cell_type": "markdown",
   "metadata": {},
   "source": [
    "# Load extracted data from pickle file"
   ]
  },
  {
   "cell_type": "code",
   "execution_count": null,
   "metadata": {},
   "outputs": [],
   "source": [
    "loaded_data = pickle.load(open(os.path.join(\n",
    "    extracted_data_loc, extracted_data_file_name), 'rb'))"
   ]
  },
  {
   "cell_type": "code",
   "execution_count": null,
   "metadata": {},
   "outputs": [],
   "source": [
    "#loaded_data['df_for_all_files'][5:15]"
   ]
  }
 ],
 "metadata": {
  "kernelspec": {
   "display_name": "ML_Wind",
   "language": "python",
   "name": "py3_ml_wind"
  },
  "language_info": {
   "codemirror_mode": {
    "name": "ipython",
    "version": 3
   },
   "file_extension": ".py",
   "mimetype": "text/x-python",
   "name": "python",
   "nbconvert_exporter": "python",
   "pygments_lexer": "ipython3",
   "version": "3.7.2"
  }
 },
 "nbformat": 4,
 "nbformat_minor": 4
}
