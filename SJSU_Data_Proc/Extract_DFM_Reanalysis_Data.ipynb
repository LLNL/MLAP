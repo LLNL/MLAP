{
 "cells": [
  {
   "cell_type": "markdown",
   "metadata": {},
   "source": [
    "# Import Modules"
   ]
  },
  {
   "cell_type": "markdown",
   "metadata": {},
   "source": [
    "## Standard Packages"
   ]
  },
  {
   "cell_type": "code",
   "execution_count": 1,
   "metadata": {},
   "outputs": [
    {
     "name": "stderr",
     "output_type": "stream",
     "text": [
      "/g/g92/jha3/VirtualEnv/py3_ml_wind/lib/python3.7/site-packages/pandas/compat/_optional.py:138: UserWarning: Pandas requires version '2.7.0' or newer of 'numexpr' (version '2.6.9' currently installed).\n",
      "  warnings.warn(msg, UserWarning)\n"
     ]
    }
   ],
   "source": [
    "import os\n",
    "import sys\n",
    "import os.path as path\n",
    "import glob\n",
    "import random\n",
    "import numpy as np\n",
    "import pandas as pd\n",
    "import xarray as xr\n",
    "import pickle\n",
    "from matplotlib import pyplot as plt\n",
    "plt.style.use('seaborn-white')\n",
    "from datetime import date, datetime, timedelta, time\n",
    "from timeit import default_timer as timer"
   ]
  },
  {
   "cell_type": "markdown",
   "metadata": {},
   "source": [
    "## User-Defined Functions"
   ]
  },
  {
   "cell_type": "code",
   "execution_count": 2,
   "metadata": {},
   "outputs": [],
   "source": [
    "from helper_extract_wrf import generate_seed, init_random_generator\n",
    "from helper_extract_wrf import get_data_file_names, downsample_data_files\n",
    "from helper_extract_wrf import get_history_file_indices, get_datetime_for_data_files\n",
    "from helper_extract_wrf import create_df_sampled_time, plot_sampled_datetime\n",
    "from helper_extract_wrf import get_grid_indices_all"
   ]
  },
  {
   "cell_type": "markdown",
   "metadata": {},
   "source": [
    "# Global Start Time"
   ]
  },
  {
   "cell_type": "code",
   "execution_count": 3,
   "metadata": {},
   "outputs": [],
   "source": [
    "global_start_time = timer()"
   ]
  },
  {
   "cell_type": "markdown",
   "metadata": {},
   "source": [
    "# Variables to be used for extracting WRF data"
   ]
  },
  {
   "cell_type": "code",
   "execution_count": 4,
   "metadata": {},
   "outputs": [],
   "source": [
    "# WRF data set location and the extracted data set location\n",
    "data_files_location = '/p/vast1/climres/DFM_reanalysis'\n",
    "extracted_data_loc = '/p/lustre2/jha3/Wildfire/Wildfire_LDRD_SI/SJSU/01_WRF_Nelson_Data_Extracted'\n",
    "\n",
    "# The current data set params\n",
    "data_set_count = 0\n",
    "percent_files_to_use = 0.010863484  # f1 = what percent of available files to use\n",
    "#percent_files_to_use = 100.00  # f1 = what percent of available files to use\n",
    "percent_grid_points_to_use = 0.005  # f2 = what percent of grid points to use\n",
    "max_history_to_consider = 20 # n_history in hours\n",
    "history_interval        = 4"
   ]
  },
  {
   "cell_type": "markdown",
   "metadata": {},
   "source": [
    "# Generate seed for the random number generator"
   ]
  },
  {
   "cell_type": "code",
   "execution_count": 5,
   "metadata": {},
   "outputs": [],
   "source": [
    "seed = generate_seed()\n",
    "random_state = init_random_generator(seed)"
   ]
  },
  {
   "cell_type": "markdown",
   "metadata": {},
   "source": [
    "# File Names"
   ]
  },
  {
   "cell_type": "code",
   "execution_count": 6,
   "metadata": {},
   "outputs": [
    {
     "name": "stdout",
     "output_type": "stream",
     "text": [
      "\n",
      "Getting the names of the data files at the dir : \n",
      " /p/vast1/climres/DFM_reanalysis \n",
      "\n",
      "years_list: ['2000', '2001', '2002', '2003', '2004', '2005', '2006', '2007', '2008', '2009', '2010', '2011', '2012', '2013', '2014', '2015', '2016', '2017', '2018', '2019', '2020'] \n",
      "\n",
      "Getting the names of the data files for the year : 2000\n",
      "... Found 8784 files for this year\n",
      "Getting the names of the data files for the year : 2001\n",
      "... Found 8760 files for this year\n",
      "Getting the names of the data files for the year : 2002\n",
      "... Found 8760 files for this year\n",
      "Getting the names of the data files for the year : 2003\n",
      "... Found 8760 files for this year\n",
      "Getting the names of the data files for the year : 2004\n",
      "... Found 8784 files for this year\n",
      "Getting the names of the data files for the year : 2005\n",
      "... Found 8760 files for this year\n",
      "Getting the names of the data files for the year : 2006\n",
      "... Found 8760 files for this year\n",
      "Getting the names of the data files for the year : 2007\n",
      "... Found 8760 files for this year\n",
      "Getting the names of the data files for the year : 2008\n",
      "... Found 8784 files for this year\n",
      "Getting the names of the data files for the year : 2009\n",
      "... Found 8760 files for this year\n",
      "Getting the names of the data files for the year : 2010\n",
      "... Found 8759 files for this year\n",
      "Getting the names of the data files for the year : 2011\n",
      "... Found 8760 files for this year\n",
      "Getting the names of the data files for the year : 2012\n",
      "... Found 8784 files for this year\n",
      "Getting the names of the data files for the year : 2013\n",
      "... Found 8760 files for this year\n",
      "Getting the names of the data files for the year : 2014\n",
      "... Found 8760 files for this year\n",
      "Getting the names of the data files for the year : 2015\n",
      "... Found 8760 files for this year\n",
      "Getting the names of the data files for the year : 2016\n",
      "... Found 8784 files for this year\n",
      "Getting the names of the data files for the year : 2017\n",
      "... Found 8760 files for this year\n",
      "Getting the names of the data files for the year : 2018\n",
      "... Found 8760 files for this year\n",
      "Getting the names of the data files for the year : 2019\n",
      "... Found 8760 files for this year\n",
      "Getting the names of the data files for the year : 2020\n",
      "... Found 8784 files for this year\n",
      "\n",
      "Found a total of 184103 files \n",
      "\n",
      "=========================================================================\n",
      "Module \"get_data_file_names\" computing time: 0.2649624979967484 s\n"
     ]
    }
   ],
   "source": [
    "module_start_time = timer()\n",
    "data_files_list = get_data_file_names(data_files_location)\n",
    "module_end_time = timer()\n",
    "print('Module \"get_data_file_names\" computing time: {} s'.format(module_end_time - module_start_time))"
   ]
  },
  {
   "cell_type": "markdown",
   "metadata": {},
   "source": [
    "# Downsample Files"
   ]
  },
  {
   "cell_type": "code",
   "execution_count": 7,
   "metadata": {},
   "outputs": [
    {
     "name": "stdout",
     "output_type": "stream",
     "text": [
      "\n",
      "Randomly selecting approx 0.010863484 % of the data files\n",
      "Selected 20 data files out of 184103 total and 184083 usable considering historical data\n",
      "=========================================================================\n",
      "Module \"downsample_data_files\" computing time: 0.048875017993850634 s\n"
     ]
    }
   ],
   "source": [
    "module_start_time = timer()\n",
    "sampled_file_indices, sampled_data_files = downsample_data_files (data_files_list, percent_files_to_use, max_history_to_consider, random_state)\n",
    "module_end_time = timer()\n",
    "print('Module \"downsample_data_files\" computing time: {} s'.format(module_end_time - module_start_time))"
   ]
  },
  {
   "cell_type": "markdown",
   "metadata": {},
   "source": [
    "# Get History File Indices"
   ]
  },
  {
   "cell_type": "code",
   "execution_count": 8,
   "metadata": {},
   "outputs": [
    {
     "name": "stdout",
     "output_type": "stream",
     "text": [
      "Module \"get_history_file_indices\" computing time: 0.000565100010135211 s\n"
     ]
    }
   ],
   "source": [
    "module_start_time = timer()\n",
    "history_file_indices = get_history_file_indices (sampled_file_indices, max_history_to_consider, history_interval)\n",
    "module_end_time = timer()\n",
    "print('Module \"get_history_file_indices\" computing time: {} s'.format(module_end_time - module_start_time))"
   ]
  },
  {
   "cell_type": "markdown",
   "metadata": {},
   "source": [
    "# Create timestamps and datetime of downsampled data files"
   ]
  },
  {
   "cell_type": "code",
   "execution_count": 9,
   "metadata": {},
   "outputs": [
    {
     "name": "stdout",
     "output_type": "stream",
     "text": [
      "\n",
      "Getting time stamps and datetime of the downsampled data files...\n",
      "=========================================================================\n",
      "Module \"get_datetime_for_data_files\" computing time: 0.00022866300423629582 s\n"
     ]
    }
   ],
   "source": [
    "module_start_time = timer()\n",
    "sampled_time_stamps, sampled_datetime = get_datetime_for_data_files (sampled_data_files)\n",
    "module_end_time = timer()\n",
    "print('Module \"get_datetime_for_data_files\" computing time: {} s'.format(module_end_time - module_start_time))"
   ]
  },
  {
   "cell_type": "markdown",
   "metadata": {},
   "source": [
    "# Create DataFrame using sampled file indices, filenames, timestamps, and datetime"
   ]
  },
  {
   "cell_type": "code",
   "execution_count": 10,
   "metadata": {},
   "outputs": [
    {
     "name": "stdout",
     "output_type": "stream",
     "text": [
      "\n",
      "Creating DataFrame using sampled file indices, filenames, timestamps, and datetime...\n",
      "=========================================================================\n",
      "Module \"create_df_sampled_time\" computing time: 0.005070176994195208 s\n"
     ]
    }
   ],
   "source": [
    "module_start_time = timer()\n",
    "df_sampled_time = create_df_sampled_time (sampled_file_indices, sampled_data_files, sampled_time_stamps, sampled_datetime, history_file_indices)\n",
    "module_end_time = timer()\n",
    "print('Module \"create_df_sampled_time\" computing time: {} s'.format(module_end_time - module_start_time))"
   ]
  },
  {
   "cell_type": "code",
   "execution_count": 11,
   "metadata": {},
   "outputs": [],
   "source": [
    "#df_sampled_time[df_sampled_time['ref_time_indices'] < max_history_to_consider+10]"
   ]
  },
  {
   "cell_type": "code",
   "execution_count": 12,
   "metadata": {},
   "outputs": [
    {
     "data": {
      "text/html": [
       "<div>\n",
       "<style scoped>\n",
       "    .dataframe tbody tr th:only-of-type {\n",
       "        vertical-align: middle;\n",
       "    }\n",
       "\n",
       "    .dataframe tbody tr th {\n",
       "        vertical-align: top;\n",
       "    }\n",
       "\n",
       "    .dataframe thead th {\n",
       "        text-align: right;\n",
       "    }\n",
       "</style>\n",
       "<table border=\"1\" class=\"dataframe\">\n",
       "  <thead>\n",
       "    <tr style=\"text-align: right;\">\n",
       "      <th></th>\n",
       "      <th>ref_time_indices</th>\n",
       "      <th>sampled_data_files</th>\n",
       "      <th>sampled_time_stamps</th>\n",
       "      <th>sampled_datetime</th>\n",
       "      <th>history_time_indices</th>\n",
       "    </tr>\n",
       "  </thead>\n",
       "  <tbody>\n",
       "    <tr>\n",
       "      <th>0</th>\n",
       "      <td>181528</td>\n",
       "      <td>wrf_2020-09-15_17.nc</td>\n",
       "      <td>2020-09-15_17</td>\n",
       "      <td>2020-09-15 17:00:00</td>\n",
       "      <td>[181508, 181512, 181516, 181520, 181524]</td>\n",
       "    </tr>\n",
       "    <tr>\n",
       "      <th>1</th>\n",
       "      <td>37525</td>\n",
       "      <td>wrf_2004-04-12_13.nc</td>\n",
       "      <td>2004-04-12_13</td>\n",
       "      <td>2004-04-12 13:00:00</td>\n",
       "      <td>[37505, 37509, 37513, 37517, 37521]</td>\n",
       "    </tr>\n",
       "    <tr>\n",
       "      <th>2</th>\n",
       "      <td>167088</td>\n",
       "      <td>wrf_2019-01-23_01.nc</td>\n",
       "      <td>2019-01-23_01</td>\n",
       "      <td>2019-01-23 01:00:00</td>\n",
       "      <td>[167068, 167072, 167076, 167080, 167084]</td>\n",
       "    </tr>\n",
       "    <tr>\n",
       "      <th>3</th>\n",
       "      <td>162679</td>\n",
       "      <td>wrf_2018-07-23_08.nc</td>\n",
       "      <td>2018-07-23_08</td>\n",
       "      <td>2018-07-23 08:00:00</td>\n",
       "      <td>[162659, 162663, 162667, 162671, 162675]</td>\n",
       "    </tr>\n",
       "    <tr>\n",
       "      <th>4</th>\n",
       "      <td>121757</td>\n",
       "      <td>wrf_2013-11-21_06.nc</td>\n",
       "      <td>2013-11-21_06</td>\n",
       "      <td>2013-11-21 06:00:00</td>\n",
       "      <td>[121737, 121741, 121745, 121749, 121753]</td>\n",
       "    </tr>\n",
       "    <tr>\n",
       "      <th>5</th>\n",
       "      <td>31845</td>\n",
       "      <td>wrf_2003-08-19_21.nc</td>\n",
       "      <td>2003-08-19_21</td>\n",
       "      <td>2003-08-19 21:00:00</td>\n",
       "      <td>[31825, 31829, 31833, 31837, 31841]</td>\n",
       "    </tr>\n",
       "    <tr>\n",
       "      <th>6</th>\n",
       "      <td>35678</td>\n",
       "      <td>wrf_2004-01-26_14.nc</td>\n",
       "      <td>2004-01-26_14</td>\n",
       "      <td>2004-01-26 14:00:00</td>\n",
       "      <td>[35658, 35662, 35666, 35670, 35674]</td>\n",
       "    </tr>\n",
       "    <tr>\n",
       "      <th>7</th>\n",
       "      <td>160787</td>\n",
       "      <td>wrf_2018-05-05_12.nc</td>\n",
       "      <td>2018-05-05_12</td>\n",
       "      <td>2018-05-05 12:00:00</td>\n",
       "      <td>[160767, 160771, 160775, 160779, 160783]</td>\n",
       "    </tr>\n",
       "    <tr>\n",
       "      <th>8</th>\n",
       "      <td>34999</td>\n",
       "      <td>wrf_2003-12-29_07.nc</td>\n",
       "      <td>2003-12-29_07</td>\n",
       "      <td>2003-12-29 07:00:00</td>\n",
       "      <td>[34979, 34983, 34987, 34991, 34995]</td>\n",
       "    </tr>\n",
       "    <tr>\n",
       "      <th>9</th>\n",
       "      <td>79718</td>\n",
       "      <td>wrf_2009-02-03_14.nc</td>\n",
       "      <td>2009-02-03_14</td>\n",
       "      <td>2009-02-03 14:00:00</td>\n",
       "      <td>[79698, 79702, 79706, 79710, 79714]</td>\n",
       "    </tr>\n",
       "    <tr>\n",
       "      <th>10</th>\n",
       "      <td>74583</td>\n",
       "      <td>wrf_2008-07-04_15.nc</td>\n",
       "      <td>2008-07-04_15</td>\n",
       "      <td>2008-07-04 15:00:00</td>\n",
       "      <td>[74563, 74567, 74571, 74575, 74579]</td>\n",
       "    </tr>\n",
       "    <tr>\n",
       "      <th>11</th>\n",
       "      <td>117757</td>\n",
       "      <td>wrf_2013-06-07_14.nc</td>\n",
       "      <td>2013-06-07_14</td>\n",
       "      <td>2013-06-07 14:00:00</td>\n",
       "      <td>[117737, 117741, 117745, 117749, 117753]</td>\n",
       "    </tr>\n",
       "    <tr>\n",
       "      <th>12</th>\n",
       "      <td>113453</td>\n",
       "      <td>wrf_2012-12-10_06.nc</td>\n",
       "      <td>2012-12-10_06</td>\n",
       "      <td>2012-12-10 06:00:00</td>\n",
       "      <td>[113433, 113437, 113441, 113445, 113449]</td>\n",
       "    </tr>\n",
       "    <tr>\n",
       "      <th>13</th>\n",
       "      <td>34992</td>\n",
       "      <td>wrf_2003-12-29_00.nc</td>\n",
       "      <td>2003-12-29_00</td>\n",
       "      <td>2003-12-29 00:00:00</td>\n",
       "      <td>[34972, 34976, 34980, 34984, 34988]</td>\n",
       "    </tr>\n",
       "    <tr>\n",
       "      <th>14</th>\n",
       "      <td>9230</td>\n",
       "      <td>wrf_2001-01-19_14.nc</td>\n",
       "      <td>2001-01-19_14</td>\n",
       "      <td>2001-01-19 14:00:00</td>\n",
       "      <td>[9210, 9214, 9218, 9222, 9226]</td>\n",
       "    </tr>\n",
       "    <tr>\n",
       "      <th>15</th>\n",
       "      <td>180934</td>\n",
       "      <td>wrf_2020-08-21_23.nc</td>\n",
       "      <td>2020-08-21_23</td>\n",
       "      <td>2020-08-21 23:00:00</td>\n",
       "      <td>[180914, 180918, 180922, 180926, 180930]</td>\n",
       "    </tr>\n",
       "    <tr>\n",
       "      <th>16</th>\n",
       "      <td>1224</td>\n",
       "      <td>wrf_2000-02-21_00.nc</td>\n",
       "      <td>2000-02-21_00</td>\n",
       "      <td>2000-02-21 00:00:00</td>\n",
       "      <td>[1204, 1208, 1212, 1216, 1220]</td>\n",
       "    </tr>\n",
       "    <tr>\n",
       "      <th>17</th>\n",
       "      <td>145752</td>\n",
       "      <td>wrf_2016-08-17_01.nc</td>\n",
       "      <td>2016-08-17_01</td>\n",
       "      <td>2016-08-17 01:00:00</td>\n",
       "      <td>[145732, 145736, 145740, 145744, 145748]</td>\n",
       "    </tr>\n",
       "    <tr>\n",
       "      <th>18</th>\n",
       "      <td>93455</td>\n",
       "      <td>wrf_2010-08-30_00.nc</td>\n",
       "      <td>2010-08-30_00</td>\n",
       "      <td>2010-08-30 00:00:00</td>\n",
       "      <td>[93435, 93439, 93443, 93447, 93451]</td>\n",
       "    </tr>\n",
       "    <tr>\n",
       "      <th>19</th>\n",
       "      <td>32519</td>\n",
       "      <td>wrf_2003-09-16_23.nc</td>\n",
       "      <td>2003-09-16_23</td>\n",
       "      <td>2003-09-16 23:00:00</td>\n",
       "      <td>[32499, 32503, 32507, 32511, 32515]</td>\n",
       "    </tr>\n",
       "  </tbody>\n",
       "</table>\n",
       "</div>"
      ],
      "text/plain": [
       "    ref_time_indices    sampled_data_files sampled_time_stamps  \\\n",
       "0             181528  wrf_2020-09-15_17.nc       2020-09-15_17   \n",
       "1              37525  wrf_2004-04-12_13.nc       2004-04-12_13   \n",
       "2             167088  wrf_2019-01-23_01.nc       2019-01-23_01   \n",
       "3             162679  wrf_2018-07-23_08.nc       2018-07-23_08   \n",
       "4             121757  wrf_2013-11-21_06.nc       2013-11-21_06   \n",
       "5              31845  wrf_2003-08-19_21.nc       2003-08-19_21   \n",
       "6              35678  wrf_2004-01-26_14.nc       2004-01-26_14   \n",
       "7             160787  wrf_2018-05-05_12.nc       2018-05-05_12   \n",
       "8              34999  wrf_2003-12-29_07.nc       2003-12-29_07   \n",
       "9              79718  wrf_2009-02-03_14.nc       2009-02-03_14   \n",
       "10             74583  wrf_2008-07-04_15.nc       2008-07-04_15   \n",
       "11            117757  wrf_2013-06-07_14.nc       2013-06-07_14   \n",
       "12            113453  wrf_2012-12-10_06.nc       2012-12-10_06   \n",
       "13             34992  wrf_2003-12-29_00.nc       2003-12-29_00   \n",
       "14              9230  wrf_2001-01-19_14.nc       2001-01-19_14   \n",
       "15            180934  wrf_2020-08-21_23.nc       2020-08-21_23   \n",
       "16              1224  wrf_2000-02-21_00.nc       2000-02-21_00   \n",
       "17            145752  wrf_2016-08-17_01.nc       2016-08-17_01   \n",
       "18             93455  wrf_2010-08-30_00.nc       2010-08-30_00   \n",
       "19             32519  wrf_2003-09-16_23.nc       2003-09-16_23   \n",
       "\n",
       "      sampled_datetime                      history_time_indices  \n",
       "0  2020-09-15 17:00:00  [181508, 181512, 181516, 181520, 181524]  \n",
       "1  2004-04-12 13:00:00       [37505, 37509, 37513, 37517, 37521]  \n",
       "2  2019-01-23 01:00:00  [167068, 167072, 167076, 167080, 167084]  \n",
       "3  2018-07-23 08:00:00  [162659, 162663, 162667, 162671, 162675]  \n",
       "4  2013-11-21 06:00:00  [121737, 121741, 121745, 121749, 121753]  \n",
       "5  2003-08-19 21:00:00       [31825, 31829, 31833, 31837, 31841]  \n",
       "6  2004-01-26 14:00:00       [35658, 35662, 35666, 35670, 35674]  \n",
       "7  2018-05-05 12:00:00  [160767, 160771, 160775, 160779, 160783]  \n",
       "8  2003-12-29 07:00:00       [34979, 34983, 34987, 34991, 34995]  \n",
       "9  2009-02-03 14:00:00       [79698, 79702, 79706, 79710, 79714]  \n",
       "10 2008-07-04 15:00:00       [74563, 74567, 74571, 74575, 74579]  \n",
       "11 2013-06-07 14:00:00  [117737, 117741, 117745, 117749, 117753]  \n",
       "12 2012-12-10 06:00:00  [113433, 113437, 113441, 113445, 113449]  \n",
       "13 2003-12-29 00:00:00       [34972, 34976, 34980, 34984, 34988]  \n",
       "14 2001-01-19 14:00:00            [9210, 9214, 9218, 9222, 9226]  \n",
       "15 2020-08-21 23:00:00  [180914, 180918, 180922, 180926, 180930]  \n",
       "16 2000-02-21 00:00:00            [1204, 1208, 1212, 1216, 1220]  \n",
       "17 2016-08-17 01:00:00  [145732, 145736, 145740, 145744, 145748]  \n",
       "18 2010-08-30 00:00:00       [93435, 93439, 93443, 93447, 93451]  \n",
       "19 2003-09-16 23:00:00       [32499, 32503, 32507, 32511, 32515]  "
      ]
     },
     "execution_count": 12,
     "metadata": {},
     "output_type": "execute_result"
    }
   ],
   "source": [
    "df_sampled_time.head(20)"
   ]
  },
  {
   "cell_type": "markdown",
   "metadata": {},
   "source": [
    "# Plot Sampled Datetime"
   ]
  },
  {
   "cell_type": "code",
   "execution_count": 13,
   "metadata": {},
   "outputs": [
    {
     "data": {
      "image/png": "[encoded data removed]",
      "text/plain": [
       "<Figure size 432x288 with 1 Axes>"
      ]
     },
     "metadata": {},
     "output_type": "display_data"
    },
    {
     "name": "stdout",
     "output_type": "stream",
     "text": [
      "Module \"plot_sampled_datetime\" computing time: 0.21762756200041622 s\n"
     ]
    },
    {
     "data": {
      "text/plain": [
       "<Figure size 432x288 with 0 Axes>"
      ]
     },
     "metadata": {},
     "output_type": "display_data"
    }
   ],
   "source": [
    "module_start_time = timer()\n",
    "plot_sampled_datetime (df_sampled_time, extracted_data_loc)\n",
    "module_end_time = timer()\n",
    "print('Module \"plot_sampled_datetime\" computing time: {} s'.format(module_end_time - module_start_time))"
   ]
  },
  {
   "cell_type": "markdown",
   "metadata": {},
   "source": [
    "# Get All the Grid Indices"
   ]
  },
  {
   "cell_type": "code",
   "execution_count": 14,
   "metadata": {},
   "outputs": [
    {
     "name": "stdout",
     "output_type": "stream",
     "text": [
      "Module \"get_grid_indices_all\" computing time: 0.1471176620107144 s\n"
     ]
    }
   ],
   "source": [
    "module_start_time = timer()\n",
    "data_file_to_read, grid_indices, grid_indices_flattened = get_grid_indices_all (data_files_location, sampled_file_indices, sampled_data_files)\n",
    "module_end_time = timer()\n",
    "print('Module \"get_grid_indices_all\" computing time: {} s'.format(module_end_time - module_start_time))"
   ]
  },
  {
   "cell_type": "code",
   "execution_count": 16,
   "metadata": {},
   "outputs": [
    {
     "data": {
      "text/plain": [
       "'wrf_2020-09-15_17.nc'"
      ]
     },
     "execution_count": 16,
     "metadata": {},
     "output_type": "execute_result"
    }
   ],
   "source": [
    "data_file_to_read"
   ]
  },
  {
   "cell_type": "markdown",
   "metadata": {},
   "source": [
    "# Global End Time"
   ]
  },
  {
   "cell_type": "code",
   "execution_count": 15,
   "metadata": {},
   "outputs": [
    {
     "name": "stdout",
     "output_type": "stream",
     "text": [
      "Total computing time: 0.7797123060008744 s\n"
     ]
    }
   ],
   "source": [
    "global_end_time = timer()\n",
    "print('Total computing time: {} s'.format(global_end_time - global_start_time))"
   ]
  },
  {
   "cell_type": "markdown",
   "metadata": {},
   "source": [
    "# Cells below this are old/legacy stuff for reference"
   ]
  },
  {
   "cell_type": "markdown",
   "metadata": {},
   "source": [
    "# Grid Dimensions, Downsample Grid Points"
   ]
  },
  {
   "cell_type": "code",
   "execution_count": null,
   "metadata": {
    "scrolled": false
   },
   "outputs": [],
   "source": [
    "df_for_all_files = pd.DataFrame()\n",
    "for file_count, data_file_name in enumerate(sampled_data_files):\n",
    "    print ('\\nReading data from file # {}, with name :- {}'.format(file_count, data_file_name))\n",
    "    print('-----------------------------------------------------------------------')\n",
    "    dfm_file_data = xr.open_dataset(path.join(data_files_location, data_file_name))\n",
    "    \n",
    "    df_for_single_file = downsample_grid_indices (data_file_name,dfm_file_data, percent_grid_points_to_use, \n",
    "                                                  max_history_to_consider, history_interval, frames_in_file)\n",
    "    \n",
    "    df_for_all_files = df_for_all_files.append(df_for_single_file).reset_index(drop = True)"
   ]
  },
  {
   "cell_type": "code",
   "execution_count": null,
   "metadata": {},
   "outputs": [],
   "source": [
    "#df_for_all_files.head(10)"
   ]
  },
  {
   "cell_type": "markdown",
   "metadata": {},
   "source": [
    "# Save the extracted data"
   ]
  },
  {
   "cell_type": "code",
   "execution_count": null,
   "metadata": {},
   "outputs": [],
   "source": [
    "data_set_name = 'extracted_data_%02d'%(data_set_count)\n",
    "extracted_data_file_name = '{}.pkl'.format(data_set_name)\n",
    "'''\n",
    "extracted_data_file_name = '{}_files_{}pc_grid_points_{}pc_max_history_{}_hist_interval_{}.pkl'.format(\n",
    "                            data_set_name, # name of data set\n",
    "                            percent_files_to_use, # f1 = what percent of available files to use\n",
    "                            percent_grid_points_to_use, # f2 = what percent of grid points to use\n",
    "                            max_history_to_consider, # n_history in hours\n",
    "                            history_interval)\n",
    "'''\n",
    "extracted_data = {'percent_files_to_use': [percent_files_to_use],\n",
    "                 'percent_grid_points_to_use': [percent_grid_points_to_use],\n",
    "                 'max_history_to_consider': [max_history_to_consider],\n",
    "                 'history_interval': [history_interval],\n",
    "                 'number_of_files_used' : [len(sampled_data_files)],\n",
    "                 'number_of_data_points' : [len(df_for_all_files)],\n",
    "                 'df_for_all_files': df_for_all_files}\n",
    "extracted_data_file_handle = open(os.path.join(\n",
    "    extracted_data_loc, extracted_data_file_name), 'wb')\n",
    "pickle.dump(extracted_data, extracted_data_file_handle)\n",
    "extracted_data_file_handle.close()"
   ]
  },
  {
   "cell_type": "code",
   "execution_count": null,
   "metadata": {},
   "outputs": [],
   "source": [
    "del extracted_data['df_for_all_files']\n",
    "#extracted_data['index'] = 0"
   ]
  },
  {
   "cell_type": "code",
   "execution_count": null,
   "metadata": {},
   "outputs": [],
   "source": [
    "tab_data_file_name = '{}.csv'.format(os.path.join(extracted_data_loc, data_set_name))\n",
    "tabulated_data = pd.DataFrame.from_dict(extracted_data).reset_index(drop = True)\n",
    "tabulated_data.to_csv(tab_data_file_name, index = False)"
   ]
  },
  {
   "cell_type": "code",
   "execution_count": null,
   "metadata": {},
   "outputs": [],
   "source": [
    "#tabulated_data"
   ]
  },
  {
   "cell_type": "markdown",
   "metadata": {},
   "source": [
    "# Load extracted data from pickle file"
   ]
  },
  {
   "cell_type": "code",
   "execution_count": null,
   "metadata": {},
   "outputs": [],
   "source": [
    "loaded_data = pickle.load(open(os.path.join(\n",
    "    extracted_data_loc, extracted_data_file_name), 'rb'))"
   ]
  },
  {
   "cell_type": "code",
   "execution_count": null,
   "metadata": {},
   "outputs": [],
   "source": [
    "#loaded_data['df_for_all_files'][5:15]"
   ]
  }
 ],
 "metadata": {
  "kernelspec": {
   "display_name": "ML_Wind",
   "language": "python",
   "name": "py3_ml_wind"
  },
  "language_info": {
   "codemirror_mode": {
    "name": "ipython",
    "version": 3
   },
   "file_extension": ".py",
   "mimetype": "text/x-python",
   "name": "python",
   "nbconvert_exporter": "python",
   "pygments_lexer": "ipython3",
   "version": "3.7.2"
  }
 },
 "nbformat": 4,
 "nbformat_minor": 4
}
