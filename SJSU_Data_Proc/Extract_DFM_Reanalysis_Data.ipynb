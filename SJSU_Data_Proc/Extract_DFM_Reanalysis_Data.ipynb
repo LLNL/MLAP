{
 "cells": [
  {
   "cell_type": "markdown",
   "metadata": {},
   "source": [
    "# Import Modules"
   ]
  },
  {
   "cell_type": "markdown",
   "metadata": {},
   "source": [
    "## Standard Packages"
   ]
  },
  {
   "cell_type": "code",
   "execution_count": 1,
   "metadata": {},
   "outputs": [
    {
     "name": "stderr",
     "output_type": "stream",
     "text": [
      "/g/g92/jha3/VirtualEnv/py3_ml_wind/lib/python3.7/site-packages/pandas/compat/_optional.py:138: UserWarning: Pandas requires version '2.7.0' or newer of 'numexpr' (version '2.6.9' currently installed).\n",
      "  warnings.warn(msg, UserWarning)\n"
     ]
    }
   ],
   "source": [
    "import os\n",
    "import sys\n",
    "import os.path as path\n",
    "import glob\n",
    "import random\n",
    "import numpy as np\n",
    "import pandas as pd\n",
    "import xarray as xr\n",
    "import pickle\n",
    "from matplotlib import pyplot as plt\n",
    "plt.style.use('seaborn-white')\n",
    "from datetime import date, datetime, timedelta, time\n",
    "from timeit import default_timer as timer"
   ]
  },
  {
   "cell_type": "markdown",
   "metadata": {},
   "source": [
    "## User-Defined Functions"
   ]
  },
  {
   "cell_type": "code",
   "execution_count": 2,
   "metadata": {},
   "outputs": [],
   "source": [
    "from helper_extract_wrf import generate_seed, init_random_generator\n",
    "from helper_extract_wrf import get_data_file_names, downsample_data_files\n",
    "from helper_extract_wrf import get_history_file_indices, get_datetime_for_data_files\n",
    "from helper_extract_wrf import create_df_sampled_time, plot_sampled_datetime"
   ]
  },
  {
   "cell_type": "markdown",
   "metadata": {},
   "source": [
    "# Global Start Time"
   ]
  },
  {
   "cell_type": "code",
   "execution_count": 3,
   "metadata": {},
   "outputs": [],
   "source": [
    "global_start_time = timer()"
   ]
  },
  {
   "cell_type": "markdown",
   "metadata": {},
   "source": [
    "# Variables to be used for extracting WRF data"
   ]
  },
  {
   "cell_type": "code",
   "execution_count": 4,
   "metadata": {},
   "outputs": [],
   "source": [
    "# WRF data set location and the extracted data set location\n",
    "data_files_location = '/p/vast1/climres/DFM_reanalysis'\n",
    "extracted_data_loc = '/p/lustre2/jha3/Wildfire/Wildfire_LDRD_SI/SJSU/01_WRF_Nelson_Data_Extracted'\n",
    "\n",
    "# The current data set params\n",
    "data_set_count = 0\n",
    "percent_files_to_use = 0.10863484  # f1 = what percent of available files to use\n",
    "percent_grid_points_to_use = 0.005  # f2 = what percent of grid points to use\n",
    "max_history_to_consider = 10 # n_history in hours\n",
    "history_interval        = 2"
   ]
  },
  {
   "cell_type": "markdown",
   "metadata": {},
   "source": [
    "# Generate seed for the random number generator"
   ]
  },
  {
   "cell_type": "code",
   "execution_count": 5,
   "metadata": {},
   "outputs": [],
   "source": [
    "seed = generate_seed()\n",
    "random_state = init_random_generator(seed)"
   ]
  },
  {
   "cell_type": "markdown",
   "metadata": {},
   "source": [
    "# File Names"
   ]
  },
  {
   "cell_type": "code",
   "execution_count": 6,
   "metadata": {},
   "outputs": [
    {
     "name": "stdout",
     "output_type": "stream",
     "text": [
      "\n",
      "Getting the names of the data files at the dir : \n",
      " /p/vast1/climres/DFM_reanalysis \n",
      "\n",
      "years_list: ['2000', '2001', '2002', '2003', '2004', '2005', '2006', '2007', '2008', '2009', '2010', '2011', '2012', '2013', '2014', '2015', '2016', '2017', '2018', '2019', '2020'] \n",
      "\n",
      "Getting the names of the data files for the year : 2000\n",
      "... Found 8784 files for this year\n",
      "Getting the names of the data files for the year : 2001\n",
      "... Found 8760 files for this year\n",
      "Getting the names of the data files for the year : 2002\n",
      "... Found 8760 files for this year\n",
      "Getting the names of the data files for the year : 2003\n",
      "... Found 8760 files for this year\n",
      "Getting the names of the data files for the year : 2004\n",
      "... Found 8784 files for this year\n",
      "Getting the names of the data files for the year : 2005\n",
      "... Found 8760 files for this year\n",
      "Getting the names of the data files for the year : 2006\n",
      "... Found 8760 files for this year\n",
      "Getting the names of the data files for the year : 2007\n",
      "... Found 8760 files for this year\n",
      "Getting the names of the data files for the year : 2008\n",
      "... Found 8784 files for this year\n",
      "Getting the names of the data files for the year : 2009\n",
      "... Found 8760 files for this year\n",
      "Getting the names of the data files for the year : 2010\n",
      "... Found 8759 files for this year\n",
      "Getting the names of the data files for the year : 2011\n",
      "... Found 8760 files for this year\n",
      "Getting the names of the data files for the year : 2012\n",
      "... Found 8784 files for this year\n",
      "Getting the names of the data files for the year : 2013\n",
      "... Found 8760 files for this year\n",
      "Getting the names of the data files for the year : 2014\n",
      "... Found 8760 files for this year\n",
      "Getting the names of the data files for the year : 2015\n",
      "... Found 8760 files for this year\n",
      "Getting the names of the data files for the year : 2016\n",
      "... Found 8784 files for this year\n",
      "Getting the names of the data files for the year : 2017\n",
      "... Found 8760 files for this year\n",
      "Getting the names of the data files for the year : 2018\n",
      "... Found 8760 files for this year\n",
      "Getting the names of the data files for the year : 2019\n",
      "... Found 8760 files for this year\n",
      "Getting the names of the data files for the year : 2020\n",
      "... Found 8784 files for this year\n",
      "\n",
      "Found a total of 184103 files \n",
      "\n",
      "=========================================================================\n",
      "Module \"get_data_file_names\" computing time: 0.33138906955718994 s\n"
     ]
    }
   ],
   "source": [
    "module_start_time = timer()\n",
    "data_files_list = get_data_file_names(data_files_location)\n",
    "module_end_time = timer()\n",
    "print('Module \"get_data_file_names\" computing time: {} s'.format(module_end_time - module_start_time))"
   ]
  },
  {
   "cell_type": "markdown",
   "metadata": {},
   "source": [
    "# Downsample Files"
   ]
  },
  {
   "cell_type": "code",
   "execution_count": 7,
   "metadata": {},
   "outputs": [
    {
     "name": "stdout",
     "output_type": "stream",
     "text": [
      "\n",
      "Randomly selecting approx 0.10863484 % of the data files\n",
      "Selected 200 data files out of 184103\n",
      "=========================================================================\n",
      "Module \"downsample_data_files\" computing time: 0.04001419711858034 s\n"
     ]
    }
   ],
   "source": [
    "module_start_time = timer()\n",
    "sampled_file_indices, sampled_data_files = downsample_data_files (data_files_list, percent_files_to_use, random_state)\n",
    "module_end_time = timer()\n",
    "print('Module \"downsample_data_files\" computing time: {} s'.format(module_end_time - module_start_time))"
   ]
  },
  {
   "cell_type": "markdown",
   "metadata": {},
   "source": [
    "# Get History File Indices"
   ]
  },
  {
   "cell_type": "code",
   "execution_count": 8,
   "metadata": {},
   "outputs": [
    {
     "name": "stdout",
     "output_type": "stream",
     "text": [
      "Module \"get_history_file_indices\" computing time: 0.0023545585572719574 s\n"
     ]
    }
   ],
   "source": [
    "module_start_time = timer()\n",
    "history_file_indices = get_history_file_indices (sampled_file_indices, max_history_to_consider, history_interval)\n",
    "module_end_time = timer()\n",
    "print('Module \"get_history_file_indices\" computing time: {} s'.format(module_end_time - module_start_time))"
   ]
  },
  {
   "cell_type": "markdown",
   "metadata": {},
   "source": [
    "# Create timestamps and datetime of downsampled data files"
   ]
  },
  {
   "cell_type": "code",
   "execution_count": 9,
   "metadata": {},
   "outputs": [
    {
     "name": "stdout",
     "output_type": "stream",
     "text": [
      "\n",
      "Getting time stamps and datetime of the downsampled data files...\n",
      "=========================================================================\n",
      "Module \"get_datetime_for_data_files\" computing time: 0.00042774807661771774 s\n"
     ]
    }
   ],
   "source": [
    "module_start_time = timer()\n",
    "sampled_time_stamps, sampled_datetime = get_datetime_for_data_files (sampled_data_files)\n",
    "module_end_time = timer()\n",
    "print('Module \"get_datetime_for_data_files\" computing time: {} s'.format(module_end_time - module_start_time))"
   ]
  },
  {
   "cell_type": "markdown",
   "metadata": {},
   "source": [
    "# Create DataFrame using sampled file indices, filenames, timestamps, and datetime"
   ]
  },
  {
   "cell_type": "code",
   "execution_count": 10,
   "metadata": {},
   "outputs": [
    {
     "name": "stdout",
     "output_type": "stream",
     "text": [
      "\n",
      "Creating DataFrame using sampled file indices, filenames, timestamps, and datetime...\n",
      "=========================================================================\n",
      "Module \"create_df_sampled_time\" computing time: 0.0073952581733465195 s\n"
     ]
    }
   ],
   "source": [
    "module_start_time = timer()\n",
    "df_sampled_time = create_df_sampled_time (sampled_file_indices, sampled_data_files, sampled_time_stamps, sampled_datetime, history_file_indices)\n",
    "module_end_time = timer()\n",
    "print('Module \"create_df_sampled_time\" computing time: {} s'.format(module_end_time - module_start_time))"
   ]
  },
  {
   "cell_type": "code",
   "execution_count": 11,
   "metadata": {},
   "outputs": [
    {
     "data": {
      "text/html": [
       "<div>\n",
       "<style scoped>\n",
       "    .dataframe tbody tr th:only-of-type {\n",
       "        vertical-align: middle;\n",
       "    }\n",
       "\n",
       "    .dataframe tbody tr th {\n",
       "        vertical-align: top;\n",
       "    }\n",
       "\n",
       "    .dataframe thead th {\n",
       "        text-align: right;\n",
       "    }\n",
       "</style>\n",
       "<table border=\"1\" class=\"dataframe\">\n",
       "  <thead>\n",
       "    <tr style=\"text-align: right;\">\n",
       "      <th></th>\n",
       "      <th>ref_time_indices</th>\n",
       "      <th>sampled_data_files</th>\n",
       "      <th>sampled_time_stamps</th>\n",
       "      <th>sampled_datetime</th>\n",
       "      <th>history_time_indices</th>\n",
       "    </tr>\n",
       "  </thead>\n",
       "  <tbody>\n",
       "    <tr>\n",
       "      <th>0</th>\n",
       "      <td>107709</td>\n",
       "      <td>wrf_2012-04-14_22.nc</td>\n",
       "      <td>2012-04-14_22</td>\n",
       "      <td>2012-04-14 22:00:00</td>\n",
       "      <td>[107699, 107701, 107703, 107705, 107707]</td>\n",
       "    </tr>\n",
       "    <tr>\n",
       "      <th>1</th>\n",
       "      <td>154695</td>\n",
       "      <td>wrf_2017-08-24_16.nc</td>\n",
       "      <td>2017-08-24_16</td>\n",
       "      <td>2017-08-24 16:00:00</td>\n",
       "      <td>[154685, 154687, 154689, 154691, 154693]</td>\n",
       "    </tr>\n",
       "    <tr>\n",
       "      <th>2</th>\n",
       "      <td>116530</td>\n",
       "      <td>wrf_2013-04-17_11.nc</td>\n",
       "      <td>2013-04-17_11</td>\n",
       "      <td>2013-04-17 11:00:00</td>\n",
       "      <td>[116520, 116522, 116524, 116526, 116528]</td>\n",
       "    </tr>\n",
       "    <tr>\n",
       "      <th>3</th>\n",
       "      <td>9174</td>\n",
       "      <td>wrf_2001-01-17_06.nc</td>\n",
       "      <td>2001-01-17_06</td>\n",
       "      <td>2001-01-17 06:00:00</td>\n",
       "      <td>[9164, 9166, 9168, 9170, 9172]</td>\n",
       "    </tr>\n",
       "    <tr>\n",
       "      <th>4</th>\n",
       "      <td>66614</td>\n",
       "      <td>wrf_2007-08-07_14.nc</td>\n",
       "      <td>2007-08-07_14</td>\n",
       "      <td>2007-08-07 14:00:00</td>\n",
       "      <td>[66604, 66606, 66608, 66610, 66612]</td>\n",
       "    </tr>\n",
       "    <tr>\n",
       "      <th>5</th>\n",
       "      <td>144108</td>\n",
       "      <td>wrf_2016-06-09_13.nc</td>\n",
       "      <td>2016-06-09_13</td>\n",
       "      <td>2016-06-09 13:00:00</td>\n",
       "      <td>[144098, 144100, 144102, 144104, 144106]</td>\n",
       "    </tr>\n",
       "    <tr>\n",
       "      <th>6</th>\n",
       "      <td>32897</td>\n",
       "      <td>wrf_2003-10-02_17.nc</td>\n",
       "      <td>2003-10-02_17</td>\n",
       "      <td>2003-10-02 17:00:00</td>\n",
       "      <td>[32887, 32889, 32891, 32893, 32895]</td>\n",
       "    </tr>\n",
       "    <tr>\n",
       "      <th>7</th>\n",
       "      <td>28203</td>\n",
       "      <td>wrf_2003-03-21_03.nc</td>\n",
       "      <td>2003-03-21_03</td>\n",
       "      <td>2003-03-21 03:00:00</td>\n",
       "      <td>[28193, 28195, 28197, 28199, 28201]</td>\n",
       "    </tr>\n",
       "    <tr>\n",
       "      <th>8</th>\n",
       "      <td>79317</td>\n",
       "      <td>wrf_2009-01-17_21.nc</td>\n",
       "      <td>2009-01-17_21</td>\n",
       "      <td>2009-01-17 21:00:00</td>\n",
       "      <td>[79307, 79309, 79311, 79313, 79315]</td>\n",
       "    </tr>\n",
       "    <tr>\n",
       "      <th>9</th>\n",
       "      <td>37642</td>\n",
       "      <td>wrf_2004-04-17_10.nc</td>\n",
       "      <td>2004-04-17_10</td>\n",
       "      <td>2004-04-17 10:00:00</td>\n",
       "      <td>[37632, 37634, 37636, 37638, 37640]</td>\n",
       "    </tr>\n",
       "    <tr>\n",
       "      <th>10</th>\n",
       "      <td>125557</td>\n",
       "      <td>wrf_2014-04-28_14.nc</td>\n",
       "      <td>2014-04-28_14</td>\n",
       "      <td>2014-04-28 14:00:00</td>\n",
       "      <td>[125547, 125549, 125551, 125553, 125555]</td>\n",
       "    </tr>\n",
       "    <tr>\n",
       "      <th>11</th>\n",
       "      <td>72916</td>\n",
       "      <td>wrf_2008-04-26_04.nc</td>\n",
       "      <td>2008-04-26_04</td>\n",
       "      <td>2008-04-26 04:00:00</td>\n",
       "      <td>[72906, 72908, 72910, 72912, 72914]</td>\n",
       "    </tr>\n",
       "    <tr>\n",
       "      <th>12</th>\n",
       "      <td>21554</td>\n",
       "      <td>wrf_2002-06-17_02.nc</td>\n",
       "      <td>2002-06-17_02</td>\n",
       "      <td>2002-06-17 02:00:00</td>\n",
       "      <td>[21544, 21546, 21548, 21550, 21552]</td>\n",
       "    </tr>\n",
       "    <tr>\n",
       "      <th>13</th>\n",
       "      <td>33900</td>\n",
       "      <td>wrf_2003-11-13_12.nc</td>\n",
       "      <td>2003-11-13_12</td>\n",
       "      <td>2003-11-13 12:00:00</td>\n",
       "      <td>[33890, 33892, 33894, 33896, 33898]</td>\n",
       "    </tr>\n",
       "    <tr>\n",
       "      <th>14</th>\n",
       "      <td>13218</td>\n",
       "      <td>wrf_2001-07-04_18.nc</td>\n",
       "      <td>2001-07-04_18</td>\n",
       "      <td>2001-07-04 18:00:00</td>\n",
       "      <td>[13208, 13210, 13212, 13214, 13216]</td>\n",
       "    </tr>\n",
       "    <tr>\n",
       "      <th>15</th>\n",
       "      <td>99278</td>\n",
       "      <td>wrf_2011-04-29_15.nc</td>\n",
       "      <td>2011-04-29_15</td>\n",
       "      <td>2011-04-29 15:00:00</td>\n",
       "      <td>[99268, 99270, 99272, 99274, 99276]</td>\n",
       "    </tr>\n",
       "    <tr>\n",
       "      <th>16</th>\n",
       "      <td>147424</td>\n",
       "      <td>wrf_2016-10-25_17.nc</td>\n",
       "      <td>2016-10-25_17</td>\n",
       "      <td>2016-10-25 17:00:00</td>\n",
       "      <td>[147414, 147416, 147418, 147420, 147422]</td>\n",
       "    </tr>\n",
       "    <tr>\n",
       "      <th>17</th>\n",
       "      <td>106362</td>\n",
       "      <td>wrf_2012-02-18_19.nc</td>\n",
       "      <td>2012-02-18_19</td>\n",
       "      <td>2012-02-18 19:00:00</td>\n",
       "      <td>[106352, 106354, 106356, 106358, 106360]</td>\n",
       "    </tr>\n",
       "    <tr>\n",
       "      <th>18</th>\n",
       "      <td>83237</td>\n",
       "      <td>wrf_2009-06-30_05.nc</td>\n",
       "      <td>2009-06-30_05</td>\n",
       "      <td>2009-06-30 05:00:00</td>\n",
       "      <td>[83227, 83229, 83231, 83233, 83235]</td>\n",
       "    </tr>\n",
       "    <tr>\n",
       "      <th>19</th>\n",
       "      <td>176104</td>\n",
       "      <td>wrf_2020-02-02_17.nc</td>\n",
       "      <td>2020-02-02_17</td>\n",
       "      <td>2020-02-02 17:00:00</td>\n",
       "      <td>[176094, 176096, 176098, 176100, 176102]</td>\n",
       "    </tr>\n",
       "  </tbody>\n",
       "</table>\n",
       "</div>"
      ],
      "text/plain": [
       "    ref_time_indices    sampled_data_files sampled_time_stamps  \\\n",
       "0             107709  wrf_2012-04-14_22.nc       2012-04-14_22   \n",
       "1             154695  wrf_2017-08-24_16.nc       2017-08-24_16   \n",
       "2             116530  wrf_2013-04-17_11.nc       2013-04-17_11   \n",
       "3               9174  wrf_2001-01-17_06.nc       2001-01-17_06   \n",
       "4              66614  wrf_2007-08-07_14.nc       2007-08-07_14   \n",
       "5             144108  wrf_2016-06-09_13.nc       2016-06-09_13   \n",
       "6              32897  wrf_2003-10-02_17.nc       2003-10-02_17   \n",
       "7              28203  wrf_2003-03-21_03.nc       2003-03-21_03   \n",
       "8              79317  wrf_2009-01-17_21.nc       2009-01-17_21   \n",
       "9              37642  wrf_2004-04-17_10.nc       2004-04-17_10   \n",
       "10            125557  wrf_2014-04-28_14.nc       2014-04-28_14   \n",
       "11             72916  wrf_2008-04-26_04.nc       2008-04-26_04   \n",
       "12             21554  wrf_2002-06-17_02.nc       2002-06-17_02   \n",
       "13             33900  wrf_2003-11-13_12.nc       2003-11-13_12   \n",
       "14             13218  wrf_2001-07-04_18.nc       2001-07-04_18   \n",
       "15             99278  wrf_2011-04-29_15.nc       2011-04-29_15   \n",
       "16            147424  wrf_2016-10-25_17.nc       2016-10-25_17   \n",
       "17            106362  wrf_2012-02-18_19.nc       2012-02-18_19   \n",
       "18             83237  wrf_2009-06-30_05.nc       2009-06-30_05   \n",
       "19            176104  wrf_2020-02-02_17.nc       2020-02-02_17   \n",
       "\n",
       "      sampled_datetime                      history_time_indices  \n",
       "0  2012-04-14 22:00:00  [107699, 107701, 107703, 107705, 107707]  \n",
       "1  2017-08-24 16:00:00  [154685, 154687, 154689, 154691, 154693]  \n",
       "2  2013-04-17 11:00:00  [116520, 116522, 116524, 116526, 116528]  \n",
       "3  2001-01-17 06:00:00            [9164, 9166, 9168, 9170, 9172]  \n",
       "4  2007-08-07 14:00:00       [66604, 66606, 66608, 66610, 66612]  \n",
       "5  2016-06-09 13:00:00  [144098, 144100, 144102, 144104, 144106]  \n",
       "6  2003-10-02 17:00:00       [32887, 32889, 32891, 32893, 32895]  \n",
       "7  2003-03-21 03:00:00       [28193, 28195, 28197, 28199, 28201]  \n",
       "8  2009-01-17 21:00:00       [79307, 79309, 79311, 79313, 79315]  \n",
       "9  2004-04-17 10:00:00       [37632, 37634, 37636, 37638, 37640]  \n",
       "10 2014-04-28 14:00:00  [125547, 125549, 125551, 125553, 125555]  \n",
       "11 2008-04-26 04:00:00       [72906, 72908, 72910, 72912, 72914]  \n",
       "12 2002-06-17 02:00:00       [21544, 21546, 21548, 21550, 21552]  \n",
       "13 2003-11-13 12:00:00       [33890, 33892, 33894, 33896, 33898]  \n",
       "14 2001-07-04 18:00:00       [13208, 13210, 13212, 13214, 13216]  \n",
       "15 2011-04-29 15:00:00       [99268, 99270, 99272, 99274, 99276]  \n",
       "16 2016-10-25 17:00:00  [147414, 147416, 147418, 147420, 147422]  \n",
       "17 2012-02-18 19:00:00  [106352, 106354, 106356, 106358, 106360]  \n",
       "18 2009-06-30 05:00:00       [83227, 83229, 83231, 83233, 83235]  \n",
       "19 2020-02-02 17:00:00  [176094, 176096, 176098, 176100, 176102]  "
      ]
     },
     "execution_count": 11,
     "metadata": {},
     "output_type": "execute_result"
    }
   ],
   "source": [
    "df_sampled_time.head(20)"
   ]
  },
  {
   "cell_type": "markdown",
   "metadata": {},
   "source": [
    "# Plot Sampled Datetime"
   ]
  },
  {
   "cell_type": "code",
   "execution_count": 12,
   "metadata": {},
   "outputs": [
    {
     "data": {
      "image/png": "[encoded data removed]",
      "text/plain": [
       "<Figure size 432x288 with 1 Axes>"
      ]
     },
     "metadata": {},
     "output_type": "display_data"
    },
    {
     "name": "stdout",
     "output_type": "stream",
     "text": [
      "Module \"plot_sampled_datetime\" computing time: 0.1949925385415554 s\n"
     ]
    },
    {
     "data": {
      "text/plain": [
       "<Figure size 432x288 with 0 Axes>"
      ]
     },
     "metadata": {},
     "output_type": "display_data"
    }
   ],
   "source": [
    "module_start_time = timer()\n",
    "plot_sampled_datetime (df_sampled_time, extracted_data_loc)\n",
    "module_end_time = timer()\n",
    "print('Module \"plot_sampled_datetime\" computing time: {} s'.format(module_end_time - module_start_time))"
   ]
  },
  {
   "cell_type": "markdown",
   "metadata": {},
   "source": [
    "# Global End Time"
   ]
  },
  {
   "cell_type": "code",
   "execution_count": 13,
   "metadata": {},
   "outputs": [
    {
     "name": "stdout",
     "output_type": "stream",
     "text": [
      "Total computing time: 0.6577110541984439 s\n"
     ]
    }
   ],
   "source": [
    "global_end_time = timer()\n",
    "print('Total computing time: {} s'.format(global_end_time - global_start_time))"
   ]
  },
  {
   "cell_type": "markdown",
   "metadata": {},
   "source": [
    "# Cells below this are old/legacy stuff for reference"
   ]
  },
  {
   "cell_type": "markdown",
   "metadata": {},
   "source": [
    "# Grid Dimensions, Downsample Grid Points"
   ]
  },
  {
   "cell_type": "code",
   "execution_count": null,
   "metadata": {
    "scrolled": false
   },
   "outputs": [],
   "source": [
    "df_for_all_files = pd.DataFrame()\n",
    "for file_count, data_file_name in enumerate(sampled_data_files):\n",
    "    print ('\\nReading data from file # {}, with name :- {}'.format(file_count, data_file_name))\n",
    "    print('-----------------------------------------------------------------------')\n",
    "    dfm_file_data = xr.open_dataset(path.join(data_files_location, data_file_name))\n",
    "    \n",
    "    df_for_single_file = downsample_grid_indices (data_file_name,dfm_file_data, percent_grid_points_to_use, \n",
    "                                                  max_history_to_consider, history_interval, frames_in_file)\n",
    "    \n",
    "    df_for_all_files = df_for_all_files.append(df_for_single_file).reset_index(drop = True)"
   ]
  },
  {
   "cell_type": "code",
   "execution_count": null,
   "metadata": {},
   "outputs": [],
   "source": [
    "#df_for_all_files.head(10)"
   ]
  },
  {
   "cell_type": "markdown",
   "metadata": {},
   "source": [
    "# Save the extracted data"
   ]
  },
  {
   "cell_type": "code",
   "execution_count": null,
   "metadata": {},
   "outputs": [],
   "source": [
    "data_set_name = 'extracted_data_%02d'%(data_set_count)\n",
    "extracted_data_file_name = '{}.pkl'.format(data_set_name)\n",
    "'''\n",
    "extracted_data_file_name = '{}_files_{}pc_grid_points_{}pc_max_history_{}_hist_interval_{}.pkl'.format(\n",
    "                            data_set_name, # name of data set\n",
    "                            percent_files_to_use, # f1 = what percent of available files to use\n",
    "                            percent_grid_points_to_use, # f2 = what percent of grid points to use\n",
    "                            max_history_to_consider, # n_history in hours\n",
    "                            history_interval)\n",
    "'''\n",
    "extracted_data = {'percent_files_to_use': [percent_files_to_use],\n",
    "                 'percent_grid_points_to_use': [percent_grid_points_to_use],\n",
    "                 'max_history_to_consider': [max_history_to_consider],\n",
    "                 'history_interval': [history_interval],\n",
    "                 'number_of_files_used' : [len(sampled_data_files)],\n",
    "                 'number_of_data_points' : [len(df_for_all_files)],\n",
    "                 'df_for_all_files': df_for_all_files}\n",
    "extracted_data_file_handle = open(os.path.join(\n",
    "    extracted_data_loc, extracted_data_file_name), 'wb')\n",
    "pickle.dump(extracted_data, extracted_data_file_handle)\n",
    "extracted_data_file_handle.close()"
   ]
  },
  {
   "cell_type": "code",
   "execution_count": null,
   "metadata": {},
   "outputs": [],
   "source": [
    "del extracted_data['df_for_all_files']\n",
    "#extracted_data['index'] = 0"
   ]
  },
  {
   "cell_type": "code",
   "execution_count": null,
   "metadata": {},
   "outputs": [],
   "source": [
    "tab_data_file_name = '{}.csv'.format(os.path.join(extracted_data_loc, data_set_name))\n",
    "tabulated_data = pd.DataFrame.from_dict(extracted_data).reset_index(drop = True)\n",
    "tabulated_data.to_csv(tab_data_file_name, index = False)"
   ]
  },
  {
   "cell_type": "code",
   "execution_count": null,
   "metadata": {},
   "outputs": [],
   "source": [
    "#tabulated_data"
   ]
  },
  {
   "cell_type": "markdown",
   "metadata": {},
   "source": [
    "# Load extracted data from pickle file"
   ]
  },
  {
   "cell_type": "code",
   "execution_count": null,
   "metadata": {},
   "outputs": [],
   "source": [
    "loaded_data = pickle.load(open(os.path.join(\n",
    "    extracted_data_loc, extracted_data_file_name), 'rb'))"
   ]
  },
  {
   "cell_type": "code",
   "execution_count": null,
   "metadata": {},
   "outputs": [],
   "source": [
    "#loaded_data['df_for_all_files'][5:15]"
   ]
  }
 ],
 "metadata": {
  "kernelspec": {
   "display_name": "ML_Wind",
   "language": "python",
   "name": "py3_ml_wind"
  },
  "language_info": {
   "codemirror_mode": {
    "name": "ipython",
    "version": 3
   },
   "file_extension": ".py",
   "mimetype": "text/x-python",
   "name": "python",
   "nbconvert_exporter": "python",
   "pygments_lexer": "ipython3",
   "version": "3.7.2"
  }
 },
 "nbformat": 4,
 "nbformat_minor": 4
}
