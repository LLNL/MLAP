{
 "cells": [
  {
   "cell_type": "markdown",
   "id": "00e80645",
   "metadata": {},
   "source": [
    "## Convert this notebook to executable python script using:"
   ]
  },
  {
   "cell_type": "markdown",
   "id": "4a3fe1e0",
   "metadata": {},
   "source": [
    "- jupyter nbconvert --to python submit_multiple_runs.ipynb"
   ]
  },
  {
   "cell_type": "markdown",
   "id": "b7e4a3c8",
   "metadata": {},
   "source": [
    "## Import Packages"
   ]
  },
  {
   "cell_type": "code",
   "execution_count": null,
   "id": "f53ce3bc",
   "metadata": {},
   "outputs": [],
   "source": [
    "import os\n",
    "import os.path as path\n",
    "import json"
   ]
  },
  {
   "cell_type": "markdown",
   "id": "5c6528d0",
   "metadata": {},
   "source": [
    "# Read the Input JSON File"
   ]
  },
  {
   "cell_type": "markdown",
   "id": "491da5c0",
   "metadata": {},
   "source": [
    "### Input file name when using jupyter notebook"
   ]
  },
  {
   "cell_type": "code",
   "execution_count": null,
   "id": "23bd61ba",
   "metadata": {},
   "outputs": [],
   "source": [
    "json_file_simulate = '/p/lustre2/jha3/Wildfire/Wildfire_LDRD_SI/InputJson/Simulate/json_simulate_000.json'"
   ]
  },
  {
   "cell_type": "markdown",
   "id": "644b19e1",
   "metadata": {},
   "source": [
    "### Input file name when using python script on command line"
   ]
  },
  {
   "cell_type": "code",
   "execution_count": null,
   "id": "c3c324a3",
   "metadata": {},
   "outputs": [],
   "source": [
    "#json_file_simulate = sys.argv[1]"
   ]
  },
  {
   "cell_type": "markdown",
   "id": "66c6eea6",
   "metadata": {},
   "source": [
    "### Load the JSON file for simulation"
   ]
  },
  {
   "cell_type": "code",
   "execution_count": null,
   "id": "ba55d716",
   "metadata": {},
   "outputs": [],
   "source": [
    "print('Loading the JSON file for simulation: \\n {}'.format(json_file_simulate))"
   ]
  },
  {
   "cell_type": "code",
   "execution_count": null,
   "id": "c1135bfe",
   "metadata": {},
   "outputs": [],
   "source": [
    "with open(json_file_simulate) as json_file_handle:\n",
    "    json_content_simulate = json.load(json_file_handle)"
   ]
  },
  {
   "cell_type": "markdown",
   "id": "909dd1c5",
   "metadata": {},
   "source": [
    "## Action To Be Taken"
   ]
  },
  {
   "cell_type": "code",
   "execution_count": null,
   "id": "876e5604",
   "metadata": {},
   "outputs": [],
   "source": [
    "action = json_content_simulate['action']"
   ]
  },
  {
   "cell_type": "markdown",
   "id": "91f35233",
   "metadata": {},
   "source": [
    "## Execution Options"
   ]
  },
  {
   "cell_type": "code",
   "execution_count": null,
   "id": "e54f4328",
   "metadata": {},
   "outputs": [],
   "source": [
    "execution_options = json_content_simulate['execution_options']\n",
    "print_interactive_command = execution_options['print_interactive_command']\n",
    "print_sbatch_command = execution_options['print_sbatch_command']\n",
    "run_interactively = execution_options['run_interactively']\n",
    "submit_job    = execution_options['submit_job']"
   ]
  },
  {
   "cell_type": "code",
   "execution_count": null,
   "id": "2cc455c8",
   "metadata": {},
   "outputs": [],
   "source": [
    "exempt_flag = json_content_simulate['exempt_flag'] #'--qos=exempt'"
   ]
  },
  {
   "cell_type": "markdown",
   "id": "c2b9328a",
   "metadata": {},
   "source": [
    "## Simulation Directory"
   ]
  },
  {
   "cell_type": "code",
   "execution_count": null,
   "id": "55d12392",
   "metadata": {},
   "outputs": [],
   "source": [
    "sim_dir = json_content_simulate['paths']['sim_dir']"
   ]
  },
  {
   "cell_type": "markdown",
   "id": "fd56db5b",
   "metadata": {},
   "source": [
    "## `sbatch` Scripts"
   ]
  },
  {
   "cell_type": "code",
   "execution_count": null,
   "id": "173c1fbc",
   "metadata": {},
   "outputs": [],
   "source": [
    "sbatch_scripts = json_content_simulate['paths']['sbatch_scripts']"
   ]
  },
  {
   "cell_type": "code",
   "execution_count": null,
   "id": "a367eb82",
   "metadata": {},
   "outputs": [],
   "source": [
    "sbatch_script_extract = os.path.join(sbatch_scripts['base'], sbatch_scripts['extract'])\n",
    "sbatch_script_prep = os.path.join(sbatch_scripts['base'], sbatch_scripts['prep'])\n",
    "sbatch_script_train = os.path.join(sbatch_scripts['base'], sbatch_scripts['train'])"
   ]
  },
  {
   "cell_type": "markdown",
   "id": "a991c4b0",
   "metadata": {},
   "source": [
    "## `python` Scripts"
   ]
  },
  {
   "cell_type": "code",
   "execution_count": null,
   "id": "17ea9be4",
   "metadata": {},
   "outputs": [],
   "source": [
    "python_scripts = json_content_simulate['paths']['python_scripts']"
   ]
  },
  {
   "cell_type": "code",
   "execution_count": null,
   "id": "94cdf559",
   "metadata": {},
   "outputs": [],
   "source": [
    "python_script_extract = os.path.join(python_scripts['base'], python_scripts['extract'])\n",
    "python_script_prep = os.path.join(python_scripts['base'], python_scripts['prep'])\n",
    "python_script_train = os.path.join(python_scripts['base'], python_scripts['train'])"
   ]
  },
  {
   "cell_type": "markdown",
   "id": "03a7aa6c",
   "metadata": {},
   "source": [
    "## `json` Input Files"
   ]
  },
  {
   "cell_type": "code",
   "execution_count": null,
   "id": "1c0c3d0b",
   "metadata": {},
   "outputs": [],
   "source": [
    "json_base = json_content_simulate['paths']['json_base']"
   ]
  },
  {
   "cell_type": "code",
   "execution_count": null,
   "id": "277ae479",
   "metadata": {},
   "outputs": [],
   "source": [
    "json_extract_base = os.path.join(sim_dir, json_base['extract'])\n",
    "json_prep_base = os.path.join(sim_dir, json_base['prep'])\n",
    "json_train_base = os.path.join(sim_dir, json_base['train'])"
   ]
  },
  {
   "cell_type": "markdown",
   "id": "2d48587a",
   "metadata": {},
   "source": [
    "## `json` Collections"
   ]
  },
  {
   "cell_type": "code",
   "execution_count": null,
   "id": "41d64113",
   "metadata": {},
   "outputs": [],
   "source": [
    "collection_options = json_content_simulate['collection_options']\n",
    "json_extract_counts = collection_options['json_extract_counts']\n",
    "json_prep_counts = collection_options['json_prep_counts']\n",
    "json_train_counts = collection_options['json_train_counts']"
   ]
  },
  {
   "cell_type": "code",
   "execution_count": null,
   "id": "55d7614f",
   "metadata": {},
   "outputs": [],
   "source": [
    "json_extract_counts, json_prep_counts, json_train_counts"
   ]
  },
  {
   "cell_type": "markdown",
   "id": "9969e934",
   "metadata": {},
   "source": [
    "## Generate and Execute `command`"
   ]
  },
  {
   "cell_type": "code",
   "execution_count": null,
   "id": "2bd23f0f",
   "metadata": {},
   "outputs": [],
   "source": [
    "def get_commands (exempt_flag, sbatch_script, base_command):\n",
    "    run_command = 'python {}'.format(base_command)\n",
    "    sbatch_submit_command = 'sbatch {} {} {}'.format(\\\n",
    "                                exempt_flag, sbatch_script, base_command)\n",
    "    \n",
    "    return run_command, sbatch_submit_command\n",
    "    "
   ]
  },
  {
   "cell_type": "code",
   "execution_count": null,
   "id": "69f80d1b",
   "metadata": {},
   "outputs": [],
   "source": [
    "def print_and_execute (print_interactive_command, print_sbatch_command, \\\n",
    "                       run_interactively, submit_job, \\\n",
    "                       run_command, sbatch_submit_command):\n",
    "    if (print_interactive_command):\n",
    "        print('\\n', run_command)\n",
    "    if (print_sbatch_command):\n",
    "        print('\\n', sbatch_submit_command)\n",
    "    if (run_interactively):\n",
    "        os.system (run_command)\n",
    "    if (submit_job):\n",
    "        os.system (sbatch_submit_command)"
   ]
  },
  {
   "cell_type": "code",
   "execution_count": null,
   "id": "0211f6b4",
   "metadata": {},
   "outputs": [],
   "source": [
    "for data_count in json_extract_counts:\n",
    "    json_extract = '%s_%03d.json'%(json_extract_base, data_count)\n",
    "    #print(json_extract)\n",
    "    if (action == 'Extract'):\n",
    "        base_command = '{} {}'.format(python_script_extract,\n",
    "                                      json_extract)\n",
    "        run_command, sbatch_submit_command = get_commands (\\\n",
    "                                    exempt_flag, sbatch_script_extract, base_command)\n",
    "        print_and_execute (print_interactive_command, print_sbatch_command, \\\n",
    "                           run_interactively, submit_job, \\\n",
    "                           run_command, sbatch_submit_command)\n",
    "        continue\n",
    "        \n",
    "    for label_count in json_prep_counts:\n",
    "        json_prep    = '%s_%03d.json'%(json_prep_base, label_count)\n",
    "        #print(json_prep)\n",
    "        if (action == \"Prep\"):\n",
    "            base_command = '{} {} {}'.format(python_script_prep,\n",
    "                                             json_extract,\n",
    "                                             json_prep)\n",
    "            run_command, sbatch_submit_command = get_commands (\\\n",
    "                                        exempt_flag, sbatch_script_prep, base_command)\n",
    "            print_and_execute (print_interactive_command, print_sbatch_command, \\\n",
    "                               run_interactively, submit_job, \\\n",
    "                               run_command, sbatch_submit_command)\n",
    "            continue\n",
    "            \n",
    "        for train_count in json_train_counts:\n",
    "            json_train   = '%s_%03d.json'%(json_train_base, train_count)\n",
    "            #print(json_train)\n",
    "            if (action == \"Train\"):\n",
    "                base_command = '{} {} {} {}'.format(python_script_train,\n",
    "                                                    json_extract,\n",
    "                                                    json_prep,\n",
    "                                                    json_train)\n",
    "                run_command, sbatch_submit_command = get_commands (\\\n",
    "                                        exempt_flag, sbatch_script_train, base_command)\n",
    "                print_and_execute (print_interactive_command, print_sbatch_command, \\\n",
    "                                   run_interactively, submit_job, \\\n",
    "                                   run_command, sbatch_submit_command)\n",
    "                continue"
   ]
  }
 ],
 "metadata": {
  "kernelspec": {
   "display_name": "py3_ml_conda",
   "language": "python",
   "name": "py3_ml"
  },
  "language_info": {
   "codemirror_mode": {
    "name": "ipython",
    "version": 3
   },
   "file_extension": ".py",
   "mimetype": "text/x-python",
   "name": "python",
   "nbconvert_exporter": "python",
   "pygments_lexer": "ipython3",
   "version": "3.10.9"
  }
 },
 "nbformat": 4,
 "nbformat_minor": 5
}
