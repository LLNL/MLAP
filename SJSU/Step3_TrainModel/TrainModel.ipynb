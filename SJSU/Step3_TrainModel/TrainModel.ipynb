{
 "cells": [
  {
   "cell_type": "markdown",
   "metadata": {},
   "source": [
    "# Import Modules"
   ]
  },
  {
   "cell_type": "markdown",
   "metadata": {},
   "source": [
    "## Standard Packages"
   ]
  },
  {
   "cell_type": "code",
   "execution_count": 1,
   "metadata": {},
   "outputs": [],
   "source": [
    "import os\n",
    "import sys\n",
    "import os.path as path\n",
    "import psutil\n",
    "import glob\n",
    "import random\n",
    "import numpy as np\n",
    "import pandas as pd\n",
    "import xarray as xr\n",
    "import pickle\n",
    "from matplotlib import pyplot as plt\n",
    "from mpl_toolkits import mplot3d\n",
    "#plt.style.use('seaborn-white')\n",
    "from datetime import date, datetime, timedelta, time\n",
    "from timeit import default_timer as timer\n",
    "import time"
   ]
  },
  {
   "cell_type": "markdown",
   "metadata": {},
   "source": [
    "## Scikit-Learn"
   ]
  },
  {
   "cell_type": "code",
   "execution_count": 2,
   "metadata": {},
   "outputs": [],
   "source": [
    "from sklearn.svm import SVC\n",
    "from sklearn.neural_network import MLPClassifier, MLPRegressor\n",
    "\n",
    "from sklearn.preprocessing import StandardScaler, MinMaxScaler\n",
    "from sklearn.model_selection import train_test_split\n",
    "\n",
    "from sklearn.metrics import accuracy_score, confusion_matrix, average_precision_score\n",
    "#from sklearn.metrics import plot_confusion_matrix\n",
    "from sklearn.metrics import precision_recall_curve, classification_report\n"
   ]
  },
  {
   "cell_type": "markdown",
   "metadata": {},
   "source": [
    "## User-Defined Functions"
   ]
  },
  {
   "cell_type": "code",
   "execution_count": 3,
   "metadata": {},
   "outputs": [],
   "source": [
    "from Extract_DFM_Reanalysis_Data_Helper import *"
   ]
  },
  {
   "cell_type": "markdown",
   "metadata": {},
   "source": [
    "# Global Start Time and Memory"
   ]
  },
  {
   "cell_type": "code",
   "execution_count": 4,
   "metadata": {},
   "outputs": [],
   "source": [
    "global_start_time = timer()\n",
    "process = psutil.Process(os.getpid())\n",
    "global_initial_memory = process.memory_info().rss"
   ]
  },
  {
   "cell_type": "markdown",
   "metadata": {},
   "source": [
    "# Variables to be Used for Preparing Train, Test, and Fire Data"
   ]
  },
  {
   "cell_type": "markdown",
   "metadata": {},
   "source": [
    "## DataSet Defintion"
   ]
  },
  {
   "cell_type": "code",
   "execution_count": 5,
   "metadata": {},
   "outputs": [],
   "source": [
    "# The current data set params\n",
    "data_set_count = 8"
   ]
  },
  {
   "cell_type": "markdown",
   "metadata": {},
   "source": [
    "## Define Model, Label etc."
   ]
  },
  {
   "cell_type": "markdown",
   "metadata": {},
   "source": [
    "### Label Type"
   ]
  },
  {
   "cell_type": "code",
   "execution_count": 6,
   "metadata": {},
   "outputs": [],
   "source": [
    "label_type = 'Regr' # ['bin', 'MC', 'Regr']"
   ]
  },
  {
   "cell_type": "code",
   "execution_count": 7,
   "metadata": {},
   "outputs": [],
   "source": [
    "FM_hr = 10 # [10, 100]"
   ]
  },
  {
   "cell_type": "markdown",
   "metadata": {},
   "source": [
    "### Models "
   ]
  },
  {
   "cell_type": "code",
   "execution_count": 8,
   "metadata": {},
   "outputs": [],
   "source": [
    "model_considered = 'MLP' # ['RF', SVM', 'MLP']"
   ]
  },
  {
   "cell_type": "markdown",
   "metadata": {},
   "source": [
    "### Fire of Interest"
   ]
  },
  {
   "cell_type": "code",
   "execution_count": 9,
   "metadata": {},
   "outputs": [],
   "source": [
    "fire_name = 'Woosley'"
   ]
  },
  {
   "cell_type": "markdown",
   "metadata": {},
   "source": [
    "## Paths and File Names"
   ]
  },
  {
   "cell_type": "markdown",
   "metadata": {},
   "source": [
    "#### Global"
   ]
  },
  {
   "cell_type": "code",
   "execution_count": 10,
   "metadata": {},
   "outputs": [],
   "source": [
    "prepared_data_base_loc = '/p/lustre2/jha3/Wildfire/Wildfire_LDRD_SI/SJSU/02_TrainTestFire_Data_Prepared'\n",
    "trained_model_base_loc = '/p/lustre2/jha3/Wildfire/Wildfire_LDRD_SI/SJSU/03_Trained_Models'\n",
    "analysis_data_base_loc = '/p/lustre2/jha3/Wildfire/Wildfire_LDRD_SI/SJSU/04_Analysis'"
   ]
  },
  {
   "cell_type": "markdown",
   "metadata": {},
   "source": [
    "#### DataSet Specific (Train, Test, Fire Prepared)"
   ]
  },
  {
   "cell_type": "code",
   "execution_count": 11,
   "metadata": {},
   "outputs": [],
   "source": [
    "prepared_data_set_name = 'data_prepared_%02d'%(data_set_count)\n",
    "\n",
    "prepared_data_loc = os.path.join(prepared_data_base_loc, prepared_data_set_name)\n",
    "os.system('mkdir -p %s'%prepared_data_loc)\n",
    "\n",
    "prepared_data_file_name = '{}.pkl'.format(prepared_data_set_name)"
   ]
  },
  {
   "cell_type": "markdown",
   "metadata": {},
   "source": [
    "#### DataSet Specific (Trained Model)"
   ]
  },
  {
   "cell_type": "code",
   "execution_count": 12,
   "metadata": {},
   "outputs": [],
   "source": [
    "trained_model_set_name = 'trained_model_%02d'%(data_set_count)\n",
    "\n",
    "trained_model_loc = os.path.join(trained_model_base_loc, trained_model_set_name)\n",
    "os.system('mkdir -p %s'%trained_model_loc)\n",
    "\n",
    "trained_model_name = '{}_{}_{}.pkl'.format(trained_model_set_name, label_type, model_considered)\n",
    "trained_model_file = os.path.join(trained_model_loc, trained_model_name)"
   ]
  },
  {
   "cell_type": "markdown",
   "metadata": {},
   "source": [
    "#### DataSet Specific (Analysis Data)"
   ]
  },
  {
   "cell_type": "code",
   "execution_count": 13,
   "metadata": {},
   "outputs": [
    {
     "data": {
      "text/plain": [
       "0"
      ]
     },
     "execution_count": 13,
     "metadata": {},
     "output_type": "execute_result"
    }
   ],
   "source": [
    "analysis_set_name = 'analysis_%02d'%(data_set_count)\n",
    "\n",
    "analysis_loc = os.path.join(analysis_data_base_loc, analysis_set_name, label_type, model_considered)\n",
    "os.system('mkdir -p %s'%analysis_loc)"
   ]
  },
  {
   "cell_type": "code",
   "execution_count": 14,
   "metadata": {},
   "outputs": [
    {
     "data": {
      "text/plain": [
       "'/p/lustre2/jha3/Wildfire/Wildfire_LDRD_SI/SJSU/04_Analysis/analysis_08/Regr/MLP'"
      ]
     },
     "execution_count": 14,
     "metadata": {},
     "output_type": "execute_result"
    }
   ],
   "source": [
    "analysis_loc"
   ]
  },
  {
   "cell_type": "markdown",
   "metadata": {},
   "source": [
    "# Generate seed for the random number generator"
   ]
  },
  {
   "cell_type": "code",
   "execution_count": 15,
   "metadata": {},
   "outputs": [],
   "source": [
    "seed = generate_seed()\n",
    "random_state = init_random_generator(seed)"
   ]
  },
  {
   "cell_type": "markdown",
   "metadata": {},
   "source": [
    "# Load The The Prepared Data Saved in Pickle File"
   ]
  },
  {
   "cell_type": "code",
   "execution_count": 16,
   "metadata": {},
   "outputs": [
    {
     "name": "stdout",
     "output_type": "stream",
     "text": [
      "Read prepared data from \"data_prepared_08.pkl\" at \"/p/lustre2/jha3/Wildfire/Wildfire_LDRD_SI/SJSU/02_TrainTestFire_Data_Prepared/data_prepared_08\"\n"
     ]
    }
   ],
   "source": [
    "prepared_data_file_handle = open(os.path.join(prepared_data_loc, prepared_data_file_name), 'rb')\n",
    "prepared_data = pickle.load(prepared_data_file_handle)\n",
    "prepared_data_file_handle.close()\n",
    "print('Read prepared data from \"{}\" at \"{}\"'.format(prepared_data_file_name, prepared_data_loc))"
   ]
  },
  {
   "cell_type": "markdown",
   "metadata": {},
   "source": [
    "# Get Features and Labels to Use"
   ]
  },
  {
   "cell_type": "code",
   "execution_count": 17,
   "metadata": {},
   "outputs": [
    {
     "data": {
      "text/html": [
       "<div>\n",
       "<style scoped>\n",
       "    .dataframe tbody tr th:only-of-type {\n",
       "        vertical-align: middle;\n",
       "    }\n",
       "\n",
       "    .dataframe tbody tr th {\n",
       "        vertical-align: top;\n",
       "    }\n",
       "\n",
       "    .dataframe thead th {\n",
       "        text-align: right;\n",
       "    }\n",
       "</style>\n",
       "<table border=\"1\" class=\"dataframe\">\n",
       "  <thead>\n",
       "    <tr style=\"text-align: right;\">\n",
       "      <th></th>\n",
       "      <th>FM_time_ind</th>\n",
       "      <th>FM_ts</th>\n",
       "      <th>his_time_ind</th>\n",
       "      <th>grid_ind</th>\n",
       "      <th>j_ind</th>\n",
       "      <th>i_ind</th>\n",
       "      <th>FM_10hr</th>\n",
       "      <th>FM_100hr</th>\n",
       "      <th>HGT</th>\n",
       "      <th>T2[-12hr]</th>\n",
       "      <th>...</th>\n",
       "      <th>PREC[-3hr]</th>\n",
       "      <th>SWDOWN[-3hr]</th>\n",
       "      <th>UMag10[-12hr]</th>\n",
       "      <th>UMag10[-9hr]</th>\n",
       "      <th>UMag10[-6hr]</th>\n",
       "      <th>UMag10[-3hr]</th>\n",
       "      <th>FM_10hr_bin</th>\n",
       "      <th>FM_100hr_bin</th>\n",
       "      <th>FM_10hr_MC</th>\n",
       "      <th>FM_100hr_MC</th>\n",
       "    </tr>\n",
       "  </thead>\n",
       "  <tbody>\n",
       "    <tr>\n",
       "      <th>0</th>\n",
       "      <td>129376</td>\n",
       "      <td>2014-10-04_17</td>\n",
       "      <td>[129364, 129367, 129370, 129373]</td>\n",
       "      <td>172743</td>\n",
       "      <td>436</td>\n",
       "      <td>87</td>\n",
       "      <td>0.081303</td>\n",
       "      <td>0.060392</td>\n",
       "      <td>1196.704102</td>\n",
       "      <td>290.238007</td>\n",
       "      <td>...</td>\n",
       "      <td>0.0</td>\n",
       "      <td>0.000000</td>\n",
       "      <td>3.370972</td>\n",
       "      <td>3.818593</td>\n",
       "      <td>2.985074</td>\n",
       "      <td>3.766801</td>\n",
       "      <td>1</td>\n",
       "      <td>1</td>\n",
       "      <td>2</td>\n",
       "      <td>2</td>\n",
       "    </tr>\n",
       "    <tr>\n",
       "      <th>1</th>\n",
       "      <td>129376</td>\n",
       "      <td>2014-10-04_17</td>\n",
       "      <td>[129364, 129367, 129370, 129373]</td>\n",
       "      <td>147489</td>\n",
       "      <td>372</td>\n",
       "      <td>177</td>\n",
       "      <td>0.065300</td>\n",
       "      <td>0.054188</td>\n",
       "      <td>1981.272827</td>\n",
       "      <td>288.231506</td>\n",
       "      <td>...</td>\n",
       "      <td>0.0</td>\n",
       "      <td>0.000000</td>\n",
       "      <td>1.033033</td>\n",
       "      <td>2.975315</td>\n",
       "      <td>3.005633</td>\n",
       "      <td>3.430134</td>\n",
       "      <td>1</td>\n",
       "      <td>1</td>\n",
       "      <td>2</td>\n",
       "      <td>1</td>\n",
       "    </tr>\n",
       "    <tr>\n",
       "      <th>2</th>\n",
       "      <td>129376</td>\n",
       "      <td>2014-10-04_17</td>\n",
       "      <td>[129364, 129367, 129370, 129373]</td>\n",
       "      <td>156204</td>\n",
       "      <td>394</td>\n",
       "      <td>180</td>\n",
       "      <td>0.074757</td>\n",
       "      <td>0.077623</td>\n",
       "      <td>1019.257080</td>\n",
       "      <td>292.984131</td>\n",
       "      <td>...</td>\n",
       "      <td>0.0</td>\n",
       "      <td>0.000000</td>\n",
       "      <td>3.522808</td>\n",
       "      <td>4.344636</td>\n",
       "      <td>1.751943</td>\n",
       "      <td>0.227850</td>\n",
       "      <td>1</td>\n",
       "      <td>1</td>\n",
       "      <td>2</td>\n",
       "      <td>2</td>\n",
       "    </tr>\n",
       "    <tr>\n",
       "      <th>3</th>\n",
       "      <td>129376</td>\n",
       "      <td>2014-10-04_17</td>\n",
       "      <td>[129364, 129367, 129370, 129373]</td>\n",
       "      <td>115464</td>\n",
       "      <td>291</td>\n",
       "      <td>228</td>\n",
       "      <td>0.058183</td>\n",
       "      <td>0.054388</td>\n",
       "      <td>1919.916626</td>\n",
       "      <td>288.276031</td>\n",
       "      <td>...</td>\n",
       "      <td>0.0</td>\n",
       "      <td>0.000000</td>\n",
       "      <td>3.381924</td>\n",
       "      <td>2.957719</td>\n",
       "      <td>3.460345</td>\n",
       "      <td>3.436538</td>\n",
       "      <td>1</td>\n",
       "      <td>1</td>\n",
       "      <td>1</td>\n",
       "      <td>1</td>\n",
       "    </tr>\n",
       "    <tr>\n",
       "      <th>4</th>\n",
       "      <td>129376</td>\n",
       "      <td>2014-10-04_17</td>\n",
       "      <td>[129364, 129367, 129370, 129373]</td>\n",
       "      <td>20119</td>\n",
       "      <td>50</td>\n",
       "      <td>319</td>\n",
       "      <td>0.006902</td>\n",
       "      <td>0.026149</td>\n",
       "      <td>1005.895142</td>\n",
       "      <td>294.736145</td>\n",
       "      <td>...</td>\n",
       "      <td>0.0</td>\n",
       "      <td>0.000000</td>\n",
       "      <td>6.540504</td>\n",
       "      <td>7.152994</td>\n",
       "      <td>9.666075</td>\n",
       "      <td>10.145338</td>\n",
       "      <td>1</td>\n",
       "      <td>1</td>\n",
       "      <td>0</td>\n",
       "      <td>0</td>\n",
       "    </tr>\n",
       "    <tr>\n",
       "      <th>...</th>\n",
       "      <td>...</td>\n",
       "      <td>...</td>\n",
       "      <td>...</td>\n",
       "      <td>...</td>\n",
       "      <td>...</td>\n",
       "      <td>...</td>\n",
       "      <td>...</td>\n",
       "      <td>...</td>\n",
       "      <td>...</td>\n",
       "      <td>...</td>\n",
       "      <td>...</td>\n",
       "      <td>...</td>\n",
       "      <td>...</td>\n",
       "      <td>...</td>\n",
       "      <td>...</td>\n",
       "      <td>...</td>\n",
       "      <td>...</td>\n",
       "      <td>...</td>\n",
       "      <td>...</td>\n",
       "      <td>...</td>\n",
       "      <td>...</td>\n",
       "    </tr>\n",
       "    <tr>\n",
       "      <th>499995</th>\n",
       "      <td>101661</td>\n",
       "      <td>2011-08-06_22</td>\n",
       "      <td>[101649, 101652, 101655, 101658]</td>\n",
       "      <td>116113</td>\n",
       "      <td>293</td>\n",
       "      <td>85</td>\n",
       "      <td>0.178441</td>\n",
       "      <td>0.188185</td>\n",
       "      <td>66.710915</td>\n",
       "      <td>285.590149</td>\n",
       "      <td>...</td>\n",
       "      <td>0.0</td>\n",
       "      <td>534.044006</td>\n",
       "      <td>2.688014</td>\n",
       "      <td>2.371523</td>\n",
       "      <td>2.828013</td>\n",
       "      <td>4.081939</td>\n",
       "      <td>0</td>\n",
       "      <td>0</td>\n",
       "      <td>5</td>\n",
       "      <td>5</td>\n",
       "    </tr>\n",
       "    <tr>\n",
       "      <th>499996</th>\n",
       "      <td>101661</td>\n",
       "      <td>2011-08-06_22</td>\n",
       "      <td>[101649, 101652, 101655, 101658]</td>\n",
       "      <td>130960</td>\n",
       "      <td>330</td>\n",
       "      <td>280</td>\n",
       "      <td>0.036267</td>\n",
       "      <td>0.025823</td>\n",
       "      <td>1223.386963</td>\n",
       "      <td>296.904327</td>\n",
       "      <td>...</td>\n",
       "      <td>0.0</td>\n",
       "      <td>969.697937</td>\n",
       "      <td>7.346962</td>\n",
       "      <td>4.317429</td>\n",
       "      <td>4.737289</td>\n",
       "      <td>3.498094</td>\n",
       "      <td>1</td>\n",
       "      <td>1</td>\n",
       "      <td>1</td>\n",
       "      <td>0</td>\n",
       "    </tr>\n",
       "    <tr>\n",
       "      <th>499997</th>\n",
       "      <td>101661</td>\n",
       "      <td>2011-08-06_22</td>\n",
       "      <td>[101649, 101652, 101655, 101658]</td>\n",
       "      <td>128117</td>\n",
       "      <td>323</td>\n",
       "      <td>209</td>\n",
       "      <td>0.074344</td>\n",
       "      <td>0.051710</td>\n",
       "      <td>1503.417847</td>\n",
       "      <td>288.861084</td>\n",
       "      <td>...</td>\n",
       "      <td>0.0</td>\n",
       "      <td>973.866089</td>\n",
       "      <td>3.147550</td>\n",
       "      <td>3.370180</td>\n",
       "      <td>2.061400</td>\n",
       "      <td>3.378033</td>\n",
       "      <td>1</td>\n",
       "      <td>1</td>\n",
       "      <td>2</td>\n",
       "      <td>1</td>\n",
       "    </tr>\n",
       "    <tr>\n",
       "      <th>499998</th>\n",
       "      <td>101661</td>\n",
       "      <td>2011-08-06_22</td>\n",
       "      <td>[101649, 101652, 101655, 101658]</td>\n",
       "      <td>93285</td>\n",
       "      <td>235</td>\n",
       "      <td>225</td>\n",
       "      <td>0.061442</td>\n",
       "      <td>0.054181</td>\n",
       "      <td>424.036285</td>\n",
       "      <td>293.899780</td>\n",
       "      <td>...</td>\n",
       "      <td>0.0</td>\n",
       "      <td>960.523804</td>\n",
       "      <td>2.615936</td>\n",
       "      <td>2.852156</td>\n",
       "      <td>1.677650</td>\n",
       "      <td>3.250591</td>\n",
       "      <td>1</td>\n",
       "      <td>1</td>\n",
       "      <td>2</td>\n",
       "      <td>1</td>\n",
       "    </tr>\n",
       "    <tr>\n",
       "      <th>499999</th>\n",
       "      <td>101661</td>\n",
       "      <td>2011-08-06_22</td>\n",
       "      <td>[101649, 101652, 101655, 101658]</td>\n",
       "      <td>89632</td>\n",
       "      <td>226</td>\n",
       "      <td>136</td>\n",
       "      <td>0.123963</td>\n",
       "      <td>0.144330</td>\n",
       "      <td>145.527451</td>\n",
       "      <td>285.313507</td>\n",
       "      <td>...</td>\n",
       "      <td>0.0</td>\n",
       "      <td>896.540771</td>\n",
       "      <td>4.987338</td>\n",
       "      <td>1.796101</td>\n",
       "      <td>3.439744</td>\n",
       "      <td>6.039871</td>\n",
       "      <td>0</td>\n",
       "      <td>0</td>\n",
       "      <td>4</td>\n",
       "      <td>4</td>\n",
       "    </tr>\n",
       "  </tbody>\n",
       "</table>\n",
       "<p>500000 rows × 33 columns</p>\n",
       "</div>"
      ],
      "text/plain": [
       "        FM_time_ind          FM_ts                      his_time_ind  \\\n",
       "0            129376  2014-10-04_17  [129364, 129367, 129370, 129373]   \n",
       "1            129376  2014-10-04_17  [129364, 129367, 129370, 129373]   \n",
       "2            129376  2014-10-04_17  [129364, 129367, 129370, 129373]   \n",
       "3            129376  2014-10-04_17  [129364, 129367, 129370, 129373]   \n",
       "4            129376  2014-10-04_17  [129364, 129367, 129370, 129373]   \n",
       "...             ...            ...                               ...   \n",
       "499995       101661  2011-08-06_22  [101649, 101652, 101655, 101658]   \n",
       "499996       101661  2011-08-06_22  [101649, 101652, 101655, 101658]   \n",
       "499997       101661  2011-08-06_22  [101649, 101652, 101655, 101658]   \n",
       "499998       101661  2011-08-06_22  [101649, 101652, 101655, 101658]   \n",
       "499999       101661  2011-08-06_22  [101649, 101652, 101655, 101658]   \n",
       "\n",
       "        grid_ind  j_ind  i_ind   FM_10hr  FM_100hr          HGT   T2[-12hr]  \\\n",
       "0         172743    436     87  0.081303  0.060392  1196.704102  290.238007   \n",
       "1         147489    372    177  0.065300  0.054188  1981.272827  288.231506   \n",
       "2         156204    394    180  0.074757  0.077623  1019.257080  292.984131   \n",
       "3         115464    291    228  0.058183  0.054388  1919.916626  288.276031   \n",
       "4          20119     50    319  0.006902  0.026149  1005.895142  294.736145   \n",
       "...          ...    ...    ...       ...       ...          ...         ...   \n",
       "499995    116113    293     85  0.178441  0.188185    66.710915  285.590149   \n",
       "499996    130960    330    280  0.036267  0.025823  1223.386963  296.904327   \n",
       "499997    128117    323    209  0.074344  0.051710  1503.417847  288.861084   \n",
       "499998     93285    235    225  0.061442  0.054181   424.036285  293.899780   \n",
       "499999     89632    226    136  0.123963  0.144330   145.527451  285.313507   \n",
       "\n",
       "        ...  PREC[-3hr]  SWDOWN[-3hr]  UMag10[-12hr]  UMag10[-9hr]  \\\n",
       "0       ...         0.0      0.000000       3.370972      3.818593   \n",
       "1       ...         0.0      0.000000       1.033033      2.975315   \n",
       "2       ...         0.0      0.000000       3.522808      4.344636   \n",
       "3       ...         0.0      0.000000       3.381924      2.957719   \n",
       "4       ...         0.0      0.000000       6.540504      7.152994   \n",
       "...     ...         ...           ...            ...           ...   \n",
       "499995  ...         0.0    534.044006       2.688014      2.371523   \n",
       "499996  ...         0.0    969.697937       7.346962      4.317429   \n",
       "499997  ...         0.0    973.866089       3.147550      3.370180   \n",
       "499998  ...         0.0    960.523804       2.615936      2.852156   \n",
       "499999  ...         0.0    896.540771       4.987338      1.796101   \n",
       "\n",
       "        UMag10[-6hr]  UMag10[-3hr]  FM_10hr_bin  FM_100hr_bin  FM_10hr_MC  \\\n",
       "0           2.985074      3.766801            1             1           2   \n",
       "1           3.005633      3.430134            1             1           2   \n",
       "2           1.751943      0.227850            1             1           2   \n",
       "3           3.460345      3.436538            1             1           1   \n",
       "4           9.666075     10.145338            1             1           0   \n",
       "...              ...           ...          ...           ...         ...   \n",
       "499995      2.828013      4.081939            0             0           5   \n",
       "499996      4.737289      3.498094            1             1           1   \n",
       "499997      2.061400      3.378033            1             1           2   \n",
       "499998      1.677650      3.250591            1             1           2   \n",
       "499999      3.439744      6.039871            0             0           4   \n",
       "\n",
       "        FM_100hr_MC  \n",
       "0                 2  \n",
       "1                 1  \n",
       "2                 2  \n",
       "3                 1  \n",
       "4                 0  \n",
       "...             ...  \n",
       "499995            5  \n",
       "499996            0  \n",
       "499997            1  \n",
       "499998            1  \n",
       "499999            4  \n",
       "\n",
       "[500000 rows x 33 columns]"
      ]
     },
     "execution_count": 17,
     "metadata": {},
     "output_type": "execute_result"
    }
   ],
   "source": [
    "prepared_data['tt']['all']\n",
    "#prepared_data['fire']['Woosley']['identity'].head(5)"
   ]
  },
  {
   "cell_type": "markdown",
   "metadata": {},
   "source": [
    "## Get the Headers for Features and Labels"
   ]
  },
  {
   "cell_type": "code",
   "execution_count": 18,
   "metadata": {},
   "outputs": [],
   "source": [
    "features_to_use = prepared_data['tt']['features'].keys()\n",
    "if (label_type == 'Regr'):\n",
    "    label_to_use = 'FM_{}hr'.format(FM_hr)\n",
    "else:\n",
    "    label_to_use = 'FM_{}hr_{}'.format(FM_hr, label_type)"
   ]
  },
  {
   "cell_type": "code",
   "execution_count": 19,
   "metadata": {},
   "outputs": [
    {
     "data": {
      "text/plain": [
       "'FM_10hr'"
      ]
     },
     "execution_count": 19,
     "metadata": {},
     "output_type": "execute_result"
    }
   ],
   "source": [
    "label_to_use"
   ]
  },
  {
   "cell_type": "markdown",
   "metadata": {},
   "source": [
    "## Extract Features and Labels"
   ]
  },
  {
   "cell_type": "code",
   "execution_count": 20,
   "metadata": {},
   "outputs": [],
   "source": [
    "X_tt     = prepared_data['tt']['features'][features_to_use]\n",
    "y_tt     = prepared_data['tt']['labels'][label_to_use]\n",
    "idy_tt   = prepared_data['tt']['identity']\n",
    "\n",
    "X_fire   = prepared_data['fire'][fire_name]['features'][features_to_use]\n",
    "y_fire   = prepared_data['fire'][fire_name]['labels'][label_to_use]\n",
    "idy_fire = prepared_data['fire'][fire_name]['identity']\n",
    "\n",
    "#all = prepared_data['tt']['all']"
   ]
  },
  {
   "cell_type": "code",
   "execution_count": 21,
   "metadata": {},
   "outputs": [
    {
     "data": {
      "text/plain": [
       "0         0.081303\n",
       "1         0.065300\n",
       "2         0.074757\n",
       "3         0.058183\n",
       "4         0.006902\n",
       "            ...   \n",
       "499995    0.178441\n",
       "499996    0.036267\n",
       "499997    0.074344\n",
       "499998    0.061442\n",
       "499999    0.123963\n",
       "Name: FM_10hr, Length: 500000, dtype: float64"
      ]
     },
     "execution_count": 21,
     "metadata": {},
     "output_type": "execute_result"
    }
   ],
   "source": [
    "y_tt"
   ]
  },
  {
   "cell_type": "markdown",
   "metadata": {},
   "source": [
    "## Scale Features"
   ]
  },
  {
   "cell_type": "markdown",
   "metadata": {},
   "source": [
    "#### Features for Train/Test"
   ]
  },
  {
   "cell_type": "code",
   "execution_count": 22,
   "metadata": {},
   "outputs": [],
   "source": [
    "scaler = MinMaxScaler()\n",
    "scaler.fit(X_tt)\n",
    "X_tt_scaled = scaler.transform(X_tt)"
   ]
  },
  {
   "cell_type": "code",
   "execution_count": 23,
   "metadata": {},
   "outputs": [],
   "source": [
    "#X_tt_scaled"
   ]
  },
  {
   "cell_type": "markdown",
   "metadata": {},
   "source": [
    "#### Features for Fire Data"
   ]
  },
  {
   "cell_type": "code",
   "execution_count": 24,
   "metadata": {},
   "outputs": [],
   "source": [
    "scaler = MinMaxScaler()\n",
    "scaler.fit(X_fire)\n",
    "X_fire_scaled = scaler.transform(X_fire)"
   ]
  },
  {
   "cell_type": "code",
   "execution_count": 25,
   "metadata": {},
   "outputs": [],
   "source": [
    "#X_fire_scaled.max()"
   ]
  },
  {
   "cell_type": "markdown",
   "metadata": {},
   "source": [
    "## Train /Test Split"
   ]
  },
  {
   "cell_type": "code",
   "execution_count": 26,
   "metadata": {},
   "outputs": [],
   "source": [
    "features_train, features_test, labels_train, labels_test = train_test_split(X_tt_scaled, y_tt, test_size=0.2)"
   ]
  },
  {
   "cell_type": "markdown",
   "metadata": {},
   "source": [
    "# Model"
   ]
  },
  {
   "cell_type": "markdown",
   "metadata": {},
   "source": [
    "## Define the Model"
   ]
  },
  {
   "cell_type": "code",
   "execution_count": 27,
   "metadata": {},
   "outputs": [
    {
     "name": "stdout",
     "output_type": "stream",
     "text": [
      "label_type: Regr\n",
      "Model: MLP\n"
     ]
    }
   ],
   "source": [
    "print ('label_type: {}'.format(label_type))\n",
    "print ('Model: {}'.format(model_considered))\n",
    "\n",
    "if (label_type == 'Regr'):\n",
    "    match model_considered:\n",
    "        case 'SVM':\n",
    "            model = SVR(kernel='rbf')\n",
    "        case 'RF':\n",
    "            model = RandomForestRegressor(max_depth=2, random_state=0)\n",
    "        case 'MLP':\n",
    "            model = MLPRegressor(random_state=1, max_iter=500)\n",
    "else: # 'bin' or 'MC'\n",
    "    match model_considered:\n",
    "        case 'SVM':\n",
    "            model = SVC(kernel=\"linear\", class_weight = \"balanced\")\n",
    "        case 'RF':\n",
    "            model = RandomForestClassifier(max_depth=2, random_state=0)\n",
    "        case 'MLP':\n",
    "            model = MLPClassifier(solver = 'sgd', activation = 'relu', max_iter= 10000, \n",
    "                    random_state = 0, hidden_layer_sizes = [15,15,15])\n"
   ]
  },
  {
   "cell_type": "code",
   "execution_count": 28,
   "metadata": {},
   "outputs": [
    {
     "data": {
      "text/html": [
       "<style>#sk-container-id-1 {color: black;background-color: white;}#sk-container-id-1 pre{padding: 0;}#sk-container-id-1 div.sk-toggleable {background-color: white;}#sk-container-id-1 label.sk-toggleable__label {cursor: pointer;display: block;width: 100%;margin-bottom: 0;padding: 0.3em;box-sizing: border-box;text-align: center;}#sk-container-id-1 label.sk-toggleable__label-arrow:before {content: \"▸\";float: left;margin-right: 0.25em;color: #696969;}#sk-container-id-1 label.sk-toggleable__label-arrow:hover:before {color: black;}#sk-container-id-1 div.sk-estimator:hover label.sk-toggleable__label-arrow:before {color: black;}#sk-container-id-1 div.sk-toggleable__content {max-height: 0;max-width: 0;overflow: hidden;text-align: left;background-color: #f0f8ff;}#sk-container-id-1 div.sk-toggleable__content pre {margin: 0.2em;color: black;border-radius: 0.25em;background-color: #f0f8ff;}#sk-container-id-1 input.sk-toggleable__control:checked~div.sk-toggleable__content {max-height: 200px;max-width: 100%;overflow: auto;}#sk-container-id-1 input.sk-toggleable__control:checked~label.sk-toggleable__label-arrow:before {content: \"▾\";}#sk-container-id-1 div.sk-estimator input.sk-toggleable__control:checked~label.sk-toggleable__label {background-color: #d4ebff;}#sk-container-id-1 div.sk-label input.sk-toggleable__control:checked~label.sk-toggleable__label {background-color: #d4ebff;}#sk-container-id-1 input.sk-hidden--visually {border: 0;clip: rect(1px 1px 1px 1px);clip: rect(1px, 1px, 1px, 1px);height: 1px;margin: -1px;overflow: hidden;padding: 0;position: absolute;width: 1px;}#sk-container-id-1 div.sk-estimator {font-family: monospace;background-color: #f0f8ff;border: 1px dotted black;border-radius: 0.25em;box-sizing: border-box;margin-bottom: 0.5em;}#sk-container-id-1 div.sk-estimator:hover {background-color: #d4ebff;}#sk-container-id-1 div.sk-parallel-item::after {content: \"\";width: 100%;border-bottom: 1px solid gray;flex-grow: 1;}#sk-container-id-1 div.sk-label:hover label.sk-toggleable__label {background-color: #d4ebff;}#sk-container-id-1 div.sk-serial::before {content: \"\";position: absolute;border-left: 1px solid gray;box-sizing: border-box;top: 0;bottom: 0;left: 50%;z-index: 0;}#sk-container-id-1 div.sk-serial {display: flex;flex-direction: column;align-items: center;background-color: white;padding-right: 0.2em;padding-left: 0.2em;position: relative;}#sk-container-id-1 div.sk-item {position: relative;z-index: 1;}#sk-container-id-1 div.sk-parallel {display: flex;align-items: stretch;justify-content: center;background-color: white;position: relative;}#sk-container-id-1 div.sk-item::before, #sk-container-id-1 div.sk-parallel-item::before {content: \"\";position: absolute;border-left: 1px solid gray;box-sizing: border-box;top: 0;bottom: 0;left: 50%;z-index: -1;}#sk-container-id-1 div.sk-parallel-item {display: flex;flex-direction: column;z-index: 1;position: relative;background-color: white;}#sk-container-id-1 div.sk-parallel-item:first-child::after {align-self: flex-end;width: 50%;}#sk-container-id-1 div.sk-parallel-item:last-child::after {align-self: flex-start;width: 50%;}#sk-container-id-1 div.sk-parallel-item:only-child::after {width: 0;}#sk-container-id-1 div.sk-dashed-wrapped {border: 1px dashed gray;margin: 0 0.4em 0.5em 0.4em;box-sizing: border-box;padding-bottom: 0.4em;background-color: white;}#sk-container-id-1 div.sk-label label {font-family: monospace;font-weight: bold;display: inline-block;line-height: 1.2em;}#sk-container-id-1 div.sk-label-container {text-align: center;}#sk-container-id-1 div.sk-container {/* jupyter's `normalize.less` sets `[hidden] { display: none; }` but bootstrap.min.css set `[hidden] { display: none !important; }` so we also need the `!important` here to be able to override the default hidden behavior on the sphinx rendered scikit-learn.org. See: https://github.com/scikit-learn/scikit-learn/issues/21755 */display: inline-block !important;position: relative;}#sk-container-id-1 div.sk-text-repr-fallback {display: none;}</style><div id=\"sk-container-id-1\" class=\"sk-top-container\"><div class=\"sk-text-repr-fallback\"><pre>MLPRegressor(max_iter=500, random_state=1)</pre><b>In a Jupyter environment, please rerun this cell to show the HTML representation or trust the notebook. <br />On GitHub, the HTML representation is unable to render, please try loading this page with nbviewer.org.</b></div><div class=\"sk-container\" hidden><div class=\"sk-item\"><div class=\"sk-estimator sk-toggleable\"><input class=\"sk-toggleable__control sk-hidden--visually\" id=\"sk-estimator-id-1\" type=\"checkbox\" checked><label for=\"sk-estimator-id-1\" class=\"sk-toggleable__label sk-toggleable__label-arrow\">MLPRegressor</label><div class=\"sk-toggleable__content\"><pre>MLPRegressor(max_iter=500, random_state=1)</pre></div></div></div></div></div>"
      ],
      "text/plain": [
       "MLPRegressor(max_iter=500, random_state=1)"
      ]
     },
     "execution_count": 28,
     "metadata": {},
     "output_type": "execute_result"
    }
   ],
   "source": [
    "model"
   ]
  },
  {
   "cell_type": "markdown",
   "metadata": {},
   "source": [
    "## Train the Model"
   ]
  },
  {
   "cell_type": "code",
   "execution_count": 29,
   "metadata": {},
   "outputs": [
    {
     "name": "stdout",
     "output_type": "stream",
     "text": [
      "Training Time: 38.241 s\n"
     ]
    }
   ],
   "source": [
    "t0 = time.time()\n",
    "model.fit(features_train, labels_train)\n",
    "print (\"Training Time:\", round(time.time()-t0, 3), \"s\")"
   ]
  },
  {
   "cell_type": "markdown",
   "metadata": {},
   "source": [
    "## Save the Model"
   ]
  },
  {
   "cell_type": "code",
   "execution_count": 30,
   "metadata": {},
   "outputs": [],
   "source": [
    "pickle.dump(model, open(trained_model_file, 'wb'))"
   ]
  },
  {
   "cell_type": "markdown",
   "metadata": {},
   "source": [
    "## Load the Model"
   ]
  },
  {
   "cell_type": "code",
   "execution_count": 31,
   "metadata": {},
   "outputs": [
    {
     "data": {
      "text/plain": [
       "'/p/lustre2/jha3/Wildfire/Wildfire_LDRD_SI/SJSU/03_Trained_Models/trained_model_08/trained_model_08_Regr_MLP.pkl'"
      ]
     },
     "execution_count": 31,
     "metadata": {},
     "output_type": "execute_result"
    }
   ],
   "source": [
    "trained_model_file"
   ]
  },
  {
   "cell_type": "code",
   "execution_count": 32,
   "metadata": {},
   "outputs": [],
   "source": [
    "model = pickle.load(open(trained_model_file, 'rb'))"
   ]
  },
  {
   "cell_type": "code",
   "execution_count": 33,
   "metadata": {},
   "outputs": [
    {
     "data": {
      "text/html": [
       "<style>#sk-container-id-2 {color: black;background-color: white;}#sk-container-id-2 pre{padding: 0;}#sk-container-id-2 div.sk-toggleable {background-color: white;}#sk-container-id-2 label.sk-toggleable__label {cursor: pointer;display: block;width: 100%;margin-bottom: 0;padding: 0.3em;box-sizing: border-box;text-align: center;}#sk-container-id-2 label.sk-toggleable__label-arrow:before {content: \"▸\";float: left;margin-right: 0.25em;color: #696969;}#sk-container-id-2 label.sk-toggleable__label-arrow:hover:before {color: black;}#sk-container-id-2 div.sk-estimator:hover label.sk-toggleable__label-arrow:before {color: black;}#sk-container-id-2 div.sk-toggleable__content {max-height: 0;max-width: 0;overflow: hidden;text-align: left;background-color: #f0f8ff;}#sk-container-id-2 div.sk-toggleable__content pre {margin: 0.2em;color: black;border-radius: 0.25em;background-color: #f0f8ff;}#sk-container-id-2 input.sk-toggleable__control:checked~div.sk-toggleable__content {max-height: 200px;max-width: 100%;overflow: auto;}#sk-container-id-2 input.sk-toggleable__control:checked~label.sk-toggleable__label-arrow:before {content: \"▾\";}#sk-container-id-2 div.sk-estimator input.sk-toggleable__control:checked~label.sk-toggleable__label {background-color: #d4ebff;}#sk-container-id-2 div.sk-label input.sk-toggleable__control:checked~label.sk-toggleable__label {background-color: #d4ebff;}#sk-container-id-2 input.sk-hidden--visually {border: 0;clip: rect(1px 1px 1px 1px);clip: rect(1px, 1px, 1px, 1px);height: 1px;margin: -1px;overflow: hidden;padding: 0;position: absolute;width: 1px;}#sk-container-id-2 div.sk-estimator {font-family: monospace;background-color: #f0f8ff;border: 1px dotted black;border-radius: 0.25em;box-sizing: border-box;margin-bottom: 0.5em;}#sk-container-id-2 div.sk-estimator:hover {background-color: #d4ebff;}#sk-container-id-2 div.sk-parallel-item::after {content: \"\";width: 100%;border-bottom: 1px solid gray;flex-grow: 1;}#sk-container-id-2 div.sk-label:hover label.sk-toggleable__label {background-color: #d4ebff;}#sk-container-id-2 div.sk-serial::before {content: \"\";position: absolute;border-left: 1px solid gray;box-sizing: border-box;top: 0;bottom: 0;left: 50%;z-index: 0;}#sk-container-id-2 div.sk-serial {display: flex;flex-direction: column;align-items: center;background-color: white;padding-right: 0.2em;padding-left: 0.2em;position: relative;}#sk-container-id-2 div.sk-item {position: relative;z-index: 1;}#sk-container-id-2 div.sk-parallel {display: flex;align-items: stretch;justify-content: center;background-color: white;position: relative;}#sk-container-id-2 div.sk-item::before, #sk-container-id-2 div.sk-parallel-item::before {content: \"\";position: absolute;border-left: 1px solid gray;box-sizing: border-box;top: 0;bottom: 0;left: 50%;z-index: -1;}#sk-container-id-2 div.sk-parallel-item {display: flex;flex-direction: column;z-index: 1;position: relative;background-color: white;}#sk-container-id-2 div.sk-parallel-item:first-child::after {align-self: flex-end;width: 50%;}#sk-container-id-2 div.sk-parallel-item:last-child::after {align-self: flex-start;width: 50%;}#sk-container-id-2 div.sk-parallel-item:only-child::after {width: 0;}#sk-container-id-2 div.sk-dashed-wrapped {border: 1px dashed gray;margin: 0 0.4em 0.5em 0.4em;box-sizing: border-box;padding-bottom: 0.4em;background-color: white;}#sk-container-id-2 div.sk-label label {font-family: monospace;font-weight: bold;display: inline-block;line-height: 1.2em;}#sk-container-id-2 div.sk-label-container {text-align: center;}#sk-container-id-2 div.sk-container {/* jupyter's `normalize.less` sets `[hidden] { display: none; }` but bootstrap.min.css set `[hidden] { display: none !important; }` so we also need the `!important` here to be able to override the default hidden behavior on the sphinx rendered scikit-learn.org. See: https://github.com/scikit-learn/scikit-learn/issues/21755 */display: inline-block !important;position: relative;}#sk-container-id-2 div.sk-text-repr-fallback {display: none;}</style><div id=\"sk-container-id-2\" class=\"sk-top-container\"><div class=\"sk-text-repr-fallback\"><pre>MLPRegressor(max_iter=500, random_state=1)</pre><b>In a Jupyter environment, please rerun this cell to show the HTML representation or trust the notebook. <br />On GitHub, the HTML representation is unable to render, please try loading this page with nbviewer.org.</b></div><div class=\"sk-container\" hidden><div class=\"sk-item\"><div class=\"sk-estimator sk-toggleable\"><input class=\"sk-toggleable__control sk-hidden--visually\" id=\"sk-estimator-id-2\" type=\"checkbox\" checked><label for=\"sk-estimator-id-2\" class=\"sk-toggleable__label sk-toggleable__label-arrow\">MLPRegressor</label><div class=\"sk-toggleable__content\"><pre>MLPRegressor(max_iter=500, random_state=1)</pre></div></div></div></div></div>"
      ],
      "text/plain": [
       "MLPRegressor(max_iter=500, random_state=1)"
      ]
     },
     "execution_count": 33,
     "metadata": {},
     "output_type": "execute_result"
    }
   ],
   "source": [
    "model"
   ]
  },
  {
   "cell_type": "markdown",
   "metadata": {},
   "source": [
    "# Prediction with Trained Model"
   ]
  },
  {
   "cell_type": "markdown",
   "metadata": {},
   "source": [
    "## Prediction on Train Data"
   ]
  },
  {
   "cell_type": "code",
   "execution_count": 34,
   "metadata": {},
   "outputs": [
    {
     "name": "stdout",
     "output_type": "stream",
     "text": [
      "Prediction Time: 1.02 s\n"
     ]
    }
   ],
   "source": [
    "t1 = time.time()\n",
    "labels_pred = model.predict(features_train)\n",
    "print (\"Prediction Time:\", round(time.time()-t1, 3), \"s\")"
   ]
  },
  {
   "cell_type": "code",
   "execution_count": 35,
   "metadata": {},
   "outputs": [],
   "source": [
    "if (label_type == 'bin' or 'label_type' == 'MC'):\n",
    "    accuracy = accuracy_score(labels_pred, labels_train)\n",
    "else:\n",
    "    accuracy = model.score(features_train, labels_train)\n",
    "conf_mat = None"
   ]
  },
  {
   "cell_type": "code",
   "execution_count": 36,
   "metadata": {},
   "outputs": [
    {
     "name": "stdout",
     "output_type": "stream",
     "text": [
      "Confusion Mat is not suitable for label_type: Regr\n",
      "Accuracy Score: 0.5783490623271323\n",
      "Confusion Matrix: \n",
      "None\n"
     ]
    }
   ],
   "source": [
    "if (label_type == 'bin'):\n",
    "    conf_mat = confusion_matrix(labels_train, labels_pred, labels = [0, 1])\n",
    "    print('Classification Report: \\n')\n",
    "    print(classification_report(labels_train, labels_pred, labels=[0, 1]))\n",
    "    average_precision = average_precision_score(labels_train, labels_pred)\n",
    "    print('Average precision-recall score: {0:0.2f}'.format(\n",
    "          average_precision))\n",
    "elif (label_type == 'MC'):\n",
    "    conf_mat = confusion_matrix(labels_train, labels_pred, labels = [0, 1, 2, 3, 4, 5, 6, 7, 8, 9])\n",
    "else:\n",
    "    print('Confusion Mat is not suitable for label_type: {}'.format(label_type))\n",
    "\n",
    "print('Accuracy Score: {}'.format(accuracy))\n",
    "print('Confusion Matrix: \\n{}'.format(conf_mat))"
   ]
  },
  {
   "cell_type": "markdown",
   "metadata": {},
   "source": [
    "## Prediction on Test Data"
   ]
  },
  {
   "cell_type": "code",
   "execution_count": 37,
   "metadata": {},
   "outputs": [
    {
     "name": "stdout",
     "output_type": "stream",
     "text": [
      "Prediction Time: 0.22 s\n"
     ]
    }
   ],
   "source": [
    "t1 = time.time()\n",
    "labels_pred = model.predict(features_test)\n",
    "print (\"Prediction Time:\", round(time.time()-t1, 3), \"s\")"
   ]
  },
  {
   "cell_type": "code",
   "execution_count": 38,
   "metadata": {},
   "outputs": [],
   "source": [
    "if (label_type == 'bin' or 'label_type' == 'MC'):\n",
    "    accuracy = accuracy_score(labels_pred, labels_test)\n",
    "else:\n",
    "    accuracy = model.score(features_test, labels_test)\n",
    "conf_mat = None"
   ]
  },
  {
   "cell_type": "code",
   "execution_count": 39,
   "metadata": {},
   "outputs": [
    {
     "name": "stdout",
     "output_type": "stream",
     "text": [
      "Confusion Mat is not suitable for label_type: Regr\n",
      "Accuracy Score: 0.5704687906138395\n",
      "Confusion Matrix: \n",
      "None\n"
     ]
    }
   ],
   "source": [
    "if (label_type == 'bin'):\n",
    "    conf_mat = confusion_matrix(labels_test, labels_pred, labels = [0, 1])\n",
    "    print('Classification Report: \\n')\n",
    "    print(classification_report(labels_test, labels_pred, labels=[0, 1]))\n",
    "    average_precision = average_precision_score(labels_test, labels_pred)\n",
    "    print('Average precision-recall score: {0:0.2f}'.format(\n",
    "          average_precision))\n",
    "elif (label_type == 'MC'):\n",
    "    conf_mat = confusion_matrix(labels_test, labels_pred, labels = [0, 1, 2, 3, 4, 5, 6, 7, 8, 9])\n",
    "else:\n",
    "    print('Confusion Mat is not suitable for label_type: {}'.format(label_type))\n",
    "\n",
    "print('Accuracy Score: {}'.format(accuracy))\n",
    "print('Confusion Matrix: \\n{}'.format(conf_mat))"
   ]
  },
  {
   "cell_type": "markdown",
   "metadata": {},
   "source": [
    "## Prediction on Fire Data"
   ]
  },
  {
   "cell_type": "code",
   "execution_count": 40,
   "metadata": {},
   "outputs": [
    {
     "name": "stdout",
     "output_type": "stream",
     "text": [
      "Prediction Time: 0.28 s\n"
     ]
    }
   ],
   "source": [
    "t1 = time.time()\n",
    "labels_pred = model.predict(X_fire_scaled)\n",
    "print (\"Prediction Time:\", round(time.time()-t1, 3), \"s\")"
   ]
  },
  {
   "cell_type": "code",
   "execution_count": 41,
   "metadata": {},
   "outputs": [],
   "source": [
    "if (label_type == 'bin' or 'label_type' == 'MC'):\n",
    "    accuracy = accuracy_score(labels_pred, y_fire)\n",
    "else:\n",
    "    accuracy = model.score(X_fire_scaled, y_fire)\n",
    "conf_mat = None"
   ]
  },
  {
   "cell_type": "code",
   "execution_count": 42,
   "metadata": {},
   "outputs": [
    {
     "name": "stdout",
     "output_type": "stream",
     "text": [
      "Confusion Mat is not suitable for label_type: Regr\n",
      "Accuracy Score: -1.6943737631053337\n",
      "Confusion Matrix: \n",
      "None\n"
     ]
    }
   ],
   "source": [
    "if (label_type == 'bin'):\n",
    "    conf_mat = confusion_matrix(y_fire, labels_pred, labels = [0, 1])\n",
    "    print('Classification Report: \\n')\n",
    "    print(classification_report(y_fire, labels_pred, labels=[0, 1]))\n",
    "    average_precision = average_precision_score(y_fire, labels_pred)\n",
    "    print('Average precision-recall score: {0:0.2f}'.format(\n",
    "          average_precision))\n",
    "elif (label_type == 'MC'):\n",
    "    conf_mat = confusion_matrix(y_fire, labels_pred, labels = [0, 1, 2, 3, 4, 5, 6, 7, 8, 9])\n",
    "else:\n",
    "    print('Confusion Mat is not suitable for label_type: {}'.format(label_type))\n",
    "\n",
    "print('Accuracy Score: {}'.format(accuracy))\n",
    "print('Confusion Matrix: \\n{}'.format(conf_mat))"
   ]
  },
  {
   "cell_type": "markdown",
   "metadata": {},
   "source": [
    "## Plot Ground Truth and Prediction of Fire Data"
   ]
  },
  {
   "cell_type": "code",
   "execution_count": 43,
   "metadata": {},
   "outputs": [],
   "source": [
    "ny, nx = (480, 396)\n",
    "j_indices = idy_fire['j_ind']\n",
    "i_indices = idy_fire['i_ind']\n",
    "ground_truth = y_fire"
   ]
  },
  {
   "cell_type": "code",
   "execution_count": 44,
   "metadata": {},
   "outputs": [],
   "source": [
    "if label_type == 'Regr':\n",
    "    ground_truth_mat = np.full((ny,nx), np.nan)\n",
    "    pred_mat = np.full_like(ground_truth_mat, np.nan )\n",
    "    error_mat = np.full_like(ground_truth_mat, np.nan)\n",
    "else:\n",
    "    ground_truth_mat = np.ones((ny,nx), int)*(-1)\n",
    "    pred_mat = np.ones_like(ground_truth_mat, int)*(-1)\n",
    "    error_mat = np.ones_like(ground_truth_mat, int)*(-1)"
   ]
  },
  {
   "cell_type": "code",
   "execution_count": 52,
   "metadata": {},
   "outputs": [],
   "source": [
    "for j_loc, i_loc, gt_val, pred_val in zip (j_indices, i_indices, ground_truth, labels_pred):\n",
    "    ground_truth_mat[j_loc][i_loc] = gt_val\n",
    "    pred_mat[        j_loc][i_loc] = pred_val\n",
    "    if (label_type == 'bin' or 'label_type' == 'MC'):\n",
    "        error_mat[       j_loc][i_loc] = (gt_val == pred_val)\n",
    "    else:\n",
    "        error_mat[       j_loc][i_loc] = 100.0*(pred_val/gt_val - 1.0)"
   ]
  },
  {
   "cell_type": "code",
   "execution_count": 53,
   "metadata": {},
   "outputs": [],
   "source": [
    "#error_mat"
   ]
  },
  {
   "cell_type": "code",
   "execution_count": 57,
   "metadata": {},
   "outputs": [
    {
     "data": {
      "image/png": "[encoded data removed]",
      "text/plain": [
       "<Figure size 1200x300 with 6 Axes>"
      ]
     },
     "metadata": {},
     "output_type": "display_data"
    }
   ],
   "source": [
    "cmap_name = 'hot'\n",
    "cont_levels = [-1, 0, 1, 2, 3, 4, 5, 6, 7, 8, 9]\n",
    "cont_levels = np.linspace(0, 0.28, 21)\n",
    "cont_levels_err = np.linspace(-75.0, 75.0, 21)\n",
    "fig, ax = plt.subplots(1, 3, figsize=(12, 3))\n",
    "\n",
    "x_ind, y_ind = np.meshgrid(range(nx), range(ny))\n",
    "\n",
    "cont = ax[0].contourf(x_ind, y_ind, ground_truth_mat, levels = cont_levels, cmap=cmap_name, extend='both')\n",
    "plt.colorbar(cont)\n",
    "ax[0].set_title('Ground Truth')\n",
    "ax[0].set_xticks([])\n",
    "ax[0].set_yticks([])\n",
    "\n",
    "cont = ax[1].contourf(x_ind, y_ind, pred_mat, levels = cont_levels, cmap=cmap_name, extend='both')\n",
    "plt.colorbar(cont)\n",
    "ax[1].set_title('Prediction')\n",
    "ax[1].set_xticks([])\n",
    "ax[1].set_yticks([])\n",
    "\n",
    "cont = ax[2].contourf(x_ind, y_ind, error_mat, levels = cont_levels_err, cmap=cmap_name, extend='both')\n",
    "plt.colorbar(cont)\n",
    "ax[2].set_title('Correct Match')\n",
    "ax[2].set_xticks([])\n",
    "ax[2].set_yticks([])\n",
    "\n",
    "filename = trained_model_name.split('.')[0] + '_{}_Fire.png'.format(fire_name)\n",
    "filedir = analysis_loc\n",
    "os.system('mkdir -p %s'%filedir)\n",
    "\n",
    "plt.savefig(os.path.join(filedir, filename), bbox_inches='tight')"
   ]
  },
  {
   "cell_type": "markdown",
   "metadata": {},
   "source": [
    "# Global End Time and Memory"
   ]
  },
  {
   "cell_type": "code",
   "execution_count": 48,
   "metadata": {},
   "outputs": [
    {
     "name": "stdout",
     "output_type": "stream",
     "text": [
      "Total memory consumed: 1243.715 MB\n",
      "Total computing time: 46.875 s\n",
      "=========================================================================\n",
      "SUCCESS: Done Training and Testing of Model\n"
     ]
    }
   ],
   "source": [
    "global_final_memory = processﬁ.memory_info().rss\n",
    "global_end_time = timer()\n",
    "global_memory_consumed = global_final_memory - global_initial_memory\n",
    "print('Total memory consumed: {:.3f} MB'.format(global_memory_consumed/(1024*1024)))\n",
    "print('Total computing time: {:.3f} s'.format(global_end_time - global_start_time))\n",
    "print('=========================================================================')\n",
    "print(\"SUCCESS: Done Training and Testing of Model\")"
   ]
  },
  {
   "cell_type": "code",
   "execution_count": null,
   "metadata": {},
   "outputs": [],
   "source": []
  }
 ],
 "metadata": {
  "kernelspec": {
   "display_name": "py3_ml_conda",
   "language": "python",
   "name": "py3_ml"
  },
  "language_info": {
   "codemirror_mode": {
    "name": "ipython",
    "version": 3
   },
   "file_extension": ".py",
   "mimetype": "text/x-python",
   "name": "python",
   "nbconvert_exporter": "python",
   "pygments_lexer": "ipython3",
   "version": "3.10.9"
  }
 },
 "nbformat": 4,
 "nbformat_minor": 4
}
