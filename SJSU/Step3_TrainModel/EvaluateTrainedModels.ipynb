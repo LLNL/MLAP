{
 "cells": [
  {
   "cell_type": "code",
   "execution_count": 1,
   "id": "07b5bda2",
   "metadata": {},
   "outputs": [],
   "source": [
    "import os\n",
    "import sys\n",
    "import os.path as path\n",
    "import numpy as np\n",
    "import pandas as pd\n",
    "import csv\n",
    "import pickle\n",
    "import json\n",
    "from matplotlib import pyplot as plt\n",
    "from mpl_toolkits import mplot3d\n",
    "from datetime import date, datetime, timedelta, time\n",
    "from timeit import default_timer as timer\n",
    "import time"
   ]
  },
  {
   "cell_type": "code",
   "execution_count": 2,
   "id": "f2e8c1fa",
   "metadata": {},
   "outputs": [],
   "source": [
    "json_files_base_loc = '/p/lustre2/jha3/Wildfire/Wildfire_LDRD_SI/InputJson'"
   ]
  },
  {
   "cell_type": "code",
   "execution_count": 3,
   "id": "55a5b6f1",
   "metadata": {},
   "outputs": [],
   "source": [
    "json_extract_base = os.path.join(json_files_base_loc, 'Extract/json_extract_data')\n",
    "json_extract_counts = [2, 3, 4, 5, 6, 7, 8]"
   ]
  },
  {
   "cell_type": "code",
   "execution_count": 4,
   "id": "beed9a33",
   "metadata": {},
   "outputs": [],
   "source": [
    "json_prep_base = os.path.join(json_files_base_loc, 'Prep/json_prep_data_label')\n",
    "json_prep_counts = [1, 2, 3]"
   ]
  },
  {
   "cell_type": "code",
   "execution_count": 5,
   "id": "4d9d590c",
   "metadata": {},
   "outputs": [],
   "source": [
    "json_train_base = os.path.join(json_files_base_loc, 'Train/json_train_model')\n",
    "json_train_counts = [1, 2, 3]"
   ]
  },
  {
   "cell_type": "code",
   "execution_count": 6,
   "id": "055c4bbb",
   "metadata": {},
   "outputs": [],
   "source": [
    "trained_models_metrics = dict()"
   ]
  },
  {
   "cell_type": "code",
   "execution_count": 7,
   "id": "efa5c249",
   "metadata": {},
   "outputs": [
    {
     "name": "stdout",
     "output_type": "stream",
     "text": [
      "label_count: 1, FM_label_type: Regression, Model Count: 1, Model Name: MLP\n",
      "metric_for_model: \n",
      "{'data_nomenclature': [2, 3, 4, 5, 6, 7, 8], 'accuracy_train': [0.6000994370433408, 0.567841072738817, 0.5853448926528146, 0.5603487564600678, 0.5934833580653801, 0.5669169598154872, 0.5672453131177531], 'accuracy_test': [0.5965433263112541, 0.560285465686048, 0.5850084078336012, 0.5535156463408026, 0.5980547415927431, 0.5597215900563917, 0.5647955134960587]}\n",
      "\n",
      "\n",
      "label_count: 1, FM_label_type: Regression, Model Count: 2, Model Name: SVM\n",
      "metric_for_model: \n",
      "{'data_nomenclature': [2, 3, 4, 5, 6, 7, 8], 'accuracy_train': [0.5635497908014752, 0.5293258135727281, 0.5553277937725674, 0.5836753842794866, 0.5489985861926696, 0.5560215632884404, 0.5537564239533981], 'accuracy_test': [0.5437626864313565, 0.5184284687901803, 0.5338264305361053, 0.5425752353286264, 0.5213695755643675, 0.5217739213416239, 0.522832532137635]}\n",
      "\n",
      "\n",
      "label_count: 1, FM_label_type: Regression, Model Count: 3, Model Name: RF\n",
      "metric_for_model: \n",
      "{'data_nomenclature': [2, 3, 4, 5, 6, 7, 8], 'accuracy_train': [0.964043532170952, 0.955801773833631, 0.9612596078217184, 0.9605584363562452, 0.9665868973838444, 0.9591913454249356, 0.959757720154124], 'accuracy_test': [0.7391556817760752, 0.681764038527214, 0.7232382725229567, 0.711422416448908, 0.7674578654558623, 0.710826599721978, 0.7243159938905095]}\n",
      "\n",
      "\n",
      "metric_for_label: \n",
      "{'MLP': {'data_nomenclature': [2, 3, 4, 5, 6, 7, 8], 'accuracy_train': [0.6000994370433408, 0.567841072738817, 0.5853448926528146, 0.5603487564600678, 0.5934833580653801, 0.5669169598154872, 0.5672453131177531], 'accuracy_test': [0.5965433263112541, 0.560285465686048, 0.5850084078336012, 0.5535156463408026, 0.5980547415927431, 0.5597215900563917, 0.5647955134960587]}, 'SVM': {'data_nomenclature': [2, 3, 4, 5, 6, 7, 8], 'accuracy_train': [0.5635497908014752, 0.5293258135727281, 0.5553277937725674, 0.5836753842794866, 0.5489985861926696, 0.5560215632884404, 0.5537564239533981], 'accuracy_test': [0.5437626864313565, 0.5184284687901803, 0.5338264305361053, 0.5425752353286264, 0.5213695755643675, 0.5217739213416239, 0.522832532137635]}, 'RF': {'data_nomenclature': [2, 3, 4, 5, 6, 7, 8], 'accuracy_train': [0.964043532170952, 0.955801773833631, 0.9612596078217184, 0.9605584363562452, 0.9665868973838444, 0.9591913454249356, 0.959757720154124], 'accuracy_test': [0.7391556817760752, 0.681764038527214, 0.7232382725229567, 0.711422416448908, 0.7674578654558623, 0.710826599721978, 0.7243159938905095]}}\n",
      "\n",
      "\n",
      "label_count: 2, FM_label_type: Binary, Model Count: 1, Model Name: MLP\n",
      "metric_for_model: \n",
      "{'data_nomenclature': [2, 3, 4, 5, 6, 7, 8], 'accuracy_train': [0.9476458333333332, 0.94601875, 0.945615, 0.9497125, 0.9369541666666666, 0.9478625, 0.94742], 'accuracy_test': [0.9463333333333334, 0.945, 0.94479, 0.94775, 0.9375333333333332, 0.9484, 0.94871]}\n",
      "\n",
      "\n",
      "label_count: 2, FM_label_type: Binary, Model Count: 2, Model Name: SVM\n",
      "metric_for_model: \n",
      "{'data_nomenclature': [2, 3, 4, 5, 6, 7, 8], 'accuracy_train': [0.9440958333333334, 0.944175, 0.9444075, 0.9478125, 0.9336875, 0.94709375, 0.94453], 'accuracy_test': [0.9441666666666668, 0.9441, 0.94345, 0.9469, 0.9333666666666668, 0.946725, 0.94371]}\n",
      "\n",
      "\n",
      "label_count: 2, FM_label_type: Binary, Model Count: 3, Model Name: RF\n",
      "metric_for_model: \n",
      "{'data_nomenclature': [2, 3, 4, 5, 6, 7, 8], 'accuracy_train': [0.9999916666666666, 0.9999875, 0.99997, 0.9999875, 0.9999916666666666, 0.9999625, 0.9999875], 'accuracy_test': [0.9612166666666668, 0.95685, 0.95719, 0.96095, 0.9551833333333334, 0.956775, 0.96085]}\n",
      "\n",
      "\n",
      "metric_for_label: \n",
      "{'MLP': {'data_nomenclature': [2, 3, 4, 5, 6, 7, 8], 'accuracy_train': [0.9476458333333332, 0.94601875, 0.945615, 0.9497125, 0.9369541666666666, 0.9478625, 0.94742], 'accuracy_test': [0.9463333333333334, 0.945, 0.94479, 0.94775, 0.9375333333333332, 0.9484, 0.94871]}, 'SVM': {'data_nomenclature': [2, 3, 4, 5, 6, 7, 8], 'accuracy_train': [0.9440958333333334, 0.944175, 0.9444075, 0.9478125, 0.9336875, 0.94709375, 0.94453], 'accuracy_test': [0.9441666666666668, 0.9441, 0.94345, 0.9469, 0.9333666666666668, 0.946725, 0.94371]}, 'RF': {'data_nomenclature': [2, 3, 4, 5, 6, 7, 8], 'accuracy_train': [0.9999916666666666, 0.9999875, 0.99997, 0.9999875, 0.9999916666666666, 0.9999625, 0.9999875], 'accuracy_test': [0.9612166666666668, 0.95685, 0.95719, 0.96095, 0.9551833333333334, 0.956775, 0.96085]}}\n",
      "\n",
      "\n",
      "label_count: 3, FM_label_type: MultiClass, Model Count: 1, Model Name: MLP\n",
      "metric_for_model: \n",
      "{'data_nomenclature': [2, 3, 4, 5, 6, 7, 8], 'accuracy_train': [0.3834666666666667, 0.37860625, 0.3545625, 0.37585, 0.4065666666666667, 0.382925, 0.3632575], 'accuracy_test': [0.3825166666666666, 0.378075, 0.35431, 0.36865, 0.4096, 0.379875, 0.36386]}\n",
      "\n",
      "\n",
      "label_count: 3, FM_label_type: MultiClass, Model Count: 2, Model Name: SVM\n",
      "metric_for_model: \n",
      "{'data_nomenclature': [2, 3, 4, 5, 6, 7, 8], 'accuracy_train': [0.4060541666666666, 0.39565625, 0.370705, 0.4065375, 0.4365333333333333, 0.40604375, 0.387205], 'accuracy_test': [0.3946, 0.3868, 0.35966, 0.38715, 0.4241333333333333, 0.393375, 0.37593]}\n",
      "\n",
      "\n",
      "label_count: 3, FM_label_type: MultiClass, Model Count: 3, Model Name: RF\n",
      "metric_for_model: \n",
      "{'data_nomenclature': [2, 3, 4, 5, 6, 7, 8], 'accuracy_train': [1.0, 1.0, 1.0, 1.0, 1.0, 1.0, 0.9999975], 'accuracy_test': [0.55395, 0.508425, 0.5121, 0.52555, 0.5840833333333333, 0.517575, 0.53217]}\n",
      "\n",
      "\n",
      "metric_for_label: \n",
      "{'MLP': {'data_nomenclature': [2, 3, 4, 5, 6, 7, 8], 'accuracy_train': [0.3834666666666667, 0.37860625, 0.3545625, 0.37585, 0.4065666666666667, 0.382925, 0.3632575], 'accuracy_test': [0.3825166666666666, 0.378075, 0.35431, 0.36865, 0.4096, 0.379875, 0.36386]}, 'SVM': {'data_nomenclature': [2, 3, 4, 5, 6, 7, 8], 'accuracy_train': [0.4060541666666666, 0.39565625, 0.370705, 0.4065375, 0.4365333333333333, 0.40604375, 0.387205], 'accuracy_test': [0.3946, 0.3868, 0.35966, 0.38715, 0.4241333333333333, 0.393375, 0.37593]}, 'RF': {'data_nomenclature': [2, 3, 4, 5, 6, 7, 8], 'accuracy_train': [1.0, 1.0, 1.0, 1.0, 1.0, 1.0, 0.9999975], 'accuracy_test': [0.55395, 0.508425, 0.5121, 0.52555, 0.5840833333333333, 0.517575, 0.53217]}}\n",
      "\n",
      "\n",
      "trained_models_metrics: \n",
      "{'Regression': {'MLP': {'data_nomenclature': [2, 3, 4, 5, 6, 7, 8], 'accuracy_train': [0.6000994370433408, 0.567841072738817, 0.5853448926528146, 0.5603487564600678, 0.5934833580653801, 0.5669169598154872, 0.5672453131177531], 'accuracy_test': [0.5965433263112541, 0.560285465686048, 0.5850084078336012, 0.5535156463408026, 0.5980547415927431, 0.5597215900563917, 0.5647955134960587]}, 'SVM': {'data_nomenclature': [2, 3, 4, 5, 6, 7, 8], 'accuracy_train': [0.5635497908014752, 0.5293258135727281, 0.5553277937725674, 0.5836753842794866, 0.5489985861926696, 0.5560215632884404, 0.5537564239533981], 'accuracy_test': [0.5437626864313565, 0.5184284687901803, 0.5338264305361053, 0.5425752353286264, 0.5213695755643675, 0.5217739213416239, 0.522832532137635]}, 'RF': {'data_nomenclature': [2, 3, 4, 5, 6, 7, 8], 'accuracy_train': [0.964043532170952, 0.955801773833631, 0.9612596078217184, 0.9605584363562452, 0.9665868973838444, 0.9591913454249356, 0.959757720154124], 'accuracy_test': [0.7391556817760752, 0.681764038527214, 0.7232382725229567, 0.711422416448908, 0.7674578654558623, 0.710826599721978, 0.7243159938905095]}}, 'Binary': {'MLP': {'data_nomenclature': [2, 3, 4, 5, 6, 7, 8], 'accuracy_train': [0.9476458333333332, 0.94601875, 0.945615, 0.9497125, 0.9369541666666666, 0.9478625, 0.94742], 'accuracy_test': [0.9463333333333334, 0.945, 0.94479, 0.94775, 0.9375333333333332, 0.9484, 0.94871]}, 'SVM': {'data_nomenclature': [2, 3, 4, 5, 6, 7, 8], 'accuracy_train': [0.9440958333333334, 0.944175, 0.9444075, 0.9478125, 0.9336875, 0.94709375, 0.94453], 'accuracy_test': [0.9441666666666668, 0.9441, 0.94345, 0.9469, 0.9333666666666668, 0.946725, 0.94371]}, 'RF': {'data_nomenclature': [2, 3, 4, 5, 6, 7, 8], 'accuracy_train': [0.9999916666666666, 0.9999875, 0.99997, 0.9999875, 0.9999916666666666, 0.9999625, 0.9999875], 'accuracy_test': [0.9612166666666668, 0.95685, 0.95719, 0.96095, 0.9551833333333334, 0.956775, 0.96085]}}, 'MultiClass': {'MLP': {'data_nomenclature': [2, 3, 4, 5, 6, 7, 8], 'accuracy_train': [0.3834666666666667, 0.37860625, 0.3545625, 0.37585, 0.4065666666666667, 0.382925, 0.3632575], 'accuracy_test': [0.3825166666666666, 0.378075, 0.35431, 0.36865, 0.4096, 0.379875, 0.36386]}, 'SVM': {'data_nomenclature': [2, 3, 4, 5, 6, 7, 8], 'accuracy_train': [0.4060541666666666, 0.39565625, 0.370705, 0.4065375, 0.4365333333333333, 0.40604375, 0.387205], 'accuracy_test': [0.3946, 0.3868, 0.35966, 0.38715, 0.4241333333333333, 0.393375, 0.37593]}, 'RF': {'data_nomenclature': [2, 3, 4, 5, 6, 7, 8], 'accuracy_train': [1.0, 1.0, 1.0, 1.0, 1.0, 1.0, 0.9999975], 'accuracy_test': [0.55395, 0.508425, 0.5121, 0.52555, 0.5840833333333333, 0.517575, 0.53217]}}}\n",
      "\n",
      "\n"
     ]
    }
   ],
   "source": [
    "for label_count in json_prep_counts:\n",
    "    metric_for_label = dict()\n",
    "    json_prep    = '%s_%03d.json'%(json_prep_base, label_count)\n",
    "    #print(json_prep)\n",
    "    with open(json_prep) as json_file_handle:\n",
    "        json_content_prep_data = json.load(json_file_handle)\n",
    "    label_count = json_content_prep_data['label_defn']['label_count']\n",
    "    FM_label_type = json_content_prep_data['FM_labels']['label_type']\n",
    "    #print('label_count: {}, FM_label_type: {}'.format(label_count, FM_label_type))\n",
    "    \n",
    "    for train_count in json_train_counts:\n",
    "        metric_for_model = dict()\n",
    "        json_train   = '%s_%03d.json'%(json_train_base, train_count)\n",
    "        #print(json_train)\n",
    "        with open(json_train) as json_file_handle:\n",
    "            json_content_train_model = json.load(json_file_handle)\n",
    "        model_count = json_content_train_model['models']['model_count']\n",
    "        model_name = json_content_train_model['models']['model_name'] # ['RF', SVM', 'MLP']\n",
    "        #print('Model Count: {}, Model Name: {}'.format(model_count, model_name))\n",
    "\n",
    "        accuracy_train = []\n",
    "        accuracy_test = []\n",
    "        data_nomenclature = []\n",
    "        for data_count in json_extract_counts:\n",
    "            data_nomenclature.append(data_count)\n",
    "            \n",
    "            json_extract = '%s_%03d.json'%(json_extract_base, data_count)\n",
    "            #print(json_extract)\n",
    "            with open(json_extract) as json_file_handle:\n",
    "                json_content_extract_data = json.load(json_file_handle)\n",
    "            data_set_count = json_content_extract_data['data_set_defn']['data_set_count']\n",
    "            #print('Data Set Count: {}'.format(data_set_count))\n",
    "            \n",
    "            # Names of trained model and related files\n",
    "            trained_model_base_loc = json_content_train_model['paths']['trained_model_base_loc']\n",
    "            trained_model_name = 'dataset_%03d_label_%03d_%s_model_%03d_%s'%(data_set_count, \\\n",
    "                                                        label_count, FM_label_type, \\\n",
    "                                                        model_count, model_name)\n",
    "\n",
    "            trained_model_loc = os.path.join(trained_model_base_loc, trained_model_name)\n",
    "            model_eval_file = '{}_eval'.format(trained_model_name)\n",
    "            model_metric_file = os.path.join(trained_model_loc, model_eval_file+'.csv')\n",
    "            #trained_model_file_name = '{}.pkl'.format(trained_model_name)\n",
    "            #print('Trained Model Location: {}'.format(trained_model_loc))\n",
    "            #print('Trained Model Metrric File: {}'.format(model_metric_file))\n",
    "            \n",
    "            eval_metric = pd.read_csv(model_metric_file).to_dict(orient='records')[0]\n",
    "            #print('Eval Metrics: {}'.format(eval_metric))\n",
    "            accuracy_train.append(eval_metric['accuracy_train'])\n",
    "            accuracy_test.append(eval_metric['accuracy_test'])\n",
    "            #print('\\n')\n",
    "            \n",
    "        print('label_count: {}, FM_label_type: {}, Model Count: {}, Model Name: {}'.format(\n",
    "            label_count, FM_label_type, model_count, model_name))\n",
    "        #print('data_nomenclature: {}'.format(data_nomenclature))\n",
    "        #print('accuracy_train: {}'.format(accuracy_train))\n",
    "        #print('accuracy_test: {}'.format(accuracy_test))\n",
    "        \n",
    "        metric_for_model['data_nomenclature'] = data_nomenclature\n",
    "        metric_for_model['accuracy_train'] = accuracy_train\n",
    "        metric_for_model['accuracy_test'] = accuracy_test\n",
    "        \n",
    "        print('metric_for_model: \\n{}'.format(metric_for_model))\n",
    "        print('\\n')\n",
    "        metric_for_label[model_name] = metric_for_model\n",
    "        \n",
    "    print('metric_for_label: \\n{}'.format(metric_for_label))\n",
    "    print('\\n')\n",
    "    \n",
    "    trained_models_metrics[FM_label_type] =  metric_for_label\n",
    "    \n",
    "print('trained_models_metrics: \\n{}'.format(trained_models_metrics))\n",
    "print('\\n')            "
   ]
  },
  {
   "cell_type": "code",
   "execution_count": 8,
   "id": "0d66eb8d",
   "metadata": {},
   "outputs": [
    {
     "data": {
      "text/plain": [
       "[2, 3, 4, 5, 6, 7, 8]"
      ]
     },
     "execution_count": 8,
     "metadata": {},
     "output_type": "execute_result"
    }
   ],
   "source": [
    "data_nomenclature"
   ]
  },
  {
   "cell_type": "code",
   "execution_count": 9,
   "id": "ce4b71e5",
   "metadata": {},
   "outputs": [],
   "source": [
    "ds_name = np.array(data_nomenclature)"
   ]
  },
  {
   "cell_type": "code",
   "execution_count": 10,
   "id": "51999c0d",
   "metadata": {},
   "outputs": [
    {
     "data": {
      "text/plain": [
       "array([2, 3, 4, 5, 6, 7, 8])"
      ]
     },
     "execution_count": 10,
     "metadata": {},
     "output_type": "execute_result"
    }
   ],
   "source": [
    "ds_name"
   ]
  },
  {
   "cell_type": "code",
   "execution_count": 11,
   "id": "959711ad",
   "metadata": {},
   "outputs": [
    {
     "data": {
      "text/plain": [
       "'Regression'"
      ]
     },
     "execution_count": 11,
     "metadata": {},
     "output_type": "execute_result"
    }
   ],
   "source": [
    "labels = list(trained_models_metrics.keys())\n",
    "labels[0]"
   ]
  },
  {
   "cell_type": "code",
   "execution_count": null,
   "id": "8c6abca3",
   "metadata": {},
   "outputs": [],
   "source": []
  },
  {
   "cell_type": "code",
   "execution_count": 12,
   "id": "2518f4eb",
   "metadata": {},
   "outputs": [
    {
     "data": {
      "text/plain": [
       "['MLP', 'SVM', 'RF']"
      ]
     },
     "execution_count": 12,
     "metadata": {},
     "output_type": "execute_result"
    }
   ],
   "source": [
    "models = list(trained_models_metrics[labels[0]].keys())\n",
    "models"
   ]
  },
  {
   "cell_type": "code",
   "execution_count": 13,
   "id": "9fc938eb",
   "metadata": {},
   "outputs": [
    {
     "data": {
      "text/plain": [
       "Text(0.5, 1.0, 'Test')"
      ]
     },
     "execution_count": 13,
     "metadata": {},
     "output_type": "execute_result"
    },
    {
     "data": {
      "image/png": "[encoded data removed]",
      "text/plain": [
       "<Figure size 640x480 with 1 Axes>"
      ]
     },
     "metadata": {},
     "output_type": "display_data"
    },
    {
     "data": {
      "image/png": "[encoded data removed]",
      "text/plain": [
       "<Figure size 640x480 with 1 Axes>"
      ]
     },
     "metadata": {},
     "output_type": "display_data"
    }
   ],
   "source": [
    "label = 'Regression'\n",
    "train_accuracy_all_models = dict()\n",
    "test_accuracy_all_models = dict()\n",
    "for model in models:\n",
    "    train_accuracy_all_models[model] = trained_models_metrics[label][model]['accuracy_train']\n",
    "    test_accuracy_all_models[model] = trained_models_metrics[label][model]['accuracy_test']\n",
    "    \n",
    "    df_train = pd.DataFrame(train_accuracy_all_models, index = ds_name)\n",
    "    df_test  = pd.DataFrame(test_accuracy_all_models, index = ds_name)\n",
    "    \n",
    "ax1 = df_train.plot.bar(rot = 0)\n",
    "ax1.set_xlabel('DS')\n",
    "ax1.set_ylabel('Accuracy')\n",
    "ax1.set_title('Train')\n",
    "\n",
    "ax2 = df_test.plot.bar(rot = 0)\n",
    "ax2.set_xlabel('DS')\n",
    "ax2.set_ylabel('Accuracy')\n",
    "ax2.set_title('Test')"
   ]
  },
  {
   "cell_type": "code",
   "execution_count": 14,
   "id": "30035a8d",
   "metadata": {},
   "outputs": [
    {
     "data": {
      "text/html": [
       "<div>\n",
       "<style scoped>\n",
       "    .dataframe tbody tr th:only-of-type {\n",
       "        vertical-align: middle;\n",
       "    }\n",
       "\n",
       "    .dataframe tbody tr th {\n",
       "        vertical-align: top;\n",
       "    }\n",
       "\n",
       "    .dataframe thead th {\n",
       "        text-align: right;\n",
       "    }\n",
       "</style>\n",
       "<table border=\"1\" class=\"dataframe\">\n",
       "  <thead>\n",
       "    <tr style=\"text-align: right;\">\n",
       "      <th></th>\n",
       "      <th>MLP</th>\n",
       "      <th>SVM</th>\n",
       "      <th>RF</th>\n",
       "    </tr>\n",
       "  </thead>\n",
       "  <tbody>\n",
       "    <tr>\n",
       "      <th>2</th>\n",
       "      <td>0.600099</td>\n",
       "      <td>0.563550</td>\n",
       "      <td>0.964044</td>\n",
       "    </tr>\n",
       "    <tr>\n",
       "      <th>3</th>\n",
       "      <td>0.567841</td>\n",
       "      <td>0.529326</td>\n",
       "      <td>0.955802</td>\n",
       "    </tr>\n",
       "    <tr>\n",
       "      <th>4</th>\n",
       "      <td>0.585345</td>\n",
       "      <td>0.555328</td>\n",
       "      <td>0.961260</td>\n",
       "    </tr>\n",
       "    <tr>\n",
       "      <th>5</th>\n",
       "      <td>0.560349</td>\n",
       "      <td>0.583675</td>\n",
       "      <td>0.960558</td>\n",
       "    </tr>\n",
       "    <tr>\n",
       "      <th>6</th>\n",
       "      <td>0.593483</td>\n",
       "      <td>0.548999</td>\n",
       "      <td>0.966587</td>\n",
       "    </tr>\n",
       "    <tr>\n",
       "      <th>7</th>\n",
       "      <td>0.566917</td>\n",
       "      <td>0.556022</td>\n",
       "      <td>0.959191</td>\n",
       "    </tr>\n",
       "    <tr>\n",
       "      <th>8</th>\n",
       "      <td>0.567245</td>\n",
       "      <td>0.553756</td>\n",
       "      <td>0.959758</td>\n",
       "    </tr>\n",
       "  </tbody>\n",
       "</table>\n",
       "</div>"
      ],
      "text/plain": [
       "        MLP       SVM        RF\n",
       "2  0.600099  0.563550  0.964044\n",
       "3  0.567841  0.529326  0.955802\n",
       "4  0.585345  0.555328  0.961260\n",
       "5  0.560349  0.583675  0.960558\n",
       "6  0.593483  0.548999  0.966587\n",
       "7  0.566917  0.556022  0.959191\n",
       "8  0.567245  0.553756  0.959758"
      ]
     },
     "execution_count": 14,
     "metadata": {},
     "output_type": "execute_result"
    }
   ],
   "source": [
    "df_train"
   ]
  },
  {
   "cell_type": "code",
   "execution_count": 15,
   "id": "3b7cc96f",
   "metadata": {},
   "outputs": [
    {
     "data": {
      "text/html": [
       "<div>\n",
       "<style scoped>\n",
       "    .dataframe tbody tr th:only-of-type {\n",
       "        vertical-align: middle;\n",
       "    }\n",
       "\n",
       "    .dataframe tbody tr th {\n",
       "        vertical-align: top;\n",
       "    }\n",
       "\n",
       "    .dataframe thead th {\n",
       "        text-align: right;\n",
       "    }\n",
       "</style>\n",
       "<table border=\"1\" class=\"dataframe\">\n",
       "  <thead>\n",
       "    <tr style=\"text-align: right;\">\n",
       "      <th></th>\n",
       "      <th>MLP</th>\n",
       "      <th>SVM</th>\n",
       "      <th>RF</th>\n",
       "    </tr>\n",
       "  </thead>\n",
       "  <tbody>\n",
       "    <tr>\n",
       "      <th>2</th>\n",
       "      <td>0.596543</td>\n",
       "      <td>0.543763</td>\n",
       "      <td>0.739156</td>\n",
       "    </tr>\n",
       "    <tr>\n",
       "      <th>3</th>\n",
       "      <td>0.560285</td>\n",
       "      <td>0.518428</td>\n",
       "      <td>0.681764</td>\n",
       "    </tr>\n",
       "    <tr>\n",
       "      <th>4</th>\n",
       "      <td>0.585008</td>\n",
       "      <td>0.533826</td>\n",
       "      <td>0.723238</td>\n",
       "    </tr>\n",
       "    <tr>\n",
       "      <th>5</th>\n",
       "      <td>0.553516</td>\n",
       "      <td>0.542575</td>\n",
       "      <td>0.711422</td>\n",
       "    </tr>\n",
       "    <tr>\n",
       "      <th>6</th>\n",
       "      <td>0.598055</td>\n",
       "      <td>0.521370</td>\n",
       "      <td>0.767458</td>\n",
       "    </tr>\n",
       "    <tr>\n",
       "      <th>7</th>\n",
       "      <td>0.559722</td>\n",
       "      <td>0.521774</td>\n",
       "      <td>0.710827</td>\n",
       "    </tr>\n",
       "    <tr>\n",
       "      <th>8</th>\n",
       "      <td>0.564796</td>\n",
       "      <td>0.522833</td>\n",
       "      <td>0.724316</td>\n",
       "    </tr>\n",
       "  </tbody>\n",
       "</table>\n",
       "</div>"
      ],
      "text/plain": [
       "        MLP       SVM        RF\n",
       "2  0.596543  0.543763  0.739156\n",
       "3  0.560285  0.518428  0.681764\n",
       "4  0.585008  0.533826  0.723238\n",
       "5  0.553516  0.542575  0.711422\n",
       "6  0.598055  0.521370  0.767458\n",
       "7  0.559722  0.521774  0.710827\n",
       "8  0.564796  0.522833  0.724316"
      ]
     },
     "execution_count": 15,
     "metadata": {},
     "output_type": "execute_result"
    }
   ],
   "source": [
    "df_test"
   ]
  },
  {
   "cell_type": "code",
   "execution_count": null,
   "id": "1149e1c2",
   "metadata": {},
   "outputs": [
    {
     "data": {
      "text/plain": [
       "Text(0.5, 1.0, 'Test')"
      ]
     },
     "execution_count": 16,
     "metadata": {},
     "output_type": "execute_result"
    },
    {
     "data": {
      "image/png": "[encoded data removed]",
      "text/plain": [
       "<Figure size 640x480 with 1 Axes>"
      ]
     },
     "metadata": {},
     "output_type": "display_data"
    }
   ],
   "source": [
    "label = 'Binary'\n",
    "train_accuracy_all_models = dict()\n",
    "test_accuracy_all_models = dict()\n",
    "for model in models:\n",
    "    train_accuracy_all_models[model] = trained_models_metrics[label][model]['accuracy_train']\n",
    "    test_accuracy_all_models[model] = trained_models_metrics[label][model]['accuracy_test']\n",
    "    \n",
    "    df_train = pd.DataFrame(train_accuracy_all_models, index = ds_name)\n",
    "    df_test  = pd.DataFrame(test_accuracy_all_models, index = ds_name)\n",
    "    \n",
    "ax1 = df_train.plot.bar(rot = 0)\n",
    "ax1.set_xlabel('DS')\n",
    "ax1.set_ylabel('Accuracy')\n",
    "ax1.set_title('Train')\n",
    "\n",
    "ax2 = df_test.plot.bar(rot = 0)\n",
    "ax2.set_xlabel('DS')\n",
    "ax2.set_ylabel('Accuracy')\n",
    "ax2.set_title('Test')"
   ]
  },
  {
   "cell_type": "code",
   "execution_count": null,
   "id": "d3410f1b",
   "metadata": {},
   "outputs": [],
   "source": [
    "df_train"
   ]
  },
  {
   "cell_type": "code",
   "execution_count": null,
   "id": "cdc7a0db",
   "metadata": {},
   "outputs": [],
   "source": [
    "df_test"
   ]
  }
 ],
 "metadata": {
  "kernelspec": {
   "display_name": "py3_ml_conda",
   "language": "python",
   "name": "py3_ml"
  },
  "language_info": {
   "codemirror_mode": {
    "name": "ipython",
    "version": 3
   },
   "file_extension": ".py",
   "mimetype": "text/x-python",
   "name": "python",
   "nbconvert_exporter": "python",
   "pygments_lexer": "ipython3",
   "version": "3.10.9"
  }
 },
 "nbformat": 4,
 "nbformat_minor": 5
}
