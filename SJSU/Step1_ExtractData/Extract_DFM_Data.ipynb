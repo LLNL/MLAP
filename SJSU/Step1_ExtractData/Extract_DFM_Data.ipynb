{
 "cells": [
  {
   "cell_type": "markdown",
   "metadata": {},
   "source": [
    "## Convert this notebook to executable python script using:"
   ]
  },
  {
   "cell_type": "markdown",
   "metadata": {},
   "source": [
    "- jupyter nbconvert --to python Extract_DFM_Data.ipynb"
   ]
  },
  {
   "cell_type": "markdown",
   "metadata": {},
   "source": [
    "# Import Modules"
   ]
  },
  {
   "cell_type": "markdown",
   "metadata": {},
   "source": [
    "## Standard Packages"
   ]
  },
  {
   "cell_type": "code",
   "execution_count": null,
   "metadata": {},
   "outputs": [],
   "source": [
    "import os\n",
    "import sys\n",
    "import os.path as path\n",
    "import psutil\n",
    "import glob\n",
    "import random\n",
    "import numpy as np\n",
    "import pandas as pd\n",
    "import xarray as xr\n",
    "import pickle\n",
    "import json\n",
    "from matplotlib import pyplot as plt\n",
    "from mpl_toolkits import mplot3d\n",
    "from datetime import date, datetime, timedelta, time\n",
    "from timeit import default_timer as timer"
   ]
  },
  {
   "cell_type": "markdown",
   "metadata": {},
   "source": [
    "## User-Defined Functions"
   ]
  },
  {
   "cell_type": "code",
   "execution_count": null,
   "metadata": {},
   "outputs": [],
   "source": [
    "from Extract_DFM_Data_Helper import *"
   ]
  },
  {
   "cell_type": "markdown",
   "metadata": {},
   "source": [
    "# Global Start Time and Memory"
   ]
  },
  {
   "cell_type": "code",
   "execution_count": null,
   "metadata": {},
   "outputs": [],
   "source": [
    "global_start_time = timer()\n",
    "process = psutil.Process(os.getpid())\n",
    "global_initial_memory = process.memory_info().rss\n",
    "print('\\nProcess in Main(): {}'.format(process))"
   ]
  },
  {
   "cell_type": "markdown",
   "metadata": {},
   "source": [
    "# Read the Input JSON File"
   ]
  },
  {
   "cell_type": "markdown",
   "metadata": {},
   "source": [
    "### Input file name when using jupyter notebook"
   ]
  },
  {
   "cell_type": "code",
   "execution_count": null,
   "metadata": {},
   "outputs": [],
   "source": [
    "json_file_extract_data = '/p/lustre2/jha3/Wildfire/Wildfire_LDRD_SI/InputJson/Extract/json_extract_data_000.json'"
   ]
  },
  {
   "cell_type": "markdown",
   "metadata": {},
   "source": [
    "### Input file name when using python script on command line"
   ]
  },
  {
   "cell_type": "code",
   "execution_count": null,
   "metadata": {},
   "outputs": [],
   "source": [
    "#json_file_extract_data = sys.argv[1]"
   ]
  },
  {
   "cell_type": "markdown",
   "metadata": {},
   "source": [
    "### Load the JSON file for extracting data"
   ]
  },
  {
   "cell_type": "code",
   "execution_count": null,
   "metadata": {},
   "outputs": [],
   "source": [
    "print('Loading input from JSON file: \\n {}'.format(json_file_extract_data))"
   ]
  },
  {
   "cell_type": "code",
   "execution_count": null,
   "metadata": {},
   "outputs": [],
   "source": [
    "with open(json_file_extract_data) as json_file_handle:\n",
    "    json_content_extract_data = json.load(json_file_handle)"
   ]
  },
  {
   "cell_type": "code",
   "execution_count": null,
   "metadata": {},
   "outputs": [],
   "source": [
    "#json_content_extract_data"
   ]
  },
  {
   "cell_type": "markdown",
   "metadata": {},
   "source": [
    "# Variables to be Used for Extracting WRF Data"
   ]
  },
  {
   "cell_type": "markdown",
   "metadata": {},
   "source": [
    "## DataSet Defintion"
   ]
  },
  {
   "cell_type": "code",
   "execution_count": null,
   "metadata": {},
   "outputs": [],
   "source": [
    "# The current data set params\n",
    "data_set_defn = json_content_extract_data['data_set_defn']\n",
    "\n",
    "data_set_count = data_set_defn['data_set_count']\n",
    "percent_files_to_use = data_set_defn['percent_files_to_use']  # f1 = what percent of available files to use\n",
    "percent_grid_points_to_use = data_set_defn['percent_grid_points_to_use']  # f2 = what percent of grid points to use\n",
    "max_history_to_consider = data_set_defn['max_history_to_consider'] # n_history in hours\n",
    "history_interval        = data_set_defn['history_interval']"
   ]
  },
  {
   "cell_type": "markdown",
   "metadata": {},
   "source": [
    "## Flags, Other Params etc."
   ]
  },
  {
   "cell_type": "markdown",
   "metadata": {},
   "source": [
    "### Nevada Data"
   ]
  },
  {
   "cell_type": "code",
   "execution_count": null,
   "metadata": {},
   "outputs": [],
   "source": [
    "nevada_data = json_content_extract_data['nevada_data']\n",
    "remove_nevada = nevada_data['remove_nevada']\n",
    "j_nevada, i_nevada = nevada_data['j_nevada'], nevada_data['i_nevada']\n",
    "j_anchor, i_anchor = nevada_data['j_anchor'], nevada_data['i_anchor']"
   ]
  },
  {
   "cell_type": "markdown",
   "metadata": {},
   "source": [
    "### Remove/Extract Fire Data"
   ]
  },
  {
   "cell_type": "code",
   "execution_count": null,
   "metadata": {},
   "outputs": [],
   "source": [
    "fire_flags = json_content_extract_data['fire_flags']\n",
    "remove_fire_data_from_train_test = fire_flags['remove_fire_data_from_train_test']\n",
    "extract_fire_data = fire_flags['extract_fire_data']"
   ]
  },
  {
   "cell_type": "markdown",
   "metadata": {},
   "source": [
    "### Clip Data for Train/Test"
   ]
  },
  {
   "cell_type": "code",
   "execution_count": null,
   "metadata": {},
   "outputs": [],
   "source": [
    "clip_data_train_test = json_content_extract_data['clip_data_train_test']\n",
    "x_clip_train_test = clip_data_train_test['x_clip']\n",
    "y_clip_train_test = clip_data_train_test['y_clip']"
   ]
  },
  {
   "cell_type": "markdown",
   "metadata": {},
   "source": [
    "## Paths and File Names"
   ]
  },
  {
   "cell_type": "markdown",
   "metadata": {},
   "source": [
    "#### Global"
   ]
  },
  {
   "cell_type": "code",
   "execution_count": null,
   "metadata": {},
   "outputs": [],
   "source": [
    "# WRF data set location and the extracted data set location\n",
    "data_files_location = json_content_extract_data['paths']['data_files_location']\n",
    "extracted_data_base_loc = json_content_extract_data['paths']['extracted_data_base_loc']"
   ]
  },
  {
   "cell_type": "markdown",
   "metadata": {},
   "source": [
    "#### DataSet Specific (Train and Test Data Extracted from WRF)"
   ]
  },
  {
   "cell_type": "code",
   "execution_count": null,
   "metadata": {},
   "outputs": [],
   "source": [
    "data_set_name = 'data_train_test_extracted_%03d'%(data_set_count)\n",
    "extracted_data_loc = os.path.join(extracted_data_base_loc, data_set_name)\n",
    "os.system('mkdir -p %s'%extracted_data_loc)\n",
    "\n",
    "#collection_of_read_data_files = '{}_files_read.pkl'.format(data_set_name)\n",
    "extracted_data_file_name = '{}_df.pkl'.format(data_set_name)\n",
    "\n",
    "tab_data_file_name = '{}_tab_data.csv'.format(data_set_name)"
   ]
  },
  {
   "cell_type": "markdown",
   "metadata": {},
   "source": [
    "## Relevant Fire TimeStamps"
   ]
  },
  {
   "cell_type": "code",
   "execution_count": null,
   "metadata": {},
   "outputs": [],
   "source": [
    "fire_time_stamps = json_content_extract_data['fire_time_stamps']"
   ]
  },
  {
   "cell_type": "markdown",
   "metadata": {},
   "source": [
    "# Generate seed for the random number generator"
   ]
  },
  {
   "cell_type": "code",
   "execution_count": null,
   "metadata": {},
   "outputs": [],
   "source": [
    "seed = generate_seed()\n",
    "random_state = init_random_generator(seed)"
   ]
  },
  {
   "cell_type": "markdown",
   "metadata": {},
   "source": [
    "# File Names"
   ]
  },
  {
   "cell_type": "code",
   "execution_count": null,
   "metadata": {},
   "outputs": [],
   "source": [
    "data_files_list_all = get_data_file_names(data_files_location)\n",
    "data_files_list = data_files_list_all"
   ]
  },
  {
   "cell_type": "markdown",
   "metadata": {},
   "source": [
    "# Remove Files Corresponding To Fire Data"
   ]
  },
  {
   "cell_type": "markdown",
   "metadata": {},
   "source": [
    "## Get Indices for Fire Time Stamps"
   ]
  },
  {
   "cell_type": "code",
   "execution_count": null,
   "metadata": {},
   "outputs": [],
   "source": [
    "if remove_fire_data_from_train_test or extract_fire_data:\n",
    "    fire_time_indices = get_fire_time_indices (fire_time_stamps, data_files_list_all)"
   ]
  },
  {
   "cell_type": "markdown",
   "metadata": {},
   "source": [
    "## Remove the Files with Indices for Fire Time Stamps"
   ]
  },
  {
   "cell_type": "code",
   "execution_count": null,
   "metadata": {},
   "outputs": [],
   "source": [
    "if remove_fire_data_from_train_test:\n",
    "    data_files_list = remove_data_around_fire (fire_time_indices, data_files_list)"
   ]
  },
  {
   "cell_type": "code",
   "execution_count": null,
   "metadata": {},
   "outputs": [],
   "source": [
    "#len(data_files_list)"
   ]
  },
  {
   "cell_type": "markdown",
   "metadata": {},
   "source": [
    "# Deal with just first few files to check for correctness of script. Be sure to undo this"
   ]
  },
  {
   "cell_type": "code",
   "execution_count": null,
   "metadata": {},
   "outputs": [],
   "source": [
    "#data_files_list = data_files_list[0:30]"
   ]
  },
  {
   "cell_type": "markdown",
   "metadata": {},
   "source": [
    "# Downsample Files"
   ]
  },
  {
   "cell_type": "code",
   "execution_count": null,
   "metadata": {},
   "outputs": [],
   "source": [
    "sampled_file_indices, sampled_data_files = downsample_data_files (\\\n",
    "                                        data_files_list, percent_files_to_use, \\\n",
    "                                        max_history_to_consider, random_state)"
   ]
  },
  {
   "cell_type": "markdown",
   "metadata": {},
   "source": [
    "# Get History File Indices"
   ]
  },
  {
   "cell_type": "code",
   "execution_count": null,
   "metadata": {},
   "outputs": [],
   "source": [
    "history_file_indices = get_history_file_indices (sampled_file_indices, \\\n",
    "                                                 max_history_to_consider, history_interval)"
   ]
  },
  {
   "cell_type": "markdown",
   "metadata": {},
   "source": [
    "# Create timestamps and datetime of downsampled data files"
   ]
  },
  {
   "cell_type": "code",
   "execution_count": null,
   "metadata": {},
   "outputs": [],
   "source": [
    "sampled_time_stamps, sampled_datetime = get_datetime_for_data_files (sampled_data_files)"
   ]
  },
  {
   "cell_type": "markdown",
   "metadata": {},
   "source": [
    "# Create DataFrame using sampled file indices, filenames, timestamps, and datetime"
   ]
  },
  {
   "cell_type": "code",
   "execution_count": null,
   "metadata": {},
   "outputs": [],
   "source": [
    "df_sampled_time = create_df_sampled_time (sampled_file_indices, sampled_data_files, \\\n",
    "                                          sampled_time_stamps, sampled_datetime, \\\n",
    "                                          history_file_indices)"
   ]
  },
  {
   "cell_type": "code",
   "execution_count": null,
   "metadata": {},
   "outputs": [],
   "source": [
    "#df_sampled_time[df_sampled_time['ref_time_indices'] < max_history_to_consider+10]"
   ]
  },
  {
   "cell_type": "code",
   "execution_count": null,
   "metadata": {},
   "outputs": [],
   "source": [
    "df_sampled_time.head(30)"
   ]
  },
  {
   "cell_type": "markdown",
   "metadata": {},
   "source": [
    "# Plot Sampled Datetime"
   ]
  },
  {
   "cell_type": "code",
   "execution_count": null,
   "metadata": {},
   "outputs": [],
   "source": [
    "if json_content_extract_data['plot_options']['plot_sampled_datetime']:\n",
    "    plot_sampled_datetime (df_sampled_time, extracted_data_loc)"
   ]
  },
  {
   "cell_type": "markdown",
   "metadata": {},
   "source": [
    "# Read Quantities in a Selected Data File"
   ]
  },
  {
   "cell_type": "markdown",
   "metadata": {},
   "source": [
    "## Read the Data in a Specified or Randomly Selected File"
   ]
  },
  {
   "cell_type": "code",
   "execution_count": null,
   "metadata": {},
   "outputs": [],
   "source": [
    "data_in_a_file = json_content_extract_data['data_in_a_file']\n",
    "prescribe_file = data_in_a_file['prescribe_file_flag']\n",
    "if prescribe_file:\n",
    "    data_file_to_read = data_in_a_file['data_file_to_read']\n",
    "    timestamp_to_read = data_file_to_read.split('_')[1] + '_' + \\\n",
    "                        data_file_to_read.split('_')[2].split('.')[0]\n",
    "else:\n",
    "    random_ind_of_downsampled_files = random.choice(range(len(sampled_file_indices)))\n",
    "    file_ind_to_read = sampled_file_indices[random_ind_of_downsampled_files]\n",
    "    data_file_to_read = sampled_data_files[random_ind_of_downsampled_files]\n",
    "    timestamp_to_read = sampled_time_stamps[random_ind_of_downsampled_files]"
   ]
  },
  {
   "cell_type": "code",
   "execution_count": null,
   "metadata": {},
   "outputs": [],
   "source": [
    "data_file_to_read, timestamp_to_read"
   ]
  },
  {
   "cell_type": "code",
   "execution_count": null,
   "metadata": {},
   "outputs": [],
   "source": [
    "data_at_timestamp = read_single_data_file (data_files_location, data_file_to_read, \\\n",
    "                                           timestamp_to_read)"
   ]
  },
  {
   "cell_type": "markdown",
   "metadata": {},
   "source": [
    "## Processing Elevation Data into Pos, Neg, and Zero"
   ]
  },
  {
   "cell_type": "code",
   "execution_count": null,
   "metadata": {},
   "outputs": [],
   "source": [
    "data_at_timestamp = process_elevation_at_timestamp (data_at_timestamp)"
   ]
  },
  {
   "cell_type": "markdown",
   "metadata": {},
   "source": [
    "# Get and Plot Grid Indices (All and Considerable)"
   ]
  },
  {
   "cell_type": "markdown",
   "metadata": {},
   "source": [
    "## Get Grid Indices"
   ]
  },
  {
   "cell_type": "code",
   "execution_count": null,
   "metadata": {},
   "outputs": [],
   "source": [
    "grid_indices_all, grid_indices_valid, grid_indices_all_flat, grid_indices_valid_flat = \\\n",
    "                        get_grid_indices_all (data_files_location, sampled_file_indices, \\\n",
    "                                              sampled_data_files, sampled_time_stamps, \\\n",
    "                                              x_clip_train_test, y_clip_train_test, \\\n",
    "                                              j_nevada, i_nevada, j_anchor, i_anchor, \\\n",
    "                                              remove_nevada)"
   ]
  },
  {
   "cell_type": "markdown",
   "metadata": {},
   "source": [
    "## Reconstruct Grid Indices"
   ]
  },
  {
   "cell_type": "code",
   "execution_count": null,
   "metadata": {},
   "outputs": [],
   "source": [
    "grid_indices_valid_reconst, grid_indices_valid_bool, valid_grid_ind_to_coord = \\\n",
    "                reconstruct_valid_grid_indices (grid_indices_valid_flat, data_at_timestamp)"
   ]
  },
  {
   "cell_type": "markdown",
   "metadata": {},
   "source": [
    "## Plot Grid Indices"
   ]
  },
  {
   "cell_type": "code",
   "execution_count": null,
   "metadata": {},
   "outputs": [],
   "source": [
    "if json_content_extract_data['plot_options']['plot_contours_of_indices']:\n",
    "    plot_contours_of_indices (data_at_timestamp, grid_indices_all, grid_indices_valid, \\\n",
    "                              grid_indices_valid_bool, grid_indices_valid_reconst, \\\n",
    "                              extracted_data_loc)"
   ]
  },
  {
   "cell_type": "code",
   "execution_count": null,
   "metadata": {},
   "outputs": [],
   "source": [
    "#len(grid_indices_valid_flat)"
   ]
  },
  {
   "cell_type": "markdown",
   "metadata": {},
   "source": [
    "# Plot Quantities in the Selected Data File"
   ]
  },
  {
   "cell_type": "markdown",
   "metadata": {},
   "source": [
    "## Plot the Contours of QoIs for the Data Just Read Above"
   ]
  },
  {
   "cell_type": "markdown",
   "metadata": {},
   "source": [
    "### Unmasked Data"
   ]
  },
  {
   "cell_type": "code",
   "execution_count": null,
   "metadata": {},
   "outputs": [],
   "source": [
    "if json_content_extract_data['plot_options']['plot_contours_of_qoi']:\n",
    "    qoi_to_plot = json_content_extract_data['qoi_to_plot']['contours']\n",
    "    plot_contours_at_timestamp (data_at_timestamp, qoi_to_plot, extracted_data_loc, \\\n",
    "                                grid_indices_valid, masked = False)"
   ]
  },
  {
   "cell_type": "markdown",
   "metadata": {},
   "source": [
    "### Masked Data"
   ]
  },
  {
   "cell_type": "code",
   "execution_count": null,
   "metadata": {},
   "outputs": [],
   "source": [
    "if json_content_extract_data['plot_options']['plot_contours_of_qoi']:\n",
    "    qoi_to_plot = json_content_extract_data['qoi_to_plot']['contours']\n",
    "    plot_contours_at_timestamp (data_at_timestamp, qoi_to_plot, extracted_data_loc, \\\n",
    "                                grid_indices_valid, masked = True)"
   ]
  },
  {
   "cell_type": "markdown",
   "metadata": {},
   "source": [
    "## Plot the PDFs of QoIs for the Data Just Read Above"
   ]
  },
  {
   "cell_type": "code",
   "execution_count": null,
   "metadata": {},
   "outputs": [],
   "source": [
    "if json_content_extract_data['plot_options']['plot_pdfs_of_qoi']:\n",
    "    qoi_to_plot = json_content_extract_data['qoi_to_plot']['pdfs']\n",
    "    plot_pdf_at_timestamp (data_at_timestamp, qoi_to_plot, extracted_data_loc)"
   ]
  },
  {
   "cell_type": "markdown",
   "metadata": {},
   "source": [
    "## Plot the Contours of QoIs With Colorbars"
   ]
  },
  {
   "cell_type": "code",
   "execution_count": null,
   "metadata": {},
   "outputs": [],
   "source": [
    "if json_content_extract_data['plot_options']['plot_fm_contours_with_cb']:\n",
    "    qoi_to_plot = json_content_extract_data['qoi_to_plot']['contours_with_cb']\n",
    "    cont_levels_count = json_content_extract_data['qoi_to_plot']['cont_levels_count']\n",
    "    qoi_cont_range = json_content_extract_data['qoi_to_plot']['qoi_cont_range']"
   ]
  },
  {
   "cell_type": "code",
   "execution_count": null,
   "metadata": {},
   "outputs": [],
   "source": [
    "if json_content_extract_data['plot_options']['plot_fm_contours_with_cb']:\n",
    "    plot_contours_at_timestamp2 (data_at_timestamp, timestamp_to_read, qoi_to_plot, \\\n",
    "                                 extracted_data_loc, grid_indices_valid, \\\n",
    "                                 cont_levels_count, qoi_cont_range, masked = True)"
   ]
  },
  {
   "cell_type": "markdown",
   "metadata": {},
   "source": [
    "# Sample and Plot Grid Indices for Each Sampled Ref Time"
   ]
  },
  {
   "cell_type": "markdown",
   "metadata": {},
   "source": [
    "## Sample Grid Indices"
   ]
  },
  {
   "cell_type": "code",
   "execution_count": null,
   "metadata": {},
   "outputs": [],
   "source": [
    "grid_indices_selected, j_indices_selected, i_indices_selected = \\\n",
    "    sample_grid_indices (sampled_file_indices, percent_grid_points_to_use, \\\n",
    "                         grid_indices_valid_flat, valid_grid_ind_to_coord)"
   ]
  },
  {
   "cell_type": "code",
   "execution_count": null,
   "metadata": {},
   "outputs": [],
   "source": [
    "#grid_indices_selected"
   ]
  },
  {
   "cell_type": "markdown",
   "metadata": {},
   "source": [
    "## Plot Sampled Grid Indices"
   ]
  },
  {
   "cell_type": "code",
   "execution_count": null,
   "metadata": {},
   "outputs": [],
   "source": [
    "if json_content_extract_data['plot_options']['plot_sampled_grid_indices_2d']:\n",
    "    plot_sampled_grid_points (grid_indices_selected, extracted_data_loc)"
   ]
  },
  {
   "cell_type": "markdown",
   "metadata": {},
   "source": [
    "## Plot Sampled Grid Indices in 3D"
   ]
  },
  {
   "cell_type": "code",
   "execution_count": null,
   "metadata": {},
   "outputs": [],
   "source": [
    "if json_content_extract_data['plot_options']['plot_sampled_grid_indices_3d']:\n",
    "    plot_sampled_grid_points_3D (j_indices_selected, i_indices_selected, \\\n",
    "                                 extracted_data_loc, (6, 6)) #fig_size hard-coded"
   ]
  },
  {
   "cell_type": "markdown",
   "metadata": {},
   "source": [
    "# Create a Dict of Time Indices and Grid Indices"
   ]
  },
  {
   "cell_type": "code",
   "execution_count": null,
   "metadata": {},
   "outputs": [],
   "source": [
    "time_grid_indices_list_dict, time_grid_indices_list_count, \\\n",
    "time_grid_indices_set_dict, time_grid_indices_set_count = \\\n",
    "    create_time_grid_indices_map (sampled_file_indices, history_file_indices, \\\n",
    "                                  grid_indices_selected)"
   ]
  },
  {
   "cell_type": "code",
   "execution_count": null,
   "metadata": {},
   "outputs": [],
   "source": [
    "#len(time_grid_indices_list_dict.keys())\n",
    "#len(time_grid_indices_set_dict.keys())"
   ]
  },
  {
   "cell_type": "code",
   "execution_count": null,
   "metadata": {},
   "outputs": [],
   "source": [
    "#sampled_file_indices\n",
    "#grid_indices_selected.shape"
   ]
  },
  {
   "cell_type": "code",
   "execution_count": null,
   "metadata": {},
   "outputs": [],
   "source": [
    "#time_grid_indices_list_dict\n",
    "#time_grid_indices_list_count\n",
    "#time_grid_indices_set_dict\n",
    "#time_grid_indices_set_count"
   ]
  },
  {
   "cell_type": "markdown",
   "metadata": {},
   "source": [
    "# Read Data at Sampled Time and Grid Indices"
   ]
  },
  {
   "cell_type": "code",
   "execution_count": null,
   "metadata": {},
   "outputs": [],
   "source": [
    "features_labels = json_content_extract_data['features_labels']\n",
    "features_to_read = features_labels['features_to_read']\n",
    "labels_to_read = features_labels['labels_to_read']\n",
    "labels_ind_in_nc_file = features_labels['labels_ind_in_nc_file']"
   ]
  },
  {
   "cell_type": "code",
   "execution_count": null,
   "metadata": {},
   "outputs": [],
   "source": [
    "#features_to_read, labels_to_read, labels_ind_in_nc_file"
   ]
  },
  {
   "cell_type": "code",
   "execution_count": null,
   "metadata": {},
   "outputs": [],
   "source": [
    "'''\n",
    "data_at_sampled_times_and_grids = \\\n",
    "    read_data_at_sampled_times_and_grids(labels_to_read, labels_ind_in_nc_file, \\\n",
    "                                         features_to_read, valid_grid_ind_to_coord, \\\n",
    "                                         time_grid_indices_set_dict, \\\n",
    "                                         data_files_location, data_files_list, \\\n",
    "                                         'dict')\n",
    "'''"
   ]
  },
  {
   "cell_type": "code",
   "execution_count": null,
   "metadata": {},
   "outputs": [],
   "source": [
    "data_at_sampled_times_and_grids = \\\n",
    "    read_data_at_sampled_times_and_grids(labels_to_read, labels_ind_in_nc_file, \\\n",
    "                                         features_to_read, valid_grid_ind_to_coord, \\\n",
    "                                         time_grid_indices_set_dict, \\\n",
    "                                         data_files_location, data_files_list, \\\n",
    "                                         'array')"
   ]
  },
  {
   "cell_type": "code",
   "execution_count": null,
   "metadata": {},
   "outputs": [],
   "source": [
    "#np.set_printoptions(suppress=True)\n",
    "#data_at_sampled_times_and_grids"
   ]
  },
  {
   "cell_type": "markdown",
   "metadata": {},
   "source": [
    "# Extract and Save Data at The Sampled Time and Grid Points"
   ]
  },
  {
   "cell_type": "markdown",
   "metadata": {},
   "source": [
    "## Extract Data at The Sampled Time and Grid Points"
   ]
  },
  {
   "cell_type": "code",
   "execution_count": null,
   "metadata": {},
   "outputs": [],
   "source": [
    "'''\n",
    "data_at_times = collection_of_read_data['file_indices_data_dict']\n",
    "#data_at_times.keys()\n",
    "'''"
   ]
  },
  {
   "cell_type": "code",
   "execution_count": null,
   "metadata": {},
   "outputs": [],
   "source": [
    "'''\n",
    "module_start_time = timer()\n",
    "module_initial_memory = process.memory_info().rss\n",
    "df = create_dataframe_FM_atm_data (data_at_times, \\\n",
    "                                   sampled_file_indices, history_file_indices, \\\n",
    "                                   sampled_time_stamps, history_interval, \\\n",
    "                                   grid_indices_selected, \\\n",
    "                                   j_indices_selected, i_indices_selected)\n",
    "module_final_memory = process.memory_info().rss\n",
    "module_end_time = timer()\n",
    "module_memory_consumed = module_final_memory - module_initial_memory\n",
    "print('Module memory consumed: {:.3f} MB'.format(module_memory_consumed/(1024*1024)))\n",
    "print('Module \"create_dataframe_FM_atm_data\" computing time: {:.3f} s'.format(module_end_time - module_start_time))\n",
    "'''"
   ]
  },
  {
   "cell_type": "code",
   "execution_count": null,
   "metadata": {
    "scrolled": false
   },
   "outputs": [],
   "source": [
    "#df.head(5)"
   ]
  },
  {
   "cell_type": "markdown",
   "metadata": {},
   "source": [
    "## Save The Data Extracted  at Sampled Time and Grid Points"
   ]
  },
  {
   "cell_type": "code",
   "execution_count": null,
   "metadata": {},
   "outputs": [],
   "source": [
    "'''\n",
    "df.to_pickle(os.path.join(extracted_data_loc, extracted_data_file_name))\n",
    "'''"
   ]
  },
  {
   "cell_type": "markdown",
   "metadata": {},
   "source": [
    "## Load and Test The Extracted Data Saved in Pickle File"
   ]
  },
  {
   "cell_type": "code",
   "execution_count": null,
   "metadata": {},
   "outputs": [],
   "source": [
    "'''\n",
    "df_from_pickle = pd.read_pickle(os.path.join(extracted_data_loc, extracted_data_file_name))\n",
    "df_from_pickle.head(5)\n",
    "'''"
   ]
  },
  {
   "cell_type": "markdown",
   "metadata": {},
   "source": [
    "# Save Other Relevant Info in A CSV File"
   ]
  },
  {
   "cell_type": "code",
   "execution_count": null,
   "metadata": {},
   "outputs": [],
   "source": [
    "'''\n",
    "data_for_csv = { 'max_history_to_consider':    [max_history_to_consider],\n",
    "                 'history_interval':           [history_interval],\n",
    "                 'num_hist_indices':           [len(history_file_indices[0])],\n",
    "                 'num_total_files':            [len(data_files_list)],\n",
    "                 'percent_files_to_use':       [percent_files_to_use],\n",
    "                 'num_sampled_times':          [grid_indices_selected.shape[0]],\n",
    "                 'num_data_files_to_read':     [len(data_files_to_read)],\n",
    "                 'num_grid_points_sn':         [grid_indices_all.shape[0]],\n",
    "                 'num_grid_points_we':         [grid_indices_all.shape[1]],\n",
    "                 'num_total_grid_points':      [len(grid_indices_all_flat)],\n",
    "                 'num_valid_grid_points':      [len(grid_indices_valid_flat)],\n",
    "                 'percent_grid_points_to_use': [percent_grid_points_to_use],\n",
    "                 'num_sampled_grid_points':    [grid_indices_selected.shape[1]],\n",
    "                 'num_data_points':            [len(df)]               \n",
    "}\n",
    "tabulated_data = pd.DataFrame(data_for_csv)\n",
    "tabulated_data.to_csv(os.path.join(extracted_data_loc, tab_data_file_name), index = False)\n",
    "'''"
   ]
  },
  {
   "cell_type": "code",
   "execution_count": null,
   "metadata": {},
   "outputs": [],
   "source": [
    "'''\n",
    "tabulated_data\n",
    "'''"
   ]
  },
  {
   "cell_type": "markdown",
   "metadata": {},
   "source": [
    "# Extract Fire Data"
   ]
  },
  {
   "cell_type": "markdown",
   "metadata": {},
   "source": [
    "## Read Fire Data"
   ]
  },
  {
   "cell_type": "code",
   "execution_count": null,
   "metadata": {},
   "outputs": [],
   "source": [
    "'''\n",
    "if extract_fire_data:\n",
    "    module_start_time = timer()\n",
    "    module_initial_memory = process.memory_info().rss\n",
    "\n",
    "    fire_time_indices, fire_data = read_fire_data (\\\n",
    "                                fire_time_indices, max_history_to_consider, history_interval, \\\n",
    "                                data_files_list_all, data_files_location)\n",
    "\n",
    "    module_final_memory = process.memory_info().rss\n",
    "    module_end_time = timer()\n",
    "    module_memory_consumed = module_final_memory - module_initial_memory\n",
    "    print('Module memory consumed: {:.3f} MB'.format(module_memory_consumed/(1024*1024)))\n",
    "    print('Module \"read_fire_data\" computing time: {:.3f} s'.format(module_end_time - module_start_time))\n",
    "'''"
   ]
  },
  {
   "cell_type": "markdown",
   "metadata": {},
   "source": [
    "## Create DataFrame for Fire Data"
   ]
  },
  {
   "cell_type": "code",
   "execution_count": null,
   "metadata": {},
   "outputs": [],
   "source": [
    "'''\n",
    "if extract_fire_data:\n",
    "    module_start_time = timer()\n",
    "    module_initial_memory = process.memory_info().rss\n",
    "    fire_data_extracted = dict()\n",
    "\n",
    "    for fire_name in fire_time_indices.keys():\n",
    "        data_at_times = fire_data[fire_name]['fire_file_indices_data_dict']\n",
    "        df_fire = create_dataframe_FM_atm_data_fire (fire_name, fire_time_indices, data_at_times, \\\n",
    "                                                     history_interval, \\\n",
    "                                                     grid_indices_valid_flat, valid_grid_ind_to_coord)\n",
    "        fire_data_extracted[fire_name] = df_fire\n",
    "\n",
    "    module_final_memory = process.memory_info().rss\n",
    "    module_end_time = timer()\n",
    "    module_memory_consumed = module_final_memory - module_initial_memory\n",
    "    print('Module memory consumed: {:.3f} MB'.format(module_memory_consumed/(1024*1024)))\n",
    "    print('Module \"create_dataframe_FM_atm_data_fire\" computing time: {:.3f} s'.format(module_end_time - module_start_time))\n",
    "'''"
   ]
  },
  {
   "cell_type": "markdown",
   "metadata": {},
   "source": [
    "## Save DataFrame for Fire Data"
   ]
  },
  {
   "cell_type": "code",
   "execution_count": null,
   "metadata": {},
   "outputs": [],
   "source": [
    "'''\n",
    "if extract_fire_data:\n",
    "    fire_data_file_handle = open(os.path.join(fire_data_loc, fire_data_file_name), 'wb')\n",
    "    pickle.dump(fire_data_extracted, fire_data_file_handle)\n",
    "    fire_data_file_handle.close()\n",
    "    print('Wrote fire data in \"{}\" at \"{}\"'.format(fire_data_file_name, fire_data_loc))\n",
    "'''"
   ]
  },
  {
   "cell_type": "markdown",
   "metadata": {},
   "source": [
    "## Load and Test The Extracted Fire Data Saved in Pickle File"
   ]
  },
  {
   "cell_type": "code",
   "execution_count": null,
   "metadata": {},
   "outputs": [],
   "source": [
    "'''\n",
    "if extract_fire_data:\n",
    "    fire_data_file_handle = open(os.path.join(fire_data_loc, fire_data_file_name), 'rb')\n",
    "    fire_data_pickled = pickle.load(fire_data_file_handle)\n",
    "    fire_data_file_handle.close()\n",
    "    print('Read fire data from \"{}\" at \"{}\"'.format(fire_data_file_name, fire_data_loc))\n",
    "'''"
   ]
  },
  {
   "cell_type": "code",
   "execution_count": null,
   "metadata": {},
   "outputs": [],
   "source": [
    "'''\n",
    "if extract_fire_data:\n",
    "    fire_data_pickled['Woosley'].head(5)\n",
    "'''"
   ]
  },
  {
   "cell_type": "markdown",
   "metadata": {},
   "source": [
    "## Delete Fire Data No Longer Needed"
   ]
  },
  {
   "cell_type": "code",
   "execution_count": null,
   "metadata": {},
   "outputs": [],
   "source": [
    "'''\n",
    "if extract_fire_data:\n",
    "    del fire_data, data_at_times, fire_data_extracted\n",
    "'''"
   ]
  },
  {
   "cell_type": "markdown",
   "metadata": {},
   "source": [
    "# Global End Time and Memory"
   ]
  },
  {
   "cell_type": "code",
   "execution_count": null,
   "metadata": {},
   "outputs": [],
   "source": [
    "global_final_memory = process.memory_info().rss\n",
    "global_end_time = timer()\n",
    "global_memory_consumed = global_final_memory - global_initial_memory\n",
    "print('Total memory consumed: {:.3f} MB'.format(global_memory_consumed/(1024*1024)))\n",
    "print('Total computing time: {:.3f} s'.format(global_end_time - global_start_time))\n",
    "print('=========================================================================')\n",
    "print(\"SUCCESS: Done Extraction of Data\")"
   ]
  }
 ],
 "metadata": {
  "kernelspec": {
   "display_name": "py3_ml_conda",
   "language": "python",
   "name": "py3_ml"
  },
  "language_info": {
   "codemirror_mode": {
    "name": "ipython",
    "version": 3
   },
   "file_extension": ".py",
   "mimetype": "text/x-python",
   "name": "python",
   "nbconvert_exporter": "python",
   "pygments_lexer": "ipython3",
   "version": "3.10.9"
  }
 },
 "nbformat": 4,
 "nbformat_minor": 4
}
