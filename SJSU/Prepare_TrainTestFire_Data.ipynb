{
 "cells": [
  {
   "cell_type": "markdown",
   "metadata": {},
   "source": [
    "# Import Modules"
   ]
  },
  {
   "cell_type": "markdown",
   "metadata": {},
   "source": [
    "## Standard Packages"
   ]
  },
  {
   "cell_type": "code",
   "execution_count": 1,
   "metadata": {},
   "outputs": [],
   "source": [
    "import os\n",
    "import sys\n",
    "import os.path as path\n",
    "import psutil\n",
    "import glob\n",
    "import random\n",
    "import numpy as np\n",
    "import pandas as pd\n",
    "import xarray as xr\n",
    "import pickle\n",
    "from matplotlib import pyplot as plt\n",
    "from mpl_toolkits import mplot3d\n",
    "#plt.style.use('seaborn-white')\n",
    "from datetime import date, datetime, timedelta, time\n",
    "from timeit import default_timer as timer"
   ]
  },
  {
   "cell_type": "markdown",
   "metadata": {},
   "source": [
    "## User-Defined Functions"
   ]
  },
  {
   "cell_type": "code",
   "execution_count": 2,
   "metadata": {},
   "outputs": [],
   "source": [
    "from Extract_DFM_Reanalysis_Data_Helper import *\n",
    "from Prepare_TrainTestFire_Data_Helper import *"
   ]
  },
  {
   "cell_type": "markdown",
   "metadata": {},
   "source": [
    "# Global Start Time and Memory"
   ]
  },
  {
   "cell_type": "code",
   "execution_count": 3,
   "metadata": {},
   "outputs": [],
   "source": [
    "global_start_time = timer()\n",
    "process = psutil.Process(os.getpid())\n",
    "global_initial_memory = process.memory_info().rss"
   ]
  },
  {
   "cell_type": "markdown",
   "metadata": {},
   "source": [
    "# Variables to be Used for Preparing Train, Test, and Fire Data"
   ]
  },
  {
   "cell_type": "markdown",
   "metadata": {},
   "source": [
    "## DataSet Defintion"
   ]
  },
  {
   "cell_type": "code",
   "execution_count": 4,
   "metadata": {},
   "outputs": [],
   "source": [
    "# The current data set params\n",
    "data_set_count = 8"
   ]
  },
  {
   "cell_type": "markdown",
   "metadata": {},
   "source": [
    "## Define FM Threshold etc."
   ]
  },
  {
   "cell_type": "code",
   "execution_count": 5,
   "metadata": {},
   "outputs": [],
   "source": [
    "FM_binary_threshold = 0.03\n",
    "FM_levels = [0.0, 0.03, 0.06, 0.09, 0.12, 0.15, 0.19, 0.23, 0.27, 0.35, 1.0]"
   ]
  },
  {
   "cell_type": "markdown",
   "metadata": {},
   "source": [
    "## Paths and File Names"
   ]
  },
  {
   "cell_type": "markdown",
   "metadata": {},
   "source": [
    "#### Global"
   ]
  },
  {
   "cell_type": "code",
   "execution_count": 6,
   "metadata": {},
   "outputs": [],
   "source": [
    "# WRF data set location and the extracted data set location\n",
    "extracted_data_base_loc = '/p/lustre2/jha3/Wildfire/Wildfire_LDRD_SI/SJSU/01_WRF_Nelson_Data_Extracted'\n",
    "prepared_data_base_loc = '/p/lustre2/jha3/Wildfire/Wildfire_LDRD_SI/SJSU/02_TrainTestFire_Data_Prepared'"
   ]
  },
  {
   "cell_type": "markdown",
   "metadata": {},
   "source": [
    "#### DataSet Specific (Train, Test, Fire Data Extracted from WRF)"
   ]
  },
  {
   "cell_type": "code",
   "execution_count": 7,
   "metadata": {},
   "outputs": [],
   "source": [
    "data_set_name = 'data_train_test_extracted_%02d'%(data_set_count)\n",
    "extracted_data_loc = os.path.join(extracted_data_base_loc, data_set_name)\n",
    "extracted_data_file_name = '{}_df.pkl'.format(data_set_name)\n",
    "\n",
    "fire_data_set_name = 'data_fire_extracted_%02d'%(data_set_count)\n",
    "fire_data_loc = os.path.join(extracted_data_base_loc, fire_data_set_name)\n",
    "fire_data_file_name = '{}.pkl'.format(fire_data_set_name)"
   ]
  },
  {
   "cell_type": "markdown",
   "metadata": {},
   "source": [
    "#### DataSet Specific (Train, Test, Fire Prepared)"
   ]
  },
  {
   "cell_type": "code",
   "execution_count": 8,
   "metadata": {},
   "outputs": [],
   "source": [
    "prepared_data_set_name = 'data_prepared_%02d'%(data_set_count)\n",
    "\n",
    "prepared_data_loc = os.path.join(prepared_data_base_loc, prepared_data_set_name)\n",
    "os.system('mkdir -p %s'%prepared_data_loc)\n",
    "\n",
    "prepared_data_file_name = '{}.pkl'.format(prepared_data_set_name)"
   ]
  },
  {
   "cell_type": "markdown",
   "metadata": {},
   "source": [
    "# Generate seed for the random number generator"
   ]
  },
  {
   "cell_type": "code",
   "execution_count": 9,
   "metadata": {},
   "outputs": [],
   "source": [
    "seed = generate_seed()\n",
    "random_state = init_random_generator(seed)"
   ]
  },
  {
   "cell_type": "markdown",
   "metadata": {},
   "source": [
    "# Load The Pickled Extracted Data (Train, Test, Fire) from WRF "
   ]
  },
  {
   "cell_type": "markdown",
   "metadata": {},
   "source": [
    "## Load The Train/Test Data Saved in Pickle File"
   ]
  },
  {
   "cell_type": "code",
   "execution_count": 10,
   "metadata": {},
   "outputs": [],
   "source": [
    "df_tt_extracted = pd.read_pickle(os.path.join(extracted_data_loc, extracted_data_file_name))\n",
    "#df_tt_extracted[998:1002]"
   ]
  },
  {
   "cell_type": "markdown",
   "metadata": {},
   "source": [
    "## Load The Fire Data Saved in Pickle File"
   ]
  },
  {
   "cell_type": "code",
   "execution_count": 11,
   "metadata": {},
   "outputs": [
    {
     "name": "stdout",
     "output_type": "stream",
     "text": [
      "Read fire data from \"data_fire_extracted_08.pkl\" at \"/p/lustre2/jha3/Wildfire/Wildfire_LDRD_SI/SJSU/01_WRF_Nelson_Data_Extracted/data_fire_extracted_08\"\n"
     ]
    }
   ],
   "source": [
    "fire_data_file_handle = open(os.path.join(fire_data_loc, fire_data_file_name), 'rb')\n",
    "fire_data_extracted = pickle.load(fire_data_file_handle)\n",
    "fire_data_file_handle.close()\n",
    "print('Read fire data from \"{}\" at \"{}\"'.format(fire_data_file_name, fire_data_loc))"
   ]
  },
  {
   "cell_type": "code",
   "execution_count": 12,
   "metadata": {},
   "outputs": [],
   "source": [
    "#fire_data_extracted['Woosley'].head(5)"
   ]
  },
  {
   "cell_type": "markdown",
   "metadata": {},
   "source": [
    "## Ensure The Train/test and Fire Data Have the Same Keys"
   ]
  },
  {
   "cell_type": "code",
   "execution_count": 13,
   "metadata": {},
   "outputs": [],
   "source": [
    "#df_tt_extracted.keys() == fire_data_extracted['Woosley'].keys()"
   ]
  },
  {
   "cell_type": "markdown",
   "metadata": {},
   "source": [
    "# Get Column Names in the Train, Test, and Fire Data"
   ]
  },
  {
   "cell_type": "code",
   "execution_count": 14,
   "metadata": {},
   "outputs": [
    {
     "name": "stdout",
     "output_type": "stream",
     "text": [
      "=========================================================================\n"
     ]
    }
   ],
   "source": [
    "keys_identity, keys_FM, \\\n",
    "keys_U10, keys_V10, keys_UMag10, \\\n",
    "keys_T2, keys_RH, keys_PREC, keys_SW, \\\n",
    "                            keys_HGT = get_keys_from_extracted_data (df_tt_extracted)"
   ]
  },
  {
   "cell_type": "markdown",
   "metadata": {},
   "source": [
    "### Define Binary and MC FM labels"
   ]
  },
  {
   "cell_type": "code",
   "execution_count": 15,
   "metadata": {},
   "outputs": [],
   "source": [
    "keys_FM_Binary, keys_FM_MC = define_binary_and_MC_FM_labels (keys_FM)"
   ]
  },
  {
   "cell_type": "markdown",
   "metadata": {},
   "source": [
    "### Define Groups of Keys"
   ]
  },
  {
   "cell_type": "code",
   "execution_count": 16,
   "metadata": {},
   "outputs": [],
   "source": [
    "keys_labels = keys_FM + keys_FM_Binary + keys_FM_MC\n",
    "keys_features = keys_UMag10 + keys_T2 + keys_RH + keys_PREC + keys_SW #+ keys_HGT"
   ]
  },
  {
   "cell_type": "markdown",
   "metadata": {},
   "source": [
    "# Compute New Columns or Remove Some"
   ]
  },
  {
   "cell_type": "markdown",
   "metadata": {},
   "source": [
    "## Compute Wind Magnitude "
   ]
  },
  {
   "cell_type": "code",
   "execution_count": 17,
   "metadata": {},
   "outputs": [],
   "source": [
    "df_tt_prep = compute_wind_mag (df_tt_extracted, keys_U10, keys_V10, keys_UMag10)\n",
    "\n",
    "fire_data_prep = dict()\n",
    "for fire_name in fire_data_extracted.keys():\n",
    "    fire_data_prep[fire_name] = compute_wind_mag (fire_data_extracted[fire_name], \n",
    "                                                  keys_U10, keys_V10, keys_UMag10)"
   ]
  },
  {
   "cell_type": "code",
   "execution_count": 18,
   "metadata": {},
   "outputs": [],
   "source": [
    "#df_tt_prep[keys_U10 + keys_V10 + keys_UMag10]\n",
    "#fire_data_prep['Woosley'][keys_U10 + keys_V10 + keys_UMag10]"
   ]
  },
  {
   "cell_type": "markdown",
   "metadata": {},
   "source": [
    "## Drop Wind Components"
   ]
  },
  {
   "cell_type": "code",
   "execution_count": 19,
   "metadata": {},
   "outputs": [],
   "source": [
    "df_tt_prep = drop_wind_components (df_tt_prep, keys_U10, keys_V10)\n",
    "\n",
    "for fire_name in fire_data_prep.keys():\n",
    "    fire_data_prep[fire_name] = drop_wind_components (\\\n",
    "                                        fire_data_prep[fire_name], keys_U10, keys_V10)"
   ]
  },
  {
   "cell_type": "code",
   "execution_count": 20,
   "metadata": {},
   "outputs": [],
   "source": [
    "#df_tt_prep[keys_UMag10]\n",
    "#fire_data_prep['Woosley'][keys_UMag10]"
   ]
  },
  {
   "cell_type": "markdown",
   "metadata": {},
   "source": [
    "## Compute Binary FM Labels"
   ]
  },
  {
   "cell_type": "code",
   "execution_count": 21,
   "metadata": {},
   "outputs": [],
   "source": [
    "df_tt_prep = compute_binary_FM_labels(df_tt_prep, \\\n",
    "                                      keys_FM, keys_FM_Binary, FM_binary_threshold)\n",
    "\n",
    "for fire_name in fire_data_prep.keys():\n",
    "    fire_data_prep[fire_name] = compute_binary_FM_labels (fire_data_prep[fire_name], \\\n",
    "                                      keys_FM, keys_FM_Binary, FM_binary_threshold)"
   ]
  },
  {
   "cell_type": "code",
   "execution_count": 22,
   "metadata": {},
   "outputs": [],
   "source": [
    "#len(df_tt_prep.keys())\n",
    "#len(fire_data_prep['Woosley'].keys())"
   ]
  },
  {
   "cell_type": "code",
   "execution_count": 23,
   "metadata": {},
   "outputs": [],
   "source": [
    "#df_tt_prep[keys_FM + keys_FM_Binary][985:995]\n",
    "#fire_data_prep['Woosley'][keys_FM +keys_FM_Binary]"
   ]
  },
  {
   "cell_type": "markdown",
   "metadata": {},
   "source": [
    "## Compute MC FM Labels"
   ]
  },
  {
   "cell_type": "code",
   "execution_count": 24,
   "metadata": {},
   "outputs": [],
   "source": [
    "df_tt_prep = compute_MC_FM_labels(df_tt_prep, \\\n",
    "                                  keys_FM, keys_FM_MC, FM_levels)\n",
    "\n",
    "for fire_name in fire_data_prep.keys():\n",
    "    fire_data_prep[fire_name] = compute_MC_FM_labels (fire_data_prep[fire_name], \\\n",
    "                                      keys_FM, keys_FM_MC, FM_levels)"
   ]
  },
  {
   "cell_type": "code",
   "execution_count": 25,
   "metadata": {},
   "outputs": [],
   "source": [
    "#df_tt_prep[keys_FM + keys_FM_MC]\n",
    "#fire_data_prep['Woosley'][keys_FM + keys_FM_MC]"
   ]
  },
  {
   "cell_type": "markdown",
   "metadata": {},
   "source": [
    "## Plot Binary FM Labels"
   ]
  },
  {
   "cell_type": "code",
   "execution_count": 26,
   "metadata": {},
   "outputs": [],
   "source": [
    "columns_to_plot = ['FM_10hr', 'FM_10hr_bin']\n",
    "plot_binary_FM_labels (df_tt_prep, columns_to_plot, prepared_data_set_name, prepared_data_loc)"
   ]
  },
  {
   "cell_type": "markdown",
   "metadata": {},
   "source": [
    "## Plot MC FM Labels"
   ]
  },
  {
   "cell_type": "code",
   "execution_count": 27,
   "metadata": {},
   "outputs": [],
   "source": [
    "col_to_plot = 'FM_10hr_MC'\n",
    "plot_MC_FM_labels (df_tt_prep, col_to_plot, prepared_data_set_name, prepared_data_loc)"
   ]
  },
  {
   "cell_type": "markdown",
   "metadata": {},
   "source": [
    "# Split Data into Identity, Features, and Labels"
   ]
  },
  {
   "cell_type": "code",
   "execution_count": 28,
   "metadata": {},
   "outputs": [],
   "source": [
    "data_tt_prep, data_fire_prep = split_data_into_groups (\\\n",
    "                                            df_tt_prep, fire_data_prep, \\\n",
    "                                            keys_identity, keys_labels, keys_features)"
   ]
  },
  {
   "cell_type": "markdown",
   "metadata": {},
   "source": [
    "# Save The Prepared Data"
   ]
  },
  {
   "cell_type": "code",
   "execution_count": 29,
   "metadata": {},
   "outputs": [
    {
     "name": "stdout",
     "output_type": "stream",
     "text": [
      "Wrote prepared data in \"data_prepared_08.pkl\" at \"/p/lustre2/jha3/Wildfire/Wildfire_LDRD_SI/SJSU/02_TrainTestFire_Data_Prepared/data_prepared_08\"\n"
     ]
    }
   ],
   "source": [
    "prepared_data = {'tt': data_tt_prep,\n",
    "                 'fire': data_fire_prep}\n",
    "prepared_data_file_handle = open(os.path.join(prepared_data_loc, prepared_data_file_name), 'wb')\n",
    "pickle.dump(prepared_data, prepared_data_file_handle)\n",
    "prepared_data_file_handle.close()\n",
    "print('Wrote prepared data in \"{}\" at \"{}\"'.format(prepared_data_file_name, prepared_data_loc))"
   ]
  },
  {
   "cell_type": "markdown",
   "metadata": {},
   "source": [
    "# Load and Test The Prepared Data Saved in Pickle File"
   ]
  },
  {
   "cell_type": "code",
   "execution_count": 30,
   "metadata": {},
   "outputs": [
    {
     "name": "stdout",
     "output_type": "stream",
     "text": [
      "Read prepared data from \"data_prepared_08.pkl\" at \"/p/lustre2/jha3/Wildfire/Wildfire_LDRD_SI/SJSU/02_TrainTestFire_Data_Prepared/data_prepared_08\"\n"
     ]
    }
   ],
   "source": [
    "prepared_data_file_handle = open(os.path.join(prepared_data_loc, prepared_data_file_name), 'rb')\n",
    "prepared_data_read = pickle.load(prepared_data_file_handle)\n",
    "prepared_data_file_handle.close()\n",
    "print('Read prepared data from \"{}\" at \"{}\"'.format(prepared_data_file_name, prepared_data_loc))"
   ]
  },
  {
   "cell_type": "code",
   "execution_count": 31,
   "metadata": {},
   "outputs": [],
   "source": [
    "#prepared_data_read['tt']['all'].head(5)\n",
    "#prepared_data_read['fire']['Woosley']['identity'].head(5)"
   ]
  },
  {
   "cell_type": "markdown",
   "metadata": {},
   "source": [
    "# Global End Time and Memory"
   ]
  },
  {
   "cell_type": "code",
   "execution_count": 32,
   "metadata": {},
   "outputs": [
    {
     "name": "stdout",
     "output_type": "stream",
     "text": [
      "Total memory consumed: 1822.457 MB\n",
      "Total computing time: 13.120 s\n",
      "=========================================================================\n",
      "SUCCESS: Done Preparation of Data\n"
     ]
    }
   ],
   "source": [
    "global_final_memory = process.memory_info().rss\n",
    "global_end_time = timer()\n",
    "global_memory_consumed = global_final_memory - global_initial_memory\n",
    "print('Total memory consumed: {:.3f} MB'.format(global_memory_consumed/(1024*1024)))\n",
    "print('Total computing time: {:.3f} s'.format(global_end_time - global_start_time))\n",
    "print('=========================================================================')\n",
    "print(\"SUCCESS: Done Preparation of Data\")"
   ]
  }
 ],
 "metadata": {
  "kernelspec": {
   "display_name": "py3_ml_conda",
   "language": "python",
   "name": "py3_ml"
  },
  "language_info": {
   "codemirror_mode": {
    "name": "ipython",
    "version": 3
   },
   "file_extension": ".py",
   "mimetype": "text/x-python",
   "name": "python",
   "nbconvert_exporter": "python",
   "pygments_lexer": "ipython3",
   "version": "3.10.9"
  }
 },
 "nbformat": 4,
 "nbformat_minor": 4
}
