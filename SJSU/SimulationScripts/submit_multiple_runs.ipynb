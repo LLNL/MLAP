{
 "cells": [
  {
   "cell_type": "code",
   "execution_count": 1,
   "id": "f53ce3bc",
   "metadata": {},
   "outputs": [],
   "source": [
    "import os\n",
    "import os.path as path"
   ]
  },
  {
   "cell_type": "code",
   "execution_count": 2,
   "id": "c974391a",
   "metadata": {},
   "outputs": [],
   "source": [
    "sbatch_script = 'run_python_from_conda_env_2024_01_07.sh'"
   ]
  },
  {
   "cell_type": "code",
   "execution_count": 3,
   "id": "5c81e736",
   "metadata": {},
   "outputs": [],
   "source": [
    "python_script = '/g/g92/jha3/Codes/Wildfire_ML/SJSU/Step3_TrainModel/TrainModel.py'"
   ]
  },
  {
   "cell_type": "code",
   "execution_count": 4,
   "id": "277ae479",
   "metadata": {},
   "outputs": [],
   "source": [
    "json_extract_base = 'InputJson/Extract/json_extract_data'\n",
    "json_extract_counts = [2, 3, 4, 5, 6, 7, 8]"
   ]
  },
  {
   "cell_type": "code",
   "execution_count": 5,
   "id": "1c0eb483",
   "metadata": {},
   "outputs": [],
   "source": [
    "json_prep_base = 'InputJson/Prep/json_prep_data_label'\n",
    "json_prep_counts = [1, 2, 3]"
   ]
  },
  {
   "cell_type": "code",
   "execution_count": 6,
   "id": "41d64113",
   "metadata": {},
   "outputs": [],
   "source": [
    "json_train_base = 'InputJson/Train/json_train_model'\n",
    "json_train_counts = [1, 2, 3]"
   ]
  },
  {
   "cell_type": "code",
   "execution_count": 7,
   "id": "0211f6b4",
   "metadata": {},
   "outputs": [
    {
     "name": "stdout",
     "output_type": "stream",
     "text": [
      "sbatch run_python_from_conda_env_2024_01_07.sh /g/g92/jha3/Codes/Wildfire_ML/SJSU/Step3_TrainModel/TrainModel.py InputJson/Extract/json_extract_data_002.json InputJson/Prep/json_prep_data_label_001.json InputJson/Train/json_train_model_001.json\n",
      "sbatch run_python_from_conda_env_2024_01_07.sh /g/g92/jha3/Codes/Wildfire_ML/SJSU/Step3_TrainModel/TrainModel.py InputJson/Extract/json_extract_data_002.json InputJson/Prep/json_prep_data_label_001.json InputJson/Train/json_train_model_002.json\n",
      "sbatch run_python_from_conda_env_2024_01_07.sh /g/g92/jha3/Codes/Wildfire_ML/SJSU/Step3_TrainModel/TrainModel.py InputJson/Extract/json_extract_data_002.json InputJson/Prep/json_prep_data_label_001.json InputJson/Train/json_train_model_003.json\n",
      "sbatch run_python_from_conda_env_2024_01_07.sh /g/g92/jha3/Codes/Wildfire_ML/SJSU/Step3_TrainModel/TrainModel.py InputJson/Extract/json_extract_data_002.json InputJson/Prep/json_prep_data_label_002.json InputJson/Train/json_train_model_001.json\n",
      "sbatch run_python_from_conda_env_2024_01_07.sh /g/g92/jha3/Codes/Wildfire_ML/SJSU/Step3_TrainModel/TrainModel.py InputJson/Extract/json_extract_data_002.json InputJson/Prep/json_prep_data_label_002.json InputJson/Train/json_train_model_002.json\n",
      "sbatch run_python_from_conda_env_2024_01_07.sh /g/g92/jha3/Codes/Wildfire_ML/SJSU/Step3_TrainModel/TrainModel.py InputJson/Extract/json_extract_data_002.json InputJson/Prep/json_prep_data_label_002.json InputJson/Train/json_train_model_003.json\n",
      "sbatch run_python_from_conda_env_2024_01_07.sh /g/g92/jha3/Codes/Wildfire_ML/SJSU/Step3_TrainModel/TrainModel.py InputJson/Extract/json_extract_data_002.json InputJson/Prep/json_prep_data_label_003.json InputJson/Train/json_train_model_001.json\n",
      "sbatch run_python_from_conda_env_2024_01_07.sh /g/g92/jha3/Codes/Wildfire_ML/SJSU/Step3_TrainModel/TrainModel.py InputJson/Extract/json_extract_data_002.json InputJson/Prep/json_prep_data_label_003.json InputJson/Train/json_train_model_002.json\n",
      "sbatch run_python_from_conda_env_2024_01_07.sh /g/g92/jha3/Codes/Wildfire_ML/SJSU/Step3_TrainModel/TrainModel.py InputJson/Extract/json_extract_data_002.json InputJson/Prep/json_prep_data_label_003.json InputJson/Train/json_train_model_003.json\n",
      "sbatch run_python_from_conda_env_2024_01_07.sh /g/g92/jha3/Codes/Wildfire_ML/SJSU/Step3_TrainModel/TrainModel.py InputJson/Extract/json_extract_data_003.json InputJson/Prep/json_prep_data_label_001.json InputJson/Train/json_train_model_001.json\n",
      "sbatch run_python_from_conda_env_2024_01_07.sh /g/g92/jha3/Codes/Wildfire_ML/SJSU/Step3_TrainModel/TrainModel.py InputJson/Extract/json_extract_data_003.json InputJson/Prep/json_prep_data_label_001.json InputJson/Train/json_train_model_002.json\n",
      "sbatch run_python_from_conda_env_2024_01_07.sh /g/g92/jha3/Codes/Wildfire_ML/SJSU/Step3_TrainModel/TrainModel.py InputJson/Extract/json_extract_data_003.json InputJson/Prep/json_prep_data_label_001.json InputJson/Train/json_train_model_003.json\n",
      "sbatch run_python_from_conda_env_2024_01_07.sh /g/g92/jha3/Codes/Wildfire_ML/SJSU/Step3_TrainModel/TrainModel.py InputJson/Extract/json_extract_data_003.json InputJson/Prep/json_prep_data_label_002.json InputJson/Train/json_train_model_001.json\n",
      "sbatch run_python_from_conda_env_2024_01_07.sh /g/g92/jha3/Codes/Wildfire_ML/SJSU/Step3_TrainModel/TrainModel.py InputJson/Extract/json_extract_data_003.json InputJson/Prep/json_prep_data_label_002.json InputJson/Train/json_train_model_002.json\n",
      "sbatch run_python_from_conda_env_2024_01_07.sh /g/g92/jha3/Codes/Wildfire_ML/SJSU/Step3_TrainModel/TrainModel.py InputJson/Extract/json_extract_data_003.json InputJson/Prep/json_prep_data_label_002.json InputJson/Train/json_train_model_003.json\n",
      "sbatch run_python_from_conda_env_2024_01_07.sh /g/g92/jha3/Codes/Wildfire_ML/SJSU/Step3_TrainModel/TrainModel.py InputJson/Extract/json_extract_data_003.json InputJson/Prep/json_prep_data_label_003.json InputJson/Train/json_train_model_001.json\n",
      "sbatch run_python_from_conda_env_2024_01_07.sh /g/g92/jha3/Codes/Wildfire_ML/SJSU/Step3_TrainModel/TrainModel.py InputJson/Extract/json_extract_data_003.json InputJson/Prep/json_prep_data_label_003.json InputJson/Train/json_train_model_002.json\n",
      "sbatch run_python_from_conda_env_2024_01_07.sh /g/g92/jha3/Codes/Wildfire_ML/SJSU/Step3_TrainModel/TrainModel.py InputJson/Extract/json_extract_data_003.json InputJson/Prep/json_prep_data_label_003.json InputJson/Train/json_train_model_003.json\n",
      "sbatch run_python_from_conda_env_2024_01_07.sh /g/g92/jha3/Codes/Wildfire_ML/SJSU/Step3_TrainModel/TrainModel.py InputJson/Extract/json_extract_data_004.json InputJson/Prep/json_prep_data_label_001.json InputJson/Train/json_train_model_001.json\n",
      "sbatch run_python_from_conda_env_2024_01_07.sh /g/g92/jha3/Codes/Wildfire_ML/SJSU/Step3_TrainModel/TrainModel.py InputJson/Extract/json_extract_data_004.json InputJson/Prep/json_prep_data_label_001.json InputJson/Train/json_train_model_002.json\n",
      "sbatch run_python_from_conda_env_2024_01_07.sh /g/g92/jha3/Codes/Wildfire_ML/SJSU/Step3_TrainModel/TrainModel.py InputJson/Extract/json_extract_data_004.json InputJson/Prep/json_prep_data_label_001.json InputJson/Train/json_train_model_003.json\n",
      "sbatch run_python_from_conda_env_2024_01_07.sh /g/g92/jha3/Codes/Wildfire_ML/SJSU/Step3_TrainModel/TrainModel.py InputJson/Extract/json_extract_data_004.json InputJson/Prep/json_prep_data_label_002.json InputJson/Train/json_train_model_001.json\n",
      "sbatch run_python_from_conda_env_2024_01_07.sh /g/g92/jha3/Codes/Wildfire_ML/SJSU/Step3_TrainModel/TrainModel.py InputJson/Extract/json_extract_data_004.json InputJson/Prep/json_prep_data_label_002.json InputJson/Train/json_train_model_002.json\n",
      "sbatch run_python_from_conda_env_2024_01_07.sh /g/g92/jha3/Codes/Wildfire_ML/SJSU/Step3_TrainModel/TrainModel.py InputJson/Extract/json_extract_data_004.json InputJson/Prep/json_prep_data_label_002.json InputJson/Train/json_train_model_003.json\n",
      "sbatch run_python_from_conda_env_2024_01_07.sh /g/g92/jha3/Codes/Wildfire_ML/SJSU/Step3_TrainModel/TrainModel.py InputJson/Extract/json_extract_data_004.json InputJson/Prep/json_prep_data_label_003.json InputJson/Train/json_train_model_001.json\n",
      "sbatch run_python_from_conda_env_2024_01_07.sh /g/g92/jha3/Codes/Wildfire_ML/SJSU/Step3_TrainModel/TrainModel.py InputJson/Extract/json_extract_data_004.json InputJson/Prep/json_prep_data_label_003.json InputJson/Train/json_train_model_002.json\n",
      "sbatch run_python_from_conda_env_2024_01_07.sh /g/g92/jha3/Codes/Wildfire_ML/SJSU/Step3_TrainModel/TrainModel.py InputJson/Extract/json_extract_data_004.json InputJson/Prep/json_prep_data_label_003.json InputJson/Train/json_train_model_003.json\n",
      "sbatch run_python_from_conda_env_2024_01_07.sh /g/g92/jha3/Codes/Wildfire_ML/SJSU/Step3_TrainModel/TrainModel.py InputJson/Extract/json_extract_data_005.json InputJson/Prep/json_prep_data_label_001.json InputJson/Train/json_train_model_001.json\n",
      "sbatch run_python_from_conda_env_2024_01_07.sh /g/g92/jha3/Codes/Wildfire_ML/SJSU/Step3_TrainModel/TrainModel.py InputJson/Extract/json_extract_data_005.json InputJson/Prep/json_prep_data_label_001.json InputJson/Train/json_train_model_002.json\n",
      "sbatch run_python_from_conda_env_2024_01_07.sh /g/g92/jha3/Codes/Wildfire_ML/SJSU/Step3_TrainModel/TrainModel.py InputJson/Extract/json_extract_data_005.json InputJson/Prep/json_prep_data_label_001.json InputJson/Train/json_train_model_003.json\n",
      "sbatch run_python_from_conda_env_2024_01_07.sh /g/g92/jha3/Codes/Wildfire_ML/SJSU/Step3_TrainModel/TrainModel.py InputJson/Extract/json_extract_data_005.json InputJson/Prep/json_prep_data_label_002.json InputJson/Train/json_train_model_001.json\n",
      "sbatch run_python_from_conda_env_2024_01_07.sh /g/g92/jha3/Codes/Wildfire_ML/SJSU/Step3_TrainModel/TrainModel.py InputJson/Extract/json_extract_data_005.json InputJson/Prep/json_prep_data_label_002.json InputJson/Train/json_train_model_002.json\n",
      "sbatch run_python_from_conda_env_2024_01_07.sh /g/g92/jha3/Codes/Wildfire_ML/SJSU/Step3_TrainModel/TrainModel.py InputJson/Extract/json_extract_data_005.json InputJson/Prep/json_prep_data_label_002.json InputJson/Train/json_train_model_003.json\n",
      "sbatch run_python_from_conda_env_2024_01_07.sh /g/g92/jha3/Codes/Wildfire_ML/SJSU/Step3_TrainModel/TrainModel.py InputJson/Extract/json_extract_data_005.json InputJson/Prep/json_prep_data_label_003.json InputJson/Train/json_train_model_001.json\n",
      "sbatch run_python_from_conda_env_2024_01_07.sh /g/g92/jha3/Codes/Wildfire_ML/SJSU/Step3_TrainModel/TrainModel.py InputJson/Extract/json_extract_data_005.json InputJson/Prep/json_prep_data_label_003.json InputJson/Train/json_train_model_002.json\n",
      "sbatch run_python_from_conda_env_2024_01_07.sh /g/g92/jha3/Codes/Wildfire_ML/SJSU/Step3_TrainModel/TrainModel.py InputJson/Extract/json_extract_data_005.json InputJson/Prep/json_prep_data_label_003.json InputJson/Train/json_train_model_003.json\n",
      "sbatch run_python_from_conda_env_2024_01_07.sh /g/g92/jha3/Codes/Wildfire_ML/SJSU/Step3_TrainModel/TrainModel.py InputJson/Extract/json_extract_data_006.json InputJson/Prep/json_prep_data_label_001.json InputJson/Train/json_train_model_001.json\n",
      "sbatch run_python_from_conda_env_2024_01_07.sh /g/g92/jha3/Codes/Wildfire_ML/SJSU/Step3_TrainModel/TrainModel.py InputJson/Extract/json_extract_data_006.json InputJson/Prep/json_prep_data_label_001.json InputJson/Train/json_train_model_002.json\n",
      "sbatch run_python_from_conda_env_2024_01_07.sh /g/g92/jha3/Codes/Wildfire_ML/SJSU/Step3_TrainModel/TrainModel.py InputJson/Extract/json_extract_data_006.json InputJson/Prep/json_prep_data_label_001.json InputJson/Train/json_train_model_003.json\n",
      "sbatch run_python_from_conda_env_2024_01_07.sh /g/g92/jha3/Codes/Wildfire_ML/SJSU/Step3_TrainModel/TrainModel.py InputJson/Extract/json_extract_data_006.json InputJson/Prep/json_prep_data_label_002.json InputJson/Train/json_train_model_001.json\n",
      "sbatch run_python_from_conda_env_2024_01_07.sh /g/g92/jha3/Codes/Wildfire_ML/SJSU/Step3_TrainModel/TrainModel.py InputJson/Extract/json_extract_data_006.json InputJson/Prep/json_prep_data_label_002.json InputJson/Train/json_train_model_002.json\n",
      "sbatch run_python_from_conda_env_2024_01_07.sh /g/g92/jha3/Codes/Wildfire_ML/SJSU/Step3_TrainModel/TrainModel.py InputJson/Extract/json_extract_data_006.json InputJson/Prep/json_prep_data_label_002.json InputJson/Train/json_train_model_003.json\n",
      "sbatch run_python_from_conda_env_2024_01_07.sh /g/g92/jha3/Codes/Wildfire_ML/SJSU/Step3_TrainModel/TrainModel.py InputJson/Extract/json_extract_data_006.json InputJson/Prep/json_prep_data_label_003.json InputJson/Train/json_train_model_001.json\n",
      "sbatch run_python_from_conda_env_2024_01_07.sh /g/g92/jha3/Codes/Wildfire_ML/SJSU/Step3_TrainModel/TrainModel.py InputJson/Extract/json_extract_data_006.json InputJson/Prep/json_prep_data_label_003.json InputJson/Train/json_train_model_002.json\n",
      "sbatch run_python_from_conda_env_2024_01_07.sh /g/g92/jha3/Codes/Wildfire_ML/SJSU/Step3_TrainModel/TrainModel.py InputJson/Extract/json_extract_data_006.json InputJson/Prep/json_prep_data_label_003.json InputJson/Train/json_train_model_003.json\n",
      "sbatch run_python_from_conda_env_2024_01_07.sh /g/g92/jha3/Codes/Wildfire_ML/SJSU/Step3_TrainModel/TrainModel.py InputJson/Extract/json_extract_data_007.json InputJson/Prep/json_prep_data_label_001.json InputJson/Train/json_train_model_001.json\n",
      "sbatch run_python_from_conda_env_2024_01_07.sh /g/g92/jha3/Codes/Wildfire_ML/SJSU/Step3_TrainModel/TrainModel.py InputJson/Extract/json_extract_data_007.json InputJson/Prep/json_prep_data_label_001.json InputJson/Train/json_train_model_002.json\n",
      "sbatch run_python_from_conda_env_2024_01_07.sh /g/g92/jha3/Codes/Wildfire_ML/SJSU/Step3_TrainModel/TrainModel.py InputJson/Extract/json_extract_data_007.json InputJson/Prep/json_prep_data_label_001.json InputJson/Train/json_train_model_003.json\n",
      "sbatch run_python_from_conda_env_2024_01_07.sh /g/g92/jha3/Codes/Wildfire_ML/SJSU/Step3_TrainModel/TrainModel.py InputJson/Extract/json_extract_data_007.json InputJson/Prep/json_prep_data_label_002.json InputJson/Train/json_train_model_001.json\n",
      "sbatch run_python_from_conda_env_2024_01_07.sh /g/g92/jha3/Codes/Wildfire_ML/SJSU/Step3_TrainModel/TrainModel.py InputJson/Extract/json_extract_data_007.json InputJson/Prep/json_prep_data_label_002.json InputJson/Train/json_train_model_002.json\n",
      "sbatch run_python_from_conda_env_2024_01_07.sh /g/g92/jha3/Codes/Wildfire_ML/SJSU/Step3_TrainModel/TrainModel.py InputJson/Extract/json_extract_data_007.json InputJson/Prep/json_prep_data_label_002.json InputJson/Train/json_train_model_003.json\n",
      "sbatch run_python_from_conda_env_2024_01_07.sh /g/g92/jha3/Codes/Wildfire_ML/SJSU/Step3_TrainModel/TrainModel.py InputJson/Extract/json_extract_data_007.json InputJson/Prep/json_prep_data_label_003.json InputJson/Train/json_train_model_001.json\n",
      "sbatch run_python_from_conda_env_2024_01_07.sh /g/g92/jha3/Codes/Wildfire_ML/SJSU/Step3_TrainModel/TrainModel.py InputJson/Extract/json_extract_data_007.json InputJson/Prep/json_prep_data_label_003.json InputJson/Train/json_train_model_002.json\n",
      "sbatch run_python_from_conda_env_2024_01_07.sh /g/g92/jha3/Codes/Wildfire_ML/SJSU/Step3_TrainModel/TrainModel.py InputJson/Extract/json_extract_data_007.json InputJson/Prep/json_prep_data_label_003.json InputJson/Train/json_train_model_003.json\n",
      "sbatch run_python_from_conda_env_2024_01_07.sh /g/g92/jha3/Codes/Wildfire_ML/SJSU/Step3_TrainModel/TrainModel.py InputJson/Extract/json_extract_data_008.json InputJson/Prep/json_prep_data_label_001.json InputJson/Train/json_train_model_001.json\n",
      "sbatch run_python_from_conda_env_2024_01_07.sh /g/g92/jha3/Codes/Wildfire_ML/SJSU/Step3_TrainModel/TrainModel.py InputJson/Extract/json_extract_data_008.json InputJson/Prep/json_prep_data_label_001.json InputJson/Train/json_train_model_002.json\n",
      "sbatch run_python_from_conda_env_2024_01_07.sh /g/g92/jha3/Codes/Wildfire_ML/SJSU/Step3_TrainModel/TrainModel.py InputJson/Extract/json_extract_data_008.json InputJson/Prep/json_prep_data_label_001.json InputJson/Train/json_train_model_003.json\n",
      "sbatch run_python_from_conda_env_2024_01_07.sh /g/g92/jha3/Codes/Wildfire_ML/SJSU/Step3_TrainModel/TrainModel.py InputJson/Extract/json_extract_data_008.json InputJson/Prep/json_prep_data_label_002.json InputJson/Train/json_train_model_001.json\n",
      "sbatch run_python_from_conda_env_2024_01_07.sh /g/g92/jha3/Codes/Wildfire_ML/SJSU/Step3_TrainModel/TrainModel.py InputJson/Extract/json_extract_data_008.json InputJson/Prep/json_prep_data_label_002.json InputJson/Train/json_train_model_002.json\n",
      "sbatch run_python_from_conda_env_2024_01_07.sh /g/g92/jha3/Codes/Wildfire_ML/SJSU/Step3_TrainModel/TrainModel.py InputJson/Extract/json_extract_data_008.json InputJson/Prep/json_prep_data_label_002.json InputJson/Train/json_train_model_003.json\n",
      "sbatch run_python_from_conda_env_2024_01_07.sh /g/g92/jha3/Codes/Wildfire_ML/SJSU/Step3_TrainModel/TrainModel.py InputJson/Extract/json_extract_data_008.json InputJson/Prep/json_prep_data_label_003.json InputJson/Train/json_train_model_001.json\n",
      "sbatch run_python_from_conda_env_2024_01_07.sh /g/g92/jha3/Codes/Wildfire_ML/SJSU/Step3_TrainModel/TrainModel.py InputJson/Extract/json_extract_data_008.json InputJson/Prep/json_prep_data_label_003.json InputJson/Train/json_train_model_002.json\n",
      "sbatch run_python_from_conda_env_2024_01_07.sh /g/g92/jha3/Codes/Wildfire_ML/SJSU/Step3_TrainModel/TrainModel.py InputJson/Extract/json_extract_data_008.json InputJson/Prep/json_prep_data_label_003.json InputJson/Train/json_train_model_003.json\n"
     ]
    }
   ],
   "source": [
    "for data_count in json_extract_counts:\n",
    "    for label_count in json_prep_counts:\n",
    "        for train_count in json_train_counts:\n",
    "            json_extract = '%s_%03d.json'%(json_extract_base, data_count)\n",
    "            json_prep    = '%s_%03d.json'%(json_prep_base, label_count)\n",
    "            json_train   = '%s_%03d.json'%(json_train_base, train_count)\n",
    "            #print(json_extract)\n",
    "            #print(json_prep)\n",
    "            #print(json_train)\n",
    "            sbatch_submit_command = 'sbatch {} {} {} {} {}'.format(\\\n",
    "                                                      sbatch_script,\n",
    "                                                      python_script,\n",
    "                                                      json_extract,\n",
    "                                                      json_prep,\n",
    "                                                      json_train)\n",
    "            #print(sbatch_submit_command)\n",
    "            os.system(sbatch_submit_command)"
   ]
  },
  {
   "cell_type": "code",
   "execution_count": null,
   "id": "5fe934a7",
   "metadata": {},
   "outputs": [],
   "source": []
  }
 ],
 "metadata": {
  "kernelspec": {
   "display_name": "py3_ml_conda",
   "language": "python",
   "name": "py3_ml"
  },
  "language_info": {
   "codemirror_mode": {
    "name": "ipython",
    "version": 3
   },
   "file_extension": ".py",
   "mimetype": "text/x-python",
   "name": "python",
   "nbconvert_exporter": "python",
   "pygments_lexer": "ipython3",
   "version": "3.10.9"
  }
 },
 "nbformat": 4,
 "nbformat_minor": 5
}
