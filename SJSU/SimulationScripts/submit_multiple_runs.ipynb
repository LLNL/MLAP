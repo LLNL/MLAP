{
 "cells": [
  {
   "cell_type": "markdown",
   "id": "00e80645",
   "metadata": {},
   "source": [
    "## Convert this notebook to executable python script using:"
   ]
  },
  {
   "cell_type": "markdown",
   "id": "4a3fe1e0",
   "metadata": {},
   "source": [
    "- jupyter nbconvert --to python submit_multiple_runs.ipynb"
   ]
  },
  {
   "cell_type": "markdown",
   "id": "b7e4a3c8",
   "metadata": {},
   "source": [
    "## Import Packages"
   ]
  },
  {
   "cell_type": "code",
   "execution_count": 1,
   "id": "f53ce3bc",
   "metadata": {},
   "outputs": [],
   "source": [
    "import os\n",
    "import os.path as path"
   ]
  },
  {
   "cell_type": "markdown",
   "id": "909dd1c5",
   "metadata": {},
   "source": [
    "## Action To Be Taken"
   ]
  },
  {
   "cell_type": "code",
   "execution_count": 2,
   "id": "876e5604",
   "metadata": {},
   "outputs": [],
   "source": [
    "action = \"Extract\" # \"Extract\", \"Prep\", \"Train\", \"Analyze\""
   ]
  },
  {
   "cell_type": "markdown",
   "id": "c2b9328a",
   "metadata": {},
   "source": [
    "## Simulation Directory"
   ]
  },
  {
   "cell_type": "code",
   "execution_count": 3,
   "id": "55d12392",
   "metadata": {},
   "outputs": [],
   "source": [
    "sim_dir = '/p/lustre2/jha3/Wildfire/Wildfire_LDRD_SI'"
   ]
  },
  {
   "cell_type": "markdown",
   "id": "fd56db5b",
   "metadata": {},
   "source": [
    "## `sbatch` Scripts"
   ]
  },
  {
   "cell_type": "code",
   "execution_count": 4,
   "id": "c974391a",
   "metadata": {},
   "outputs": [],
   "source": [
    "sbatch_script_extract = '/g/g92/jha3/Codes/Wildfire_ML/SJSU/SimulationScripts/sbatch_script_extract.sh'\n",
    "sbatch_script_prep = '/g/g92/jha3/Codes/Wildfire_ML/SJSU/SimulationScripts/sbatch_script_prep.sh'\n",
    "sbatch_script_train = '/g/g92/jha3/Codes/Wildfire_ML/SJSU/SimulationScripts/sbatch_script_train.sh'"
   ]
  },
  {
   "cell_type": "markdown",
   "id": "a991c4b0",
   "metadata": {},
   "source": [
    "## `python` Scripts"
   ]
  },
  {
   "cell_type": "code",
   "execution_count": 5,
   "id": "5c81e736",
   "metadata": {},
   "outputs": [],
   "source": [
    "python_script_extract = '/g/g92/jha3/Codes/Wildfire_ML/SJSU/Step1_ExtractData/Extract_DFM_Data.py'\n",
    "python_script_prep = '/g/g92/jha3/Codes/Wildfire_ML/SJSU/Step2_PrepareData/Prepare_TrainTest_Data.py'\n",
    "python_script_train = '/g/g92/jha3/Codes/Wildfire_ML/SJSU/Step3_TrainModel/TrainModel.py'"
   ]
  },
  {
   "cell_type": "markdown",
   "id": "03a7aa6c",
   "metadata": {},
   "source": [
    "## `json` Input Files"
   ]
  },
  {
   "cell_type": "code",
   "execution_count": 6,
   "id": "277ae479",
   "metadata": {},
   "outputs": [],
   "source": [
    "json_extract_base = os.path.join(sim_dir, 'InputJson/Extract/json_extract_data')\n",
    "#json_extract_counts = [0] #[0, 1]\n",
    "json_extract_counts = range(15, 39)"
   ]
  },
  {
   "cell_type": "code",
   "execution_count": 7,
   "id": "08777215",
   "metadata": {},
   "outputs": [
    {
     "data": {
      "text/plain": [
       "range(15, 39)"
      ]
     },
     "execution_count": 7,
     "metadata": {},
     "output_type": "execute_result"
    }
   ],
   "source": [
    "json_extract_counts"
   ]
  },
  {
   "cell_type": "code",
   "execution_count": 8,
   "id": "1c0eb483",
   "metadata": {},
   "outputs": [],
   "source": [
    "json_prep_base = os.path.join(sim_dir, 'InputJson/Prep/json_prep_data_label')\n",
    "json_prep_counts = [1, 2] #[1, 2, 3]"
   ]
  },
  {
   "cell_type": "code",
   "execution_count": 9,
   "id": "41d64113",
   "metadata": {},
   "outputs": [],
   "source": [
    "json_train_base = os.path.join(sim_dir, 'InputJson/Train/json_train_model')\n",
    "json_train_counts = [3, 4]"
   ]
  },
  {
   "cell_type": "markdown",
   "id": "9969e934",
   "metadata": {},
   "source": [
    "## Generate and Execute `command`"
   ]
  },
  {
   "cell_type": "code",
   "execution_count": 10,
   "id": "0211f6b4",
   "metadata": {},
   "outputs": [
    {
     "name": "stdout",
     "output_type": "stream",
     "text": [
      "sbatch /g/g92/jha3/Codes/Wildfire_ML/SJSU/SimulationScripts/sbatch_script_extract.sh /g/g92/jha3/Codes/Wildfire_ML/SJSU/Step1_ExtractData/Extract_DFM_Data.py /p/lustre2/jha3/Wildfire/Wildfire_LDRD_SI/InputJson/Extract/json_extract_data_015.json \n",
      "\n",
      "sbatch /g/g92/jha3/Codes/Wildfire_ML/SJSU/SimulationScripts/sbatch_script_extract.sh /g/g92/jha3/Codes/Wildfire_ML/SJSU/Step1_ExtractData/Extract_DFM_Data.py /p/lustre2/jha3/Wildfire/Wildfire_LDRD_SI/InputJson/Extract/json_extract_data_016.json \n",
      "\n",
      "sbatch /g/g92/jha3/Codes/Wildfire_ML/SJSU/SimulationScripts/sbatch_script_extract.sh /g/g92/jha3/Codes/Wildfire_ML/SJSU/Step1_ExtractData/Extract_DFM_Data.py /p/lustre2/jha3/Wildfire/Wildfire_LDRD_SI/InputJson/Extract/json_extract_data_017.json \n",
      "\n",
      "sbatch /g/g92/jha3/Codes/Wildfire_ML/SJSU/SimulationScripts/sbatch_script_extract.sh /g/g92/jha3/Codes/Wildfire_ML/SJSU/Step1_ExtractData/Extract_DFM_Data.py /p/lustre2/jha3/Wildfire/Wildfire_LDRD_SI/InputJson/Extract/json_extract_data_018.json \n",
      "\n",
      "sbatch /g/g92/jha3/Codes/Wildfire_ML/SJSU/SimulationScripts/sbatch_script_extract.sh /g/g92/jha3/Codes/Wildfire_ML/SJSU/Step1_ExtractData/Extract_DFM_Data.py /p/lustre2/jha3/Wildfire/Wildfire_LDRD_SI/InputJson/Extract/json_extract_data_019.json \n",
      "\n",
      "sbatch /g/g92/jha3/Codes/Wildfire_ML/SJSU/SimulationScripts/sbatch_script_extract.sh /g/g92/jha3/Codes/Wildfire_ML/SJSU/Step1_ExtractData/Extract_DFM_Data.py /p/lustre2/jha3/Wildfire/Wildfire_LDRD_SI/InputJson/Extract/json_extract_data_020.json \n",
      "\n",
      "sbatch /g/g92/jha3/Codes/Wildfire_ML/SJSU/SimulationScripts/sbatch_script_extract.sh /g/g92/jha3/Codes/Wildfire_ML/SJSU/Step1_ExtractData/Extract_DFM_Data.py /p/lustre2/jha3/Wildfire/Wildfire_LDRD_SI/InputJson/Extract/json_extract_data_021.json \n",
      "\n",
      "sbatch /g/g92/jha3/Codes/Wildfire_ML/SJSU/SimulationScripts/sbatch_script_extract.sh /g/g92/jha3/Codes/Wildfire_ML/SJSU/Step1_ExtractData/Extract_DFM_Data.py /p/lustre2/jha3/Wildfire/Wildfire_LDRD_SI/InputJson/Extract/json_extract_data_022.json \n",
      "\n",
      "sbatch /g/g92/jha3/Codes/Wildfire_ML/SJSU/SimulationScripts/sbatch_script_extract.sh /g/g92/jha3/Codes/Wildfire_ML/SJSU/Step1_ExtractData/Extract_DFM_Data.py /p/lustre2/jha3/Wildfire/Wildfire_LDRD_SI/InputJson/Extract/json_extract_data_023.json \n",
      "\n",
      "sbatch /g/g92/jha3/Codes/Wildfire_ML/SJSU/SimulationScripts/sbatch_script_extract.sh /g/g92/jha3/Codes/Wildfire_ML/SJSU/Step1_ExtractData/Extract_DFM_Data.py /p/lustre2/jha3/Wildfire/Wildfire_LDRD_SI/InputJson/Extract/json_extract_data_024.json \n",
      "\n",
      "sbatch /g/g92/jha3/Codes/Wildfire_ML/SJSU/SimulationScripts/sbatch_script_extract.sh /g/g92/jha3/Codes/Wildfire_ML/SJSU/Step1_ExtractData/Extract_DFM_Data.py /p/lustre2/jha3/Wildfire/Wildfire_LDRD_SI/InputJson/Extract/json_extract_data_025.json \n",
      "\n",
      "sbatch /g/g92/jha3/Codes/Wildfire_ML/SJSU/SimulationScripts/sbatch_script_extract.sh /g/g92/jha3/Codes/Wildfire_ML/SJSU/Step1_ExtractData/Extract_DFM_Data.py /p/lustre2/jha3/Wildfire/Wildfire_LDRD_SI/InputJson/Extract/json_extract_data_026.json \n",
      "\n",
      "sbatch /g/g92/jha3/Codes/Wildfire_ML/SJSU/SimulationScripts/sbatch_script_extract.sh /g/g92/jha3/Codes/Wildfire_ML/SJSU/Step1_ExtractData/Extract_DFM_Data.py /p/lustre2/jha3/Wildfire/Wildfire_LDRD_SI/InputJson/Extract/json_extract_data_027.json \n",
      "\n",
      "sbatch /g/g92/jha3/Codes/Wildfire_ML/SJSU/SimulationScripts/sbatch_script_extract.sh /g/g92/jha3/Codes/Wildfire_ML/SJSU/Step1_ExtractData/Extract_DFM_Data.py /p/lustre2/jha3/Wildfire/Wildfire_LDRD_SI/InputJson/Extract/json_extract_data_028.json \n",
      "\n",
      "sbatch /g/g92/jha3/Codes/Wildfire_ML/SJSU/SimulationScripts/sbatch_script_extract.sh /g/g92/jha3/Codes/Wildfire_ML/SJSU/Step1_ExtractData/Extract_DFM_Data.py /p/lustre2/jha3/Wildfire/Wildfire_LDRD_SI/InputJson/Extract/json_extract_data_029.json \n",
      "\n",
      "sbatch /g/g92/jha3/Codes/Wildfire_ML/SJSU/SimulationScripts/sbatch_script_extract.sh /g/g92/jha3/Codes/Wildfire_ML/SJSU/Step1_ExtractData/Extract_DFM_Data.py /p/lustre2/jha3/Wildfire/Wildfire_LDRD_SI/InputJson/Extract/json_extract_data_030.json \n",
      "\n",
      "sbatch /g/g92/jha3/Codes/Wildfire_ML/SJSU/SimulationScripts/sbatch_script_extract.sh /g/g92/jha3/Codes/Wildfire_ML/SJSU/Step1_ExtractData/Extract_DFM_Data.py /p/lustre2/jha3/Wildfire/Wildfire_LDRD_SI/InputJson/Extract/json_extract_data_031.json \n",
      "\n",
      "sbatch /g/g92/jha3/Codes/Wildfire_ML/SJSU/SimulationScripts/sbatch_script_extract.sh /g/g92/jha3/Codes/Wildfire_ML/SJSU/Step1_ExtractData/Extract_DFM_Data.py /p/lustre2/jha3/Wildfire/Wildfire_LDRD_SI/InputJson/Extract/json_extract_data_032.json \n",
      "\n",
      "sbatch /g/g92/jha3/Codes/Wildfire_ML/SJSU/SimulationScripts/sbatch_script_extract.sh /g/g92/jha3/Codes/Wildfire_ML/SJSU/Step1_ExtractData/Extract_DFM_Data.py /p/lustre2/jha3/Wildfire/Wildfire_LDRD_SI/InputJson/Extract/json_extract_data_033.json \n",
      "\n",
      "sbatch /g/g92/jha3/Codes/Wildfire_ML/SJSU/SimulationScripts/sbatch_script_extract.sh /g/g92/jha3/Codes/Wildfire_ML/SJSU/Step1_ExtractData/Extract_DFM_Data.py /p/lustre2/jha3/Wildfire/Wildfire_LDRD_SI/InputJson/Extract/json_extract_data_034.json \n",
      "\n",
      "sbatch /g/g92/jha3/Codes/Wildfire_ML/SJSU/SimulationScripts/sbatch_script_extract.sh /g/g92/jha3/Codes/Wildfire_ML/SJSU/Step1_ExtractData/Extract_DFM_Data.py /p/lustre2/jha3/Wildfire/Wildfire_LDRD_SI/InputJson/Extract/json_extract_data_035.json \n",
      "\n",
      "sbatch /g/g92/jha3/Codes/Wildfire_ML/SJSU/SimulationScripts/sbatch_script_extract.sh /g/g92/jha3/Codes/Wildfire_ML/SJSU/Step1_ExtractData/Extract_DFM_Data.py /p/lustre2/jha3/Wildfire/Wildfire_LDRD_SI/InputJson/Extract/json_extract_data_036.json \n",
      "\n",
      "sbatch /g/g92/jha3/Codes/Wildfire_ML/SJSU/SimulationScripts/sbatch_script_extract.sh /g/g92/jha3/Codes/Wildfire_ML/SJSU/Step1_ExtractData/Extract_DFM_Data.py /p/lustre2/jha3/Wildfire/Wildfire_LDRD_SI/InputJson/Extract/json_extract_data_037.json \n",
      "\n",
      "sbatch /g/g92/jha3/Codes/Wildfire_ML/SJSU/SimulationScripts/sbatch_script_extract.sh /g/g92/jha3/Codes/Wildfire_ML/SJSU/Step1_ExtractData/Extract_DFM_Data.py /p/lustre2/jha3/Wildfire/Wildfire_LDRD_SI/InputJson/Extract/json_extract_data_038.json \n",
      "\n"
     ]
    }
   ],
   "source": [
    "for data_count in json_extract_counts:\n",
    "    json_extract = '%s_%03d.json'%(json_extract_base, data_count)\n",
    "    #print(json_extract)\n",
    "    if (action == 'Extract'):\n",
    "        sbatch_submit_command = 'sbatch {} {} {}'.format(\\\n",
    "                                                      sbatch_script_extract,\n",
    "                                                      python_script_extract,\n",
    "                                                      json_extract)\n",
    "        print(sbatch_submit_command, '\\n')\n",
    "        #os.system(sbatch_submit_command)\n",
    "        continue\n",
    "        \n",
    "    for label_count in json_prep_counts:\n",
    "        json_prep    = '%s_%03d.json'%(json_prep_base, label_count)\n",
    "        #print(json_prep)\n",
    "        if (action == \"Prep\"):\n",
    "            sbatch_submit_command = 'sbatch {} {} {} {}'.format(\\\n",
    "                                                      sbatch_script_prep,\n",
    "                                                      python_script_prep,\n",
    "                                                      json_extract,\n",
    "                                                      json_prep)\n",
    "            print(sbatch_submit_command, '\\n')\n",
    "            #os.system(sbatch_submit_command)\n",
    "            continue\n",
    "            \n",
    "        for train_count in json_train_counts:\n",
    "            json_train   = '%s_%03d.json'%(json_train_base, train_count)\n",
    "            #print(json_train)\n",
    "            if (action == \"Train\"):\n",
    "                sbatch_submit_command = 'sbatch {} {} {} {} {}'.format(\\\n",
    "                                                      sbatch_script_train,\n",
    "                                                      python_script_train,\n",
    "                                                      json_extract,\n",
    "                                                      json_prep,\n",
    "                                                      json_train)\n",
    "            print(sbatch_submit_command, '\\n')\n",
    "            #os.system(sbatch_submit_command)"
   ]
  },
  {
   "cell_type": "code",
   "execution_count": null,
   "id": "5fe934a7",
   "metadata": {},
   "outputs": [],
   "source": []
  }
 ],
 "metadata": {
  "kernelspec": {
   "display_name": "py3_ml_conda",
   "language": "python",
   "name": "py3_ml"
  },
  "language_info": {
   "codemirror_mode": {
    "name": "ipython",
    "version": 3
   },
   "file_extension": ".py",
   "mimetype": "text/x-python",
   "name": "python",
   "nbconvert_exporter": "python",
   "pygments_lexer": "ipython3",
   "version": "3.10.9"
  }
 },
 "nbformat": 4,
 "nbformat_minor": 5
}
