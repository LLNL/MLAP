{
 "cells": [
  {
   "cell_type": "markdown",
   "metadata": {},
   "source": [
    "## Conver this notebook to executable python script using:"
   ]
  },
  {
   "cell_type": "code",
   "execution_count": 1,
   "metadata": {},
   "outputs": [],
   "source": [
    "#jupyter nbconvert --to python Extract_DFM_Reanalysis_Data.ipynb"
   ]
  },
  {
   "cell_type": "markdown",
   "metadata": {},
   "source": [
    "# Import Modules"
   ]
  },
  {
   "cell_type": "markdown",
   "metadata": {},
   "source": [
    "## Standard Packages"
   ]
  },
  {
   "cell_type": "code",
   "execution_count": 2,
   "metadata": {},
   "outputs": [
    {
     "name": "stderr",
     "output_type": "stream",
     "text": [
      "/tmp/ipykernel_654867/1258788010.py:14: MatplotlibDeprecationWarning: The seaborn styles shipped by Matplotlib are deprecated since 3.6, as they no longer correspond to the styles shipped by seaborn. However, they will remain available as 'seaborn-v0_8-<style>'. Alternatively, directly use the seaborn API instead.\n",
      "  plt.style.use('seaborn-white')\n"
     ]
    }
   ],
   "source": [
    "import os\n",
    "import sys\n",
    "import os.path as path\n",
    "import psutil\n",
    "import glob\n",
    "import random\n",
    "import numpy as np\n",
    "import pandas as pd\n",
    "import xarray as xr\n",
    "import pickle\n",
    "import json\n",
    "from matplotlib import pyplot as plt\n",
    "from mpl_toolkits import mplot3d\n",
    "plt.style.use('seaborn-white')\n",
    "from datetime import date, datetime, timedelta, time\n",
    "from timeit import default_timer as timer"
   ]
  },
  {
   "cell_type": "markdown",
   "metadata": {},
   "source": [
    "## User-Defined Functions"
   ]
  },
  {
   "cell_type": "code",
   "execution_count": 3,
   "metadata": {},
   "outputs": [],
   "source": [
    "from Extract_DFM_Reanalysis_Data_Helper import *"
   ]
  },
  {
   "cell_type": "markdown",
   "metadata": {},
   "source": [
    "# Global Start Time and Memory"
   ]
  },
  {
   "cell_type": "code",
   "execution_count": 4,
   "metadata": {},
   "outputs": [],
   "source": [
    "global_start_time = timer()\n",
    "process = psutil.Process(os.getpid())\n",
    "global_initial_memory = process.memory_info().rss"
   ]
  },
  {
   "cell_type": "markdown",
   "metadata": {},
   "source": [
    "# Read the Input JSON File"
   ]
  },
  {
   "cell_type": "markdown",
   "metadata": {},
   "source": [
    "### Input file name when using jupyter notebook"
   ]
  },
  {
   "cell_type": "code",
   "execution_count": 5,
   "metadata": {},
   "outputs": [],
   "source": [
    "input_json_file = '/p/lustre2/jha3/Wildfire/Wildfire_LDRD_SI/01_WRF_Nelson_Data_Extracted/InputJsonFiles/input_json_extract_data_000.json'"
   ]
  },
  {
   "cell_type": "markdown",
   "metadata": {},
   "source": [
    "### Input file name when using python script on command line"
   ]
  },
  {
   "cell_type": "code",
   "execution_count": 6,
   "metadata": {},
   "outputs": [],
   "source": [
    "#input_json_file = sys.argv[1]"
   ]
  },
  {
   "cell_type": "markdown",
   "metadata": {},
   "source": [
    "### Load the Input JSON File"
   ]
  },
  {
   "cell_type": "code",
   "execution_count": 7,
   "metadata": {},
   "outputs": [
    {
     "name": "stdout",
     "output_type": "stream",
     "text": [
      "Loading input from JSON file: \n",
      " /p/lustre2/jha3/Wildfire/Wildfire_LDRD_SI/01_WRF_Nelson_Data_Extracted/InputJsonFiles/input_json_extract_data_000.json\n"
     ]
    }
   ],
   "source": [
    "print('Loading input from JSON file: \\n {}'.format(input_json_file))"
   ]
  },
  {
   "cell_type": "code",
   "execution_count": 8,
   "metadata": {},
   "outputs": [],
   "source": [
    "with open(input_json_file) as input_json_file_handle:\n",
    "    input_json_data = json.load(input_json_file_handle)"
   ]
  },
  {
   "cell_type": "code",
   "execution_count": 9,
   "metadata": {},
   "outputs": [],
   "source": [
    "#input_json_data"
   ]
  },
  {
   "cell_type": "markdown",
   "metadata": {},
   "source": [
    "# Variables to be Used for Extracting WRF Data"
   ]
  },
  {
   "cell_type": "markdown",
   "metadata": {},
   "source": [
    "## DataSet Defintion"
   ]
  },
  {
   "cell_type": "code",
   "execution_count": 10,
   "metadata": {},
   "outputs": [],
   "source": [
    "# The current data set params\n",
    "data_set_defn = input_json_data['data_set_defn']\n",
    "\n",
    "data_set_count = data_set_defn['data_set_count']\n",
    "percent_files_to_use = data_set_defn['percent_files_to_use']  # f1 = what percent of available files to use\n",
    "percent_grid_points_to_use = data_set_defn['percent_grid_points_to_use']  # f2 = what percent of grid points to use\n",
    "max_history_to_consider = data_set_defn['max_history_to_consider'] # n_history in hours\n",
    "history_interval        = data_set_defn['history_interval']"
   ]
  },
  {
   "cell_type": "markdown",
   "metadata": {},
   "source": [
    "## Flags, Other Params etc."
   ]
  },
  {
   "cell_type": "markdown",
   "metadata": {},
   "source": [
    "### Nevada Data"
   ]
  },
  {
   "cell_type": "code",
   "execution_count": 11,
   "metadata": {},
   "outputs": [],
   "source": [
    "nevada_data = input_json_data['nevada_data']\n",
    "remove_nevada = nevada_data['remove_nevada']\n",
    "j_nevada, i_nevada = nevada_data['j_nevada'], nevada_data['i_nevada']\n",
    "j_anchor, i_anchor = nevada_data['j_anchor'], nevada_data['i_anchor']"
   ]
  },
  {
   "cell_type": "markdown",
   "metadata": {},
   "source": [
    "### Remove/Extract Fire Data"
   ]
  },
  {
   "cell_type": "code",
   "execution_count": 12,
   "metadata": {},
   "outputs": [],
   "source": [
    "fire_flags = input_json_data['fire_flags']\n",
    "remove_fire_data_from_train_test = fire_flags['remove_fire_data_from_train_test']\n",
    "extract_fire_data = fire_flags['extract_fire_data']"
   ]
  },
  {
   "cell_type": "markdown",
   "metadata": {},
   "source": [
    "### Clip Data for Train/Test"
   ]
  },
  {
   "cell_type": "code",
   "execution_count": 13,
   "metadata": {},
   "outputs": [],
   "source": [
    "clip_data_train_test = input_json_data['clip_data_train_test']\n",
    "x_clip_train_test = clip_data_train_test['x_clip']\n",
    "y_clip_train_test = clip_data_train_test['y_clip']"
   ]
  },
  {
   "cell_type": "markdown",
   "metadata": {},
   "source": [
    "## Paths and File Names"
   ]
  },
  {
   "cell_type": "code",
   "execution_count": 14,
   "metadata": {},
   "outputs": [],
   "source": [
    "paths = input_json_data['paths']"
   ]
  },
  {
   "cell_type": "markdown",
   "metadata": {},
   "source": [
    "#### Global"
   ]
  },
  {
   "cell_type": "code",
   "execution_count": 15,
   "metadata": {},
   "outputs": [],
   "source": [
    "# WRF data set location and the extracted data set location\n",
    "data_files_location = paths['data_files_location']\n",
    "extracted_data_base_loc = paths['extracted_data_base_loc']"
   ]
  },
  {
   "cell_type": "markdown",
   "metadata": {},
   "source": [
    "#### DataSet Specific (Train and Test)"
   ]
  },
  {
   "cell_type": "code",
   "execution_count": 16,
   "metadata": {},
   "outputs": [],
   "source": [
    "data_set_name = 'data_train_test_extracted_%03d'%(data_set_count)\n",
    "\n",
    "extracted_data_loc = os.path.join(extracted_data_base_loc, data_set_name)\n",
    "os.system('mkdir -p %s'%extracted_data_loc)\n",
    "\n",
    "collection_of_read_data_files = '{}_files_read.pkl'.format(data_set_name)\n",
    "extracted_data_file_name = '{}_df.pkl'.format(data_set_name)\n",
    "\n",
    "tab_data_file_name = '{}_tab_data.csv'.format(data_set_name)"
   ]
  },
  {
   "cell_type": "markdown",
   "metadata": {},
   "source": [
    "#### DataSet Specific (Fire)"
   ]
  },
  {
   "cell_type": "code",
   "execution_count": 17,
   "metadata": {},
   "outputs": [],
   "source": [
    "fire_data_set_name = 'data_fire_extracted_%03d'%(data_set_count)\n",
    "\n",
    "fire_data_loc = os.path.join(extracted_data_base_loc, fire_data_set_name)\n",
    "os.system('mkdir -p %s'%fire_data_loc)\n",
    "\n",
    "fire_data_file_name = '{}.pkl'.format(fire_data_set_name)"
   ]
  },
  {
   "cell_type": "markdown",
   "metadata": {},
   "source": [
    "## Relevant Fire TimeStamps"
   ]
  },
  {
   "cell_type": "code",
   "execution_count": 18,
   "metadata": {},
   "outputs": [],
   "source": [
    "fire_time_stamps = input_json_data['fire_time_stamps']"
   ]
  },
  {
   "cell_type": "markdown",
   "metadata": {},
   "source": [
    "# Generate seed for the random number generator"
   ]
  },
  {
   "cell_type": "code",
   "execution_count": 19,
   "metadata": {},
   "outputs": [],
   "source": [
    "seed = generate_seed()\n",
    "random_state = init_random_generator(seed)"
   ]
  },
  {
   "cell_type": "markdown",
   "metadata": {},
   "source": [
    "# File Names"
   ]
  },
  {
   "cell_type": "code",
   "execution_count": 20,
   "metadata": {},
   "outputs": [
    {
     "name": "stdout",
     "output_type": "stream",
     "text": [
      "\n",
      "Getting the names of the data files at the dir : \n",
      " /p/vast1/climres/DFM_reanalysis \n",
      "\n",
      "years_list: ['2000', '2001', '2002', '2003', '2004', '2005', '2006', '2007', '2008', '2009', '2010', '2011', '2012', '2013', '2014', '2015', '2016', '2017', '2018', '2019', '2020'] \n",
      "\n",
      "\n",
      "Found a total of 184103 files \n",
      "\n",
      "=========================================================================\n",
      "Module memory consumed: 16.496 MB\n",
      "Module \"get_data_file_names\" computing time: 0.366 s\n"
     ]
    }
   ],
   "source": [
    "module_start_time = timer()\n",
    "module_initial_memory = process.memory_info().rss\n",
    "data_files_list_all = get_data_file_names(data_files_location)\n",
    "data_files_list = data_files_list_all\n",
    "module_final_memory = process.memory_info().rss\n",
    "module_end_time = timer()\n",
    "module_memory_consumed = module_final_memory - module_initial_memory\n",
    "print('Module memory consumed: {:.3f} MB'.format(module_memory_consumed/(1024*1024)))\n",
    "print('Module \"get_data_file_names\" computing time: {:.3f} s'.format(module_end_time - module_start_time))"
   ]
  },
  {
   "cell_type": "markdown",
   "metadata": {},
   "source": [
    "# Remove Files Corresponding To Fire Data"
   ]
  },
  {
   "cell_type": "markdown",
   "metadata": {},
   "source": [
    "## Get Indices for Fire Time Stamps"
   ]
  },
  {
   "cell_type": "code",
   "execution_count": 21,
   "metadata": {},
   "outputs": [
    {
     "name": "stdout",
     "output_type": "stream",
     "text": [
      "=========================================================================\n",
      "Module memory consumed: 0.000 MB\n",
      "Module \"get_fire_time_indices\" computing time: 0.021 s\n"
     ]
    }
   ],
   "source": [
    "if remove_fire_data_from_train_test or extract_fire_data:\n",
    "    module_start_time = timer()\n",
    "    module_initial_memory = process.memory_info().rss\n",
    "    fire_time_indices = get_fire_time_indices (fire_time_stamps, data_files_list_all)\n",
    "    module_final_memory = process.memory_info().rss\n",
    "    module_end_time = timer()\n",
    "    module_memory_consumed = module_final_memory - module_initial_memory\n",
    "    print('Module memory consumed: {:.3f} MB'.format(module_memory_consumed/(1024*1024)))\n",
    "    print('Module \"get_fire_time_indices\" computing time: {:.3f} s'.format(module_end_time - module_start_time))"
   ]
  },
  {
   "cell_type": "markdown",
   "metadata": {},
   "source": [
    "## Remove the Files with Indices for Fire Time Stamps"
   ]
  },
  {
   "cell_type": "code",
   "execution_count": 22,
   "metadata": {},
   "outputs": [],
   "source": [
    "if remove_fire_data_from_train_test:\n",
    "    module_start_time = timer()\n",
    "    module_initial_memory = process.memory_info().rss\n",
    "    data_files_list = remove_data_around_fire (fire_time_indices, data_files_list)\n",
    "    module_final_memory = process.memory_info().rss\n",
    "    module_end_time = timer()\n",
    "    module_memory_consumed = module_final_memory - module_initial_memory\n",
    "    print('Module memory consumed: {:.3f} MB'.format(module_memory_consumed/(1024*1024)))\n",
    "    print('Module \"remove_data_around_fire\" computing time: {:.3f} s'.format(module_end_time - module_start_time))"
   ]
  },
  {
   "cell_type": "code",
   "execution_count": 23,
   "metadata": {},
   "outputs": [],
   "source": [
    "#len(data_files_list)"
   ]
  },
  {
   "cell_type": "markdown",
   "metadata": {},
   "source": [
    "# Deal with just first few files to check for correctness of script. Be sure to undo this"
   ]
  },
  {
   "cell_type": "code",
   "execution_count": 24,
   "metadata": {},
   "outputs": [],
   "source": [
    "#data_files_list = data_files_list[0:30]"
   ]
  },
  {
   "cell_type": "markdown",
   "metadata": {},
   "source": [
    "# Downsample Files"
   ]
  },
  {
   "cell_type": "code",
   "execution_count": 25,
   "metadata": {},
   "outputs": [
    {
     "name": "stdout",
     "output_type": "stream",
     "text": [
      "\n",
      "Randomly selecting approx 0.00817755098 % of the data files\n",
      "Selected 15 data files out of 184103 total and 184095 usable considering historical data\n",
      "=========================================================================\n",
      "Module memory consumed: 11.594 MB\n",
      "Module \"downsample_data_files\" computing time: 0.053 s\n"
     ]
    }
   ],
   "source": [
    "module_start_time = timer()\n",
    "module_initial_memory = process.memory_info().rss\n",
    "sampled_file_indices, sampled_data_files = downsample_data_files (\\\n",
    "                                        data_files_list, percent_files_to_use, \\\n",
    "                                        max_history_to_consider, random_state)\n",
    "module_final_memory = process.memory_info().rss\n",
    "module_end_time = timer()\n",
    "module_memory_consumed = module_final_memory - module_initial_memory\n",
    "print('Module memory consumed: {:.3f} MB'.format(module_memory_consumed/(1024*1024)))\n",
    "print('Module \"downsample_data_files\" computing time: {:.3f} s'.format(module_end_time - module_start_time))"
   ]
  },
  {
   "cell_type": "markdown",
   "metadata": {},
   "source": [
    "# Get History File Indices"
   ]
  },
  {
   "cell_type": "code",
   "execution_count": 26,
   "metadata": {},
   "outputs": [
    {
     "name": "stdout",
     "output_type": "stream",
     "text": [
      "=========================================================================\n",
      "Module memory consumed: 0.000 MB\n",
      "Module \"get_history_file_indices\" computing time: 0.001 s\n"
     ]
    }
   ],
   "source": [
    "module_start_time = timer()\n",
    "module_initial_memory = process.memory_info().rss\n",
    "history_file_indices = get_history_file_indices (sampled_file_indices, \\\n",
    "                                                 max_history_to_consider, history_interval)\n",
    "module_final_memory = process.memory_info().rss\n",
    "module_end_time = timer()\n",
    "module_memory_consumed = module_final_memory - module_initial_memory\n",
    "print('Module memory consumed: {:.3f} MB'.format(module_memory_consumed/(1024*1024)))\n",
    "print('Module \"get_history_file_indices\" computing time: {:.3f} s'.format(module_end_time - module_start_time))"
   ]
  },
  {
   "cell_type": "markdown",
   "metadata": {},
   "source": [
    "# Create timestamps and datetime of downsampled data files"
   ]
  },
  {
   "cell_type": "code",
   "execution_count": 27,
   "metadata": {},
   "outputs": [
    {
     "name": "stdout",
     "output_type": "stream",
     "text": [
      "=========================================================================\n",
      "Module memory consumed: 0.000 MB\n",
      "Module \"get_datetime_for_data_files\" computing time: 0.000 s\n"
     ]
    }
   ],
   "source": [
    "module_start_time = timer()\n",
    "module_initial_memory = process.memory_info().rss\n",
    "sampled_time_stamps, sampled_datetime = get_datetime_for_data_files (sampled_data_files)\n",
    "module_final_memory = process.memory_info().rss\n",
    "module_end_time = timer()\n",
    "module_memory_consumed = module_final_memory - module_initial_memory\n",
    "print('Module memory consumed: {:.3f} MB'.format(module_memory_consumed/(1024*1024)))\n",
    "print('Module \"get_datetime_for_data_files\" computing time: {:.3f} s'.format(module_end_time - module_start_time))"
   ]
  },
  {
   "cell_type": "markdown",
   "metadata": {},
   "source": [
    "# Create DataFrame using sampled file indices, filenames, timestamps, and datetime"
   ]
  },
  {
   "cell_type": "code",
   "execution_count": 28,
   "metadata": {},
   "outputs": [
    {
     "name": "stdout",
     "output_type": "stream",
     "text": [
      "\n",
      "Creating DataFrame using sampled file indices, filenames, timestamps, and datetime...\n",
      "=========================================================================\n",
      "Module memory consumed: 0.000 MB\n",
      "Module \"create_df_sampled_time\" computing time: 0.004 s\n"
     ]
    }
   ],
   "source": [
    "module_start_time = timer()\n",
    "module_initial_memory = process.memory_info().rss\n",
    "df_sampled_time = create_df_sampled_time (sampled_file_indices, sampled_data_files, \\\n",
    "                                          sampled_time_stamps, sampled_datetime, \\\n",
    "                                          history_file_indices)\n",
    "module_final_memory = process.memory_info().rss\n",
    "module_end_time = timer()\n",
    "module_memory_consumed = module_final_memory - module_initial_memory\n",
    "print('Module memory consumed: {:.3f} MB'.format(module_memory_consumed/(1024*1024)))\n",
    "print('Module \"create_df_sampled_time\" computing time: {:.3f} s'.format(module_end_time - module_start_time))"
   ]
  },
  {
   "cell_type": "code",
   "execution_count": 29,
   "metadata": {},
   "outputs": [],
   "source": [
    "#df_sampled_time[df_sampled_time['ref_time_indices'] < max_history_to_consider+10]"
   ]
  },
  {
   "cell_type": "code",
   "execution_count": 30,
   "metadata": {},
   "outputs": [
    {
     "data": {
      "text/html": [
       "<div>\n",
       "<style scoped>\n",
       "    .dataframe tbody tr th:only-of-type {\n",
       "        vertical-align: middle;\n",
       "    }\n",
       "\n",
       "    .dataframe tbody tr th {\n",
       "        vertical-align: top;\n",
       "    }\n",
       "\n",
       "    .dataframe thead th {\n",
       "        text-align: right;\n",
       "    }\n",
       "</style>\n",
       "<table border=\"1\" class=\"dataframe\">\n",
       "  <thead>\n",
       "    <tr style=\"text-align: right;\">\n",
       "      <th></th>\n",
       "      <th>ref_time_indices</th>\n",
       "      <th>sampled_data_files</th>\n",
       "      <th>sampled_time_stamps</th>\n",
       "      <th>sampled_datetime</th>\n",
       "      <th>history_time_indices</th>\n",
       "    </tr>\n",
       "  </thead>\n",
       "  <tbody>\n",
       "    <tr>\n",
       "      <th>0</th>\n",
       "      <td>68177</td>\n",
       "      <td>wrf_2007-10-11_17.nc</td>\n",
       "      <td>2007-10-11_17</td>\n",
       "      <td>2007-10-11 17:00:00</td>\n",
       "      <td>[68169, 68171, 68173, 68175]</td>\n",
       "    </tr>\n",
       "    <tr>\n",
       "      <th>1</th>\n",
       "      <td>85122</td>\n",
       "      <td>wrf_2009-09-16_18.nc</td>\n",
       "      <td>2009-09-16_18</td>\n",
       "      <td>2009-09-16 18:00:00</td>\n",
       "      <td>[85114, 85116, 85118, 85120]</td>\n",
       "    </tr>\n",
       "    <tr>\n",
       "      <th>2</th>\n",
       "      <td>11007</td>\n",
       "      <td>wrf_2001-04-03_15.nc</td>\n",
       "      <td>2001-04-03_15</td>\n",
       "      <td>2001-04-03 15:00:00</td>\n",
       "      <td>[10999, 11001, 11003, 11005]</td>\n",
       "    </tr>\n",
       "    <tr>\n",
       "      <th>3</th>\n",
       "      <td>106366</td>\n",
       "      <td>wrf_2012-02-18_23.nc</td>\n",
       "      <td>2012-02-18_23</td>\n",
       "      <td>2012-02-18 23:00:00</td>\n",
       "      <td>[106358, 106360, 106362, 106364]</td>\n",
       "    </tr>\n",
       "    <tr>\n",
       "      <th>4</th>\n",
       "      <td>160932</td>\n",
       "      <td>wrf_2018-05-11_13.nc</td>\n",
       "      <td>2018-05-11_13</td>\n",
       "      <td>2018-05-11 13:00:00</td>\n",
       "      <td>[160924, 160926, 160928, 160930]</td>\n",
       "    </tr>\n",
       "    <tr>\n",
       "      <th>5</th>\n",
       "      <td>88726</td>\n",
       "      <td>wrf_2010-02-13_22.nc</td>\n",
       "      <td>2010-02-13_22</td>\n",
       "      <td>2010-02-13 22:00:00</td>\n",
       "      <td>[88718, 88720, 88722, 88724]</td>\n",
       "    </tr>\n",
       "    <tr>\n",
       "      <th>6</th>\n",
       "      <td>66222</td>\n",
       "      <td>wrf_2007-07-22_06.nc</td>\n",
       "      <td>2007-07-22_06</td>\n",
       "      <td>2007-07-22 06:00:00</td>\n",
       "      <td>[66214, 66216, 66218, 66220]</td>\n",
       "    </tr>\n",
       "    <tr>\n",
       "      <th>7</th>\n",
       "      <td>139479</td>\n",
       "      <td>wrf_2015-11-29_16.nc</td>\n",
       "      <td>2015-11-29_16</td>\n",
       "      <td>2015-11-29 16:00:00</td>\n",
       "      <td>[139471, 139473, 139475, 139477]</td>\n",
       "    </tr>\n",
       "    <tr>\n",
       "      <th>8</th>\n",
       "      <td>3809</td>\n",
       "      <td>wrf_2000-06-07_17.nc</td>\n",
       "      <td>2000-06-07_17</td>\n",
       "      <td>2000-06-07 17:00:00</td>\n",
       "      <td>[3801, 3803, 3805, 3807]</td>\n",
       "    </tr>\n",
       "    <tr>\n",
       "      <th>9</th>\n",
       "      <td>65441</td>\n",
       "      <td>wrf_2007-06-19_17.nc</td>\n",
       "      <td>2007-06-19_17</td>\n",
       "      <td>2007-06-19 17:00:00</td>\n",
       "      <td>[65433, 65435, 65437, 65439]</td>\n",
       "    </tr>\n",
       "    <tr>\n",
       "      <th>10</th>\n",
       "      <td>3879</td>\n",
       "      <td>wrf_2000-06-10_15.nc</td>\n",
       "      <td>2000-06-10_15</td>\n",
       "      <td>2000-06-10 15:00:00</td>\n",
       "      <td>[3871, 3873, 3875, 3877]</td>\n",
       "    </tr>\n",
       "    <tr>\n",
       "      <th>11</th>\n",
       "      <td>157108</td>\n",
       "      <td>wrf_2017-12-03_05.nc</td>\n",
       "      <td>2017-12-03_05</td>\n",
       "      <td>2017-12-03 05:00:00</td>\n",
       "      <td>[157100, 157102, 157104, 157106]</td>\n",
       "    </tr>\n",
       "    <tr>\n",
       "      <th>12</th>\n",
       "      <td>66871</td>\n",
       "      <td>wrf_2007-08-18_07.nc</td>\n",
       "      <td>2007-08-18_07</td>\n",
       "      <td>2007-08-18 07:00:00</td>\n",
       "      <td>[66863, 66865, 66867, 66869]</td>\n",
       "    </tr>\n",
       "    <tr>\n",
       "      <th>13</th>\n",
       "      <td>2100</td>\n",
       "      <td>wrf_2000-03-28_12.nc</td>\n",
       "      <td>2000-03-28_12</td>\n",
       "      <td>2000-03-28 12:00:00</td>\n",
       "      <td>[2092, 2094, 2096, 2098]</td>\n",
       "    </tr>\n",
       "    <tr>\n",
       "      <th>14</th>\n",
       "      <td>8983</td>\n",
       "      <td>wrf_2001-01-09_07.nc</td>\n",
       "      <td>2001-01-09_07</td>\n",
       "      <td>2001-01-09 07:00:00</td>\n",
       "      <td>[8975, 8977, 8979, 8981]</td>\n",
       "    </tr>\n",
       "  </tbody>\n",
       "</table>\n",
       "</div>"
      ],
      "text/plain": [
       "    ref_time_indices    sampled_data_files sampled_time_stamps  \\\n",
       "0              68177  wrf_2007-10-11_17.nc       2007-10-11_17   \n",
       "1              85122  wrf_2009-09-16_18.nc       2009-09-16_18   \n",
       "2              11007  wrf_2001-04-03_15.nc       2001-04-03_15   \n",
       "3             106366  wrf_2012-02-18_23.nc       2012-02-18_23   \n",
       "4             160932  wrf_2018-05-11_13.nc       2018-05-11_13   \n",
       "5              88726  wrf_2010-02-13_22.nc       2010-02-13_22   \n",
       "6              66222  wrf_2007-07-22_06.nc       2007-07-22_06   \n",
       "7             139479  wrf_2015-11-29_16.nc       2015-11-29_16   \n",
       "8               3809  wrf_2000-06-07_17.nc       2000-06-07_17   \n",
       "9              65441  wrf_2007-06-19_17.nc       2007-06-19_17   \n",
       "10              3879  wrf_2000-06-10_15.nc       2000-06-10_15   \n",
       "11            157108  wrf_2017-12-03_05.nc       2017-12-03_05   \n",
       "12             66871  wrf_2007-08-18_07.nc       2007-08-18_07   \n",
       "13              2100  wrf_2000-03-28_12.nc       2000-03-28_12   \n",
       "14              8983  wrf_2001-01-09_07.nc       2001-01-09_07   \n",
       "\n",
       "      sampled_datetime              history_time_indices  \n",
       "0  2007-10-11 17:00:00      [68169, 68171, 68173, 68175]  \n",
       "1  2009-09-16 18:00:00      [85114, 85116, 85118, 85120]  \n",
       "2  2001-04-03 15:00:00      [10999, 11001, 11003, 11005]  \n",
       "3  2012-02-18 23:00:00  [106358, 106360, 106362, 106364]  \n",
       "4  2018-05-11 13:00:00  [160924, 160926, 160928, 160930]  \n",
       "5  2010-02-13 22:00:00      [88718, 88720, 88722, 88724]  \n",
       "6  2007-07-22 06:00:00      [66214, 66216, 66218, 66220]  \n",
       "7  2015-11-29 16:00:00  [139471, 139473, 139475, 139477]  \n",
       "8  2000-06-07 17:00:00          [3801, 3803, 3805, 3807]  \n",
       "9  2007-06-19 17:00:00      [65433, 65435, 65437, 65439]  \n",
       "10 2000-06-10 15:00:00          [3871, 3873, 3875, 3877]  \n",
       "11 2017-12-03 05:00:00  [157100, 157102, 157104, 157106]  \n",
       "12 2007-08-18 07:00:00      [66863, 66865, 66867, 66869]  \n",
       "13 2000-03-28 12:00:00          [2092, 2094, 2096, 2098]  \n",
       "14 2001-01-09 07:00:00          [8975, 8977, 8979, 8981]  "
      ]
     },
     "execution_count": 30,
     "metadata": {},
     "output_type": "execute_result"
    }
   ],
   "source": [
    "df_sampled_time.head(30)"
   ]
  },
  {
   "cell_type": "markdown",
   "metadata": {},
   "source": [
    "# Plot Sampled Datetime"
   ]
  },
  {
   "cell_type": "code",
   "execution_count": 31,
   "metadata": {},
   "outputs": [],
   "source": [
    "if input_json_data['plot_options']['plot_sampled_datetime']:\n",
    "    module_start_time = timer()\n",
    "    module_initial_memory = process.memory_info().rss\n",
    "    plot_sampled_datetime (df_sampled_time, extracted_data_loc)\n",
    "    module_final_memory = process.memory_info().rss\n",
    "    module_end_time = timer()\n",
    "    module_memory_consumed = module_final_memory - module_initial_memory\n",
    "    print('Module memory consumed: {:.3f} MB'.format(module_memory_consumed/(1024*1024)))\n",
    "    print('Module \"plot_sampled_datetime\" computing time: {:.3f} s'.format(module_end_time - module_start_time))"
   ]
  },
  {
   "cell_type": "markdown",
   "metadata": {},
   "source": [
    "# Read Quantities in a Selected Data File"
   ]
  },
  {
   "cell_type": "markdown",
   "metadata": {},
   "source": [
    "## Read the Data in a Specified or Randomly Selected File"
   ]
  },
  {
   "cell_type": "code",
   "execution_count": 32,
   "metadata": {},
   "outputs": [],
   "source": [
    "data_in_a_file = input_json_data['data_in_a_file']\n",
    "prescribe_file = data_in_a_file['prescribe_file_flag']\n",
    "if prescribe_file:\n",
    "    data_file_to_read = data_in_a_file['data_file_to_read']\n",
    "    timestamp_to_read = data_file_to_read.split('_')[1] + '_' + \\\n",
    "                        data_file_to_read.split('_')[2].split('.')[0]\n",
    "else:\n",
    "    random_ind_of_downsampled_files = random.choice(range(len(sampled_file_indices)))\n",
    "    file_ind_to_read = sampled_file_indices[random_ind_of_downsampled_files]\n",
    "    data_file_to_read = sampled_data_files[random_ind_of_downsampled_files]\n",
    "    timestamp_to_read = sampled_time_stamps[random_ind_of_downsampled_files]"
   ]
  },
  {
   "cell_type": "code",
   "execution_count": 33,
   "metadata": {},
   "outputs": [
    {
     "data": {
      "text/plain": [
       "('wrf_2018-11-07_16.nc', '2018-11-07_16')"
      ]
     },
     "execution_count": 33,
     "metadata": {},
     "output_type": "execute_result"
    }
   ],
   "source": [
    "data_file_to_read, timestamp_to_read"
   ]
  },
  {
   "cell_type": "code",
   "execution_count": 34,
   "metadata": {},
   "outputs": [
    {
     "name": "stdout",
     "output_type": "stream",
     "text": [
      "Module memory consumed: 115.043 MB\n",
      "Module \"read_single_data_file\" computing time: 3.967 s\n"
     ]
    }
   ],
   "source": [
    "module_start_time = timer()\n",
    "module_initial_memory = process.memory_info().rss\n",
    "data_at_timestamp = read_single_data_file (data_files_location, data_file_to_read, \\\n",
    "                                           timestamp_to_read)\n",
    "module_final_memory = process.memory_info().rss\n",
    "module_end_time = timer()\n",
    "module_memory_consumed = module_final_memory - module_initial_memory\n",
    "print('Module memory consumed: {:.3f} MB'.format(module_memory_consumed/(1024*1024)))\n",
    "print('Module \"read_single_data_file\" computing time: {:.3f} s'.format(module_end_time - module_start_time))"
   ]
  },
  {
   "cell_type": "markdown",
   "metadata": {},
   "source": [
    "## Processing Elevation Data into Pos, Neg, and Zero"
   ]
  },
  {
   "cell_type": "code",
   "execution_count": 35,
   "metadata": {},
   "outputs": [
    {
     "name": "stdout",
     "output_type": "stream",
     "text": [
      "Module memory consumed: 0.000 MB\n",
      "Module \"process_elevation_at_timestamp\" computing time: 0.004 s\n"
     ]
    }
   ],
   "source": [
    "module_start_time = timer()\n",
    "module_initial_memory = process.memory_info().rss\n",
    "data_at_timestamp = process_elevation_at_timestamp (data_at_timestamp)\n",
    "module_final_memory = process.memory_info().rss\n",
    "module_end_time = timer()\n",
    "module_memory_consumed = module_final_memory - module_initial_memory\n",
    "print('Module memory consumed: {:.3f} MB'.format(module_memory_consumed/(1024*1024)))\n",
    "print('Module \"process_elevation_at_timestamp\" computing time: {:.3f} s'.format(module_end_time - module_start_time))"
   ]
  },
  {
   "cell_type": "markdown",
   "metadata": {},
   "source": [
    "# Get and Plot Grid Indices (All and Considerable)"
   ]
  },
  {
   "cell_type": "markdown",
   "metadata": {},
   "source": [
    "## Get Grid Indices"
   ]
  },
  {
   "cell_type": "code",
   "execution_count": 36,
   "metadata": {},
   "outputs": [
    {
     "name": "stdout",
     "output_type": "stream",
     "text": [
      "\n",
      "Getting all the grid indices from a randomly selcted file...\n",
      "The selected file is: wrf_2001-01-09_07.nc\n",
      "=========================================================================\n",
      "Module memory consumed: 29.742 MB\n",
      "Module \"get_grid_indices_all\" computing time: 0.669 s\n"
     ]
    }
   ],
   "source": [
    "module_start_time = timer()\n",
    "module_initial_memory = process.memory_info().rss\n",
    "grid_indices_all, grid_indices_valid, grid_indices_all_flat, grid_indices_valid_flat = \\\n",
    "                        get_grid_indices_all (data_files_location, sampled_file_indices, \\\n",
    "                                              sampled_data_files, sampled_time_stamps, \\\n",
    "                                              x_clip_train_test, y_clip_train_test, \\\n",
    "                                              j_nevada, i_nevada, j_anchor, i_anchor, \\\n",
    "                                              remove_nevada)\n",
    "\n",
    "module_final_memory = process.memory_info().rss\n",
    "module_end_time = timer()\n",
    "module_memory_consumed = module_final_memory - module_initial_memory\n",
    "print('Module memory consumed: {:.3f} MB'.format(module_memory_consumed/(1024*1024)))\n",
    "print('Module \"get_grid_indices_all\" computing time: {:.3f} s'.format(module_end_time - module_start_time))"
   ]
  },
  {
   "cell_type": "markdown",
   "metadata": {},
   "source": [
    "## Reconstruct Grid Indices"
   ]
  },
  {
   "cell_type": "code",
   "execution_count": 37,
   "metadata": {},
   "outputs": [
    {
     "name": "stdout",
     "output_type": "stream",
     "text": [
      "\n",
      "Reconstructing valid grid indices...\n",
      "=========================================================================\n",
      "Module memory consumed: 13.191 MB\n",
      "Module \"reconstruct_valid_grid_indices\" computing time: 0.081 s\n"
     ]
    }
   ],
   "source": [
    "module_start_time = timer()\n",
    "module_initial_memory = process.memory_info().rss\n",
    "grid_indices_valid_reconst, grid_indices_valid_bool, valid_grid_ind_to_coord = \\\n",
    "                reconstruct_valid_grid_indices (grid_indices_valid_flat, data_at_timestamp)\n",
    "module_final_memory = process.memory_info().rss\n",
    "module_end_time = timer()\n",
    "module_memory_consumed = module_final_memory - module_initial_memory\n",
    "print('Module memory consumed: {:.3f} MB'.format(module_memory_consumed/(1024*1024)))\n",
    "print('Module \"reconstruct_valid_grid_indices\" computing time: {:.3f} s'.format(module_end_time - module_start_time))"
   ]
  },
  {
   "cell_type": "markdown",
   "metadata": {},
   "source": [
    "## Plot Grid Indices"
   ]
  },
  {
   "cell_type": "code",
   "execution_count": 38,
   "metadata": {},
   "outputs": [],
   "source": [
    "if input_json_data['plot_options']['plot_contours_of_indices']:\n",
    "    module_start_time = timer()\n",
    "    module_initial_memory = process.memory_info().rss\n",
    "    plot_contours_of_indices (data_at_timestamp, grid_indices_all, grid_indices_valid, \\\n",
    "                              grid_indices_valid_bool, grid_indices_valid_reconst, \\\n",
    "                              extracted_data_loc)\n",
    "    module_final_memory = process.memory_info().rss\n",
    "    module_end_time = timer()\n",
    "    module_memory_consumed = module_final_memory - module_initial_memory\n",
    "    print('Module memory consumed: {:.3f} MB'.format(module_memory_consumed/(1024*1024)))\n",
    "    print('Module \"plot_contours_of_indices\" computing time: {:.3f} s'.format(module_end_time - module_start_time))"
   ]
  },
  {
   "cell_type": "code",
   "execution_count": 39,
   "metadata": {},
   "outputs": [],
   "source": [
    "#len(grid_indices_valid_flat)"
   ]
  },
  {
   "cell_type": "markdown",
   "metadata": {},
   "source": [
    "# Plot Quantities in the Selected Data File"
   ]
  },
  {
   "cell_type": "markdown",
   "metadata": {},
   "source": [
    "## Plot the Contours of QoIs for the Data Just Read Above"
   ]
  },
  {
   "cell_type": "markdown",
   "metadata": {},
   "source": [
    "### Unmasked Data"
   ]
  },
  {
   "cell_type": "code",
   "execution_count": 40,
   "metadata": {},
   "outputs": [],
   "source": [
    "if input_json_data['plot_options']['plot_contours_of_qoi']:\n",
    "    module_start_time = timer()\n",
    "    module_initial_memory = process.memory_info().rss\n",
    "    qoi_to_plot = input_json_data['qoi_to_plot']['contours']\n",
    "    plot_contours_at_timestamp (data_at_timestamp, qoi_to_plot, extracted_data_loc, \\\n",
    "                                grid_indices_valid, masked = False)\n",
    "    module_final_memory = process.memory_info().rss\n",
    "    module_end_time = timer()\n",
    "    module_memory_consumed = module_final_memory - module_initial_memory\n",
    "    print('Module memory consumed: {:.3f} MB'.format(module_memory_consumed/(1024*1024)))\n",
    "    print('Module \"plot_contours_at_timestamp\" computing time: {:.3f} s'.format(module_end_time - module_start_time))"
   ]
  },
  {
   "cell_type": "markdown",
   "metadata": {},
   "source": [
    "### Masked Data"
   ]
  },
  {
   "cell_type": "code",
   "execution_count": 41,
   "metadata": {},
   "outputs": [],
   "source": [
    "if input_json_data['plot_options']['plot_contours_of_qoi']:\n",
    "    module_start_time = timer()\n",
    "    module_initial_memory = process.memory_info().rss\n",
    "    qoi_to_plot = input_json_data['qoi_to_plot']['contours']\n",
    "    plot_contours_at_timestamp (data_at_timestamp, qoi_to_plot, extracted_data_loc, \\\n",
    "                                grid_indices_valid, masked = True)\n",
    "    module_final_memory = process.memory_info().rss\n",
    "    module_end_time = timer()\n",
    "    module_memory_consumed = module_final_memory - module_initial_memory\n",
    "    print('Module memory consumed: {:.3f} MB'.format(module_memory_consumed/(1024*1024)))\n",
    "    print('Module \"plot_contours_at_timestamp\" computing time: {:.3f} s'.format(module_end_time - module_start_time))"
   ]
  },
  {
   "cell_type": "markdown",
   "metadata": {},
   "source": [
    "## Plot the PDFs of QoIs for the Data Just Read Above"
   ]
  },
  {
   "cell_type": "code",
   "execution_count": 42,
   "metadata": {},
   "outputs": [],
   "source": [
    "if input_json_data['plot_options']['plot_pdfs_of_qoi']:\n",
    "    module_start_time = timer()\n",
    "    module_initial_memory = process.memory_info().rss\n",
    "    qoi_to_plot = input_json_data['qoi_to_plot']['pdfs']\n",
    "    plot_pdf_at_timestamp (data_at_timestamp, qoi_to_plot, extracted_data_loc)\n",
    "    module_final_memory = process.memory_info().rss\n",
    "    module_end_time = timer()\n",
    "    module_memory_consumed = module_final_memory - module_initial_memory\n",
    "    print('Module memory consumed: {:.3f} MB'.format(module_memory_consumed/(1024*1024)))\n",
    "    print('Module \"plot_pdf_at_timestamp\" computing time: {:.3f} s'.format(module_end_time - module_start_time))"
   ]
  },
  {
   "cell_type": "markdown",
   "metadata": {},
   "source": [
    "## Plot the Contours of QoIs With Colorbars"
   ]
  },
  {
   "cell_type": "code",
   "execution_count": 43,
   "metadata": {},
   "outputs": [],
   "source": [
    "if input_json_data['plot_options']['plot_fm_contours_with_cb']:\n",
    "    qoi_to_plot = input_json_data['qoi_to_plot']['contours_with_cb']\n",
    "    cont_levels_count = input_json_data['qoi_to_plot']['cont_levels_count']\n",
    "    qoi_cont_range = input_json_data['qoi_to_plot']['qoi_cont_range']"
   ]
  },
  {
   "cell_type": "code",
   "execution_count": 44,
   "metadata": {},
   "outputs": [],
   "source": [
    "if input_json_data['plot_options']['plot_fm_contours_with_cb']:\n",
    "    module_start_time = timer()\n",
    "    module_initial_memory = process.memory_info().rss\n",
    "    plot_contours_at_timestamp2 (data_at_timestamp, timestamp_to_read, qoi_to_plot, \\\n",
    "                                 extracted_data_loc, grid_indices_valid, \\\n",
    "                                 cont_levels_count, qoi_cont_range, masked = True)\n",
    "    #plot_contours_at_timestamp2 (data_at_timestamp, timestamp_to_read, qoi_to_plot, extracted_data_loc, grid_indices_valid, cont_levels_count, masked = True)\n",
    "    module_final_memory = process.memory_info().rss\n",
    "    module_end_time = timer()\n",
    "    module_memory_consumed = module_final_memory - module_initial_memory\n",
    "    print('Module memory consumed: {:.3f} MB'.format(module_memory_consumed/(1024*1024)))\n",
    "    print('Module \"plot_contours_at_timestamp2\" computing time: {:.3f} s'.format(module_end_time - module_start_time))"
   ]
  },
  {
   "cell_type": "markdown",
   "metadata": {},
   "source": [
    "# Sample and Plot Grid Indices for Each Sampled Ref Time"
   ]
  },
  {
   "cell_type": "markdown",
   "metadata": {},
   "source": [
    "## Sample Grid Indices"
   ]
  },
  {
   "cell_type": "code",
   "execution_count": 45,
   "metadata": {},
   "outputs": [
    {
     "name": "stdout",
     "output_type": "stream",
     "text": [
      "Selecting 5 grid points (approx 0.0063656565 % of a total of 83951 considerable/valid grid points)\n",
      "\n",
      "=========================================================================\n",
      "Module memory consumed: 1.816 MB\n",
      "Module \"sample_grid_indices\" computing time: 0.105 s\n"
     ]
    }
   ],
   "source": [
    "module_start_time = timer()\n",
    "module_initial_memory = process.memory_info().rss\n",
    "grid_indices_selected, j_indices_selected, i_indices_selected = \\\n",
    "    sample_grid_indices (sampled_file_indices, percent_grid_points_to_use, \\\n",
    "                         grid_indices_valid_flat, valid_grid_ind_to_coord)\n",
    "module_final_memory = process.memory_info().rss\n",
    "module_end_time = timer()\n",
    "module_memory_consumed = module_final_memory - module_initial_memory\n",
    "print('Module memory consumed: {:.3f} MB'.format(module_memory_consumed/(1024*1024)))\n",
    "print('Module \"sample_grid_indices\" computing time: {:.3f} s'.format(module_end_time - module_start_time))"
   ]
  },
  {
   "cell_type": "markdown",
   "metadata": {},
   "source": [
    "## Plot Sampled Grid Indices"
   ]
  },
  {
   "cell_type": "code",
   "execution_count": 46,
   "metadata": {},
   "outputs": [],
   "source": [
    "if input_json_data['plot_options']['plot_sampled_grid_indices_2d']:\n",
    "    module_start_time = timer()\n",
    "    module_initial_memory = process.memory_info().rss\n",
    "    plot_sampled_grid_points (grid_indices_selected, extracted_data_loc)\n",
    "    module_final_memory = process.memory_info().rss\n",
    "    module_end_time = timer()\n",
    "    module_memory_consumed = module_final_memory - module_initial_memory\n",
    "    print('Module memory consumed: {:.3f} MB'.format(module_memory_consumed/(1024*1024)))\n",
    "    print('Module \"plot_sampled_grid_points\" computing time: {:.3f} s'.format(module_end_time - module_start_time))"
   ]
  },
  {
   "cell_type": "markdown",
   "metadata": {},
   "source": [
    "## Plot Sampled Grid Indices in 3D"
   ]
  },
  {
   "cell_type": "code",
   "execution_count": 47,
   "metadata": {},
   "outputs": [],
   "source": [
    "if input_json_data['plot_options']['plot_sampled_grid_indices_3d']:\n",
    "    module_start_time = timer()\n",
    "    module_initial_memory = process.memory_info().rss\n",
    "    plot_sampled_grid_points_3D (j_indices_selected, i_indices_selected, \\\n",
    "                                 extracted_data_loc, (6, 6)) #fig_size hard-coded\n",
    "    module_final_memory = process.memory_info().rss\n",
    "    module_end_time = timer()\n",
    "    module_memory_consumed = module_final_memory - module_initial_memory\n",
    "    print('Module memory consumed: {:.3f} MB'.format(module_memory_consumed/(1024*1024)))\n",
    "    print('Module \"plot_sampled_grid_points_3D\" computing time: {:.3f} s'.format(module_end_time - module_start_time))"
   ]
  },
  {
   "cell_type": "markdown",
   "metadata": {},
   "source": [
    "# Create a Dict of Time Indices and Grid Indices"
   ]
  },
  {
   "cell_type": "code",
   "execution_count": 48,
   "metadata": {},
   "outputs": [
    {
     "name": "stdout",
     "output_type": "stream",
     "text": [
      "Module memory consumed: 0.000 MB\n",
      "Module \"create_time_grid_indices_map\" computing time: 0.001 s\n"
     ]
    }
   ],
   "source": [
    "module_start_time = timer()\n",
    "module_initial_memory = process.memory_info().rss\n",
    "time_grid_indices_list_dict, time_grid_indices_list_count, \\\n",
    "time_grid_indices_set_dict, time_grid_indices_set_count = \\\n",
    "    create_time_grid_indices_map (sampled_file_indices, history_file_indices, \\\n",
    "                                  grid_indices_selected)\n",
    "module_final_memory = process.memory_info().rss\n",
    "module_end_time = timer()\n",
    "module_memory_consumed = module_final_memory - module_initial_memory\n",
    "print('Module memory consumed: {:.3f} MB'.format(module_memory_consumed/(1024*1024)))\n",
    "print('Module \"create_time_grid_indices_map\" computing time: {:.3f} s'.format(module_end_time - module_start_time))"
   ]
  },
  {
   "cell_type": "code",
   "execution_count": 49,
   "metadata": {},
   "outputs": [],
   "source": [
    "#len(time_grid_indices_list_dict.keys())\n",
    "#len(time_grid_indices_set_dict.keys())"
   ]
  },
  {
   "cell_type": "code",
   "execution_count": 50,
   "metadata": {},
   "outputs": [],
   "source": [
    "#sampled_file_indices\n",
    "#grid_indices_selected.shape"
   ]
  },
  {
   "cell_type": "code",
   "execution_count": 51,
   "metadata": {},
   "outputs": [],
   "source": [
    "#time_grid_indices_list_dict\n",
    "#time_grid_indices_list_count\n",
    "#time_grid_indices_set_dict\n",
    "#time_grid_indices_set_count"
   ]
  },
  {
   "cell_type": "markdown",
   "metadata": {},
   "source": [
    "# Read Data at Sampled Time and Grid Indices"
   ]
  },
  {
   "cell_type": "code",
   "execution_count": 52,
   "metadata": {},
   "outputs": [],
   "source": [
    "features_labels = input_json_data['features_labels']\n",
    "features_to_read = features_labels['features_to_read']\n",
    "labels_to_read = features_labels['labels_to_read']\n",
    "labels_ind_in_nc_file = features_labels['labels_ind_in_nc_file']"
   ]
  },
  {
   "cell_type": "code",
   "execution_count": 53,
   "metadata": {},
   "outputs": [
    {
     "name": "stdout",
     "output_type": "stream",
     "text": [
      "Module memory consumed: 0.047 MB\n",
      "Module \"read_data_at_sampled_times_and_grids\" computing time: 27.462 s\n"
     ]
    }
   ],
   "source": [
    "module_start_time = timer()\n",
    "module_initial_memory = process.memory_info().rss\n",
    "\n",
    "data_at_sampled_times_and_grids = \\\n",
    "    read_data_at_sampled_times_and_grids(labels_to_read, labels_ind_in_nc_file, \\\n",
    "                                         features_to_read, valid_grid_ind_to_coord, \\\n",
    "                                         time_grid_indices_set_dict, \\\n",
    "                                         data_files_location, data_files_list)\n",
    "\n",
    "module_final_memory = process.memory_info().rss\n",
    "module_end_time = timer()\n",
    "module_memory_consumed = module_final_memory - module_initial_memory\n",
    "print('Module memory consumed: {:.3f} MB'.format(module_memory_consumed/(1024*1024)))\n",
    "print('Module \"read_data_at_sampled_times_and_grids\" computing time: {:.3f} s'.format(module_end_time - module_start_time))"
   ]
  },
  {
   "cell_type": "code",
   "execution_count": 54,
   "metadata": {},
   "outputs": [],
   "source": [
    "#data_at_sampled_times_and_grids"
   ]
  },
  {
   "cell_type": "markdown",
   "metadata": {},
   "source": [
    "# Read Files At All Possible Time Indices (Ref + History)"
   ]
  },
  {
   "cell_type": "markdown",
   "metadata": {},
   "source": [
    "## Read Data at All Times"
   ]
  },
  {
   "cell_type": "code",
   "execution_count": 55,
   "metadata": {},
   "outputs": [
    {
     "data": {
      "text/plain": [
       "'\\nmodule_start_time = timer()\\nmodule_initial_memory = process.memory_info().rss\\n\\nfile_indices_to_read = list(time_grid_indices_list_dict.keys())\\ndata_files_to_read, time_stamps_to_read, file_indices_data_dict =                 read_data_all_possible_times (file_indices_to_read, data_files_list,                                              data_files_location)\\n\\nmodule_final_memory = process.memory_info().rss\\nmodule_end_time = timer()\\nmodule_memory_consumed = module_final_memory - module_initial_memory\\nprint(\\'Module memory consumed: {:.3f} MB\\'.format(module_memory_consumed/(1024*1024)))\\nprint(\\'Module \"read_data_all_possible_times\" computing time: {:.3f} s\\'.format(module_end_time - module_start_time))\\n'"
      ]
     },
     "execution_count": 55,
     "metadata": {},
     "output_type": "execute_result"
    }
   ],
   "source": [
    "'''\n",
    "module_start_time = timer()\n",
    "module_initial_memory = process.memory_info().rss\n",
    "\n",
    "file_indices_to_read = list(time_grid_indices_list_dict.keys())\n",
    "data_files_to_read, time_stamps_to_read, file_indices_data_dict = \\\n",
    "                read_data_all_possible_times (file_indices_to_read, data_files_list, \\\n",
    "                                             data_files_location)\n",
    "\n",
    "module_final_memory = process.memory_info().rss\n",
    "module_end_time = timer()\n",
    "module_memory_consumed = module_final_memory - module_initial_memory\n",
    "print('Module memory consumed: {:.3f} MB'.format(module_memory_consumed/(1024*1024)))\n",
    "print('Module \"read_data_all_possible_times\" computing time: {:.3f} s'.format(module_end_time - module_start_time))\n",
    "'''"
   ]
  },
  {
   "cell_type": "markdown",
   "metadata": {},
   "source": [
    "## Save Data In a Pickle File"
   ]
  },
  {
   "cell_type": "code",
   "execution_count": 56,
   "metadata": {},
   "outputs": [
    {
     "data": {
      "text/plain": [
       "'\\nmodule_start_time = timer()\\nmodule_initial_memory = process.memory_info().rss\\nsave_data_read_at_all_possible_times (file_indices_to_read, data_files_to_read,                                       time_stamps_to_read, file_indices_data_dict,                                       extracted_data_loc, collection_of_read_data_files)\\nmodule_final_memory = process.memory_info().rss\\nmodule_end_time = timer()\\nmodule_memory_consumed = module_final_memory - module_initial_memory\\nprint(\\'Module memory consumed: {:.3f} MB\\'.format(module_memory_consumed/(1024*1024)))\\nprint(\\'Module \"save_data_read_at_all_possible_times\" computing time: {:.3f} s\\'.format(module_end_time - module_start_time))\\n'"
      ]
     },
     "execution_count": 56,
     "metadata": {},
     "output_type": "execute_result"
    }
   ],
   "source": [
    "'''\n",
    "module_start_time = timer()\n",
    "module_initial_memory = process.memory_info().rss\n",
    "save_data_read_at_all_possible_times (file_indices_to_read, data_files_to_read, \\\n",
    "                                      time_stamps_to_read, file_indices_data_dict, \\\n",
    "                                      extracted_data_loc, collection_of_read_data_files)\n",
    "module_final_memory = process.memory_info().rss\n",
    "module_end_time = timer()\n",
    "module_memory_consumed = module_final_memory - module_initial_memory\n",
    "print('Module memory consumed: {:.3f} MB'.format(module_memory_consumed/(1024*1024)))\n",
    "print('Module \"save_data_read_at_all_possible_times\" computing time: {:.3f} s'.format(module_end_time - module_start_time))\n",
    "'''"
   ]
  },
  {
   "cell_type": "markdown",
   "metadata": {},
   "source": [
    "## Delete Data No Longer Needed To Free Memory"
   ]
  },
  {
   "cell_type": "code",
   "execution_count": 57,
   "metadata": {},
   "outputs": [
    {
     "data": {
      "text/plain": [
       "\"\\nglobal_final_memory = process.memory_info().rss\\nglobal_memory_consumed = global_final_memory - global_initial_memory\\nprint('Total memory consumed so far: {:.3f} MB'.format(global_memory_consumed/(1024*1024)))\\n\\nprint('Deleting Some Variables')\\ndel file_indices_data_dict\\n\\nglobal_final_memory = process.memory_info().rss\\nglobal_memory_consumed = global_final_memory - global_initial_memory\\nprint('Total memory consumed so far: {:.3f} MB'.format(global_memory_consumed/(1024*1024)))\\n\""
      ]
     },
     "execution_count": 57,
     "metadata": {},
     "output_type": "execute_result"
    }
   ],
   "source": [
    "'''\n",
    "global_final_memory = process.memory_info().rss\n",
    "global_memory_consumed = global_final_memory - global_initial_memory\n",
    "print('Total memory consumed so far: {:.3f} MB'.format(global_memory_consumed/(1024*1024)))\n",
    "\n",
    "print('Deleting Some Variables')\n",
    "del file_indices_data_dict\n",
    "\n",
    "global_final_memory = process.memory_info().rss\n",
    "global_memory_consumed = global_final_memory - global_initial_memory\n",
    "print('Total memory consumed so far: {:.3f} MB'.format(global_memory_consumed/(1024*1024)))\n",
    "'''"
   ]
  },
  {
   "cell_type": "markdown",
   "metadata": {},
   "source": [
    "## Read Data at All Possible Times Saved in a Pickle File"
   ]
  },
  {
   "cell_type": "code",
   "execution_count": 58,
   "metadata": {},
   "outputs": [
    {
     "data": {
      "text/plain": [
       "'\\nmodule_start_time = timer()\\nmodule_initial_memory = process.memory_info().rss\\ncollection_of_read_data = read_data_from_pickle_all_possible_times (extracted_data_loc,                                                               collection_of_read_data_files)\\nmodule_final_memory = process.memory_info().rss\\nmodule_end_time = timer()\\nmodule_memory_consumed = module_final_memory - module_initial_memory\\nprint(\\'Module memory consumed: {:.3f} MB\\'.format(module_memory_consumed/(1024*1024)))\\nprint(\\'Module \"read_data_from_pickle_all_possible_times\" computing time: {:.3f} s\\'.format(module_end_time - module_start_time))\\n'"
      ]
     },
     "execution_count": 58,
     "metadata": {},
     "output_type": "execute_result"
    }
   ],
   "source": [
    "'''\n",
    "module_start_time = timer()\n",
    "module_initial_memory = process.memory_info().rss\n",
    "collection_of_read_data = read_data_from_pickle_all_possible_times (extracted_data_loc, \\\n",
    "                                                              collection_of_read_data_files)\n",
    "module_final_memory = process.memory_info().rss\n",
    "module_end_time = timer()\n",
    "module_memory_consumed = module_final_memory - module_initial_memory\n",
    "print('Module memory consumed: {:.3f} MB'.format(module_memory_consumed/(1024*1024)))\n",
    "print('Module \"read_data_from_pickle_all_possible_times\" computing time: {:.3f} s'.format(module_end_time - module_start_time))\n",
    "'''"
   ]
  },
  {
   "cell_type": "code",
   "execution_count": 59,
   "metadata": {},
   "outputs": [],
   "source": [
    "#collection_of_read_data['file_indices_data_dict'].keys()"
   ]
  },
  {
   "cell_type": "markdown",
   "metadata": {},
   "source": [
    "# Extract and Save Data at The Sampled Time and Grid Points"
   ]
  },
  {
   "cell_type": "markdown",
   "metadata": {},
   "source": [
    "## Extract Data at The Sampled Time and Grid Points"
   ]
  },
  {
   "cell_type": "code",
   "execution_count": 60,
   "metadata": {},
   "outputs": [
    {
     "data": {
      "text/plain": [
       "\"\\ndata_at_times = collection_of_read_data['file_indices_data_dict']\\n#data_at_times.keys()\\n\""
      ]
     },
     "execution_count": 60,
     "metadata": {},
     "output_type": "execute_result"
    }
   ],
   "source": [
    "'''\n",
    "data_at_times = collection_of_read_data['file_indices_data_dict']\n",
    "#data_at_times.keys()\n",
    "'''"
   ]
  },
  {
   "cell_type": "code",
   "execution_count": 61,
   "metadata": {},
   "outputs": [
    {
     "data": {
      "text/plain": [
       "'\\nmodule_start_time = timer()\\nmodule_initial_memory = process.memory_info().rss\\ndf = create_dataframe_FM_atm_data (data_at_times,                                    sampled_file_indices, history_file_indices,                                    sampled_time_stamps, history_interval,                                    grid_indices_selected,                                    j_indices_selected, i_indices_selected)\\nmodule_final_memory = process.memory_info().rss\\nmodule_end_time = timer()\\nmodule_memory_consumed = module_final_memory - module_initial_memory\\nprint(\\'Module memory consumed: {:.3f} MB\\'.format(module_memory_consumed/(1024*1024)))\\nprint(\\'Module \"create_dataframe_FM_atm_data\" computing time: {:.3f} s\\'.format(module_end_time - module_start_time))\\n'"
      ]
     },
     "execution_count": 61,
     "metadata": {},
     "output_type": "execute_result"
    }
   ],
   "source": [
    "'''\n",
    "module_start_time = timer()\n",
    "module_initial_memory = process.memory_info().rss\n",
    "df = create_dataframe_FM_atm_data (data_at_times, \\\n",
    "                                   sampled_file_indices, history_file_indices, \\\n",
    "                                   sampled_time_stamps, history_interval, \\\n",
    "                                   grid_indices_selected, \\\n",
    "                                   j_indices_selected, i_indices_selected)\n",
    "module_final_memory = process.memory_info().rss\n",
    "module_end_time = timer()\n",
    "module_memory_consumed = module_final_memory - module_initial_memory\n",
    "print('Module memory consumed: {:.3f} MB'.format(module_memory_consumed/(1024*1024)))\n",
    "print('Module \"create_dataframe_FM_atm_data\" computing time: {:.3f} s'.format(module_end_time - module_start_time))\n",
    "'''"
   ]
  },
  {
   "cell_type": "code",
   "execution_count": 62,
   "metadata": {
    "scrolled": false
   },
   "outputs": [],
   "source": [
    "#df.head(5)"
   ]
  },
  {
   "cell_type": "markdown",
   "metadata": {},
   "source": [
    "## Save The Data Extracted  at Sampled Time and Grid Points"
   ]
  },
  {
   "cell_type": "code",
   "execution_count": 63,
   "metadata": {},
   "outputs": [
    {
     "data": {
      "text/plain": [
       "'\\ndf.to_pickle(os.path.join(extracted_data_loc, extracted_data_file_name))\\n'"
      ]
     },
     "execution_count": 63,
     "metadata": {},
     "output_type": "execute_result"
    }
   ],
   "source": [
    "'''\n",
    "df.to_pickle(os.path.join(extracted_data_loc, extracted_data_file_name))\n",
    "'''"
   ]
  },
  {
   "cell_type": "markdown",
   "metadata": {},
   "source": [
    "## Load and Test The Extracted Data Saved in Pickle File"
   ]
  },
  {
   "cell_type": "code",
   "execution_count": 64,
   "metadata": {},
   "outputs": [
    {
     "data": {
      "text/plain": [
       "'\\ndf_from_pickle = pd.read_pickle(os.path.join(extracted_data_loc, extracted_data_file_name))\\ndf_from_pickle.head(5)\\n'"
      ]
     },
     "execution_count": 64,
     "metadata": {},
     "output_type": "execute_result"
    }
   ],
   "source": [
    "'''\n",
    "df_from_pickle = pd.read_pickle(os.path.join(extracted_data_loc, extracted_data_file_name))\n",
    "df_from_pickle.head(5)\n",
    "'''"
   ]
  },
  {
   "cell_type": "markdown",
   "metadata": {},
   "source": [
    "# Save Other Relevant Info in A CSV File"
   ]
  },
  {
   "cell_type": "code",
   "execution_count": 65,
   "metadata": {},
   "outputs": [
    {
     "data": {
      "text/plain": [
       "\"\\ndata_for_csv = { 'max_history_to_consider':    [max_history_to_consider],\\n                 'history_interval':           [history_interval],\\n                 'num_hist_indices':           [len(history_file_indices[0])],\\n                 'num_total_files':            [len(data_files_list)],\\n                 'percent_files_to_use':       [percent_files_to_use],\\n                 'num_sampled_times':          [grid_indices_selected.shape[0]],\\n                 'num_data_files_to_read':     [len(data_files_to_read)],\\n                 'num_grid_points_sn':         [grid_indices_all.shape[0]],\\n                 'num_grid_points_we':         [grid_indices_all.shape[1]],\\n                 'num_total_grid_points':      [len(grid_indices_all_flat)],\\n                 'num_valid_grid_points':      [len(grid_indices_valid_flat)],\\n                 'percent_grid_points_to_use': [percent_grid_points_to_use],\\n                 'num_sampled_grid_points':    [grid_indices_selected.shape[1]],\\n                 'num_data_points':            [len(df)]               \\n}\\ntabulated_data = pd.DataFrame(data_for_csv)\\ntabulated_data.to_csv(os.path.join(extracted_data_loc, tab_data_file_name), index = False)\\n\""
      ]
     },
     "execution_count": 65,
     "metadata": {},
     "output_type": "execute_result"
    }
   ],
   "source": [
    "'''\n",
    "data_for_csv = { 'max_history_to_consider':    [max_history_to_consider],\n",
    "                 'history_interval':           [history_interval],\n",
    "                 'num_hist_indices':           [len(history_file_indices[0])],\n",
    "                 'num_total_files':            [len(data_files_list)],\n",
    "                 'percent_files_to_use':       [percent_files_to_use],\n",
    "                 'num_sampled_times':          [grid_indices_selected.shape[0]],\n",
    "                 'num_data_files_to_read':     [len(data_files_to_read)],\n",
    "                 'num_grid_points_sn':         [grid_indices_all.shape[0]],\n",
    "                 'num_grid_points_we':         [grid_indices_all.shape[1]],\n",
    "                 'num_total_grid_points':      [len(grid_indices_all_flat)],\n",
    "                 'num_valid_grid_points':      [len(grid_indices_valid_flat)],\n",
    "                 'percent_grid_points_to_use': [percent_grid_points_to_use],\n",
    "                 'num_sampled_grid_points':    [grid_indices_selected.shape[1]],\n",
    "                 'num_data_points':            [len(df)]               \n",
    "}\n",
    "tabulated_data = pd.DataFrame(data_for_csv)\n",
    "tabulated_data.to_csv(os.path.join(extracted_data_loc, tab_data_file_name), index = False)\n",
    "'''"
   ]
  },
  {
   "cell_type": "code",
   "execution_count": 66,
   "metadata": {},
   "outputs": [
    {
     "data": {
      "text/plain": [
       "'\\ntabulated_data\\n'"
      ]
     },
     "execution_count": 66,
     "metadata": {},
     "output_type": "execute_result"
    }
   ],
   "source": [
    "'''\n",
    "tabulated_data\n",
    "'''"
   ]
  },
  {
   "cell_type": "markdown",
   "metadata": {},
   "source": [
    "# Extract Fire Data"
   ]
  },
  {
   "cell_type": "markdown",
   "metadata": {},
   "source": [
    "## Read Fire Data"
   ]
  },
  {
   "cell_type": "code",
   "execution_count": 67,
   "metadata": {},
   "outputs": [
    {
     "data": {
      "text/plain": [
       "'\\nif extract_fire_data:\\n    module_start_time = timer()\\n    module_initial_memory = process.memory_info().rss\\n\\n    fire_time_indices, fire_data = read_fire_data (                                fire_time_indices, max_history_to_consider, history_interval,                                 data_files_list_all, data_files_location)\\n\\n    module_final_memory = process.memory_info().rss\\n    module_end_time = timer()\\n    module_memory_consumed = module_final_memory - module_initial_memory\\n    print(\\'Module memory consumed: {:.3f} MB\\'.format(module_memory_consumed/(1024*1024)))\\n    print(\\'Module \"read_fire_data\" computing time: {:.3f} s\\'.format(module_end_time - module_start_time))\\n'"
      ]
     },
     "execution_count": 67,
     "metadata": {},
     "output_type": "execute_result"
    }
   ],
   "source": [
    "'''\n",
    "if extract_fire_data:\n",
    "    module_start_time = timer()\n",
    "    module_initial_memory = process.memory_info().rss\n",
    "\n",
    "    fire_time_indices, fire_data = read_fire_data (\\\n",
    "                                fire_time_indices, max_history_to_consider, history_interval, \\\n",
    "                                data_files_list_all, data_files_location)\n",
    "\n",
    "    module_final_memory = process.memory_info().rss\n",
    "    module_end_time = timer()\n",
    "    module_memory_consumed = module_final_memory - module_initial_memory\n",
    "    print('Module memory consumed: {:.3f} MB'.format(module_memory_consumed/(1024*1024)))\n",
    "    print('Module \"read_fire_data\" computing time: {:.3f} s'.format(module_end_time - module_start_time))\n",
    "'''"
   ]
  },
  {
   "cell_type": "markdown",
   "metadata": {},
   "source": [
    "## Create DataFrame for Fire Data"
   ]
  },
  {
   "cell_type": "code",
   "execution_count": 68,
   "metadata": {},
   "outputs": [
    {
     "data": {
      "text/plain": [
       "'\\nif extract_fire_data:\\n    module_start_time = timer()\\n    module_initial_memory = process.memory_info().rss\\n    fire_data_extracted = dict()\\n\\n    for fire_name in fire_time_indices.keys():\\n        data_at_times = fire_data[fire_name][\\'fire_file_indices_data_dict\\']\\n        df_fire = create_dataframe_FM_atm_data_fire (fire_name, fire_time_indices, data_at_times,                                                      history_interval,                                                      grid_indices_valid_flat, valid_grid_ind_to_coord)\\n        fire_data_extracted[fire_name] = df_fire\\n\\n    module_final_memory = process.memory_info().rss\\n    module_end_time = timer()\\n    module_memory_consumed = module_final_memory - module_initial_memory\\n    print(\\'Module memory consumed: {:.3f} MB\\'.format(module_memory_consumed/(1024*1024)))\\n    print(\\'Module \"create_dataframe_FM_atm_data_fire\" computing time: {:.3f} s\\'.format(module_end_time - module_start_time))\\n'"
      ]
     },
     "execution_count": 68,
     "metadata": {},
     "output_type": "execute_result"
    }
   ],
   "source": [
    "'''\n",
    "if extract_fire_data:\n",
    "    module_start_time = timer()\n",
    "    module_initial_memory = process.memory_info().rss\n",
    "    fire_data_extracted = dict()\n",
    "\n",
    "    for fire_name in fire_time_indices.keys():\n",
    "        data_at_times = fire_data[fire_name]['fire_file_indices_data_dict']\n",
    "        df_fire = create_dataframe_FM_atm_data_fire (fire_name, fire_time_indices, data_at_times, \\\n",
    "                                                     history_interval, \\\n",
    "                                                     grid_indices_valid_flat, valid_grid_ind_to_coord)\n",
    "        fire_data_extracted[fire_name] = df_fire\n",
    "\n",
    "    module_final_memory = process.memory_info().rss\n",
    "    module_end_time = timer()\n",
    "    module_memory_consumed = module_final_memory - module_initial_memory\n",
    "    print('Module memory consumed: {:.3f} MB'.format(module_memory_consumed/(1024*1024)))\n",
    "    print('Module \"create_dataframe_FM_atm_data_fire\" computing time: {:.3f} s'.format(module_end_time - module_start_time))\n",
    "'''"
   ]
  },
  {
   "cell_type": "markdown",
   "metadata": {},
   "source": [
    "## Save DataFrame for Fire Data"
   ]
  },
  {
   "cell_type": "code",
   "execution_count": 69,
   "metadata": {},
   "outputs": [
    {
     "data": {
      "text/plain": [
       "'\\nif extract_fire_data:\\n    fire_data_file_handle = open(os.path.join(fire_data_loc, fire_data_file_name), \\'wb\\')\\n    pickle.dump(fire_data_extracted, fire_data_file_handle)\\n    fire_data_file_handle.close()\\n    print(\\'Wrote fire data in \"{}\" at \"{}\"\\'.format(fire_data_file_name, fire_data_loc))\\n'"
      ]
     },
     "execution_count": 69,
     "metadata": {},
     "output_type": "execute_result"
    }
   ],
   "source": [
    "'''\n",
    "if extract_fire_data:\n",
    "    fire_data_file_handle = open(os.path.join(fire_data_loc, fire_data_file_name), 'wb')\n",
    "    pickle.dump(fire_data_extracted, fire_data_file_handle)\n",
    "    fire_data_file_handle.close()\n",
    "    print('Wrote fire data in \"{}\" at \"{}\"'.format(fire_data_file_name, fire_data_loc))\n",
    "'''"
   ]
  },
  {
   "cell_type": "markdown",
   "metadata": {},
   "source": [
    "## Load and Test The Extracted Fire Data Saved in Pickle File"
   ]
  },
  {
   "cell_type": "code",
   "execution_count": 70,
   "metadata": {},
   "outputs": [
    {
     "data": {
      "text/plain": [
       "'\\nif extract_fire_data:\\n    fire_data_file_handle = open(os.path.join(fire_data_loc, fire_data_file_name), \\'rb\\')\\n    fire_data_pickled = pickle.load(fire_data_file_handle)\\n    fire_data_file_handle.close()\\n    print(\\'Read fire data from \"{}\" at \"{}\"\\'.format(fire_data_file_name, fire_data_loc))\\n'"
      ]
     },
     "execution_count": 70,
     "metadata": {},
     "output_type": "execute_result"
    }
   ],
   "source": [
    "'''\n",
    "if extract_fire_data:\n",
    "    fire_data_file_handle = open(os.path.join(fire_data_loc, fire_data_file_name), 'rb')\n",
    "    fire_data_pickled = pickle.load(fire_data_file_handle)\n",
    "    fire_data_file_handle.close()\n",
    "    print('Read fire data from \"{}\" at \"{}\"'.format(fire_data_file_name, fire_data_loc))\n",
    "'''"
   ]
  },
  {
   "cell_type": "code",
   "execution_count": 71,
   "metadata": {},
   "outputs": [
    {
     "data": {
      "text/plain": [
       "\"\\nif extract_fire_data:\\n    fire_data_pickled['Woosley'].head(5)\\n\""
      ]
     },
     "execution_count": 71,
     "metadata": {},
     "output_type": "execute_result"
    }
   ],
   "source": [
    "'''\n",
    "if extract_fire_data:\n",
    "    fire_data_pickled['Woosley'].head(5)\n",
    "'''"
   ]
  },
  {
   "cell_type": "markdown",
   "metadata": {},
   "source": [
    "## Delete Fire Data No Longer Needed"
   ]
  },
  {
   "cell_type": "code",
   "execution_count": 72,
   "metadata": {},
   "outputs": [
    {
     "data": {
      "text/plain": [
       "'\\nif extract_fire_data:\\n    del fire_data, data_at_times, fire_data_extracted\\n'"
      ]
     },
     "execution_count": 72,
     "metadata": {},
     "output_type": "execute_result"
    }
   ],
   "source": [
    "'''\n",
    "if extract_fire_data:\n",
    "    del fire_data, data_at_times, fire_data_extracted\n",
    "'''"
   ]
  },
  {
   "cell_type": "markdown",
   "metadata": {},
   "source": [
    "# Global End Time and Memory"
   ]
  },
  {
   "cell_type": "code",
   "execution_count": 73,
   "metadata": {},
   "outputs": [
    {
     "name": "stdout",
     "output_type": "stream",
     "text": [
      "Total memory consumed: 188.094 MB\n",
      "Total computing time: 33.388 s\n",
      "=========================================================================\n",
      "SUCCESS: Done Extraction of Data\n"
     ]
    }
   ],
   "source": [
    "global_final_memory = process.memory_info().rss\n",
    "global_end_time = timer()\n",
    "global_memory_consumed = global_final_memory - global_initial_memory\n",
    "print('Total memory consumed: {:.3f} MB'.format(global_memory_consumed/(1024*1024)))\n",
    "print('Total computing time: {:.3f} s'.format(global_end_time - global_start_time))\n",
    "print('=========================================================================')\n",
    "print(\"SUCCESS: Done Extraction of Data\")"
   ]
  }
 ],
 "metadata": {
  "kernelspec": {
   "display_name": "py3_ml_conda",
   "language": "python",
   "name": "py3_ml"
  },
  "language_info": {
   "codemirror_mode": {
    "name": "ipython",
    "version": 3
   },
   "file_extension": ".py",
   "mimetype": "text/x-python",
   "name": "python",
   "nbconvert_exporter": "python",
   "pygments_lexer": "ipython3",
   "version": "3.10.9"
  }
 },
 "nbformat": 4,
 "nbformat_minor": 4
}
