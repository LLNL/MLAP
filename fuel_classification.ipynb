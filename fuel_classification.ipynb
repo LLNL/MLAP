{
 "cells": [
  {
   "cell_type": "markdown",
   "metadata": {},
   "source": [
    "# Import Modules"
   ]
  },
  {
   "cell_type": "code",
   "execution_count": 1,
   "metadata": {},
   "outputs": [
    {
     "name": "stdout",
     "output_type": "stream",
     "text": [
      "Populating the interactive namespace from numpy and matplotlib\n"
     ]
    },
    {
     "data": {
      "text/html": [
       "<style>.container { width:100% !important; }</style>"
      ],
      "text/plain": [
       "<IPython.core.display.HTML object>"
      ]
     },
     "metadata": {},
     "output_type": "display_data"
    }
   ],
   "source": [
    "%load_ext autoreload\n",
    "%autoreload\n",
    "%pylab inline\n",
    "import os\n",
    "import glob\n",
    "import json\n",
    "import pandas as pd\n",
    "import pickle\n",
    "\n",
    "#from IPython import embed\n",
    "from IPython.core.display import display, HTML\n",
    "display(HTML(\"<style>.container { width:100% !important; }</style>\"))\n",
    "\n",
    "pd.set_option(\"display.max_columns\", 500)\n",
    "pd.set_option(\"display.max_rows\", 500)\n",
    "pd.set_option('display.width', 1000)\n",
    "pd.set_option('max_colwidth', 100)"
   ]
  },
  {
   "cell_type": "code",
   "execution_count": 2,
   "metadata": {},
   "outputs": [],
   "source": [
    "from helper_functions import *"
   ]
  },
  {
   "cell_type": "markdown",
   "metadata": {},
   "source": [
    "# Read and Process Excel Sheets (Organized by Fuel Type and Labeled as Burnable or Unburnable)"
   ]
  },
  {
   "cell_type": "code",
   "execution_count": 3,
   "metadata": {},
   "outputs": [],
   "source": [
    "data_base_path = 'raw_data'"
   ]
  },
  {
   "cell_type": "markdown",
   "metadata": {},
   "source": [
    "### Read the processed excel sheet with alerts and confusion matrix"
   ]
  },
  {
   "cell_type": "code",
   "execution_count": 4,
   "metadata": {},
   "outputs": [],
   "source": [
    "excel_processed = pd.ExcelFile(os.path.join(data_base_path, 'GroundTruth_FuelTypes13_Labeled.xlsx'))"
   ]
  },
  {
   "cell_type": "code",
   "execution_count": 5,
   "metadata": {},
   "outputs": [],
   "source": [
    "sheet_to_df_map_read = {}"
   ]
  },
  {
   "cell_type": "code",
   "execution_count": 6,
   "metadata": {},
   "outputs": [],
   "source": [
    "features_to_use = ['feature01', 'feature02', 'feature03', 'feature04','feature05', 'feature06', 'feature07']"
   ]
  },
  {
   "cell_type": "code",
   "execution_count": 7,
   "metadata": {},
   "outputs": [],
   "source": [
    "for sheet in excel_processed.sheet_names:\n",
    "    df_read = pd.DataFrame(pd.read_excel(excel_processed, sheet))\n",
    "    if sheet == 'Summary':\n",
    "        sheet_to_df_map_read[sheet] = df_read\n",
    "    else:            \n",
    "        sheet_to_df_map_read[sheet] = df_read[['SheetName'] + features_to_use + ['Label']]\n",
    "del sheet_to_df_map_read['Summary']"
   ]
  },
  {
   "cell_type": "code",
   "execution_count": 8,
   "metadata": {},
   "outputs": [
    {
     "data": {
      "text/plain": [
       "dict_keys(['Fuel01', 'Fuel02', 'Fuel03', 'Fuel04', 'Fuel05', 'Fuel06', 'Fuel07', 'Fuel08', 'Fuel09', 'Fuel10', 'Fuel11', 'Fuel12', 'Fuel13'])"
      ]
     },
     "execution_count": 8,
     "metadata": {},
     "output_type": "execute_result"
    }
   ],
   "source": [
    "sheet_to_df_map_read.keys()\n",
    "#sheet_to_df_map_read['Summary']"
   ]
  },
  {
   "cell_type": "code",
   "execution_count": 9,
   "metadata": {},
   "outputs": [
    {
     "data": {
      "text/html": [
       "<div>\n",
       "<style scoped>\n",
       "    .dataframe tbody tr th:only-of-type {\n",
       "        vertical-align: middle;\n",
       "    }\n",
       "\n",
       "    .dataframe tbody tr th {\n",
       "        vertical-align: top;\n",
       "    }\n",
       "\n",
       "    .dataframe thead th {\n",
       "        text-align: right;\n",
       "    }\n",
       "</style>\n",
       "<table border=\"1\" class=\"dataframe\">\n",
       "  <thead>\n",
       "    <tr style=\"text-align: right;\">\n",
       "      <th></th>\n",
       "      <th>SheetName</th>\n",
       "      <th>feature01</th>\n",
       "      <th>feature02</th>\n",
       "      <th>feature03</th>\n",
       "      <th>feature04</th>\n",
       "      <th>feature05</th>\n",
       "      <th>feature06</th>\n",
       "      <th>feature07</th>\n",
       "      <th>Label</th>\n",
       "    </tr>\n",
       "  </thead>\n",
       "  <tbody>\n",
       "    <tr>\n",
       "      <th>0</th>\n",
       "      <td>Fuel01</td>\n",
       "      <td>7.666242</td>\n",
       "      <td>7.72519</td>\n",
       "      <td>5.78626</td>\n",
       "      <td>0.988016</td>\n",
       "      <td>7.307230</td>\n",
       "      <td>2.1272</td>\n",
       "      <td>7.265493</td>\n",
       "      <td>Fuel01_Burnable</td>\n",
       "    </tr>\n",
       "    <tr>\n",
       "      <th>1</th>\n",
       "      <td>Fuel01</td>\n",
       "      <td>7.302745</td>\n",
       "      <td>4.90000</td>\n",
       "      <td>3.48000</td>\n",
       "      <td>-4.522060</td>\n",
       "      <td>7.828646</td>\n",
       "      <td>2.5600</td>\n",
       "      <td>3.512169</td>\n",
       "      <td>Fuel01_Burnable</td>\n",
       "    </tr>\n",
       "    <tr>\n",
       "      <th>2</th>\n",
       "      <td>Fuel01</td>\n",
       "      <td>8.382824</td>\n",
       "      <td>3.19000</td>\n",
       "      <td>6.60000</td>\n",
       "      <td>18.669410</td>\n",
       "      <td>8.753171</td>\n",
       "      <td>1.9800</td>\n",
       "      <td>6.596178</td>\n",
       "      <td>Fuel01_Burnable</td>\n",
       "    </tr>\n",
       "    <tr>\n",
       "      <th>3</th>\n",
       "      <td>Fuel01</td>\n",
       "      <td>7.594138</td>\n",
       "      <td>1.28000</td>\n",
       "      <td>7.10000</td>\n",
       "      <td>-3.049260</td>\n",
       "      <td>9.798903</td>\n",
       "      <td>0.5200</td>\n",
       "      <td>3.619166</td>\n",
       "      <td>Fuel01_Burnable</td>\n",
       "    </tr>\n",
       "    <tr>\n",
       "      <th>4</th>\n",
       "      <td>Fuel01</td>\n",
       "      <td>4.672622</td>\n",
       "      <td>2.75000</td>\n",
       "      <td>2.24000</td>\n",
       "      <td>5.593350</td>\n",
       "      <td>4.177140</td>\n",
       "      <td>0.6900</td>\n",
       "      <td>1.405831</td>\n",
       "      <td>Fuel01_Burnable</td>\n",
       "    </tr>\n",
       "  </tbody>\n",
       "</table>\n",
       "</div>"
      ],
      "text/plain": [
       "  SheetName  feature01  feature02  feature03  feature04  feature05  feature06  feature07            Label\n",
       "0    Fuel01   7.666242    7.72519    5.78626   0.988016   7.307230     2.1272   7.265493  Fuel01_Burnable\n",
       "1    Fuel01   7.302745    4.90000    3.48000  -4.522060   7.828646     2.5600   3.512169  Fuel01_Burnable\n",
       "2    Fuel01   8.382824    3.19000    6.60000  18.669410   8.753171     1.9800   6.596178  Fuel01_Burnable\n",
       "3    Fuel01   7.594138    1.28000    7.10000  -3.049260   9.798903     0.5200   3.619166  Fuel01_Burnable\n",
       "4    Fuel01   4.672622    2.75000    2.24000   5.593350   4.177140     0.6900   1.405831  Fuel01_Burnable"
      ]
     },
     "execution_count": 9,
     "metadata": {},
     "output_type": "execute_result"
    }
   ],
   "source": [
    "sheet_to_df_map_read['Fuel01'].head(5)"
   ]
  },
  {
   "cell_type": "code",
   "execution_count": 10,
   "metadata": {},
   "outputs": [
    {
     "data": {
      "text/html": [
       "<div>\n",
       "<style scoped>\n",
       "    .dataframe tbody tr th:only-of-type {\n",
       "        vertical-align: middle;\n",
       "    }\n",
       "\n",
       "    .dataframe tbody tr th {\n",
       "        vertical-align: top;\n",
       "    }\n",
       "\n",
       "    .dataframe thead th {\n",
       "        text-align: right;\n",
       "    }\n",
       "</style>\n",
       "<table border=\"1\" class=\"dataframe\">\n",
       "  <thead>\n",
       "    <tr style=\"text-align: right;\">\n",
       "      <th></th>\n",
       "      <th>SheetName</th>\n",
       "      <th>feature01</th>\n",
       "      <th>feature02</th>\n",
       "      <th>feature03</th>\n",
       "      <th>feature04</th>\n",
       "      <th>feature05</th>\n",
       "      <th>feature06</th>\n",
       "      <th>feature07</th>\n",
       "      <th>Label</th>\n",
       "    </tr>\n",
       "  </thead>\n",
       "  <tbody>\n",
       "    <tr>\n",
       "      <th>0</th>\n",
       "      <td>Fuel06</td>\n",
       "      <td>7.792590</td>\n",
       "      <td>8.74809</td>\n",
       "      <td>18.67180</td>\n",
       "      <td>-16.579847</td>\n",
       "      <td>8.174539</td>\n",
       "      <td>3.52786</td>\n",
       "      <td>5.558446</td>\n",
       "      <td>Fuel06_Unburnable</td>\n",
       "    </tr>\n",
       "    <tr>\n",
       "      <th>1</th>\n",
       "      <td>Fuel06</td>\n",
       "      <td>7.549181</td>\n",
       "      <td>6.38168</td>\n",
       "      <td>4.47328</td>\n",
       "      <td>26.241729</td>\n",
       "      <td>5.226250</td>\n",
       "      <td>3.26453</td>\n",
       "      <td>1.367019</td>\n",
       "      <td>Fuel06_Unburnable</td>\n",
       "    </tr>\n",
       "    <tr>\n",
       "      <th>2</th>\n",
       "      <td>Fuel06</td>\n",
       "      <td>8.333343</td>\n",
       "      <td>4.97710</td>\n",
       "      <td>13.78630</td>\n",
       "      <td>12.614086</td>\n",
       "      <td>4.131958</td>\n",
       "      <td>1.14677</td>\n",
       "      <td>7.140907</td>\n",
       "      <td>Fuel06_Unburnable</td>\n",
       "    </tr>\n",
       "    <tr>\n",
       "      <th>3</th>\n",
       "      <td>Fuel06</td>\n",
       "      <td>8.629077</td>\n",
       "      <td>8.74809</td>\n",
       "      <td>5.45038</td>\n",
       "      <td>35.645320</td>\n",
       "      <td>5.304478</td>\n",
       "      <td>3.93004</td>\n",
       "      <td>4.344894</td>\n",
       "      <td>Fuel06_Unburnable</td>\n",
       "    </tr>\n",
       "    <tr>\n",
       "      <th>4</th>\n",
       "      <td>Fuel06</td>\n",
       "      <td>8.345312</td>\n",
       "      <td>5.98473</td>\n",
       "      <td>17.20610</td>\n",
       "      <td>4.930259</td>\n",
       "      <td>6.004266</td>\n",
       "      <td>3.76966</td>\n",
       "      <td>4.640471</td>\n",
       "      <td>Fuel06_Unburnable</td>\n",
       "    </tr>\n",
       "  </tbody>\n",
       "</table>\n",
       "</div>"
      ],
      "text/plain": [
       "  SheetName  feature01  feature02  feature03  feature04  feature05  feature06  feature07              Label\n",
       "0    Fuel06   7.792590    8.74809   18.67180 -16.579847   8.174539    3.52786   5.558446  Fuel06_Unburnable\n",
       "1    Fuel06   7.549181    6.38168    4.47328  26.241729   5.226250    3.26453   1.367019  Fuel06_Unburnable\n",
       "2    Fuel06   8.333343    4.97710   13.78630  12.614086   4.131958    1.14677   7.140907  Fuel06_Unburnable\n",
       "3    Fuel06   8.629077    8.74809    5.45038  35.645320   5.304478    3.93004   4.344894  Fuel06_Unburnable\n",
       "4    Fuel06   8.345312    5.98473   17.20610   4.930259   6.004266    3.76966   4.640471  Fuel06_Unburnable"
      ]
     },
     "execution_count": 10,
     "metadata": {},
     "output_type": "execute_result"
    }
   ],
   "source": [
    "sheet_to_df_map_read['Fuel06'].head(5)"
   ]
  },
  {
   "cell_type": "markdown",
   "metadata": {},
   "source": [
    "### Define features and labels"
   ]
  },
  {
   "cell_type": "code",
   "execution_count": 11,
   "metadata": {},
   "outputs": [],
   "source": [
    "features = ['feature01', 'feature02', 'feature03', 'feature04','feature05', 'feature06', 'feature07']\n",
    "labels = ['Label', 'NewLabel', 'SheetName']\n",
    "cols = labels + features"
   ]
  },
  {
   "cell_type": "markdown",
   "metadata": {},
   "source": [
    "### Re-Label sheets and combine and prune them"
   ]
  },
  {
   "cell_type": "code",
   "execution_count": 12,
   "metadata": {},
   "outputs": [
    {
     "data": {
      "text/plain": [
       "1210"
      ]
     },
     "execution_count": 12,
     "metadata": {},
     "output_type": "execute_result"
    }
   ],
   "source": [
    "sheet_to_df_map = re_label_data(sheet_to_df_map_read)\n",
    "df_combined = combine_df_sheets(sheet_to_df_map, sorted(sheet_to_df_map.keys()), cols)\n",
    "df_combined_orig = df_combined\n",
    "len(df_combined)"
   ]
  },
  {
   "cell_type": "code",
   "execution_count": 13,
   "metadata": {},
   "outputs": [
    {
     "data": {
      "text/plain": [
       "1210"
      ]
     },
     "execution_count": 13,
     "metadata": {},
     "output_type": "execute_result"
    }
   ],
   "source": [
    "len(df_combined)\n",
    "#df_combined.keys()"
   ]
  },
  {
   "cell_type": "markdown",
   "metadata": {},
   "source": [
    "# SVM Stuff"
   ]
  },
  {
   "cell_type": "markdown",
   "metadata": {},
   "source": [
    "### Scikit-Learn Imports"
   ]
  },
  {
   "cell_type": "code",
   "execution_count": 14,
   "metadata": {},
   "outputs": [],
   "source": [
    "import matplotlib.pyplot as plt\n",
    "from sklearn.svm import SVC\n",
    "#from sklearn.naive_bayes import GaussianNB\n",
    "from sklearn.model_selection import train_test_split\n",
    "from sklearn.metrics import accuracy_score, confusion_matrix, average_precision_score\n",
    "#from sklearn.metrics import plot_confusion_matrix\n",
    "from sklearn.metrics import precision_recall_curve, classification_report\n",
    "from time import time"
   ]
  },
  {
   "cell_type": "markdown",
   "metadata": {},
   "source": [
    "### Work with Multiple Features of Interest"
   ]
  },
  {
   "cell_type": "code",
   "execution_count": 15,
   "metadata": {},
   "outputs": [],
   "source": [
    "features = ['feature01', 'feature02', 'feature03', 'feature04','feature05', 'feature06', 'feature07']"
   ]
  },
  {
   "cell_type": "markdown",
   "metadata": {},
   "source": [
    "#### Get Features and Labels for Training and Testing"
   ]
  },
  {
   "cell_type": "code",
   "execution_count": 16,
   "metadata": {},
   "outputs": [
    {
     "data": {
      "text/plain": [
       "(964, 241, 964, 241)"
      ]
     },
     "execution_count": 16,
     "metadata": {},
     "output_type": "execute_result"
    }
   ],
   "source": [
    "X, y = get_features_labels(df_combined, features_to_use)\n",
    "features_train, features_test, labels_train, labels_test = train_test_split(X, y, test_size=0.2, random_state=42)\n",
    "sheets_train, sheets_test, labels_train, labels_test = split_labels_sheets(labels_train, labels_test)\n",
    "len(features_train), len(features_test), len(labels_train), len(labels_test)"
   ]
  },
  {
   "cell_type": "markdown",
   "metadata": {},
   "source": [
    "#### Create and Train the Model"
   ]
  },
  {
   "cell_type": "code",
   "execution_count": 17,
   "metadata": {},
   "outputs": [
    {
     "name": "stdout",
     "output_type": "stream",
     "text": [
      "Training Time: 0.508 s\n"
     ]
    }
   ],
   "source": [
    "########################## SVM #################################\n",
    "# Training Time is significantly more with large values of C\n",
    "clf = SVC(kernel=\"linear\", class_weight = \"balanced\") #class_weight\n",
    "\n",
    "### fit the classifier on the training features and labels\n",
    "t0 = time()\n",
    "clf.fit(features_train, labels_train)\n",
    "print (\"Training Time:\", round(time()-t0, 3), \"s\")"
   ]
  },
  {
   "cell_type": "markdown",
   "metadata": {},
   "source": [
    "#### Save the Model to a File"
   ]
  },
  {
   "cell_type": "code",
   "execution_count": 18,
   "metadata": {},
   "outputs": [],
   "source": [
    "# save the model to disk\n",
    "'svm_N1205_T080_C1 --> svm_N(number of total data)_T(percentage for training)_C(model parameter in model constructor, default 1)'\n",
    "svm_model_file = 'models_trained/svm_N1205_T080_C1'\n",
    "pickle.dump(clf, open(svm_model_file, 'wb'))"
   ]
  },
  {
   "cell_type": "markdown",
   "metadata": {
    "tags": []
   },
   "source": [
    "#### Load the Model from a File (A template...use specific model for specific pupose)"
   ]
  },
  {
   "cell_type": "code",
   "execution_count": 19,
   "metadata": {},
   "outputs": [],
   "source": [
    "# load the model from disk"
   ]
  },
  {
   "cell_type": "markdown",
   "metadata": {
    "tags": []
   },
   "source": [
    "## Predict on the Train Data itself using SVM"
   ]
  },
  {
   "cell_type": "code",
   "execution_count": 20,
   "metadata": {},
   "outputs": [
    {
     "name": "stdout",
     "output_type": "stream",
     "text": [
      "Prediction Time: 0.018 s\n",
      "Accuracy Score: 0.8786307053941909\n",
      "Confusion Matrix: \n",
      "[[183  11]\n",
      " [106 664]]\n",
      "Classification Report: \n",
      "\n",
      "              precision    recall  f1-score   support\n",
      "\n",
      "           1       0.63      0.94      0.76       194\n",
      "           0       0.98      0.86      0.92       770\n",
      "\n",
      "    accuracy                           0.88       964\n",
      "   macro avg       0.81      0.90      0.84       964\n",
      "weighted avg       0.91      0.88      0.89       964\n",
      "\n",
      "Average precision-recall score: 0.61\n"
     ]
    }
   ],
   "source": [
    "clf = pickle.load(open('models_trained/svm_N1205_T080_C1', 'rb'))\n",
    "t1 = time()\n",
    "labels_svm_pred = clf.predict(features_train)\n",
    "print (\"Prediction Time:\", round(time()-t1, 3), \"s\")\n",
    "#print ('labels_svm_pred: {}'.format(labels_svm_pred))\n",
    "\n",
    "accuracy = accuracy_score(labels_svm_pred, labels_train)\n",
    "print('Accuracy Score: {}'.format(accuracy))\n",
    "\n",
    "conf_mat = confusion_matrix(labels_train, labels_svm_pred, labels = [1, 0])\n",
    "print('Confusion Matrix: \\n{}'.format(conf_mat))\n",
    "\n",
    "print('Classification Report: \\n')\n",
    "print(classification_report(labels_train, labels_svm_pred, labels=[1, 0]))\n",
    "\n",
    "average_precision = average_precision_score(labels_train, labels_svm_pred)\n",
    "print('Average precision-recall score: {0:0.2f}'.format(\n",
    "      average_precision))"
   ]
  },
  {
   "cell_type": "markdown",
   "metadata": {},
   "source": [
    "## Predict on the Test Data using SVM"
   ]
  },
  {
   "cell_type": "code",
   "execution_count": null,
   "metadata": {},
   "outputs": [],
   "source": [
    "### use the trained classifier to predict labels for the test features using SVM predict\n",
    "clf = pickle.load(open('models_trained/svm_N1205_T080_C1', 'rb'))\n",
    "t1 = time()\n",
    "labels_svm_pred = clf.predict(features_test)\n",
    "print (\"Prediction Time:\", round(time()-t1, 3), \"s\")\n",
    "#print ('labels_svm_pred: {}'.format(labels_svm_pred))\n",
    "\n",
    "accuracy = accuracy_score(labels_svm_pred, labels_test)\n",
    "print('Accuracy Score: {}'.format(accuracy))\n",
    "\n",
    "conf_mat = confusion_matrix(labels_test, labels_svm_pred, labels = [1, 0])\n",
    "print('Confusion Matrix: \\n{}'.format(conf_mat))\n",
    "\n",
    "print('Classification Report: \\n')\n",
    "print(classification_report(labels_test, labels_svm_pred, labels=[1, 0]))\n",
    "\n",
    "average_precision = average_precision_score(labels_test, labels_svm_pred)\n",
    "print('Average precision-recall score: {0:0.2f}'.format(\n",
    "      average_precision))\n",
    "\n",
    "\"\"\"\n",
    "precision, recall, thresholds = precision_recall_curve(labels_test, pred)\n",
    "plt.plot(recall, precision)\n",
    "plt.xlabel('Recall')\n",
    "plt.ylabel('Precision')\n",
    "\"\"\""
   ]
  },
  {
   "cell_type": "code",
   "execution_count": null,
   "metadata": {},
   "outputs": [],
   "source": []
  }
 ],
 "metadata": {
  "kernelspec": {
   "display_name": "Python [conda env:py3_ml] *",
   "language": "python",
   "name": "conda-env-py3_ml-py"
  },
  "language_info": {
   "codemirror_mode": {
    "name": "ipython",
    "version": 3
   },
   "file_extension": ".py",
   "mimetype": "text/x-python",
   "name": "python",
   "nbconvert_exporter": "python",
   "pygments_lexer": "ipython3",
   "version": "3.8.11"
  }
 },
 "nbformat": 4,
 "nbformat_minor": 4
}
