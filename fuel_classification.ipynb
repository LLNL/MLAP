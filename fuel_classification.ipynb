{
 "cells": [
  {
   "cell_type": "markdown",
   "metadata": {},
   "source": [
    "# Import Modules"
   ]
  },
  {
   "cell_type": "code",
   "execution_count": null,
   "metadata": {},
   "outputs": [],
   "source": [
    "%load_ext autoreload\n",
    "%autoreload\n",
    "%pylab inline\n",
    "import os\n",
    "import glob\n",
    "import json\n",
    "import pandas as pd\n",
    "import pickle\n",
    "\n",
    "#from IPython import embed\n",
    "from IPython.core.display import display, HTML\n",
    "display(HTML(\"<style>.container { width:100% !important; }</style>\"))\n",
    "\n",
    "pd.set_option(\"display.max_columns\", 500)\n",
    "pd.set_option(\"display.max_rows\", 500)\n",
    "pd.set_option('display.width', 1000)\n",
    "pd.set_option('max_colwidth', 100)"
   ]
  },
  {
   "cell_type": "code",
   "execution_count": null,
   "metadata": {},
   "outputs": [],
   "source": [
    "from helper_functions import *"
   ]
  },
  {
   "cell_type": "markdown",
   "metadata": {},
   "source": [
    "# Read and Process Excel Sheets (Organized by Fuel Type and Labeled as Burnable or Unburnable)"
   ]
  },
  {
   "cell_type": "code",
   "execution_count": null,
   "metadata": {},
   "outputs": [],
   "source": [
    "lowg_data_base = 'raw_data'"
   ]
  },
  {
   "cell_type": "markdown",
   "metadata": {},
   "source": [
    "### Read the processed excel sheet with alerts and confusion matrix"
   ]
  },
  {
   "cell_type": "code",
   "execution_count": null,
   "metadata": {},
   "outputs": [],
   "source": [
    "alert_excel_processed = pd.ExcelFile(os.path.join(lowg_data_base, 'ground_truth_data.xlsx'))"
   ]
  },
  {
   "cell_type": "code",
   "execution_count": null,
   "metadata": {},
   "outputs": [],
   "source": [
    "sheet_to_df_map_read = {}"
   ]
  },
  {
   "cell_type": "code",
   "execution_count": null,
   "metadata": {},
   "outputs": [],
   "source": [
    "features_to_use = ['feature01', 'feature02', 'feature03', 'feature04','feature05', 'feature06', 'feature07']"
   ]
  },
  {
   "cell_type": "code",
   "execution_count": null,
   "metadata": {},
   "outputs": [],
   "source": [
    "for sheet in alert_excel_processed.sheet_names:\n",
    "    df_read = pd.DataFrame(pd.read_excel(alert_excel_processed, sheet))\n",
    "    if sheet == 'Summary':\n",
    "        sheet_to_df_map_read[sheet] = df_read\n",
    "    else:            \n",
    "        sheet_to_df_map_read[sheet] = df_read[['SheetName'] + features_to_use + ['Label']]\n",
    "del sheet_to_df_map_read['Summary']"
   ]
  },
  {
   "cell_type": "code",
   "execution_count": null,
   "metadata": {},
   "outputs": [],
   "source": [
    "sheet_to_df_map_read.keys()\n",
    "#sheet_to_df_map_read['Summary']"
   ]
  },
  {
   "cell_type": "code",
   "execution_count": null,
   "metadata": {},
   "outputs": [],
   "source": [
    "sheet_to_df_map_read['Fuel01'].head(5)"
   ]
  },
  {
   "cell_type": "code",
   "execution_count": null,
   "metadata": {},
   "outputs": [],
   "source": [
    "sheet_to_df_map_read['Fuel06'].head(5)"
   ]
  },
  {
   "cell_type": "markdown",
   "metadata": {},
   "source": [
    "### Define features and labels"
   ]
  },
  {
   "cell_type": "code",
   "execution_count": null,
   "metadata": {},
   "outputs": [],
   "source": [
    "features = ['feature01', 'feature02', 'feature03', 'feature04','feature05', 'feature06', 'feature07']\n",
    "labels = ['Label', 'NewLabel', 'SheetName']\n",
    "cols = labels + features"
   ]
  },
  {
   "cell_type": "markdown",
   "metadata": {},
   "source": [
    "### Re-Label sheets and combine and prune them"
   ]
  },
  {
   "cell_type": "code",
   "execution_count": null,
   "metadata": {},
   "outputs": [],
   "source": [
    "sheet_to_df_map = re_label_data(sheet_to_df_map_read)\n",
    "df_combined = combine_df_sheets(sheet_to_df_map, sorted(sheet_to_df_map.keys()), cols)\n",
    "df_combined_orig = df_combined\n",
    "len(df_combined)"
   ]
  },
  {
   "cell_type": "code",
   "execution_count": null,
   "metadata": {},
   "outputs": [],
   "source": [
    "len(df_combined)\n",
    "#df_combined.keys()"
   ]
  },
  {
   "cell_type": "markdown",
   "metadata": {},
   "source": [
    "# SVM Stuff"
   ]
  },
  {
   "cell_type": "markdown",
   "metadata": {},
   "source": [
    "### Scikit-Learn Imports"
   ]
  },
  {
   "cell_type": "code",
   "execution_count": null,
   "metadata": {},
   "outputs": [],
   "source": [
    "import matplotlib.pyplot as plt\n",
    "from sklearn.svm import SVC\n",
    "from sklearn.naive_bayes import GaussianNB\n",
    "from sklearn.model_selection import train_test_split\n",
    "from sklearn.metrics import accuracy_score, confusion_matrix, average_precision_score\n",
    "#from sklearn.metrics import plot_confusion_matrix\n",
    "from sklearn.metrics import precision_recall_curve, classification_report\n",
    "from time import time"
   ]
  },
  {
   "cell_type": "markdown",
   "metadata": {},
   "source": [
    "### Work with Multiple Features of Interest"
   ]
  },
  {
   "cell_type": "code",
   "execution_count": null,
   "metadata": {},
   "outputs": [],
   "source": [
    "features = ['feature01', 'feature02', 'feature03', 'feature04','feature05', 'feature06', 'feature07']"
   ]
  },
  {
   "cell_type": "markdown",
   "metadata": {},
   "source": [
    "#### Get Features and Labels for Training and Testing"
   ]
  },
  {
   "cell_type": "code",
   "execution_count": null,
   "metadata": {},
   "outputs": [],
   "source": [
    "X, y = get_features_labels(df_combined, features_to_use)\n",
    "features_train, features_test, labels_train, labels_test = train_test_split(X, y, test_size=0.2, random_state=42)\n",
    "sheets_train, sheets_test, labels_train, labels_test = split_labels_sheets(labels_train, labels_test)\n",
    "len(features_train), len(features_test), len(labels_train), len(labels_test)"
   ]
  },
  {
   "cell_type": "markdown",
   "metadata": {},
   "source": [
    "#### Create and Train the Model"
   ]
  },
  {
   "cell_type": "code",
   "execution_count": null,
   "metadata": {},
   "outputs": [],
   "source": [
    "########################## SVM #################################\n",
    "# Training Time is significantly more with large values of C\n",
    "clf = SVC(kernel=\"linear\", class_weight = \"balanced\") #class_weight\n",
    "\n",
    "### fit the classifier on the training features and labels\n",
    "t0 = time()\n",
    "clf.fit(features_train, labels_train)\n",
    "print (\"Training Time:\", round(time()-t0, 3), \"s\")"
   ]
  },
  {
   "cell_type": "markdown",
   "metadata": {},
   "source": [
    "#### Save the Model to a File"
   ]
  },
  {
   "cell_type": "code",
   "execution_count": null,
   "metadata": {},
   "outputs": [],
   "source": [
    "# save the model to disk\n",
    "'svm_N1205_T080_C1 --> svm_N(number of total data)_T(percentage for training)_C(model parameter in model constructor, default 1)'\n",
    "svm_model_file = 'models_trained/svm_N1205_T080_C1'\n",
    "pickle.dump(clf, open(svm_model_file, 'wb'))"
   ]
  },
  {
   "cell_type": "markdown",
   "metadata": {
    "tags": []
   },
   "source": [
    "#### Load the Model from a File (A template...use specific model for specific pupose)"
   ]
  },
  {
   "cell_type": "code",
   "execution_count": null,
   "metadata": {},
   "outputs": [],
   "source": [
    "# load the model from disk"
   ]
  },
  {
   "cell_type": "markdown",
   "metadata": {
    "tags": []
   },
   "source": [
    "## Predict on the Train Data itself using SVM"
   ]
  },
  {
   "cell_type": "code",
   "execution_count": null,
   "metadata": {},
   "outputs": [],
   "source": [
    "clf = pickle.load(open('models_trained/svm_N1205_T080_C1', 'rb'))\n",
    "t1 = time()\n",
    "labels_svm_pred = clf.predict(features_train)\n",
    "print (\"Prediction Time:\", round(time()-t1, 3), \"s\")\n",
    "#print ('labels_svm_pred: {}'.format(labels_svm_pred))\n",
    "\n",
    "accuracy = accuracy_score(labels_svm_pred, labels_train)\n",
    "print('Accuracy Score: {}'.format(accuracy))\n",
    "\n",
    "conf_mat = confusion_matrix(labels_train, labels_svm_pred, labels = [1, 0])\n",
    "print('Confusion Matrix: \\n{}'.format(conf_mat))\n",
    "\n",
    "print('Classification Report: \\n')\n",
    "print(classification_report(labels_train, labels_svm_pred, labels=[1, 0]))\n",
    "\n",
    "average_precision = average_precision_score(labels_train, labels_svm_pred)\n",
    "print('Average precision-recall score: {0:0.2f}'.format(\n",
    "      average_precision))"
   ]
  },
  {
   "cell_type": "markdown",
   "metadata": {},
   "source": [
    "## Predict on the Test Data using SVM"
   ]
  },
  {
   "cell_type": "code",
   "execution_count": null,
   "metadata": {},
   "outputs": [],
   "source": [
    "### use the trained classifier to predict labels for the test features using SVM predict\n",
    "clf = pickle.load(open('models_trained/svm_N1205_T080_C1', 'rb'))\n",
    "t1 = time()\n",
    "labels_svm_pred = clf.predict(features_test)\n",
    "print (\"Prediction Time:\", round(time()-t1, 3), \"s\")\n",
    "#print ('labels_svm_pred: {}'.format(labels_svm_pred))\n",
    "\n",
    "accuracy = accuracy_score(labels_svm_pred, labels_test)\n",
    "print('Accuracy Score: {}'.format(accuracy))\n",
    "\n",
    "conf_mat = confusion_matrix(labels_test, labels_svm_pred, labels = [1, 0])\n",
    "print('Confusion Matrix: \\n{}'.format(conf_mat))\n",
    "\n",
    "print('Classification Report: \\n')\n",
    "print(classification_report(labels_test, labels_svm_pred, labels=[1, 0]))\n",
    "\n",
    "average_precision = average_precision_score(labels_test, labels_svm_pred)\n",
    "print('Average precision-recall score: {0:0.2f}'.format(\n",
    "      average_precision))\n",
    "\n",
    "\"\"\"\n",
    "precision, recall, thresholds = precision_recall_curve(labels_test, pred)\n",
    "plt.plot(recall, precision)\n",
    "plt.xlabel('Recall')\n",
    "plt.ylabel('Precision')\n",
    "\"\"\""
   ]
  },
  {
   "cell_type": "code",
   "execution_count": null,
   "metadata": {},
   "outputs": [],
   "source": []
  }
 ],
 "metadata": {
  "kernelspec": {
   "display_name": "Python [conda env:py3_ml] *",
   "language": "python",
   "name": "conda-env-py3_ml-py"
  },
  "language_info": {
   "codemirror_mode": {
    "name": "ipython",
    "version": 3
   },
   "file_extension": ".py",
   "mimetype": "text/x-python",
   "name": "python",
   "nbconvert_exporter": "python",
   "pygments_lexer": "ipython3",
   "version": "3.8.11"
  }
 },
 "nbformat": 4,
 "nbformat_minor": 4
}
